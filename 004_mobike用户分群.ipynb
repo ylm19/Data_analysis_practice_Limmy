{
  "nbformat": 4,
  "nbformat_minor": 0,
  "metadata": {
    "colab": {
      "provenance": [],
      "collapsed_sections": [
        "omDcR_1yKJoZ",
        "hTO7ZBNGLOmI"
      ],
      "authorship_tag": "ABX9TyP/HeobTV39ADZwHApz3iwn",
      "include_colab_link": true
    },
    "kernelspec": {
      "name": "python3",
      "display_name": "Python 3"
    },
    "language_info": {
      "name": "python"
    }
  },
  "cells": [
    {
      "cell_type": "markdown",
      "metadata": {
        "id": "view-in-github",
        "colab_type": "text"
      },
      "source": [
        "<a href=\"https://colab.research.google.com/github/ylm19/Data_analysis_practice_Limmy/blob/main/004_mobike%E7%94%A8%E6%88%B7%E5%88%86%E7%BE%A4.ipynb\" target=\"_parent\"><img src=\"https://colab.research.google.com/assets/colab-badge.svg\" alt=\"Open In Colab\"/></a>"
      ]
    },
    {
      "cell_type": "markdown",
      "source": [
        "# 案例背景\n",
        "摩拜单车，英文名mobike,是由胡玮炜创办的北京摩拜科技有限公司研发的互联网短途出行解决方案，是无桩借还车模式的智能硬件。人们通过智能手机就能快速租用和归还一辆摩拜单车，用可负担的价格来完成一次几公里的市内骑行。摩拜单车经过专业设计，将全铝车身，防爆轮胎，轴传动等高科技手段集于一体，使其坚固耐用，进而降低维护成本。定制的单车外形在街头有较高的辨识度，车身内集成了嵌入式芯片，GPS模块和SIM卡，便于摩拜监控自行车在路上的具体位置。\n",
        "\n",
        "本案例基于所给数据，利用Python数据进行聚类分析，对摩拜单车的使用者进行分群。"
      ],
      "metadata": {
        "id": "omDcR_1yKJoZ"
      }
    },
    {
      "cell_type": "markdown",
      "source": [
        "# 数据字典\n",
        "\n",
        "* user_id\t用户编码\n",
        "* start_time\t开始时间\n",
        "* end_time\t结束时间\n",
        "* timeduration\t骑行时长\n",
        "* bikeid\t自行车编码\n",
        "* tripduration\t骑行距离\n",
        "* from_station_id\t开始站编码\n",
        "* from_station_name\t开始站名字\n",
        "* to_station_id\t结束站编码\n",
        "* to_station_name\t结束站名字\n",
        "* usertype\t用户种类\n",
        "* gender\t性别\n",
        "* birthyear\t出生年份\n",
        "* age\t年龄\n"
      ],
      "metadata": {
        "id": "hTO7ZBNGLOmI"
      }
    },
    {
      "cell_type": "markdown",
      "source": [
        "# 1.数据概况分析"
      ],
      "metadata": {
        "id": "jIKSvUbMLj8f"
      }
    },
    {
      "cell_type": "code",
      "execution_count": null,
      "metadata": {
        "colab": {
          "base_uri": "https://localhost:8080/",
          "height": 354
        },
        "id": "UHI_Mhr8J77A",
        "outputId": "5a7dfdd7-edc9-4f38-f332-bcf288d48dc8"
      },
      "outputs": [
        {
          "output_type": "execute_result",
          "data": {
            "text/plain": [
              "   Unnamed: 0   user_id        start_time          end_time  timeduration  \\\n",
              "0      439283  21499218   11/14/2018 7:37   11/14/2018 7:44             7   \n",
              "1      603317  21694389  12/18/2018 19:02  12/18/2018 19:10             7   \n",
              "2      109957  21110722   10/9/2018 12:37   10/9/2018 12:55            18   \n",
              "3      428082  21485409  11/12/2018 12:30  11/12/2018 12:40             9   \n",
              "4      395437  21445994    11/7/2018 7:29    11/7/2018 7:35             6   \n",
              "\n",
              "   bikeid tripduration  from_station_id              from_station_name  \\\n",
              "0    2631          436              319  Greenview Ave & Diversey Pkwy   \n",
              "1    1565          445              164          Franklin St & Lake St   \n",
              "2    2231        1,090              163       Damen Ave & Clybourn Ave   \n",
              "3    4226          581              226       Racine Ave & Belmont Ave   \n",
              "4    3475          390               77        Clinton St & Madison St   \n",
              "\n",
              "   to_station_id                to_station_name    usertype  gender  \\\n",
              "0             67  Sheffield Ave & Fullerton Ave  Subscriber    Male   \n",
              "1            195      Columbus Dr & Randolph St  Subscriber    Male   \n",
              "2             69         Damen Ave & Pierce Ave    Customer    Male   \n",
              "3            308         Seeley Ave & Roscoe St  Subscriber  Female   \n",
              "4            621      Aberdeen St & Randolph St  Subscriber    Male   \n",
              "\n",
              "   birthyear age  \n",
              "0     1982.0  37  \n",
              "1     1988.0  31  \n",
              "2     1989.0  30  \n",
              "3     1989.0  30  \n",
              "4     1979.0  40  "
            ],
            "text/html": [
              "\n",
              "  <div id=\"df-4e03bd6c-b0b1-4939-a12c-166c1fbaf265\">\n",
              "    <div class=\"colab-df-container\">\n",
              "      <div>\n",
              "<style scoped>\n",
              "    .dataframe tbody tr th:only-of-type {\n",
              "        vertical-align: middle;\n",
              "    }\n",
              "\n",
              "    .dataframe tbody tr th {\n",
              "        vertical-align: top;\n",
              "    }\n",
              "\n",
              "    .dataframe thead th {\n",
              "        text-align: right;\n",
              "    }\n",
              "</style>\n",
              "<table border=\"1\" class=\"dataframe\">\n",
              "  <thead>\n",
              "    <tr style=\"text-align: right;\">\n",
              "      <th></th>\n",
              "      <th>Unnamed: 0</th>\n",
              "      <th>user_id</th>\n",
              "      <th>start_time</th>\n",
              "      <th>end_time</th>\n",
              "      <th>timeduration</th>\n",
              "      <th>bikeid</th>\n",
              "      <th>tripduration</th>\n",
              "      <th>from_station_id</th>\n",
              "      <th>from_station_name</th>\n",
              "      <th>to_station_id</th>\n",
              "      <th>to_station_name</th>\n",
              "      <th>usertype</th>\n",
              "      <th>gender</th>\n",
              "      <th>birthyear</th>\n",
              "      <th>age</th>\n",
              "    </tr>\n",
              "  </thead>\n",
              "  <tbody>\n",
              "    <tr>\n",
              "      <th>0</th>\n",
              "      <td>439283</td>\n",
              "      <td>21499218</td>\n",
              "      <td>11/14/2018 7:37</td>\n",
              "      <td>11/14/2018 7:44</td>\n",
              "      <td>7</td>\n",
              "      <td>2631</td>\n",
              "      <td>436</td>\n",
              "      <td>319</td>\n",
              "      <td>Greenview Ave &amp; Diversey Pkwy</td>\n",
              "      <td>67</td>\n",
              "      <td>Sheffield Ave &amp; Fullerton Ave</td>\n",
              "      <td>Subscriber</td>\n",
              "      <td>Male</td>\n",
              "      <td>1982.0</td>\n",
              "      <td>37</td>\n",
              "    </tr>\n",
              "    <tr>\n",
              "      <th>1</th>\n",
              "      <td>603317</td>\n",
              "      <td>21694389</td>\n",
              "      <td>12/18/2018 19:02</td>\n",
              "      <td>12/18/2018 19:10</td>\n",
              "      <td>7</td>\n",
              "      <td>1565</td>\n",
              "      <td>445</td>\n",
              "      <td>164</td>\n",
              "      <td>Franklin St &amp; Lake St</td>\n",
              "      <td>195</td>\n",
              "      <td>Columbus Dr &amp; Randolph St</td>\n",
              "      <td>Subscriber</td>\n",
              "      <td>Male</td>\n",
              "      <td>1988.0</td>\n",
              "      <td>31</td>\n",
              "    </tr>\n",
              "    <tr>\n",
              "      <th>2</th>\n",
              "      <td>109957</td>\n",
              "      <td>21110722</td>\n",
              "      <td>10/9/2018 12:37</td>\n",
              "      <td>10/9/2018 12:55</td>\n",
              "      <td>18</td>\n",
              "      <td>2231</td>\n",
              "      <td>1,090</td>\n",
              "      <td>163</td>\n",
              "      <td>Damen Ave &amp; Clybourn Ave</td>\n",
              "      <td>69</td>\n",
              "      <td>Damen Ave &amp; Pierce Ave</td>\n",
              "      <td>Customer</td>\n",
              "      <td>Male</td>\n",
              "      <td>1989.0</td>\n",
              "      <td>30</td>\n",
              "    </tr>\n",
              "    <tr>\n",
              "      <th>3</th>\n",
              "      <td>428082</td>\n",
              "      <td>21485409</td>\n",
              "      <td>11/12/2018 12:30</td>\n",
              "      <td>11/12/2018 12:40</td>\n",
              "      <td>9</td>\n",
              "      <td>4226</td>\n",
              "      <td>581</td>\n",
              "      <td>226</td>\n",
              "      <td>Racine Ave &amp; Belmont Ave</td>\n",
              "      <td>308</td>\n",
              "      <td>Seeley Ave &amp; Roscoe St</td>\n",
              "      <td>Subscriber</td>\n",
              "      <td>Female</td>\n",
              "      <td>1989.0</td>\n",
              "      <td>30</td>\n",
              "    </tr>\n",
              "    <tr>\n",
              "      <th>4</th>\n",
              "      <td>395437</td>\n",
              "      <td>21445994</td>\n",
              "      <td>11/7/2018 7:29</td>\n",
              "      <td>11/7/2018 7:35</td>\n",
              "      <td>6</td>\n",
              "      <td>3475</td>\n",
              "      <td>390</td>\n",
              "      <td>77</td>\n",
              "      <td>Clinton St &amp; Madison St</td>\n",
              "      <td>621</td>\n",
              "      <td>Aberdeen St &amp; Randolph St</td>\n",
              "      <td>Subscriber</td>\n",
              "      <td>Male</td>\n",
              "      <td>1979.0</td>\n",
              "      <td>40</td>\n",
              "    </tr>\n",
              "  </tbody>\n",
              "</table>\n",
              "</div>\n",
              "      <button class=\"colab-df-convert\" onclick=\"convertToInteractive('df-4e03bd6c-b0b1-4939-a12c-166c1fbaf265')\"\n",
              "              title=\"Convert this dataframe to an interactive table.\"\n",
              "              style=\"display:none;\">\n",
              "        \n",
              "  <svg xmlns=\"http://www.w3.org/2000/svg\" height=\"24px\"viewBox=\"0 0 24 24\"\n",
              "       width=\"24px\">\n",
              "    <path d=\"M0 0h24v24H0V0z\" fill=\"none\"/>\n",
              "    <path d=\"M18.56 5.44l.94 2.06.94-2.06 2.06-.94-2.06-.94-.94-2.06-.94 2.06-2.06.94zm-11 1L8.5 8.5l.94-2.06 2.06-.94-2.06-.94L8.5 2.5l-.94 2.06-2.06.94zm10 10l.94 2.06.94-2.06 2.06-.94-2.06-.94-.94-2.06-.94 2.06-2.06.94z\"/><path d=\"M17.41 7.96l-1.37-1.37c-.4-.4-.92-.59-1.43-.59-.52 0-1.04.2-1.43.59L10.3 9.45l-7.72 7.72c-.78.78-.78 2.05 0 2.83L4 21.41c.39.39.9.59 1.41.59.51 0 1.02-.2 1.41-.59l7.78-7.78 2.81-2.81c.8-.78.8-2.07 0-2.86zM5.41 20L4 18.59l7.72-7.72 1.47 1.35L5.41 20z\"/>\n",
              "  </svg>\n",
              "      </button>\n",
              "      \n",
              "  <style>\n",
              "    .colab-df-container {\n",
              "      display:flex;\n",
              "      flex-wrap:wrap;\n",
              "      gap: 12px;\n",
              "    }\n",
              "\n",
              "    .colab-df-convert {\n",
              "      background-color: #E8F0FE;\n",
              "      border: none;\n",
              "      border-radius: 50%;\n",
              "      cursor: pointer;\n",
              "      display: none;\n",
              "      fill: #1967D2;\n",
              "      height: 32px;\n",
              "      padding: 0 0 0 0;\n",
              "      width: 32px;\n",
              "    }\n",
              "\n",
              "    .colab-df-convert:hover {\n",
              "      background-color: #E2EBFA;\n",
              "      box-shadow: 0px 1px 2px rgba(60, 64, 67, 0.3), 0px 1px 3px 1px rgba(60, 64, 67, 0.15);\n",
              "      fill: #174EA6;\n",
              "    }\n",
              "\n",
              "    [theme=dark] .colab-df-convert {\n",
              "      background-color: #3B4455;\n",
              "      fill: #D2E3FC;\n",
              "    }\n",
              "\n",
              "    [theme=dark] .colab-df-convert:hover {\n",
              "      background-color: #434B5C;\n",
              "      box-shadow: 0px 1px 3px 1px rgba(0, 0, 0, 0.15);\n",
              "      filter: drop-shadow(0px 1px 2px rgba(0, 0, 0, 0.3));\n",
              "      fill: #FFFFFF;\n",
              "    }\n",
              "  </style>\n",
              "\n",
              "      <script>\n",
              "        const buttonEl =\n",
              "          document.querySelector('#df-4e03bd6c-b0b1-4939-a12c-166c1fbaf265 button.colab-df-convert');\n",
              "        buttonEl.style.display =\n",
              "          google.colab.kernel.accessAllowed ? 'block' : 'none';\n",
              "\n",
              "        async function convertToInteractive(key) {\n",
              "          const element = document.querySelector('#df-4e03bd6c-b0b1-4939-a12c-166c1fbaf265');\n",
              "          const dataTable =\n",
              "            await google.colab.kernel.invokeFunction('convertToInteractive',\n",
              "                                                     [key], {});\n",
              "          if (!dataTable) return;\n",
              "\n",
              "          const docLinkHtml = 'Like what you see? Visit the ' +\n",
              "            '<a target=\"_blank\" href=https://colab.research.google.com/notebooks/data_table.ipynb>data table notebook</a>'\n",
              "            + ' to learn more about interactive tables.';\n",
              "          element.innerHTML = '';\n",
              "          dataTable['output_type'] = 'display_data';\n",
              "          await google.colab.output.renderOutput(dataTable, element);\n",
              "          const docLink = document.createElement('div');\n",
              "          docLink.innerHTML = docLinkHtml;\n",
              "          element.appendChild(docLink);\n",
              "        }\n",
              "      </script>\n",
              "    </div>\n",
              "  </div>\n",
              "  "
            ]
          },
          "metadata": {},
          "execution_count": 281
        }
      ],
      "source": [
        "import pandas as pd\n",
        "import numpy as np\n",
        "import seaborn as sns\n",
        "import matplotlib.pyplot as plt\n",
        "%matplotlib inline\n",
        "mobike = pd.read_csv('/content/mobike.csv')\n",
        "mobike.head()"
      ]
    },
    {
      "cell_type": "code",
      "source": [
        "mobike.info()"
      ],
      "metadata": {
        "colab": {
          "base_uri": "https://localhost:8080/"
        },
        "id": "RbgZQY1aMCos",
        "outputId": "3ebe1ec1-45df-4d86-e2fe-e8bce68e90b4"
      },
      "execution_count": null,
      "outputs": [
        {
          "output_type": "stream",
          "name": "stdout",
          "text": [
            "<class 'pandas.core.frame.DataFrame'>\n",
            "RangeIndex: 6427 entries, 0 to 6426\n",
            "Data columns (total 15 columns):\n",
            " #   Column             Non-Null Count  Dtype  \n",
            "---  ------             --------------  -----  \n",
            " 0   Unnamed: 0         6427 non-null   int64  \n",
            " 1   user_id            6427 non-null   int64  \n",
            " 2   start_time         6427 non-null   object \n",
            " 3   end_time           6427 non-null   object \n",
            " 4   timeduration       6427 non-null   int64  \n",
            " 5   bikeid             6427 non-null   int64  \n",
            " 6   tripduration       6427 non-null   object \n",
            " 7   from_station_id    6427 non-null   int64  \n",
            " 8   from_station_name  6427 non-null   object \n",
            " 9   to_station_id      6427 non-null   int64  \n",
            " 10  to_station_name    6427 non-null   object \n",
            " 11  usertype           6427 non-null   object \n",
            " 12  gender             5938 non-null   object \n",
            " 13  birthyear          5956 non-null   float64\n",
            " 14  age                6427 non-null   object \n",
            "dtypes: float64(1), int64(6), object(8)\n",
            "memory usage: 753.3+ KB\n"
          ]
        }
      ]
    },
    {
      "cell_type": "code",
      "source": [
        "mobike.isnull().sum()"
      ],
      "metadata": {
        "colab": {
          "base_uri": "https://localhost:8080/"
        },
        "id": "qzIQCvN-McwH",
        "outputId": "bd953541-bf33-4e84-9a91-d104d5230b52"
      },
      "execution_count": null,
      "outputs": [
        {
          "output_type": "execute_result",
          "data": {
            "text/plain": [
              "Unnamed: 0             0\n",
              "user_id                0\n",
              "start_time             0\n",
              "end_time               0\n",
              "timeduration           0\n",
              "bikeid                 0\n",
              "tripduration           0\n",
              "from_station_id        0\n",
              "from_station_name      0\n",
              "to_station_id          0\n",
              "to_station_name        0\n",
              "usertype               0\n",
              "gender               489\n",
              "birthyear            471\n",
              "age                    0\n",
              "dtype: int64"
            ]
          },
          "metadata": {},
          "execution_count": 283
        }
      ]
    },
    {
      "cell_type": "code",
      "source": [
        "mobike.describe()"
      ],
      "metadata": {
        "colab": {
          "base_uri": "https://localhost:8080/",
          "height": 300
        },
        "id": "hhehBEA4MHJ6",
        "outputId": "c134536c-d83e-4d1c-9d1e-b7f8ae3e71ca"
      },
      "execution_count": null,
      "outputs": [
        {
          "output_type": "execute_result",
          "data": {
            "text/plain": [
              "          Unnamed: 0       user_id  timeduration       bikeid  \\\n",
              "count    6427.000000  6.427000e+03   6427.000000  6427.000000   \n",
              "mean   317005.228411  2.135519e+07     11.778902  3491.637934   \n",
              "std    184583.896111  2.181294e+05      9.692236  1912.171846   \n",
              "min        51.000000  2.098358e+07      0.000000     2.000000   \n",
              "25%    159093.000000  2.116805e+07      5.000000  1852.000000   \n",
              "50%    314569.000000  2.135114e+07      9.000000  3618.000000   \n",
              "75%    476273.500000  2.154376e+07     15.000000  5179.500000   \n",
              "max    642522.000000  2.174223e+07     59.000000  6470.000000   \n",
              "\n",
              "       from_station_id  to_station_id    birthyear  \n",
              "count      6427.000000    6427.000000  5956.000000  \n",
              "mean        195.038432     198.502567  1982.488583  \n",
              "std         148.170025     148.939873    11.147859  \n",
              "min           2.000000       2.000000  1906.000000  \n",
              "25%          77.000000      80.000000  1977.000000  \n",
              "50%         168.000000     172.000000  1986.000000  \n",
              "75%         287.000000     287.000000  1991.000000  \n",
              "max         662.000000     661.000000  2002.000000  "
            ],
            "text/html": [
              "\n",
              "  <div id=\"df-52802443-00f4-4d9e-8141-c1e7d5eb9e9e\">\n",
              "    <div class=\"colab-df-container\">\n",
              "      <div>\n",
              "<style scoped>\n",
              "    .dataframe tbody tr th:only-of-type {\n",
              "        vertical-align: middle;\n",
              "    }\n",
              "\n",
              "    .dataframe tbody tr th {\n",
              "        vertical-align: top;\n",
              "    }\n",
              "\n",
              "    .dataframe thead th {\n",
              "        text-align: right;\n",
              "    }\n",
              "</style>\n",
              "<table border=\"1\" class=\"dataframe\">\n",
              "  <thead>\n",
              "    <tr style=\"text-align: right;\">\n",
              "      <th></th>\n",
              "      <th>Unnamed: 0</th>\n",
              "      <th>user_id</th>\n",
              "      <th>timeduration</th>\n",
              "      <th>bikeid</th>\n",
              "      <th>from_station_id</th>\n",
              "      <th>to_station_id</th>\n",
              "      <th>birthyear</th>\n",
              "    </tr>\n",
              "  </thead>\n",
              "  <tbody>\n",
              "    <tr>\n",
              "      <th>count</th>\n",
              "      <td>6427.000000</td>\n",
              "      <td>6.427000e+03</td>\n",
              "      <td>6427.000000</td>\n",
              "      <td>6427.000000</td>\n",
              "      <td>6427.000000</td>\n",
              "      <td>6427.000000</td>\n",
              "      <td>5956.000000</td>\n",
              "    </tr>\n",
              "    <tr>\n",
              "      <th>mean</th>\n",
              "      <td>317005.228411</td>\n",
              "      <td>2.135519e+07</td>\n",
              "      <td>11.778902</td>\n",
              "      <td>3491.637934</td>\n",
              "      <td>195.038432</td>\n",
              "      <td>198.502567</td>\n",
              "      <td>1982.488583</td>\n",
              "    </tr>\n",
              "    <tr>\n",
              "      <th>std</th>\n",
              "      <td>184583.896111</td>\n",
              "      <td>2.181294e+05</td>\n",
              "      <td>9.692236</td>\n",
              "      <td>1912.171846</td>\n",
              "      <td>148.170025</td>\n",
              "      <td>148.939873</td>\n",
              "      <td>11.147859</td>\n",
              "    </tr>\n",
              "    <tr>\n",
              "      <th>min</th>\n",
              "      <td>51.000000</td>\n",
              "      <td>2.098358e+07</td>\n",
              "      <td>0.000000</td>\n",
              "      <td>2.000000</td>\n",
              "      <td>2.000000</td>\n",
              "      <td>2.000000</td>\n",
              "      <td>1906.000000</td>\n",
              "    </tr>\n",
              "    <tr>\n",
              "      <th>25%</th>\n",
              "      <td>159093.000000</td>\n",
              "      <td>2.116805e+07</td>\n",
              "      <td>5.000000</td>\n",
              "      <td>1852.000000</td>\n",
              "      <td>77.000000</td>\n",
              "      <td>80.000000</td>\n",
              "      <td>1977.000000</td>\n",
              "    </tr>\n",
              "    <tr>\n",
              "      <th>50%</th>\n",
              "      <td>314569.000000</td>\n",
              "      <td>2.135114e+07</td>\n",
              "      <td>9.000000</td>\n",
              "      <td>3618.000000</td>\n",
              "      <td>168.000000</td>\n",
              "      <td>172.000000</td>\n",
              "      <td>1986.000000</td>\n",
              "    </tr>\n",
              "    <tr>\n",
              "      <th>75%</th>\n",
              "      <td>476273.500000</td>\n",
              "      <td>2.154376e+07</td>\n",
              "      <td>15.000000</td>\n",
              "      <td>5179.500000</td>\n",
              "      <td>287.000000</td>\n",
              "      <td>287.000000</td>\n",
              "      <td>1991.000000</td>\n",
              "    </tr>\n",
              "    <tr>\n",
              "      <th>max</th>\n",
              "      <td>642522.000000</td>\n",
              "      <td>2.174223e+07</td>\n",
              "      <td>59.000000</td>\n",
              "      <td>6470.000000</td>\n",
              "      <td>662.000000</td>\n",
              "      <td>661.000000</td>\n",
              "      <td>2002.000000</td>\n",
              "    </tr>\n",
              "  </tbody>\n",
              "</table>\n",
              "</div>\n",
              "      <button class=\"colab-df-convert\" onclick=\"convertToInteractive('df-52802443-00f4-4d9e-8141-c1e7d5eb9e9e')\"\n",
              "              title=\"Convert this dataframe to an interactive table.\"\n",
              "              style=\"display:none;\">\n",
              "        \n",
              "  <svg xmlns=\"http://www.w3.org/2000/svg\" height=\"24px\"viewBox=\"0 0 24 24\"\n",
              "       width=\"24px\">\n",
              "    <path d=\"M0 0h24v24H0V0z\" fill=\"none\"/>\n",
              "    <path d=\"M18.56 5.44l.94 2.06.94-2.06 2.06-.94-2.06-.94-.94-2.06-.94 2.06-2.06.94zm-11 1L8.5 8.5l.94-2.06 2.06-.94-2.06-.94L8.5 2.5l-.94 2.06-2.06.94zm10 10l.94 2.06.94-2.06 2.06-.94-2.06-.94-.94-2.06-.94 2.06-2.06.94z\"/><path d=\"M17.41 7.96l-1.37-1.37c-.4-.4-.92-.59-1.43-.59-.52 0-1.04.2-1.43.59L10.3 9.45l-7.72 7.72c-.78.78-.78 2.05 0 2.83L4 21.41c.39.39.9.59 1.41.59.51 0 1.02-.2 1.41-.59l7.78-7.78 2.81-2.81c.8-.78.8-2.07 0-2.86zM5.41 20L4 18.59l7.72-7.72 1.47 1.35L5.41 20z\"/>\n",
              "  </svg>\n",
              "      </button>\n",
              "      \n",
              "  <style>\n",
              "    .colab-df-container {\n",
              "      display:flex;\n",
              "      flex-wrap:wrap;\n",
              "      gap: 12px;\n",
              "    }\n",
              "\n",
              "    .colab-df-convert {\n",
              "      background-color: #E8F0FE;\n",
              "      border: none;\n",
              "      border-radius: 50%;\n",
              "      cursor: pointer;\n",
              "      display: none;\n",
              "      fill: #1967D2;\n",
              "      height: 32px;\n",
              "      padding: 0 0 0 0;\n",
              "      width: 32px;\n",
              "    }\n",
              "\n",
              "    .colab-df-convert:hover {\n",
              "      background-color: #E2EBFA;\n",
              "      box-shadow: 0px 1px 2px rgba(60, 64, 67, 0.3), 0px 1px 3px 1px rgba(60, 64, 67, 0.15);\n",
              "      fill: #174EA6;\n",
              "    }\n",
              "\n",
              "    [theme=dark] .colab-df-convert {\n",
              "      background-color: #3B4455;\n",
              "      fill: #D2E3FC;\n",
              "    }\n",
              "\n",
              "    [theme=dark] .colab-df-convert:hover {\n",
              "      background-color: #434B5C;\n",
              "      box-shadow: 0px 1px 3px 1px rgba(0, 0, 0, 0.15);\n",
              "      filter: drop-shadow(0px 1px 2px rgba(0, 0, 0, 0.3));\n",
              "      fill: #FFFFFF;\n",
              "    }\n",
              "  </style>\n",
              "\n",
              "      <script>\n",
              "        const buttonEl =\n",
              "          document.querySelector('#df-52802443-00f4-4d9e-8141-c1e7d5eb9e9e button.colab-df-convert');\n",
              "        buttonEl.style.display =\n",
              "          google.colab.kernel.accessAllowed ? 'block' : 'none';\n",
              "\n",
              "        async function convertToInteractive(key) {\n",
              "          const element = document.querySelector('#df-52802443-00f4-4d9e-8141-c1e7d5eb9e9e');\n",
              "          const dataTable =\n",
              "            await google.colab.kernel.invokeFunction('convertToInteractive',\n",
              "                                                     [key], {});\n",
              "          if (!dataTable) return;\n",
              "\n",
              "          const docLinkHtml = 'Like what you see? Visit the ' +\n",
              "            '<a target=\"_blank\" href=https://colab.research.google.com/notebooks/data_table.ipynb>data table notebook</a>'\n",
              "            + ' to learn more about interactive tables.';\n",
              "          element.innerHTML = '';\n",
              "          dataTable['output_type'] = 'display_data';\n",
              "          await google.colab.output.renderOutput(dataTable, element);\n",
              "          const docLink = document.createElement('div');\n",
              "          docLink.innerHTML = docLinkHtml;\n",
              "          element.appendChild(docLink);\n",
              "        }\n",
              "      </script>\n",
              "    </div>\n",
              "  </div>\n",
              "  "
            ]
          },
          "metadata": {},
          "execution_count": 284
        }
      ]
    },
    {
      "cell_type": "markdown",
      "source": [
        "## 数据概况：\n",
        "\n",
        "该数据共有6427条，其中:\n",
        "\n",
        "(1) user_id、from_station_id、to_station_id显示为int64，但其为用户编码，应为类别型变量(str);\n"
      ],
      "metadata": {
        "id": "4BZKI8KZMhl0"
      }
    },
    {
      "cell_type": "code",
      "source": [
        "mobike['user_id']=mobike['user_id'].astype(str)\n",
        "mobike['from_station_id']=mobike['from_station_id'].astype(str)\n",
        "mobike['to_station_id']=mobike['to_station_id'].astype(str)"
      ],
      "metadata": {
        "id": "2bbbo7MBMfQl"
      },
      "execution_count": null,
      "outputs": []
    },
    {
      "cell_type": "markdown",
      "source": [
        "(2) 无意义字段unnamed:0,需删除。"
      ],
      "metadata": {
        "id": "CYUE3CYnVD8Q"
      }
    },
    {
      "cell_type": "code",
      "source": [
        "mobike=mobike.drop(['Unnamed: 0'],axis=1)"
      ],
      "metadata": {
        "id": "dAh6FdpqUywx"
      },
      "execution_count": null,
      "outputs": []
    },
    {
      "cell_type": "markdown",
      "source": [
        "(3) age显示为object，应为类别int64；"
      ],
      "metadata": {
        "id": "HXNVlwUMVNkk"
      }
    },
    {
      "cell_type": "code",
      "source": [
        "mobike['age'].unique()"
      ],
      "metadata": {
        "colab": {
          "base_uri": "https://localhost:8080/"
        },
        "id": "3Wc28iWFPD7_",
        "outputId": "af35d90b-5689-4f4c-f0e5-d4bf9935ed22"
      },
      "execution_count": null,
      "outputs": [
        {
          "output_type": "execute_result",
          "data": {
            "text/plain": [
              "array(['37', '31', '30', '40', '25', '48', ' ', '28', '27', '34', '33',\n",
              "       '26', '20', '23', '55', '22', '54', '52', '57', '29', '39', '51',\n",
              "       '32', '49', '43', '58', '42', '61', '35', '41', '63', '50', '38',\n",
              "       '36', '44', '62', '19', '59', '45', '46', '56', '21', '24', '47',\n",
              "       '66', '64', '77', '69', '60', '68', '70', '53', '113', '73', '18',\n",
              "       '67', '65', '71', '79', '17', '101', '74', '72'], dtype=object)"
            ]
          },
          "metadata": {},
          "execution_count": 287
        }
      ]
    },
    {
      "cell_type": "code",
      "source": [
        "mobike=mobike.replace(to_replace=' ',value=np.nan)"
      ],
      "metadata": {
        "id": "XJwr-9LtPX5z"
      },
      "execution_count": null,
      "outputs": []
    },
    {
      "cell_type": "code",
      "source": [
        "mobike['age']=mobike['age'].fillna(mobike['age'].median())"
      ],
      "metadata": {
        "id": "6uZGAXbzUFEZ"
      },
      "execution_count": null,
      "outputs": []
    },
    {
      "cell_type": "code",
      "source": [
        "mobike['age']=mobike['age'].astype(int)"
      ],
      "metadata": {
        "id": "hdsrWSR4URrm"
      },
      "execution_count": null,
      "outputs": []
    },
    {
      "cell_type": "markdown",
      "source": [
        "(4) gender、birthyear两个数据维度存在空值；"
      ],
      "metadata": {
        "id": "JyAfDV-CVSns"
      }
    },
    {
      "cell_type": "code",
      "source": [
        "mobike['gender'].unique()"
      ],
      "metadata": {
        "colab": {
          "base_uri": "https://localhost:8080/"
        },
        "id": "0PRYhFTeUqYS",
        "outputId": "cf3c02ab-e0b0-43ea-9ebb-c0f68d8cd547"
      },
      "execution_count": null,
      "outputs": [
        {
          "output_type": "execute_result",
          "data": {
            "text/plain": [
              "array(['Male', 'Female', nan], dtype=object)"
            ]
          },
          "metadata": {},
          "execution_count": 291
        }
      ]
    },
    {
      "cell_type": "code",
      "source": [
        "mobike['gender']=mobike['gender'].fillna('unknown')"
      ],
      "metadata": {
        "id": "_MGQlOUEUl6p"
      },
      "execution_count": null,
      "outputs": []
    },
    {
      "cell_type": "code",
      "source": [
        "# 剔除无用变量 birthyear与age重复\n",
        "mobike.drop(['birthyear'],axis=1,inplace=True)"
      ],
      "metadata": {
        "id": "kH4lX87WVVND"
      },
      "execution_count": null,
      "outputs": []
    },
    {
      "cell_type": "markdown",
      "source": [
        "(5) start_time、end_time显示为类别型变量(object),但其分别为开始时间和结束时间，则应将其处理成日期时间格式；"
      ],
      "metadata": {
        "id": "aCoibf1CVoY9"
      }
    },
    {
      "cell_type": "code",
      "source": [
        "mobike['start_time']=pd.to_datetime(mobike['start_time'])\n",
        "mobike['end_time']=pd.to_datetime(mobike['end_time'])"
      ],
      "metadata": {
        "id": "bn-Co0xaVvMO"
      },
      "execution_count": null,
      "outputs": []
    },
    {
      "cell_type": "code",
      "source": [
        "mobike.info()"
      ],
      "metadata": {
        "colab": {
          "base_uri": "https://localhost:8080/"
        },
        "id": "Bi9FUxMjWLOJ",
        "outputId": "db9015b7-4df3-4529-d4f1-faee301c6aab"
      },
      "execution_count": null,
      "outputs": [
        {
          "output_type": "stream",
          "name": "stdout",
          "text": [
            "<class 'pandas.core.frame.DataFrame'>\n",
            "RangeIndex: 6427 entries, 0 to 6426\n",
            "Data columns (total 13 columns):\n",
            " #   Column             Non-Null Count  Dtype         \n",
            "---  ------             --------------  -----         \n",
            " 0   user_id            6427 non-null   object        \n",
            " 1   start_time         6427 non-null   datetime64[ns]\n",
            " 2   end_time           6427 non-null   datetime64[ns]\n",
            " 3   timeduration       6427 non-null   int64         \n",
            " 4   bikeid             6427 non-null   int64         \n",
            " 5   tripduration       6427 non-null   object        \n",
            " 6   from_station_id    6427 non-null   object        \n",
            " 7   from_station_name  6427 non-null   object        \n",
            " 8   to_station_id      6427 non-null   object        \n",
            " 9   to_station_name    6427 non-null   object        \n",
            " 10  usertype           6427 non-null   object        \n",
            " 11  gender             6427 non-null   object        \n",
            " 12  age                6427 non-null   int64         \n",
            "dtypes: datetime64[ns](2), int64(3), object(8)\n",
            "memory usage: 652.9+ KB\n"
          ]
        }
      ]
    },
    {
      "cell_type": "code",
      "source": [
        "mobike.describe()"
      ],
      "metadata": {
        "colab": {
          "base_uri": "https://localhost:8080/",
          "height": 300
        },
        "id": "vgDyTTvJONeb",
        "outputId": "b800333b-83da-481d-8444-64aad9abaa88"
      },
      "execution_count": null,
      "outputs": [
        {
          "output_type": "execute_result",
          "data": {
            "text/plain": [
              "       timeduration       bikeid          age\n",
              "count   6427.000000  6427.000000  6427.000000\n",
              "mean      11.778902  3491.637934    36.254084\n",
              "std        9.692236  1912.171846    10.770489\n",
              "min        0.000000     2.000000    17.000000\n",
              "25%        5.000000  1852.000000    29.000000\n",
              "50%        9.000000  3618.000000    33.000000\n",
              "75%       15.000000  5179.500000    41.000000\n",
              "max       59.000000  6470.000000   113.000000"
            ],
            "text/html": [
              "\n",
              "  <div id=\"df-892944ed-49d7-4f61-8495-090d1736fcaf\">\n",
              "    <div class=\"colab-df-container\">\n",
              "      <div>\n",
              "<style scoped>\n",
              "    .dataframe tbody tr th:only-of-type {\n",
              "        vertical-align: middle;\n",
              "    }\n",
              "\n",
              "    .dataframe tbody tr th {\n",
              "        vertical-align: top;\n",
              "    }\n",
              "\n",
              "    .dataframe thead th {\n",
              "        text-align: right;\n",
              "    }\n",
              "</style>\n",
              "<table border=\"1\" class=\"dataframe\">\n",
              "  <thead>\n",
              "    <tr style=\"text-align: right;\">\n",
              "      <th></th>\n",
              "      <th>timeduration</th>\n",
              "      <th>bikeid</th>\n",
              "      <th>age</th>\n",
              "    </tr>\n",
              "  </thead>\n",
              "  <tbody>\n",
              "    <tr>\n",
              "      <th>count</th>\n",
              "      <td>6427.000000</td>\n",
              "      <td>6427.000000</td>\n",
              "      <td>6427.000000</td>\n",
              "    </tr>\n",
              "    <tr>\n",
              "      <th>mean</th>\n",
              "      <td>11.778902</td>\n",
              "      <td>3491.637934</td>\n",
              "      <td>36.254084</td>\n",
              "    </tr>\n",
              "    <tr>\n",
              "      <th>std</th>\n",
              "      <td>9.692236</td>\n",
              "      <td>1912.171846</td>\n",
              "      <td>10.770489</td>\n",
              "    </tr>\n",
              "    <tr>\n",
              "      <th>min</th>\n",
              "      <td>0.000000</td>\n",
              "      <td>2.000000</td>\n",
              "      <td>17.000000</td>\n",
              "    </tr>\n",
              "    <tr>\n",
              "      <th>25%</th>\n",
              "      <td>5.000000</td>\n",
              "      <td>1852.000000</td>\n",
              "      <td>29.000000</td>\n",
              "    </tr>\n",
              "    <tr>\n",
              "      <th>50%</th>\n",
              "      <td>9.000000</td>\n",
              "      <td>3618.000000</td>\n",
              "      <td>33.000000</td>\n",
              "    </tr>\n",
              "    <tr>\n",
              "      <th>75%</th>\n",
              "      <td>15.000000</td>\n",
              "      <td>5179.500000</td>\n",
              "      <td>41.000000</td>\n",
              "    </tr>\n",
              "    <tr>\n",
              "      <th>max</th>\n",
              "      <td>59.000000</td>\n",
              "      <td>6470.000000</td>\n",
              "      <td>113.000000</td>\n",
              "    </tr>\n",
              "  </tbody>\n",
              "</table>\n",
              "</div>\n",
              "      <button class=\"colab-df-convert\" onclick=\"convertToInteractive('df-892944ed-49d7-4f61-8495-090d1736fcaf')\"\n",
              "              title=\"Convert this dataframe to an interactive table.\"\n",
              "              style=\"display:none;\">\n",
              "        \n",
              "  <svg xmlns=\"http://www.w3.org/2000/svg\" height=\"24px\"viewBox=\"0 0 24 24\"\n",
              "       width=\"24px\">\n",
              "    <path d=\"M0 0h24v24H0V0z\" fill=\"none\"/>\n",
              "    <path d=\"M18.56 5.44l.94 2.06.94-2.06 2.06-.94-2.06-.94-.94-2.06-.94 2.06-2.06.94zm-11 1L8.5 8.5l.94-2.06 2.06-.94-2.06-.94L8.5 2.5l-.94 2.06-2.06.94zm10 10l.94 2.06.94-2.06 2.06-.94-2.06-.94-.94-2.06-.94 2.06-2.06.94z\"/><path d=\"M17.41 7.96l-1.37-1.37c-.4-.4-.92-.59-1.43-.59-.52 0-1.04.2-1.43.59L10.3 9.45l-7.72 7.72c-.78.78-.78 2.05 0 2.83L4 21.41c.39.39.9.59 1.41.59.51 0 1.02-.2 1.41-.59l7.78-7.78 2.81-2.81c.8-.78.8-2.07 0-2.86zM5.41 20L4 18.59l7.72-7.72 1.47 1.35L5.41 20z\"/>\n",
              "  </svg>\n",
              "      </button>\n",
              "      \n",
              "  <style>\n",
              "    .colab-df-container {\n",
              "      display:flex;\n",
              "      flex-wrap:wrap;\n",
              "      gap: 12px;\n",
              "    }\n",
              "\n",
              "    .colab-df-convert {\n",
              "      background-color: #E8F0FE;\n",
              "      border: none;\n",
              "      border-radius: 50%;\n",
              "      cursor: pointer;\n",
              "      display: none;\n",
              "      fill: #1967D2;\n",
              "      height: 32px;\n",
              "      padding: 0 0 0 0;\n",
              "      width: 32px;\n",
              "    }\n",
              "\n",
              "    .colab-df-convert:hover {\n",
              "      background-color: #E2EBFA;\n",
              "      box-shadow: 0px 1px 2px rgba(60, 64, 67, 0.3), 0px 1px 3px 1px rgba(60, 64, 67, 0.15);\n",
              "      fill: #174EA6;\n",
              "    }\n",
              "\n",
              "    [theme=dark] .colab-df-convert {\n",
              "      background-color: #3B4455;\n",
              "      fill: #D2E3FC;\n",
              "    }\n",
              "\n",
              "    [theme=dark] .colab-df-convert:hover {\n",
              "      background-color: #434B5C;\n",
              "      box-shadow: 0px 1px 3px 1px rgba(0, 0, 0, 0.15);\n",
              "      filter: drop-shadow(0px 1px 2px rgba(0, 0, 0, 0.3));\n",
              "      fill: #FFFFFF;\n",
              "    }\n",
              "  </style>\n",
              "\n",
              "      <script>\n",
              "        const buttonEl =\n",
              "          document.querySelector('#df-892944ed-49d7-4f61-8495-090d1736fcaf button.colab-df-convert');\n",
              "        buttonEl.style.display =\n",
              "          google.colab.kernel.accessAllowed ? 'block' : 'none';\n",
              "\n",
              "        async function convertToInteractive(key) {\n",
              "          const element = document.querySelector('#df-892944ed-49d7-4f61-8495-090d1736fcaf');\n",
              "          const dataTable =\n",
              "            await google.colab.kernel.invokeFunction('convertToInteractive',\n",
              "                                                     [key], {});\n",
              "          if (!dataTable) return;\n",
              "\n",
              "          const docLinkHtml = 'Like what you see? Visit the ' +\n",
              "            '<a target=\"_blank\" href=https://colab.research.google.com/notebooks/data_table.ipynb>data table notebook</a>'\n",
              "            + ' to learn more about interactive tables.';\n",
              "          element.innerHTML = '';\n",
              "          dataTable['output_type'] = 'display_data';\n",
              "          await google.colab.output.renderOutput(dataTable, element);\n",
              "          const docLink = document.createElement('div');\n",
              "          docLink.innerHTML = docLinkHtml;\n",
              "          element.appendChild(docLink);\n",
              "        }\n",
              "      </script>\n",
              "    </div>\n",
              "  </div>\n",
              "  "
            ]
          },
          "metadata": {},
          "execution_count": 296
        }
      ]
    },
    {
      "cell_type": "markdown",
      "source": [
        "# 2. 单变量分析\n",
        "## 2.1 性别"
      ],
      "metadata": {
        "id": "WSX1SbBjWPlP"
      }
    },
    {
      "cell_type": "code",
      "source": [
        "mobike['gender'].value_counts().plot(kind='bar')"
      ],
      "metadata": {
        "colab": {
          "base_uri": "https://localhost:8080/",
          "height": 319
        },
        "id": "fZc6Ve26WUfl",
        "outputId": "70bdbbfc-aa73-4fd0-9ae7-20df16cd8382"
      },
      "execution_count": null,
      "outputs": [
        {
          "output_type": "execute_result",
          "data": {
            "text/plain": [
              "<matplotlib.axes._subplots.AxesSubplot at 0x7f882235c4d0>"
            ]
          },
          "metadata": {},
          "execution_count": 297
        },
        {
          "output_type": "display_data",
          "data": {
            "text/plain": [
              "<Figure size 432x288 with 1 Axes>"
            ],
            "image/png": "[encoded data removed]"
          },
          "metadata": {
            "needs_background": "light"
          }
        }
      ]
    },
    {
      "cell_type": "code",
      "source": [
        "mobike['gender'].value_counts(1)"
      ],
      "metadata": {
        "colab": {
          "base_uri": "https://localhost:8080/"
        },
        "id": "J_afSfa_WoWg",
        "outputId": "9f300460-8a3a-48a8-9f93-869d790ff380"
      },
      "execution_count": null,
      "outputs": [
        {
          "output_type": "execute_result",
          "data": {
            "text/plain": [
              "Male       0.721487\n",
              "Female     0.202427\n",
              "unknown    0.076085\n",
              "Name: gender, dtype: float64"
            ]
          },
          "metadata": {},
          "execution_count": 298
        }
      ]
    },
    {
      "cell_type": "markdown",
      "source": [
        "结论1：摩拜单车用户中，男性用户占比最高，是女性的三倍。\n",
        "\n",
        "## 2.2 年龄"
      ],
      "metadata": {
        "id": "aBflTGSAWguw"
      }
    },
    {
      "cell_type": "code",
      "source": [
        "age = mobike['age'].unique()\n",
        "print(sorted(age))"
      ],
      "metadata": {
        "colab": {
          "base_uri": "https://localhost:8080/"
        },
        "id": "2fg1t8yMW0M8",
        "outputId": "51cfa43d-f3dd-43d8-8f92-a02c7757987b"
      },
      "execution_count": null,
      "outputs": [
        {
          "output_type": "stream",
          "name": "stdout",
          "text": [
            "[17, 18, 19, 20, 21, 22, 23, 24, 25, 26, 27, 28, 29, 30, 31, 32, 33, 34, 35, 36, 37, 38, 39, 40, 41, 42, 43, 44, 45, 46, 47, 48, 49, 50, 51, 52, 53, 54, 55, 56, 57, 58, 59, 60, 61, 62, 63, 64, 65, 66, 67, 68, 69, 70, 71, 72, 73, 74, 77, 79, 101, 113]\n"
          ]
        }
      ]
    },
    {
      "cell_type": "code",
      "source": [
        "# 选择年龄合适的数据进行分析，筛选出16-80岁的数据\n",
        "mobike = mobike[mobike['age']<=80]\n",
        "mobike = mobike[mobike['age']>=16]"
      ],
      "metadata": {
        "id": "4vp2i4-zW950"
      },
      "execution_count": null,
      "outputs": []
    },
    {
      "cell_type": "code",
      "source": [
        "bins=[16,20,30,40,50,60,70,80]\n",
        "mobike['age_group']=pd.cut(mobike['age'],bins)"
      ],
      "metadata": {
        "id": "QIzTDYA6Y2AM"
      },
      "execution_count": null,
      "outputs": []
    },
    {
      "cell_type": "code",
      "source": [
        "sns.countplot(x='age_group',data=mobike)"
      ],
      "metadata": {
        "colab": {
          "base_uri": "https://localhost:8080/",
          "height": 297
        },
        "id": "zWqtLaA0Ysdg",
        "outputId": "6f9022c1-da8d-4efb-eada-5e3d2a1f85d5"
      },
      "execution_count": null,
      "outputs": [
        {
          "output_type": "execute_result",
          "data": {
            "text/plain": [
              "<matplotlib.axes._subplots.AxesSubplot at 0x7f8821bd3450>"
            ]
          },
          "metadata": {},
          "execution_count": 302
        },
        {
          "output_type": "display_data",
          "data": {
            "text/plain": [
              "<Figure size 432x288 with 1 Axes>"
            ],
            "image/png": "[encoded data removed]"
          },
          "metadata": {
            "needs_background": "light"
          }
        }
      ]
    },
    {
      "cell_type": "markdown",
      "source": [
        "结论2：用户年龄集中于20-40之间\n",
        "\n",
        "## 2.3 日期"
      ],
      "metadata": {
        "id": "uxnD8ddCZppT"
      }
    },
    {
      "cell_type": "code",
      "source": [
        "mobike['start_time'].dt.year.unique()"
      ],
      "metadata": {
        "colab": {
          "base_uri": "https://localhost:8080/"
        },
        "id": "KI7JZDw1Z8q3",
        "outputId": "b4a17b84-50f4-42ca-a754-701eff5d50c9"
      },
      "execution_count": null,
      "outputs": [
        {
          "output_type": "execute_result",
          "data": {
            "text/plain": [
              "array([2018])"
            ]
          },
          "metadata": {},
          "execution_count": 303
        }
      ]
    },
    {
      "cell_type": "code",
      "source": [
        "mobike['end_time'].dt.year.unique()"
      ],
      "metadata": {
        "colab": {
          "base_uri": "https://localhost:8080/"
        },
        "id": "2SwH0Z7uZ_PN",
        "outputId": "0dbc2a77-0f75-41e0-9e77-41130ccdc4bc"
      },
      "execution_count": null,
      "outputs": [
        {
          "output_type": "execute_result",
          "data": {
            "text/plain": [
              "array([2018])"
            ]
          },
          "metadata": {},
          "execution_count": 304
        }
      ]
    },
    {
      "cell_type": "code",
      "source": [
        "from datetime import datetime"
      ],
      "metadata": {
        "id": "6Unprcwzctpv"
      },
      "execution_count": null,
      "outputs": []
    },
    {
      "cell_type": "code",
      "source": [
        "mobike['weekname']=mobike['start_time'].dt.day_name()\n",
        "mobike['weekname'].value_counts()"
      ],
      "metadata": {
        "colab": {
          "base_uri": "https://localhost:8080/"
        },
        "id": "c2KZcLWXaGDI",
        "outputId": "f50a3d8a-663c-4c09-9dd5-5dfdf8e85079"
      },
      "execution_count": null,
      "outputs": [
        {
          "output_type": "execute_result",
          "data": {
            "text/plain": [
              "Tuesday      1145\n",
              "Wednesday    1103\n",
              "Monday       1072\n",
              "Thursday     1039\n",
              "Friday        911\n",
              "Saturday      622\n",
              "Sunday        532\n",
              "Name: weekname, dtype: int64"
            ]
          },
          "metadata": {},
          "execution_count": 306
        }
      ]
    },
    {
      "cell_type": "code",
      "source": [
        "sns.countplot(x='weekname',data=mobike,order=['Monday','Tuesday','Wednesday','Thursday','Friday','Saturday','Sunday'])"
      ],
      "metadata": {
        "colab": {
          "base_uri": "https://localhost:8080/",
          "height": 301
        },
        "id": "Zv7AWXQyaOwC",
        "outputId": "9ea8a876-7e35-4b09-95b0-8c937f0b0e9e"
      },
      "execution_count": null,
      "outputs": [
        {
          "output_type": "execute_result",
          "data": {
            "text/plain": [
              "<matplotlib.axes._subplots.AxesSubplot at 0x7f8821aba610>"
            ]
          },
          "metadata": {},
          "execution_count": 307
        },
        {
          "output_type": "display_data",
          "data": {
            "text/plain": [
              "<Figure size 432x288 with 1 Axes>"
            ],
            "image/png": "[encoded data removed]"
          },
          "metadata": {
            "needs_background": "light"
          }
        }
      ]
    },
    {
      "cell_type": "code",
      "source": [
        "sns.countplot(x='weekname',data=mobike,order=mobike['weekname'].value_counts().index)"
      ],
      "metadata": {
        "colab": {
          "base_uri": "https://localhost:8080/",
          "height": 301
        },
        "id": "d2t_cO2mgepm",
        "outputId": "9ae33f05-40d6-4639-e198-8ca0e3a3991b"
      },
      "execution_count": null,
      "outputs": [
        {
          "output_type": "execute_result",
          "data": {
            "text/plain": [
              "<matplotlib.axes._subplots.AxesSubplot at 0x7f8821a98e90>"
            ]
          },
          "metadata": {},
          "execution_count": 308
        },
        {
          "output_type": "display_data",
          "data": {
            "text/plain": [
              "<Figure size 432x288 with 1 Axes>"
            ],
            "image/png": "[encoded data removed]"
          },
          "metadata": {
            "needs_background": "light"
          }
        }
      ]
    },
    {
      "cell_type": "markdown",
      "source": [
        "用户倾向于工作日使用摩拜，用户多为上班族"
      ],
      "metadata": {
        "id": "sWoMeIKagrAH"
      }
    },
    {
      "cell_type": "code",
      "source": [
        "mobike['hour']=mobike['start_time'].dt.hour\n",
        "sns.distplot(mobike['hour'])"
      ],
      "metadata": {
        "colab": {
          "base_uri": "https://localhost:8080/",
          "height": 356
        },
        "id": "bBLUUK2Pg0VI",
        "outputId": "26ad125d-c858-457d-8a79-7fef6b034ec6"
      },
      "execution_count": null,
      "outputs": [
        {
          "output_type": "stream",
          "name": "stderr",
          "text": [
            "/usr/local/lib/python3.7/dist-packages/seaborn/distributions.py:2619: FutureWarning: `distplot` is a deprecated function and will be removed in a future version. Please adapt your code to use either `displot` (a figure-level function with similar flexibility) or `histplot` (an axes-level function for histograms).\n",
            "  warnings.warn(msg, FutureWarning)\n"
          ]
        },
        {
          "output_type": "execute_result",
          "data": {
            "text/plain": [
              "<matplotlib.axes._subplots.AxesSubplot at 0x7f8821a0e690>"
            ]
          },
          "metadata": {},
          "execution_count": 309
        },
        {
          "output_type": "display_data",
          "data": {
            "text/plain": [
              "<Figure size 432x288 with 1 Axes>"
            ],
            "image/png": "[encoded data removed]"
          },
          "metadata": {
            "needs_background": "light"
          }
        }
      ]
    },
    {
      "cell_type": "code",
      "source": [
        "mobike['month']=mobike['start_time'].dt.month\n",
        "sns.countplot(mobike['month'])"
      ],
      "metadata": {
        "colab": {
          "base_uri": "https://localhost:8080/",
          "height": 353
        },
        "id": "qftoc6RJhHkC",
        "outputId": "2b1cbe21-23c6-44b6-c257-241a89d6e3dd"
      },
      "execution_count": null,
      "outputs": [
        {
          "output_type": "stream",
          "name": "stderr",
          "text": [
            "/usr/local/lib/python3.7/dist-packages/seaborn/_decorators.py:43: FutureWarning: Pass the following variable as a keyword arg: x. From version 0.12, the only valid positional argument will be `data`, and passing other arguments without an explicit keyword will result in an error or misinterpretation.\n",
            "  FutureWarning\n"
          ]
        },
        {
          "output_type": "execute_result",
          "data": {
            "text/plain": [
              "<matplotlib.axes._subplots.AxesSubplot at 0x7f88218fdcd0>"
            ]
          },
          "metadata": {},
          "execution_count": 310
        },
        {
          "output_type": "display_data",
          "data": {
            "text/plain": [
              "<Figure size 432x288 with 1 Axes>"
            ],
            "image/png": "[encoded data removed]"
          },
          "metadata": {
            "needs_background": "light"
          }
        }
      ]
    },
    {
      "cell_type": "markdown",
      "source": [
        "结论3：用户使用时间集中在10月，11,12月使用数量递减，这与天气转凉有关；一周内骑行集中在工作日，骑行时间点集中在上下班高峰时段，分别是8点、7点，16点，17点\n",
        "\n",
        "## 2.4 骑行时长"
      ],
      "metadata": {
        "id": "odNRujFVhMtm"
      }
    },
    {
      "cell_type": "code",
      "source": [
        "mobike['timeduration'].unique()"
      ],
      "metadata": {
        "colab": {
          "base_uri": "https://localhost:8080/"
        },
        "id": "17bL7N1yayZi",
        "outputId": "33085b6e-4f54-40a4-86e5-01bddc6701a3"
      },
      "execution_count": null,
      "outputs": [
        {
          "output_type": "execute_result",
          "data": {
            "text/plain": [
              "array([ 7, 18,  9,  6, 12,  8, 22, 13,  3, 16,  4, 14, 27, 55,  5, 42, 20,\n",
              "       31, 15, 11,  2, 24, 10, 17, 37, 35, 26, 30,  1, 23, 40, 33, 36, 29,\n",
              "       38, 59, 21, 34, 25, 46, 53, 19, 58, 57, 39, 56, 28, 44, 52, 32, 43,\n",
              "       54, 50, 51, 41, 48, 45, 49, 47,  0])"
            ]
          },
          "metadata": {},
          "execution_count": 311
        }
      ]
    },
    {
      "cell_type": "code",
      "source": [
        "time = mobike['timeduration'].unique()\n",
        "print(sorted(time))"
      ],
      "metadata": {
        "colab": {
          "base_uri": "https://localhost:8080/"
        },
        "id": "KKTdB6frace6",
        "outputId": "dcfa5616-bce6-46e8-8650-36dc835636de"
      },
      "execution_count": null,
      "outputs": [
        {
          "output_type": "stream",
          "name": "stdout",
          "text": [
            "[0, 1, 2, 3, 4, 5, 6, 7, 8, 9, 10, 11, 12, 13, 14, 15, 16, 17, 18, 19, 20, 21, 22, 23, 24, 25, 26, 27, 28, 29, 30, 31, 32, 33, 34, 35, 36, 37, 38, 39, 40, 41, 42, 43, 44, 45, 46, 47, 48, 49, 50, 51, 52, 53, 54, 55, 56, 57, 58, 59]\n"
          ]
        }
      ]
    },
    {
      "cell_type": "code",
      "source": [
        "sns.boxplot(mobike['timeduration'])"
      ],
      "metadata": {
        "colab": {
          "base_uri": "https://localhost:8080/",
          "height": 353
        },
        "id": "Qa0lsRZYa53y",
        "outputId": "126830ed-6cab-4e35-ceeb-2ef905aba5f1"
      },
      "execution_count": null,
      "outputs": [
        {
          "output_type": "stream",
          "name": "stderr",
          "text": [
            "/usr/local/lib/python3.7/dist-packages/seaborn/_decorators.py:43: FutureWarning: Pass the following variable as a keyword arg: x. From version 0.12, the only valid positional argument will be `data`, and passing other arguments without an explicit keyword will result in an error or misinterpretation.\n",
            "  FutureWarning\n"
          ]
        },
        {
          "output_type": "execute_result",
          "data": {
            "text/plain": [
              "<matplotlib.axes._subplots.AxesSubplot at 0x7f88218d2710>"
            ]
          },
          "metadata": {},
          "execution_count": 313
        },
        {
          "output_type": "display_data",
          "data": {
            "text/plain": [
              "<Figure size 432x288 with 1 Axes>"
            ],
            "image/png": "[encoded data removed]"
          },
          "metadata": {
            "needs_background": "light"
          }
        }
      ]
    },
    {
      "cell_type": "code",
      "source": [
        "t_bins=[0,10,20,30,40,50,60]\n",
        "mobike['timeduration_group']=pd.cut(mobike['timeduration'],bins)"
      ],
      "metadata": {
        "id": "J2ouTw7XbNb8"
      },
      "execution_count": null,
      "outputs": []
    },
    {
      "cell_type": "code",
      "source": [
        "sns.countplot(x='timeduration_group',data=mobike)"
      ],
      "metadata": {
        "colab": {
          "base_uri": "https://localhost:8080/",
          "height": 298
        },
        "id": "Ascw8a1pbcdA",
        "outputId": "0fa91b9d-944c-4cc4-f336-5d1b07bc13ce"
      },
      "execution_count": null,
      "outputs": [
        {
          "output_type": "execute_result",
          "data": {
            "text/plain": [
              "<matplotlib.axes._subplots.AxesSubplot at 0x7f88218b3610>"
            ]
          },
          "metadata": {},
          "execution_count": 315
        },
        {
          "output_type": "display_data",
          "data": {
            "text/plain": [
              "<Figure size 432x288 with 1 Axes>"
            ],
            "image/png": "[encoded data removed]"
          },
          "metadata": {
            "needs_background": "light"
          }
        }
      ]
    },
    {
      "cell_type": "markdown",
      "source": [
        "结论4：用户骑行时间集中在16-30分钟之间。\n",
        "\n",
        "## 2.5 骑行距离"
      ],
      "metadata": {
        "id": "7ytuUDLsbgzD"
      }
    },
    {
      "cell_type": "code",
      "source": [
        "mobike['tripduration'].unique()"
      ],
      "metadata": {
        "colab": {
          "base_uri": "https://localhost:8080/"
        },
        "id": "VdpmxNWtcYVp",
        "outputId": "e1f3dca5-505c-4f0a-a359-a094579ed9dd"
      },
      "execution_count": null,
      "outputs": [
        {
          "output_type": "execute_result",
          "data": {
            "text/plain": [
              "array(['436', '445', '1,090', ..., '1,369', '1,458', '174'], dtype=object)"
            ]
          },
          "metadata": {},
          "execution_count": 316
        }
      ]
    },
    {
      "cell_type": "code",
      "source": [
        "mobike['tripduration']= mobike['tripduration'].str.replace(',','').astype(float)"
      ],
      "metadata": {
        "id": "m7c7Kms-cmci"
      },
      "execution_count": null,
      "outputs": []
    },
    {
      "cell_type": "code",
      "source": [
        "trip = mobike['tripduration'].unique()\n",
        "print(sorted(trip))"
      ],
      "metadata": {
        "colab": {
          "base_uri": "https://localhost:8080/"
        },
        "id": "Sla1OlSedr1Y",
        "outputId": "dd8863ff-f65b-4661-af8b-0f3ac14b01c8"
      },
      "execution_count": null,
      "outputs": [
        {
          "output_type": "stream",
          "name": "stdout",
          "text": [
            "[61.0, 67.0, 74.0, 78.0, 80.0, 82.0, 83.0, 85.0, 89.0, 92.0, 93.0, 94.0, 95.0, 97.0, 98.0, 101.0, 102.0, 103.0, 104.0, 105.0, 106.0, 108.0, 110.0, 111.0, 112.0, 113.0, 114.0, 116.0, 117.0, 118.0, 120.0, 121.0, 122.0, 123.0, 124.0, 125.0, 126.0, 127.0, 128.0, 129.0, 130.0, 131.0, 132.0, 133.0, 134.0, 136.0, 137.0, 138.0, 139.0, 140.0, 141.0, 142.0, 143.0, 144.0, 145.0, 146.0, 147.0, 148.0, 149.0, 151.0, 152.0, 153.0, 154.0, 155.0, 156.0, 157.0, 158.0, 159.0, 160.0, 161.0, 162.0, 163.0, 164.0, 165.0, 166.0, 167.0, 168.0, 169.0, 170.0, 171.0, 172.0, 173.0, 174.0, 175.0, 176.0, 177.0, 178.0, 179.0, 180.0, 181.0, 182.0, 183.0, 184.0, 185.0, 186.0, 187.0, 188.0, 189.0, 190.0, 191.0, 192.0, 193.0, 194.0, 195.0, 196.0, 197.0, 198.0, 199.0, 200.0, 201.0, 202.0, 203.0, 204.0, 205.0, 206.0, 207.0, 208.0, 209.0, 210.0, 211.0, 212.0, 213.0, 214.0, 215.0, 216.0, 217.0, 218.0, 219.0, 220.0, 221.0, 222.0, 223.0, 224.0, 225.0, 226.0, 227.0, 228.0, 229.0, 230.0, 231.0, 232.0, 233.0, 234.0, 235.0, 236.0, 237.0, 238.0, 239.0, 240.0, 241.0, 242.0, 243.0, 244.0, 245.0, 246.0, 247.0, 248.0, 249.0, 250.0, 251.0, 252.0, 253.0, 254.0, 255.0, 256.0, 257.0, 258.0, 259.0, 260.0, 261.0, 262.0, 263.0, 264.0, 265.0, 266.0, 267.0, 268.0, 269.0, 270.0, 271.0, 272.0, 273.0, 274.0, 275.0, 276.0, 277.0, 278.0, 279.0, 280.0, 281.0, 282.0, 283.0, 284.0, 285.0, 286.0, 287.0, 288.0, 289.0, 290.0, 291.0, 292.0, 293.0, 294.0, 295.0, 296.0, 297.0, 298.0, 299.0, 300.0, 301.0, 302.0, 303.0, 304.0, 305.0, 306.0, 307.0, 308.0, 309.0, 310.0, 311.0, 312.0, 313.0, 314.0, 315.0, 316.0, 317.0, 318.0, 319.0, 320.0, 321.0, 322.0, 323.0, 324.0, 325.0, 326.0, 327.0, 328.0, 329.0, 330.0, 331.0, 332.0, 333.0, 334.0, 335.0, 336.0, 337.0, 338.0, 339.0, 340.0, 341.0, 342.0, 343.0, 344.0, 345.0, 346.0, 347.0, 348.0, 349.0, 350.0, 351.0, 352.0, 353.0, 354.0, 355.0, 356.0, 357.0, 358.0, 359.0, 360.0, 361.0, 362.0, 363.0, 364.0, 365.0, 366.0, 367.0, 368.0, 369.0, 370.0, 371.0, 372.0, 373.0, 374.0, 375.0, 376.0, 377.0, 378.0, 379.0, 380.0, 381.0, 382.0, 383.0, 384.0, 385.0, 386.0, 387.0, 388.0, 389.0, 390.0, 391.0, 392.0, 393.0, 394.0, 395.0, 396.0, 397.0, 398.0, 399.0, 400.0, 401.0, 402.0, 403.0, 404.0, 405.0, 406.0, 407.0, 408.0, 409.0, 410.0, 411.0, 412.0, 413.0, 414.0, 415.0, 416.0, 417.0, 418.0, 419.0, 420.0, 421.0, 422.0, 423.0, 424.0, 425.0, 426.0, 427.0, 428.0, 429.0, 430.0, 431.0, 432.0, 433.0, 434.0, 435.0, 436.0, 437.0, 438.0, 439.0, 440.0, 441.0, 442.0, 443.0, 444.0, 445.0, 446.0, 447.0, 448.0, 449.0, 450.0, 451.0, 452.0, 453.0, 454.0, 455.0, 456.0, 457.0, 458.0, 459.0, 460.0, 461.0, 462.0, 463.0, 464.0, 465.0, 466.0, 467.0, 468.0, 469.0, 470.0, 471.0, 472.0, 473.0, 474.0, 475.0, 476.0, 477.0, 478.0, 479.0, 480.0, 481.0, 482.0, 483.0, 484.0, 485.0, 486.0, 487.0, 488.0, 489.0, 490.0, 491.0, 492.0, 493.0, 494.0, 495.0, 496.0, 497.0, 498.0, 499.0, 500.0, 501.0, 502.0, 503.0, 504.0, 505.0, 506.0, 507.0, 508.0, 509.0, 510.0, 511.0, 512.0, 513.0, 514.0, 515.0, 516.0, 517.0, 518.0, 519.0, 520.0, 521.0, 522.0, 523.0, 524.0, 525.0, 526.0, 527.0, 528.0, 529.0, 530.0, 531.0, 532.0, 533.0, 534.0, 535.0, 536.0, 537.0, 538.0, 539.0, 540.0, 541.0, 543.0, 544.0, 545.0, 546.0, 547.0, 548.0, 549.0, 550.0, 551.0, 552.0, 553.0, 554.0, 555.0, 556.0, 557.0, 558.0, 559.0, 560.0, 561.0, 562.0, 563.0, 564.0, 565.0, 566.0, 567.0, 568.0, 569.0, 570.0, 571.0, 572.0, 573.0, 574.0, 575.0, 576.0, 577.0, 578.0, 579.0, 580.0, 581.0, 582.0, 583.0, 584.0, 585.0, 586.0, 587.0, 588.0, 589.0, 590.0, 591.0, 592.0, 593.0, 594.0, 595.0, 596.0, 597.0, 598.0, 599.0, 600.0, 601.0, 602.0, 603.0, 604.0, 605.0, 606.0, 607.0, 608.0, 609.0, 610.0, 611.0, 612.0, 613.0, 614.0, 615.0, 616.0, 617.0, 618.0, 619.0, 620.0, 621.0, 622.0, 623.0, 624.0, 625.0, 626.0, 627.0, 628.0, 629.0, 630.0, 631.0, 632.0, 633.0, 634.0, 635.0, 637.0, 638.0, 639.0, 640.0, 641.0, 642.0, 643.0, 644.0, 645.0, 646.0, 647.0, 648.0, 649.0, 650.0, 651.0, 652.0, 653.0, 654.0, 655.0, 656.0, 657.0, 658.0, 659.0, 660.0, 661.0, 662.0, 663.0, 664.0, 665.0, 666.0, 667.0, 668.0, 669.0, 670.0, 671.0, 672.0, 673.0, 674.0, 675.0, 676.0, 677.0, 678.0, 679.0, 680.0, 681.0, 682.0, 683.0, 684.0, 685.0, 686.0, 687.0, 688.0, 689.0, 690.0, 691.0, 692.0, 693.0, 694.0, 695.0, 696.0, 697.0, 698.0, 699.0, 700.0, 701.0, 702.0, 703.0, 704.0, 705.0, 706.0, 707.0, 708.0, 709.0, 710.0, 711.0, 712.0, 713.0, 714.0, 715.0, 716.0, 718.0, 719.0, 720.0, 721.0, 722.0, 723.0, 724.0, 725.0, 726.0, 727.0, 728.0, 729.0, 730.0, 731.0, 732.0, 733.0, 734.0, 735.0, 736.0, 737.0, 738.0, 739.0, 740.0, 741.0, 742.0, 743.0, 744.0, 745.0, 746.0, 747.0, 748.0, 749.0, 750.0, 751.0, 752.0, 753.0, 754.0, 755.0, 756.0, 757.0, 758.0, 759.0, 760.0, 761.0, 762.0, 763.0, 764.0, 765.0, 766.0, 767.0, 768.0, 769.0, 770.0, 771.0, 772.0, 773.0, 774.0, 775.0, 776.0, 777.0, 778.0, 779.0, 780.0, 781.0, 782.0, 783.0, 784.0, 785.0, 786.0, 787.0, 788.0, 789.0, 790.0, 791.0, 792.0, 793.0, 795.0, 796.0, 797.0, 798.0, 799.0, 800.0, 801.0, 802.0, 804.0, 805.0, 806.0, 807.0, 808.0, 809.0, 810.0, 811.0, 812.0, 813.0, 814.0, 816.0, 817.0, 818.0, 819.0, 820.0, 821.0, 822.0, 823.0, 824.0, 825.0, 826.0, 827.0, 828.0, 829.0, 830.0, 831.0, 832.0, 833.0, 834.0, 835.0, 836.0, 837.0, 838.0, 839.0, 840.0, 841.0, 842.0, 843.0, 844.0, 846.0, 847.0, 848.0, 849.0, 850.0, 851.0, 852.0, 853.0, 854.0, 855.0, 856.0, 857.0, 858.0, 859.0, 860.0, 861.0, 862.0, 863.0, 864.0, 865.0, 866.0, 867.0, 869.0, 870.0, 871.0, 872.0, 873.0, 874.0, 875.0, 876.0, 877.0, 878.0, 879.0, 880.0, 881.0, 882.0, 883.0, 884.0, 885.0, 886.0, 887.0, 888.0, 889.0, 890.0, 891.0, 892.0, 893.0, 894.0, 895.0, 896.0, 897.0, 898.0, 899.0, 900.0, 901.0, 902.0, 903.0, 904.0, 905.0, 906.0, 907.0, 908.0, 909.0, 910.0, 911.0, 912.0, 913.0, 914.0, 915.0, 916.0, 917.0, 918.0, 919.0, 920.0, 921.0, 922.0, 923.0, 924.0, 925.0, 926.0, 927.0, 928.0, 929.0, 930.0, 931.0, 932.0, 933.0, 934.0, 935.0, 936.0, 938.0, 939.0, 940.0, 941.0, 943.0, 944.0, 945.0, 946.0, 947.0, 948.0, 949.0, 950.0, 951.0, 952.0, 953.0, 954.0, 955.0, 956.0, 957.0, 958.0, 959.0, 960.0, 961.0, 962.0, 963.0, 964.0, 965.0, 966.0, 967.0, 968.0, 969.0, 970.0, 971.0, 972.0, 973.0, 974.0, 976.0, 977.0, 978.0, 979.0, 980.0, 981.0, 982.0, 983.0, 984.0, 985.0, 986.0, 987.0, 988.0, 989.0, 990.0, 991.0, 992.0, 993.0, 995.0, 997.0, 998.0, 999.0, 1000.0, 1001.0, 1002.0, 1003.0, 1004.0, 1005.0, 1007.0, 1008.0, 1009.0, 1010.0, 1011.0, 1012.0, 1013.0, 1015.0, 1016.0, 1017.0, 1018.0, 1019.0, 1020.0, 1021.0, 1022.0, 1023.0, 1024.0, 1025.0, 1026.0, 1027.0, 1028.0, 1029.0, 1030.0, 1031.0, 1032.0, 1033.0, 1035.0, 1036.0, 1037.0, 1038.0, 1040.0, 1042.0, 1043.0, 1045.0, 1047.0, 1048.0, 1049.0, 1050.0, 1052.0, 1053.0, 1054.0, 1055.0, 1056.0, 1057.0, 1059.0, 1060.0, 1061.0, 1062.0, 1063.0, 1064.0, 1065.0, 1066.0, 1067.0, 1068.0, 1069.0, 1071.0, 1072.0, 1073.0, 1075.0, 1076.0, 1078.0, 1080.0, 1081.0, 1082.0, 1083.0, 1084.0, 1085.0, 1089.0, 1090.0, 1091.0, 1092.0, 1093.0, 1094.0, 1095.0, 1096.0, 1097.0, 1099.0, 1100.0, 1101.0, 1102.0, 1103.0, 1104.0, 1105.0, 1106.0, 1107.0, 1108.0, 1109.0, 1110.0, 1112.0, 1113.0, 1115.0, 1117.0, 1118.0, 1119.0, 1120.0, 1121.0, 1122.0, 1123.0, 1124.0, 1125.0, 1126.0, 1127.0, 1128.0, 1129.0, 1131.0, 1132.0, 1133.0, 1134.0, 1135.0, 1137.0, 1138.0, 1139.0, 1140.0, 1144.0, 1145.0, 1146.0, 1147.0, 1148.0, 1149.0, 1150.0, 1151.0, 1152.0, 1153.0, 1154.0, 1155.0, 1156.0, 1158.0, 1159.0, 1161.0, 1162.0, 1163.0, 1165.0, 1166.0, 1167.0, 1168.0, 1169.0, 1171.0, 1173.0, 1176.0, 1177.0, 1179.0, 1181.0, 1182.0, 1183.0, 1184.0, 1188.0, 1189.0, 1190.0, 1191.0, 1193.0, 1195.0, 1196.0, 1197.0, 1198.0, 1201.0, 1202.0, 1203.0, 1204.0, 1205.0, 1206.0, 1207.0, 1208.0, 1209.0, 1210.0, 1211.0, 1212.0, 1217.0, 1218.0, 1220.0, 1221.0, 1222.0, 1223.0, 1225.0, 1227.0, 1228.0, 1230.0, 1231.0, 1233.0, 1234.0, 1235.0, 1236.0, 1238.0, 1240.0, 1241.0, 1243.0, 1244.0, 1245.0, 1246.0, 1247.0, 1248.0, 1249.0, 1250.0, 1253.0, 1254.0, 1255.0, 1256.0, 1257.0, 1258.0, 1259.0, 1260.0, 1262.0, 1263.0, 1264.0, 1265.0, 1266.0, 1267.0, 1269.0, 1270.0, 1271.0, 1272.0, 1273.0, 1275.0, 1278.0, 1279.0, 1280.0, 1282.0, 1284.0, 1286.0, 1288.0, 1289.0, 1290.0, 1291.0, 1292.0, 1293.0, 1294.0, 1295.0, 1301.0, 1302.0, 1304.0, 1306.0, 1308.0, 1309.0, 1310.0, 1311.0, 1312.0, 1313.0, 1314.0, 1315.0, 1317.0, 1318.0, 1319.0, 1320.0, 1321.0, 1322.0, 1323.0, 1324.0, 1325.0, 1326.0, 1327.0, 1328.0, 1329.0, 1330.0, 1331.0, 1335.0, 1336.0, 1337.0, 1338.0, 1340.0, 1341.0, 1343.0, 1344.0, 1345.0, 1346.0, 1347.0, 1348.0, 1349.0, 1350.0, 1351.0, 1352.0, 1353.0, 1354.0, 1355.0, 1356.0, 1357.0, 1358.0, 1359.0, 1360.0, 1361.0, 1362.0, 1363.0, 1365.0, 1369.0, 1372.0, 1373.0, 1377.0, 1382.0, 1384.0, 1385.0, 1386.0, 1391.0, 1392.0, 1393.0, 1394.0, 1396.0, 1397.0, 1400.0, 1401.0, 1402.0, 1403.0, 1405.0, 1409.0, 1410.0, 1411.0, 1413.0, 1414.0, 1416.0, 1417.0, 1418.0, 1420.0, 1422.0, 1423.0, 1426.0, 1429.0, 1430.0, 1431.0, 1432.0, 1433.0, 1435.0, 1436.0, 1437.0, 1438.0, 1439.0, 1441.0, 1442.0, 1443.0, 1444.0, 1445.0, 1446.0, 1448.0, 1449.0, 1452.0, 1453.0, 1454.0, 1457.0, 1458.0, 1459.0, 1460.0, 1461.0, 1462.0, 1463.0, 1465.0, 1466.0, 1468.0, 1469.0, 1470.0, 1471.0, 1472.0, 1473.0, 1475.0, 1477.0, 1478.0, 1480.0, 1481.0, 1484.0, 1485.0, 1487.0, 1489.0, 1491.0, 1493.0, 1495.0, 1496.0, 1498.0, 1500.0, 1501.0, 1503.0, 1505.0, 1506.0, 1507.0, 1508.0, 1509.0, 1510.0, 1513.0, 1516.0, 1517.0, 1518.0, 1521.0, 1524.0, 1527.0, 1530.0, 1531.0, 1535.0, 1536.0, 1537.0, 1540.0, 1541.0, 1542.0, 1543.0, 1545.0, 1546.0, 1547.0, 1548.0, 1550.0, 1551.0, 1553.0, 1555.0, 1559.0, 1560.0, 1563.0, 1564.0, 1566.0, 1568.0, 1571.0, 1575.0, 1578.0, 1584.0, 1586.0, 1588.0, 1589.0, 1590.0, 1592.0, 1593.0, 1594.0, 1597.0, 1598.0, 1601.0, 1602.0, 1603.0, 1604.0, 1605.0, 1607.0, 1611.0, 1613.0, 1614.0, 1615.0, 1616.0, 1618.0, 1619.0, 1620.0, 1621.0, 1627.0, 1631.0, 1632.0, 1633.0, 1634.0, 1635.0, 1636.0, 1637.0, 1639.0, 1640.0, 1641.0, 1642.0, 1644.0, 1645.0, 1646.0, 1649.0, 1651.0, 1652.0, 1653.0, 1654.0, 1655.0, 1658.0, 1659.0, 1660.0, 1662.0, 1664.0, 1665.0, 1671.0, 1676.0, 1677.0, 1680.0, 1681.0, 1682.0, 1683.0, 1685.0, 1686.0, 1688.0, 1690.0, 1691.0, 1692.0, 1693.0, 1697.0, 1698.0, 1701.0, 1703.0, 1704.0, 1706.0, 1707.0, 1709.0, 1711.0, 1712.0, 1715.0, 1722.0, 1724.0, 1727.0, 1728.0, 1729.0, 1735.0, 1736.0, 1738.0, 1739.0, 1740.0, 1741.0, 1742.0, 1746.0, 1750.0, 1753.0, 1754.0, 1758.0, 1761.0, 1765.0, 1766.0, 1770.0, 1775.0, 1779.0, 1783.0, 1784.0, 1789.0, 1790.0, 1791.0, 1795.0, 1796.0, 1798.0, 1799.0, 1801.0, 1803.0, 1804.0, 1805.0, 1808.0, 1809.0, 1810.0, 1813.0, 1814.0, 1815.0, 1816.0, 1818.0, 1822.0, 1823.0, 1825.0, 1832.0, 1839.0, 1842.0, 1844.0, 1846.0, 1849.0, 1851.0, 1854.0, 1856.0, 1858.0, 1859.0, 1860.0, 1861.0, 1862.0, 1864.0, 1865.0, 1871.0, 1873.0, 1875.0, 1878.0, 1879.0, 1880.0, 1882.0, 1883.0, 1886.0, 1889.0, 1890.0, 1892.0, 1896.0, 1901.0, 1902.0, 1903.0, 1907.0, 1910.0, 1918.0, 1924.0, 1929.0, 1930.0, 1933.0, 1938.0, 1940.0, 1941.0, 1942.0, 1943.0, 1944.0, 1945.0, 1946.0, 1949.0, 1954.0, 1955.0, 1956.0, 1957.0, 1958.0, 1959.0, 1960.0, 1965.0, 1975.0, 1980.0, 1982.0, 1987.0, 1993.0, 1995.0, 1996.0, 1997.0, 2001.0, 2002.0, 2005.0, 2006.0, 2008.0, 2009.0, 2015.0, 2016.0, 2020.0, 2022.0, 2026.0, 2031.0, 2032.0, 2033.0, 2037.0, 2040.0, 2048.0, 2049.0, 2050.0, 2051.0, 2054.0, 2055.0, 2060.0, 2061.0, 2066.0, 2073.0, 2074.0, 2079.0, 2082.0, 2087.0, 2090.0, 2094.0, 2103.0, 2106.0, 2107.0, 2109.0, 2115.0, 2119.0, 2125.0, 2128.0, 2129.0, 2131.0, 2135.0, 2139.0, 2141.0, 2144.0, 2153.0, 2155.0, 2156.0, 2163.0, 2165.0, 2167.0, 2171.0, 2178.0, 2179.0, 2186.0, 2187.0, 2188.0, 2189.0, 2193.0, 2207.0, 2209.0, 2212.0, 2213.0, 2218.0, 2219.0, 2224.0, 2226.0, 2228.0, 2230.0, 2232.0, 2240.0, 2241.0, 2250.0, 2251.0, 2256.0, 2258.0, 2260.0, 2267.0, 2268.0, 2269.0, 2273.0, 2275.0, 2276.0, 2279.0, 2290.0, 2293.0, 2301.0, 2302.0, 2306.0, 2307.0, 2322.0, 2323.0, 2327.0, 2331.0, 2340.0, 2350.0, 2359.0, 2366.0, 2372.0, 2373.0, 2375.0, 2379.0, 2387.0, 2390.0, 2401.0, 2404.0, 2408.0, 2409.0, 2412.0, 2415.0, 2416.0, 2424.0, 2425.0, 2432.0, 2436.0, 2449.0, 2461.0, 2473.0, 2475.0, 2480.0, 2493.0, 2504.0, 2508.0, 2512.0, 2529.0, 2532.0, 2547.0, 2553.0, 2566.0, 2574.0, 2597.0, 2599.0, 2612.0, 2633.0, 2643.0, 2645.0, 2649.0, 2651.0, 2660.0, 2665.0, 2666.0, 2667.0, 2668.0, 2684.0, 2688.0, 2697.0, 2698.0, 2709.0, 2716.0, 2725.0, 2751.0, 2752.0, 2757.0, 2764.0, 2769.0, 2777.0, 2779.0, 2780.0, 2784.0, 2790.0, 2838.0, 2840.0, 2853.0, 2862.0, 2864.0, 2882.0, 2886.0, 2890.0, 2897.0, 2907.0, 2930.0, 2936.0, 2941.0, 2948.0, 2958.0, 2973.0, 2981.0, 2994.0, 3025.0, 3042.0, 3071.0, 3078.0, 3117.0, 3118.0, 3125.0, 3126.0, 3134.0, 3141.0, 3142.0, 3149.0, 3155.0, 3158.0, 3164.0, 3168.0, 3176.0, 3179.0, 3182.0, 3185.0, 3195.0, 3222.0, 3230.0, 3246.0, 3253.0, 3257.0, 3258.0, 3268.0, 3276.0, 3277.0, 3283.0, 3285.0, 3313.0, 3324.0, 3335.0, 3350.0, 3372.0, 3383.0, 3388.0, 3390.0, 3410.0, 3421.0, 3422.0, 3426.0, 3473.0, 3481.0, 3493.0, 3498.0, 3523.0, 3543.0, 3550.0, 3575.0, 3581.0, 3583.0, 3594.0, 3597.0, 3606.0, 3616.0, 3634.0, 3650.0, 3652.0, 3677.0, 3692.0, 3693.0, 3758.0, 3778.0, 3782.0, 3791.0, 3799.0, 3835.0, 3840.0, 3870.0, 3875.0, 3877.0, 3905.0, 3907.0, 3984.0, 4049.0, 4123.0, 4150.0, 4221.0, 4233.0, 4240.0, 4248.0, 4280.0, 4281.0, 4329.0, 4430.0, 4478.0, 4491.0, 4509.0, 4515.0, 4516.0, 4554.0, 4572.0, 4610.0, 4689.0, 4706.0, 4741.0, 4751.0, 4847.0, 4874.0, 4899.0, 5335.0, 5337.0, 5387.0, 5432.0, 5542.0, 5667.0, 5686.0, 5692.0, 5781.0, 5863.0, 5889.0, 5909.0, 6058.0, 6078.0, 6085.0, 6175.0, 6286.0, 6378.0, 6429.0, 6486.0, 6603.0, 6760.0, 6784.0, 6789.0, 6827.0, 6939.0, 7158.0, 7341.0, 7405.0, 7487.0, 7578.0, 7653.0, 7872.0, 8235.0, 8396.0, 8598.0, 8870.0, 8885.0, 8996.0, 9368.0, 9579.0, 9595.0, 9597.0, 9650.0, 9678.0, 9893.0, 10293.0, 10330.0, 10419.0, 10744.0, 11158.0, 12689.0, 14360.0, 14657.0, 15669.0, 16274.0, 16967.0, 17201.0, 21307.0, 34335.0, 35483.0, 43961.0, 57368.0, 233732.0, 1139070.0]\n"
          ]
        }
      ]
    },
    {
      "cell_type": "code",
      "source": [
        "sns.boxplot(mobike['tripduration'])"
      ],
      "metadata": {
        "colab": {
          "base_uri": "https://localhost:8080/",
          "height": 353
        },
        "id": "_W_yveTPbuVX",
        "outputId": "a81fdea1-f03b-44b0-e47b-57f8132cb7e1"
      },
      "execution_count": null,
      "outputs": [
        {
          "output_type": "stream",
          "name": "stderr",
          "text": [
            "/usr/local/lib/python3.7/dist-packages/seaborn/_decorators.py:43: FutureWarning: Pass the following variable as a keyword arg: x. From version 0.12, the only valid positional argument will be `data`, and passing other arguments without an explicit keyword will result in an error or misinterpretation.\n",
            "  FutureWarning\n"
          ]
        },
        {
          "output_type": "execute_result",
          "data": {
            "text/plain": [
              "<matplotlib.axes._subplots.AxesSubplot at 0x7f88217bd950>"
            ]
          },
          "metadata": {},
          "execution_count": 319
        },
        {
          "output_type": "display_data",
          "data": {
            "text/plain": [
              "<Figure size 432x288 with 1 Axes>"
            ],
            "image/png": "[encoded data removed]"
          },
          "metadata": {
            "needs_background": "light"
          }
        }
      ]
    },
    {
      "cell_type": "code",
      "source": [
        "mobike=mobike[mobike['tripduration']<=2000]\n",
        "sns.boxplot(mobike['tripduration'])"
      ],
      "metadata": {
        "colab": {
          "base_uri": "https://localhost:8080/",
          "height": 353
        },
        "id": "-5I4ynG2fvim",
        "outputId": "be641b04-4208-4601-ad49-b48709967829"
      },
      "execution_count": null,
      "outputs": [
        {
          "output_type": "stream",
          "name": "stderr",
          "text": [
            "/usr/local/lib/python3.7/dist-packages/seaborn/_decorators.py:43: FutureWarning: Pass the following variable as a keyword arg: x. From version 0.12, the only valid positional argument will be `data`, and passing other arguments without an explicit keyword will result in an error or misinterpretation.\n",
            "  FutureWarning\n"
          ]
        },
        {
          "output_type": "execute_result",
          "data": {
            "text/plain": [
              "<matplotlib.axes._subplots.AxesSubplot at 0x7f88217a0ed0>"
            ]
          },
          "metadata": {},
          "execution_count": 320
        },
        {
          "output_type": "display_data",
          "data": {
            "text/plain": [
              "<Figure size 432x288 with 1 Axes>"
            ],
            "image/png": "[encoded data removed]"
          },
          "metadata": {
            "needs_background": "light"
          }
        }
      ]
    },
    {
      "cell_type": "markdown",
      "source": [
        "结论5： 用户骑行距离大多在一公里以内\n",
        "\n",
        "## 2.6 用户类别"
      ],
      "metadata": {
        "id": "yWLDPiQmf8Sj"
      }
    },
    {
      "cell_type": "code",
      "source": [
        "sns.countplot(x='usertype',data=mobike,order=mobike['usertype'].value_counts().index)"
      ],
      "metadata": {
        "colab": {
          "base_uri": "https://localhost:8080/",
          "height": 297
        },
        "id": "3FdP5QHCggcI",
        "outputId": "0b860bfb-f267-4366-a46a-1fc745301ed1"
      },
      "execution_count": null,
      "outputs": [
        {
          "output_type": "execute_result",
          "data": {
            "text/plain": [
              "<matplotlib.axes._subplots.AxesSubplot at 0x7f8821b1ead0>"
            ]
          },
          "metadata": {},
          "execution_count": 321
        },
        {
          "output_type": "display_data",
          "data": {
            "text/plain": [
              "<Figure size 432x288 with 1 Axes>"
            ],
            "image/png": "[encoded data removed]"
          },
          "metadata": {
            "needs_background": "light"
          }
        }
      ]
    },
    {
      "cell_type": "code",
      "source": [
        "mobike['usertype'].value_counts(1)"
      ],
      "metadata": {
        "colab": {
          "base_uri": "https://localhost:8080/"
        },
        "id": "J5bTlGV_gn7W",
        "outputId": "c23c1aee-7a64-4c78-a0d9-7f8fb64e161e"
      },
      "execution_count": null,
      "outputs": [
        {
          "output_type": "execute_result",
          "data": {
            "text/plain": [
              "Subscriber    0.92403\n",
              "Customer      0.07597\n",
              "Name: usertype, dtype: float64"
            ]
          },
          "metadata": {},
          "execution_count": 322
        }
      ]
    },
    {
      "cell_type": "markdown",
      "source": [
        "结论6：用户类型89%都是订阅用户，说明此品牌的单车用户粘性是很高的。"
      ],
      "metadata": {
        "id": "o8fr8T5kgthi"
      }
    },
    {
      "cell_type": "markdown",
      "source": [
        "# 3. 模型建立\n",
        "\n",
        "剔除无用变量'start_time', 'end_time'与'timeduration'重复，'user_id','bikeid','from_station_id'无用，'from_station_name'，'to_station_name'与'tripduration'重复，'to_station_id'无用"
      ],
      "metadata": {
        "id": "R_Mppe1Hg88_"
      }
    },
    {
      "cell_type": "code",
      "source": [
        "mobike.head()"
      ],
      "metadata": {
        "colab": {
          "base_uri": "https://localhost:8080/",
          "height": 444
        },
        "id": "pkpEmba8khzU",
        "outputId": "1f960ca3-ab3a-4154-e3db-9f9965b93323"
      },
      "execution_count": null,
      "outputs": [
        {
          "output_type": "execute_result",
          "data": {
            "text/plain": [
              "    user_id          start_time            end_time  timeduration  bikeid  \\\n",
              "0  21499218 2018-11-14 07:37:00 2018-11-14 07:44:00             7    2631   \n",
              "1  21694389 2018-12-18 19:02:00 2018-12-18 19:10:00             7    1565   \n",
              "2  21110722 2018-10-09 12:37:00 2018-10-09 12:55:00            18    2231   \n",
              "3  21485409 2018-11-12 12:30:00 2018-11-12 12:40:00             9    4226   \n",
              "4  21445994 2018-11-07 07:29:00 2018-11-07 07:35:00             6    3475   \n",
              "\n",
              "   tripduration from_station_id              from_station_name to_station_id  \\\n",
              "0         436.0             319  Greenview Ave & Diversey Pkwy            67   \n",
              "1         445.0             164          Franklin St & Lake St           195   \n",
              "2        1090.0             163       Damen Ave & Clybourn Ave            69   \n",
              "3         581.0             226       Racine Ave & Belmont Ave           308   \n",
              "4         390.0              77        Clinton St & Madison St           621   \n",
              "\n",
              "                 to_station_name    usertype  gender  age age_group  \\\n",
              "0  Sheffield Ave & Fullerton Ave  Subscriber    Male   37  (30, 40]   \n",
              "1      Columbus Dr & Randolph St  Subscriber    Male   31  (30, 40]   \n",
              "2         Damen Ave & Pierce Ave    Customer    Male   30  (20, 30]   \n",
              "3         Seeley Ave & Roscoe St  Subscriber  Female   30  (20, 30]   \n",
              "4      Aberdeen St & Randolph St  Subscriber    Male   40  (30, 40]   \n",
              "\n",
              "    weekname  hour  month timeduration_group  \n",
              "0  Wednesday     7     11                NaN  \n",
              "1    Tuesday    19     12                NaN  \n",
              "2    Tuesday    12     10       (16.0, 20.0]  \n",
              "3     Monday    12     11                NaN  \n",
              "4  Wednesday     7     11                NaN  "
            ],
            "text/html": [
              "\n",
              "  <div id=\"df-d0e9cf19-9afd-4c18-a8ea-3e6de53f65f7\">\n",
              "    <div class=\"colab-df-container\">\n",
              "      <div>\n",
              "<style scoped>\n",
              "    .dataframe tbody tr th:only-of-type {\n",
              "        vertical-align: middle;\n",
              "    }\n",
              "\n",
              "    .dataframe tbody tr th {\n",
              "        vertical-align: top;\n",
              "    }\n",
              "\n",
              "    .dataframe thead th {\n",
              "        text-align: right;\n",
              "    }\n",
              "</style>\n",
              "<table border=\"1\" class=\"dataframe\">\n",
              "  <thead>\n",
              "    <tr style=\"text-align: right;\">\n",
              "      <th></th>\n",
              "      <th>user_id</th>\n",
              "      <th>start_time</th>\n",
              "      <th>end_time</th>\n",
              "      <th>timeduration</th>\n",
              "      <th>bikeid</th>\n",
              "      <th>tripduration</th>\n",
              "      <th>from_station_id</th>\n",
              "      <th>from_station_name</th>\n",
              "      <th>to_station_id</th>\n",
              "      <th>to_station_name</th>\n",
              "      <th>usertype</th>\n",
              "      <th>gender</th>\n",
              "      <th>age</th>\n",
              "      <th>age_group</th>\n",
              "      <th>weekname</th>\n",
              "      <th>hour</th>\n",
              "      <th>month</th>\n",
              "      <th>timeduration_group</th>\n",
              "    </tr>\n",
              "  </thead>\n",
              "  <tbody>\n",
              "    <tr>\n",
              "      <th>0</th>\n",
              "      <td>21499218</td>\n",
              "      <td>2018-11-14 07:37:00</td>\n",
              "      <td>2018-11-14 07:44:00</td>\n",
              "      <td>7</td>\n",
              "      <td>2631</td>\n",
              "      <td>436.0</td>\n",
              "      <td>319</td>\n",
              "      <td>Greenview Ave &amp; Diversey Pkwy</td>\n",
              "      <td>67</td>\n",
              "      <td>Sheffield Ave &amp; Fullerton Ave</td>\n",
              "      <td>Subscriber</td>\n",
              "      <td>Male</td>\n",
              "      <td>37</td>\n",
              "      <td>(30, 40]</td>\n",
              "      <td>Wednesday</td>\n",
              "      <td>7</td>\n",
              "      <td>11</td>\n",
              "      <td>NaN</td>\n",
              "    </tr>\n",
              "    <tr>\n",
              "      <th>1</th>\n",
              "      <td>21694389</td>\n",
              "      <td>2018-12-18 19:02:00</td>\n",
              "      <td>2018-12-18 19:10:00</td>\n",
              "      <td>7</td>\n",
              "      <td>1565</td>\n",
              "      <td>445.0</td>\n",
              "      <td>164</td>\n",
              "      <td>Franklin St &amp; Lake St</td>\n",
              "      <td>195</td>\n",
              "      <td>Columbus Dr &amp; Randolph St</td>\n",
              "      <td>Subscriber</td>\n",
              "      <td>Male</td>\n",
              "      <td>31</td>\n",
              "      <td>(30, 40]</td>\n",
              "      <td>Tuesday</td>\n",
              "      <td>19</td>\n",
              "      <td>12</td>\n",
              "      <td>NaN</td>\n",
              "    </tr>\n",
              "    <tr>\n",
              "      <th>2</th>\n",
              "      <td>21110722</td>\n",
              "      <td>2018-10-09 12:37:00</td>\n",
              "      <td>2018-10-09 12:55:00</td>\n",
              "      <td>18</td>\n",
              "      <td>2231</td>\n",
              "      <td>1090.0</td>\n",
              "      <td>163</td>\n",
              "      <td>Damen Ave &amp; Clybourn Ave</td>\n",
              "      <td>69</td>\n",
              "      <td>Damen Ave &amp; Pierce Ave</td>\n",
              "      <td>Customer</td>\n",
              "      <td>Male</td>\n",
              "      <td>30</td>\n",
              "      <td>(20, 30]</td>\n",
              "      <td>Tuesday</td>\n",
              "      <td>12</td>\n",
              "      <td>10</td>\n",
              "      <td>(16.0, 20.0]</td>\n",
              "    </tr>\n",
              "    <tr>\n",
              "      <th>3</th>\n",
              "      <td>21485409</td>\n",
              "      <td>2018-11-12 12:30:00</td>\n",
              "      <td>2018-11-12 12:40:00</td>\n",
              "      <td>9</td>\n",
              "      <td>4226</td>\n",
              "      <td>581.0</td>\n",
              "      <td>226</td>\n",
              "      <td>Racine Ave &amp; Belmont Ave</td>\n",
              "      <td>308</td>\n",
              "      <td>Seeley Ave &amp; Roscoe St</td>\n",
              "      <td>Subscriber</td>\n",
              "      <td>Female</td>\n",
              "      <td>30</td>\n",
              "      <td>(20, 30]</td>\n",
              "      <td>Monday</td>\n",
              "      <td>12</td>\n",
              "      <td>11</td>\n",
              "      <td>NaN</td>\n",
              "    </tr>\n",
              "    <tr>\n",
              "      <th>4</th>\n",
              "      <td>21445994</td>\n",
              "      <td>2018-11-07 07:29:00</td>\n",
              "      <td>2018-11-07 07:35:00</td>\n",
              "      <td>6</td>\n",
              "      <td>3475</td>\n",
              "      <td>390.0</td>\n",
              "      <td>77</td>\n",
              "      <td>Clinton St &amp; Madison St</td>\n",
              "      <td>621</td>\n",
              "      <td>Aberdeen St &amp; Randolph St</td>\n",
              "      <td>Subscriber</td>\n",
              "      <td>Male</td>\n",
              "      <td>40</td>\n",
              "      <td>(30, 40]</td>\n",
              "      <td>Wednesday</td>\n",
              "      <td>7</td>\n",
              "      <td>11</td>\n",
              "      <td>NaN</td>\n",
              "    </tr>\n",
              "  </tbody>\n",
              "</table>\n",
              "</div>\n",
              "      <button class=\"colab-df-convert\" onclick=\"convertToInteractive('df-d0e9cf19-9afd-4c18-a8ea-3e6de53f65f7')\"\n",
              "              title=\"Convert this dataframe to an interactive table.\"\n",
              "              style=\"display:none;\">\n",
              "        \n",
              "  <svg xmlns=\"http://www.w3.org/2000/svg\" height=\"24px\"viewBox=\"0 0 24 24\"\n",
              "       width=\"24px\">\n",
              "    <path d=\"M0 0h24v24H0V0z\" fill=\"none\"/>\n",
              "    <path d=\"M18.56 5.44l.94 2.06.94-2.06 2.06-.94-2.06-.94-.94-2.06-.94 2.06-2.06.94zm-11 1L8.5 8.5l.94-2.06 2.06-.94-2.06-.94L8.5 2.5l-.94 2.06-2.06.94zm10 10l.94 2.06.94-2.06 2.06-.94-2.06-.94-.94-2.06-.94 2.06-2.06.94z\"/><path d=\"M17.41 7.96l-1.37-1.37c-.4-.4-.92-.59-1.43-.59-.52 0-1.04.2-1.43.59L10.3 9.45l-7.72 7.72c-.78.78-.78 2.05 0 2.83L4 21.41c.39.39.9.59 1.41.59.51 0 1.02-.2 1.41-.59l7.78-7.78 2.81-2.81c.8-.78.8-2.07 0-2.86zM5.41 20L4 18.59l7.72-7.72 1.47 1.35L5.41 20z\"/>\n",
              "  </svg>\n",
              "      </button>\n",
              "      \n",
              "  <style>\n",
              "    .colab-df-container {\n",
              "      display:flex;\n",
              "      flex-wrap:wrap;\n",
              "      gap: 12px;\n",
              "    }\n",
              "\n",
              "    .colab-df-convert {\n",
              "      background-color: #E8F0FE;\n",
              "      border: none;\n",
              "      border-radius: 50%;\n",
              "      cursor: pointer;\n",
              "      display: none;\n",
              "      fill: #1967D2;\n",
              "      height: 32px;\n",
              "      padding: 0 0 0 0;\n",
              "      width: 32px;\n",
              "    }\n",
              "\n",
              "    .colab-df-convert:hover {\n",
              "      background-color: #E2EBFA;\n",
              "      box-shadow: 0px 1px 2px rgba(60, 64, 67, 0.3), 0px 1px 3px 1px rgba(60, 64, 67, 0.15);\n",
              "      fill: #174EA6;\n",
              "    }\n",
              "\n",
              "    [theme=dark] .colab-df-convert {\n",
              "      background-color: #3B4455;\n",
              "      fill: #D2E3FC;\n",
              "    }\n",
              "\n",
              "    [theme=dark] .colab-df-convert:hover {\n",
              "      background-color: #434B5C;\n",
              "      box-shadow: 0px 1px 3px 1px rgba(0, 0, 0, 0.15);\n",
              "      filter: drop-shadow(0px 1px 2px rgba(0, 0, 0, 0.3));\n",
              "      fill: #FFFFFF;\n",
              "    }\n",
              "  </style>\n",
              "\n",
              "      <script>\n",
              "        const buttonEl =\n",
              "          document.querySelector('#df-d0e9cf19-9afd-4c18-a8ea-3e6de53f65f7 button.colab-df-convert');\n",
              "        buttonEl.style.display =\n",
              "          google.colab.kernel.accessAllowed ? 'block' : 'none';\n",
              "\n",
              "        async function convertToInteractive(key) {\n",
              "          const element = document.querySelector('#df-d0e9cf19-9afd-4c18-a8ea-3e6de53f65f7');\n",
              "          const dataTable =\n",
              "            await google.colab.kernel.invokeFunction('convertToInteractive',\n",
              "                                                     [key], {});\n",
              "          if (!dataTable) return;\n",
              "\n",
              "          const docLinkHtml = 'Like what you see? Visit the ' +\n",
              "            '<a target=\"_blank\" href=https://colab.research.google.com/notebooks/data_table.ipynb>data table notebook</a>'\n",
              "            + ' to learn more about interactive tables.';\n",
              "          element.innerHTML = '';\n",
              "          dataTable['output_type'] = 'display_data';\n",
              "          await google.colab.output.renderOutput(dataTable, element);\n",
              "          const docLink = document.createElement('div');\n",
              "          docLink.innerHTML = docLinkHtml;\n",
              "          element.appendChild(docLink);\n",
              "        }\n",
              "      </script>\n",
              "    </div>\n",
              "  </div>\n",
              "  "
            ]
          },
          "metadata": {},
          "execution_count": 323
        }
      ]
    },
    {
      "cell_type": "code",
      "source": [
        "mobike.columns"
      ],
      "metadata": {
        "colab": {
          "base_uri": "https://localhost:8080/"
        },
        "id": "dV_BxAH6knDG",
        "outputId": "807c1df1-ba2a-4120-a31f-f80841b44b69"
      },
      "execution_count": null,
      "outputs": [
        {
          "output_type": "execute_result",
          "data": {
            "text/plain": [
              "Index(['user_id', 'start_time', 'end_time', 'timeduration', 'bikeid',\n",
              "       'tripduration', 'from_station_id', 'from_station_name', 'to_station_id',\n",
              "       'to_station_name', 'usertype', 'gender', 'age', 'age_group', 'weekname',\n",
              "       'hour', 'month', 'timeduration_group'],\n",
              "      dtype='object')"
            ]
          },
          "metadata": {},
          "execution_count": 324
        }
      ]
    },
    {
      "cell_type": "code",
      "source": [
        "mobike.drop(['user_id', 'start_time', 'end_time', 'bikeid', 'from_station_id', 'from_station_name', 'to_station_id',\n",
        "       'to_station_name','age_group','timeduration_group','hour', 'month' ],axis=1,inplace=True)\n",
        "mobike=pd.get_dummies(mobike)"
      ],
      "metadata": {
        "id": "SORcIXYvg8MT"
      },
      "execution_count": null,
      "outputs": []
    },
    {
      "cell_type": "code",
      "source": [
        "mobike.corr()[['tripduration']].sort_values('tripduration',ascending=False)"
      ],
      "metadata": {
        "colab": {
          "base_uri": "https://localhost:8080/",
          "height": 519
        },
        "id": "8zxnxcj4ifaB",
        "outputId": "fff78eec-44b1-4065-9471-865ccaba93ae"
      },
      "execution_count": null,
      "outputs": [
        {
          "output_type": "execute_result",
          "data": {
            "text/plain": [
              "                     tripduration\n",
              "tripduration             1.000000\n",
              "timeduration             0.999074\n",
              "usertype_Customer        0.271146\n",
              "gender_unknown           0.245876\n",
              "weekname_Sunday          0.055389\n",
              "weekname_Saturday        0.042369\n",
              "age                      0.026194\n",
              "gender_Female            0.021640\n",
              "weekname_Tuesday         0.011452\n",
              "weekname_Monday          0.002532\n",
              "weekname_Friday         -0.015779\n",
              "weekname_Wednesday      -0.030850\n",
              "weekname_Thursday       -0.040300\n",
              "gender_Male             -0.146757\n",
              "usertype_Subscriber     -0.271146"
            ],
            "text/html": [
              "\n",
              "  <div id=\"df-f7108150-a5f2-4ac9-a4ea-f340cffc8b39\">\n",
              "    <div class=\"colab-df-container\">\n",
              "      <div>\n",
              "<style scoped>\n",
              "    .dataframe tbody tr th:only-of-type {\n",
              "        vertical-align: middle;\n",
              "    }\n",
              "\n",
              "    .dataframe tbody tr th {\n",
              "        vertical-align: top;\n",
              "    }\n",
              "\n",
              "    .dataframe thead th {\n",
              "        text-align: right;\n",
              "    }\n",
              "</style>\n",
              "<table border=\"1\" class=\"dataframe\">\n",
              "  <thead>\n",
              "    <tr style=\"text-align: right;\">\n",
              "      <th></th>\n",
              "      <th>tripduration</th>\n",
              "    </tr>\n",
              "  </thead>\n",
              "  <tbody>\n",
              "    <tr>\n",
              "      <th>tripduration</th>\n",
              "      <td>1.000000</td>\n",
              "    </tr>\n",
              "    <tr>\n",
              "      <th>timeduration</th>\n",
              "      <td>0.999074</td>\n",
              "    </tr>\n",
              "    <tr>\n",
              "      <th>usertype_Customer</th>\n",
              "      <td>0.271146</td>\n",
              "    </tr>\n",
              "    <tr>\n",
              "      <th>gender_unknown</th>\n",
              "      <td>0.245876</td>\n",
              "    </tr>\n",
              "    <tr>\n",
              "      <th>weekname_Sunday</th>\n",
              "      <td>0.055389</td>\n",
              "    </tr>\n",
              "    <tr>\n",
              "      <th>weekname_Saturday</th>\n",
              "      <td>0.042369</td>\n",
              "    </tr>\n",
              "    <tr>\n",
              "      <th>age</th>\n",
              "      <td>0.026194</td>\n",
              "    </tr>\n",
              "    <tr>\n",
              "      <th>gender_Female</th>\n",
              "      <td>0.021640</td>\n",
              "    </tr>\n",
              "    <tr>\n",
              "      <th>weekname_Tuesday</th>\n",
              "      <td>0.011452</td>\n",
              "    </tr>\n",
              "    <tr>\n",
              "      <th>weekname_Monday</th>\n",
              "      <td>0.002532</td>\n",
              "    </tr>\n",
              "    <tr>\n",
              "      <th>weekname_Friday</th>\n",
              "      <td>-0.015779</td>\n",
              "    </tr>\n",
              "    <tr>\n",
              "      <th>weekname_Wednesday</th>\n",
              "      <td>-0.030850</td>\n",
              "    </tr>\n",
              "    <tr>\n",
              "      <th>weekname_Thursday</th>\n",
              "      <td>-0.040300</td>\n",
              "    </tr>\n",
              "    <tr>\n",
              "      <th>gender_Male</th>\n",
              "      <td>-0.146757</td>\n",
              "    </tr>\n",
              "    <tr>\n",
              "      <th>usertype_Subscriber</th>\n",
              "      <td>-0.271146</td>\n",
              "    </tr>\n",
              "  </tbody>\n",
              "</table>\n",
              "</div>\n",
              "      <button class=\"colab-df-convert\" onclick=\"convertToInteractive('df-f7108150-a5f2-4ac9-a4ea-f340cffc8b39')\"\n",
              "              title=\"Convert this dataframe to an interactive table.\"\n",
              "              style=\"display:none;\">\n",
              "        \n",
              "  <svg xmlns=\"http://www.w3.org/2000/svg\" height=\"24px\"viewBox=\"0 0 24 24\"\n",
              "       width=\"24px\">\n",
              "    <path d=\"M0 0h24v24H0V0z\" fill=\"none\"/>\n",
              "    <path d=\"M18.56 5.44l.94 2.06.94-2.06 2.06-.94-2.06-.94-.94-2.06-.94 2.06-2.06.94zm-11 1L8.5 8.5l.94-2.06 2.06-.94-2.06-.94L8.5 2.5l-.94 2.06-2.06.94zm10 10l.94 2.06.94-2.06 2.06-.94-2.06-.94-.94-2.06-.94 2.06-2.06.94z\"/><path d=\"M17.41 7.96l-1.37-1.37c-.4-.4-.92-.59-1.43-.59-.52 0-1.04.2-1.43.59L10.3 9.45l-7.72 7.72c-.78.78-.78 2.05 0 2.83L4 21.41c.39.39.9.59 1.41.59.51 0 1.02-.2 1.41-.59l7.78-7.78 2.81-2.81c.8-.78.8-2.07 0-2.86zM5.41 20L4 18.59l7.72-7.72 1.47 1.35L5.41 20z\"/>\n",
              "  </svg>\n",
              "      </button>\n",
              "      \n",
              "  <style>\n",
              "    .colab-df-container {\n",
              "      display:flex;\n",
              "      flex-wrap:wrap;\n",
              "      gap: 12px;\n",
              "    }\n",
              "\n",
              "    .colab-df-convert {\n",
              "      background-color: #E8F0FE;\n",
              "      border: none;\n",
              "      border-radius: 50%;\n",
              "      cursor: pointer;\n",
              "      display: none;\n",
              "      fill: #1967D2;\n",
              "      height: 32px;\n",
              "      padding: 0 0 0 0;\n",
              "      width: 32px;\n",
              "    }\n",
              "\n",
              "    .colab-df-convert:hover {\n",
              "      background-color: #E2EBFA;\n",
              "      box-shadow: 0px 1px 2px rgba(60, 64, 67, 0.3), 0px 1px 3px 1px rgba(60, 64, 67, 0.15);\n",
              "      fill: #174EA6;\n",
              "    }\n",
              "\n",
              "    [theme=dark] .colab-df-convert {\n",
              "      background-color: #3B4455;\n",
              "      fill: #D2E3FC;\n",
              "    }\n",
              "\n",
              "    [theme=dark] .colab-df-convert:hover {\n",
              "      background-color: #434B5C;\n",
              "      box-shadow: 0px 1px 3px 1px rgba(0, 0, 0, 0.15);\n",
              "      filter: drop-shadow(0px 1px 2px rgba(0, 0, 0, 0.3));\n",
              "      fill: #FFFFFF;\n",
              "    }\n",
              "  </style>\n",
              "\n",
              "      <script>\n",
              "        const buttonEl =\n",
              "          document.querySelector('#df-f7108150-a5f2-4ac9-a4ea-f340cffc8b39 button.colab-df-convert');\n",
              "        buttonEl.style.display =\n",
              "          google.colab.kernel.accessAllowed ? 'block' : 'none';\n",
              "\n",
              "        async function convertToInteractive(key) {\n",
              "          const element = document.querySelector('#df-f7108150-a5f2-4ac9-a4ea-f340cffc8b39');\n",
              "          const dataTable =\n",
              "            await google.colab.kernel.invokeFunction('convertToInteractive',\n",
              "                                                     [key], {});\n",
              "          if (!dataTable) return;\n",
              "\n",
              "          const docLinkHtml = 'Like what you see? Visit the ' +\n",
              "            '<a target=\"_blank\" href=https://colab.research.google.com/notebooks/data_table.ipynb>data table notebook</a>'\n",
              "            + ' to learn more about interactive tables.';\n",
              "          element.innerHTML = '';\n",
              "          dataTable['output_type'] = 'display_data';\n",
              "          await google.colab.output.renderOutput(dataTable, element);\n",
              "          const docLink = document.createElement('div');\n",
              "          docLink.innerHTML = docLinkHtml;\n",
              "          element.appendChild(docLink);\n",
              "        }\n",
              "      </script>\n",
              "    </div>\n",
              "  </div>\n",
              "  "
            ]
          },
          "metadata": {},
          "execution_count": 326
        }
      ]
    },
    {
      "cell_type": "code",
      "source": [
        "mobike_5=mobike[['timeduration','usertype_Customer','usertype_Subscriber','gender_Female','gender_Male']]\n",
        "from sklearn.preprocessing import scale\n",
        "x=pd.DataFrame(scale(mobike_5))"
      ],
      "metadata": {
        "id": "VrKw0IM0lEUz"
      },
      "execution_count": null,
      "outputs": []
    },
    {
      "cell_type": "code",
      "source": [
        "from sklearn import cluster\n",
        "model=cluster.KMeans(n_clusters=3,random_state=10)\n",
        "model.fit(x)"
      ],
      "metadata": {
        "colab": {
          "base_uri": "https://localhost:8080/"
        },
        "id": "bDZm6RVelsgo",
        "outputId": "919abec5-d7ab-40ba-a0a8-75a23db3e689"
      },
      "execution_count": null,
      "outputs": [
        {
          "output_type": "execute_result",
          "data": {
            "text/plain": [
              "KMeans(n_clusters=3, random_state=10)"
            ]
          },
          "metadata": {},
          "execution_count": 532
        }
      ]
    },
    {
      "cell_type": "code",
      "source": [
        "mobike_5['cluster']=model.labels_"
      ],
      "metadata": {
        "colab": {
          "base_uri": "https://localhost:8080/"
        },
        "id": "WlOHyEOtlux_",
        "outputId": "47c8a97f-e567-4555-fe35-10e62e5030ff"
      },
      "execution_count": null,
      "outputs": [
        {
          "output_type": "stream",
          "name": "stderr",
          "text": [
            "/usr/local/lib/python3.7/dist-packages/ipykernel_launcher.py:1: SettingWithCopyWarning: \n",
            "A value is trying to be set on a copy of a slice from a DataFrame.\n",
            "Try using .loc[row_indexer,col_indexer] = value instead\n",
            "\n",
            "See the caveats in the documentation: https://pandas.pydata.org/pandas-docs/stable/user_guide/indexing.html#returning-a-view-versus-a-copy\n",
            "  \"\"\"Entry point for launching an IPython kernel.\n"
          ]
        }
      ]
    },
    {
      "cell_type": "code",
      "source": [
        "mobike_5.groupby(['cluster'])['timeduration'].describe()"
      ],
      "metadata": {
        "colab": {
          "base_uri": "https://localhost:8080/",
          "height": 175
        },
        "id": "zrPImiclo9JT",
        "outputId": "69595db9-6fcd-41a7-cda8-674e6437f699"
      },
      "execution_count": null,
      "outputs": [
        {
          "output_type": "execute_result",
          "data": {
            "text/plain": [
              "          count       mean       std  min   25%   50%   75%   max\n",
              "cluster                                                          \n",
              "0        4390.0   9.555125  6.346388  1.0   5.0   8.0  13.0  33.0\n",
              "1         460.0  16.660870  7.976148  3.0  10.0  16.0  23.0  33.0\n",
              "2        1205.0  10.330290  6.544033  1.0   5.0   9.0  14.0  33.0"
            ],
            "text/html": [
              "\n",
              "  <div id=\"df-7eea1694-0d1c-48bc-9705-90b053e99f05\">\n",
              "    <div class=\"colab-df-container\">\n",
              "      <div>\n",
              "<style scoped>\n",
              "    .dataframe tbody tr th:only-of-type {\n",
              "        vertical-align: middle;\n",
              "    }\n",
              "\n",
              "    .dataframe tbody tr th {\n",
              "        vertical-align: top;\n",
              "    }\n",
              "\n",
              "    .dataframe thead th {\n",
              "        text-align: right;\n",
              "    }\n",
              "</style>\n",
              "<table border=\"1\" class=\"dataframe\">\n",
              "  <thead>\n",
              "    <tr style=\"text-align: right;\">\n",
              "      <th></th>\n",
              "      <th>count</th>\n",
              "      <th>mean</th>\n",
              "      <th>std</th>\n",
              "      <th>min</th>\n",
              "      <th>25%</th>\n",
              "      <th>50%</th>\n",
              "      <th>75%</th>\n",
              "      <th>max</th>\n",
              "    </tr>\n",
              "    <tr>\n",
              "      <th>cluster</th>\n",
              "      <th></th>\n",
              "      <th></th>\n",
              "      <th></th>\n",
              "      <th></th>\n",
              "      <th></th>\n",
              "      <th></th>\n",
              "      <th></th>\n",
              "      <th></th>\n",
              "    </tr>\n",
              "  </thead>\n",
              "  <tbody>\n",
              "    <tr>\n",
              "      <th>0</th>\n",
              "      <td>4390.0</td>\n",
              "      <td>9.555125</td>\n",
              "      <td>6.346388</td>\n",
              "      <td>1.0</td>\n",
              "      <td>5.0</td>\n",
              "      <td>8.0</td>\n",
              "      <td>13.0</td>\n",
              "      <td>33.0</td>\n",
              "    </tr>\n",
              "    <tr>\n",
              "      <th>1</th>\n",
              "      <td>460.0</td>\n",
              "      <td>16.660870</td>\n",
              "      <td>7.976148</td>\n",
              "      <td>3.0</td>\n",
              "      <td>10.0</td>\n",
              "      <td>16.0</td>\n",
              "      <td>23.0</td>\n",
              "      <td>33.0</td>\n",
              "    </tr>\n",
              "    <tr>\n",
              "      <th>2</th>\n",
              "      <td>1205.0</td>\n",
              "      <td>10.330290</td>\n",
              "      <td>6.544033</td>\n",
              "      <td>1.0</td>\n",
              "      <td>5.0</td>\n",
              "      <td>9.0</td>\n",
              "      <td>14.0</td>\n",
              "      <td>33.0</td>\n",
              "    </tr>\n",
              "  </tbody>\n",
              "</table>\n",
              "</div>\n",
              "      <button class=\"colab-df-convert\" onclick=\"convertToInteractive('df-7eea1694-0d1c-48bc-9705-90b053e99f05')\"\n",
              "              title=\"Convert this dataframe to an interactive table.\"\n",
              "              style=\"display:none;\">\n",
              "        \n",
              "  <svg xmlns=\"http://www.w3.org/2000/svg\" height=\"24px\"viewBox=\"0 0 24 24\"\n",
              "       width=\"24px\">\n",
              "    <path d=\"M0 0h24v24H0V0z\" fill=\"none\"/>\n",
              "    <path d=\"M18.56 5.44l.94 2.06.94-2.06 2.06-.94-2.06-.94-.94-2.06-.94 2.06-2.06.94zm-11 1L8.5 8.5l.94-2.06 2.06-.94-2.06-.94L8.5 2.5l-.94 2.06-2.06.94zm10 10l.94 2.06.94-2.06 2.06-.94-2.06-.94-.94-2.06-.94 2.06-2.06.94z\"/><path d=\"M17.41 7.96l-1.37-1.37c-.4-.4-.92-.59-1.43-.59-.52 0-1.04.2-1.43.59L10.3 9.45l-7.72 7.72c-.78.78-.78 2.05 0 2.83L4 21.41c.39.39.9.59 1.41.59.51 0 1.02-.2 1.41-.59l7.78-7.78 2.81-2.81c.8-.78.8-2.07 0-2.86zM5.41 20L4 18.59l7.72-7.72 1.47 1.35L5.41 20z\"/>\n",
              "  </svg>\n",
              "      </button>\n",
              "      \n",
              "  <style>\n",
              "    .colab-df-container {\n",
              "      display:flex;\n",
              "      flex-wrap:wrap;\n",
              "      gap: 12px;\n",
              "    }\n",
              "\n",
              "    .colab-df-convert {\n",
              "      background-color: #E8F0FE;\n",
              "      border: none;\n",
              "      border-radius: 50%;\n",
              "      cursor: pointer;\n",
              "      display: none;\n",
              "      fill: #1967D2;\n",
              "      height: 32px;\n",
              "      padding: 0 0 0 0;\n",
              "      width: 32px;\n",
              "    }\n",
              "\n",
              "    .colab-df-convert:hover {\n",
              "      background-color: #E2EBFA;\n",
              "      box-shadow: 0px 1px 2px rgba(60, 64, 67, 0.3), 0px 1px 3px 1px rgba(60, 64, 67, 0.15);\n",
              "      fill: #174EA6;\n",
              "    }\n",
              "\n",
              "    [theme=dark] .colab-df-convert {\n",
              "      background-color: #3B4455;\n",
              "      fill: #D2E3FC;\n",
              "    }\n",
              "\n",
              "    [theme=dark] .colab-df-convert:hover {\n",
              "      background-color: #434B5C;\n",
              "      box-shadow: 0px 1px 3px 1px rgba(0, 0, 0, 0.15);\n",
              "      filter: drop-shadow(0px 1px 2px rgba(0, 0, 0, 0.3));\n",
              "      fill: #FFFFFF;\n",
              "    }\n",
              "  </style>\n",
              "\n",
              "      <script>\n",
              "        const buttonEl =\n",
              "          document.querySelector('#df-7eea1694-0d1c-48bc-9705-90b053e99f05 button.colab-df-convert');\n",
              "        buttonEl.style.display =\n",
              "          google.colab.kernel.accessAllowed ? 'block' : 'none';\n",
              "\n",
              "        async function convertToInteractive(key) {\n",
              "          const element = document.querySelector('#df-7eea1694-0d1c-48bc-9705-90b053e99f05');\n",
              "          const dataTable =\n",
              "            await google.colab.kernel.invokeFunction('convertToInteractive',\n",
              "                                                     [key], {});\n",
              "          if (!dataTable) return;\n",
              "\n",
              "          const docLinkHtml = 'Like what you see? Visit the ' +\n",
              "            '<a target=\"_blank\" href=https://colab.research.google.com/notebooks/data_table.ipynb>data table notebook</a>'\n",
              "            + ' to learn more about interactive tables.';\n",
              "          element.innerHTML = '';\n",
              "          dataTable['output_type'] = 'display_data';\n",
              "          await google.colab.output.renderOutput(dataTable, element);\n",
              "          const docLink = document.createElement('div');\n",
              "          docLink.innerHTML = docLinkHtml;\n",
              "          element.appendChild(docLink);\n",
              "        }\n",
              "      </script>\n",
              "    </div>\n",
              "  </div>\n",
              "  "
            ]
          },
          "metadata": {},
          "execution_count": 534
        }
      ]
    },
    {
      "cell_type": "code",
      "source": [
        "mobike_5.groupby(['cluster'])['usertype_Customer'].describe()"
      ],
      "metadata": {
        "colab": {
          "base_uri": "https://localhost:8080/",
          "height": 175
        },
        "id": "BljnS8y4pADs",
        "outputId": "71b6264d-f318-4f9d-8d37-c9fbf95e6233"
      },
      "execution_count": null,
      "outputs": [
        {
          "output_type": "execute_result",
          "data": {
            "text/plain": [
              "          count  mean  std  min  25%  50%  75%  max\n",
              "cluster                                            \n",
              "0        4390.0   0.0  0.0  0.0  0.0  0.0  0.0  0.0\n",
              "1         460.0   1.0  0.0  1.0  1.0  1.0  1.0  1.0\n",
              "2        1205.0   0.0  0.0  0.0  0.0  0.0  0.0  0.0"
            ],
            "text/html": [
              "\n",
              "  <div id=\"df-7c25c5a2-2708-426a-928f-a1d878c270f5\">\n",
              "    <div class=\"colab-df-container\">\n",
              "      <div>\n",
              "<style scoped>\n",
              "    .dataframe tbody tr th:only-of-type {\n",
              "        vertical-align: middle;\n",
              "    }\n",
              "\n",
              "    .dataframe tbody tr th {\n",
              "        vertical-align: top;\n",
              "    }\n",
              "\n",
              "    .dataframe thead th {\n",
              "        text-align: right;\n",
              "    }\n",
              "</style>\n",
              "<table border=\"1\" class=\"dataframe\">\n",
              "  <thead>\n",
              "    <tr style=\"text-align: right;\">\n",
              "      <th></th>\n",
              "      <th>count</th>\n",
              "      <th>mean</th>\n",
              "      <th>std</th>\n",
              "      <th>min</th>\n",
              "      <th>25%</th>\n",
              "      <th>50%</th>\n",
              "      <th>75%</th>\n",
              "      <th>max</th>\n",
              "    </tr>\n",
              "    <tr>\n",
              "      <th>cluster</th>\n",
              "      <th></th>\n",
              "      <th></th>\n",
              "      <th></th>\n",
              "      <th></th>\n",
              "      <th></th>\n",
              "      <th></th>\n",
              "      <th></th>\n",
              "      <th></th>\n",
              "    </tr>\n",
              "  </thead>\n",
              "  <tbody>\n",
              "    <tr>\n",
              "      <th>0</th>\n",
              "      <td>4390.0</td>\n",
              "      <td>0.0</td>\n",
              "      <td>0.0</td>\n",
              "      <td>0.0</td>\n",
              "      <td>0.0</td>\n",
              "      <td>0.0</td>\n",
              "      <td>0.0</td>\n",
              "      <td>0.0</td>\n",
              "    </tr>\n",
              "    <tr>\n",
              "      <th>1</th>\n",
              "      <td>460.0</td>\n",
              "      <td>1.0</td>\n",
              "      <td>0.0</td>\n",
              "      <td>1.0</td>\n",
              "      <td>1.0</td>\n",
              "      <td>1.0</td>\n",
              "      <td>1.0</td>\n",
              "      <td>1.0</td>\n",
              "    </tr>\n",
              "    <tr>\n",
              "      <th>2</th>\n",
              "      <td>1205.0</td>\n",
              "      <td>0.0</td>\n",
              "      <td>0.0</td>\n",
              "      <td>0.0</td>\n",
              "      <td>0.0</td>\n",
              "      <td>0.0</td>\n",
              "      <td>0.0</td>\n",
              "      <td>0.0</td>\n",
              "    </tr>\n",
              "  </tbody>\n",
              "</table>\n",
              "</div>\n",
              "      <button class=\"colab-df-convert\" onclick=\"convertToInteractive('df-7c25c5a2-2708-426a-928f-a1d878c270f5')\"\n",
              "              title=\"Convert this dataframe to an interactive table.\"\n",
              "              style=\"display:none;\">\n",
              "        \n",
              "  <svg xmlns=\"http://www.w3.org/2000/svg\" height=\"24px\"viewBox=\"0 0 24 24\"\n",
              "       width=\"24px\">\n",
              "    <path d=\"M0 0h24v24H0V0z\" fill=\"none\"/>\n",
              "    <path d=\"M18.56 5.44l.94 2.06.94-2.06 2.06-.94-2.06-.94-.94-2.06-.94 2.06-2.06.94zm-11 1L8.5 8.5l.94-2.06 2.06-.94-2.06-.94L8.5 2.5l-.94 2.06-2.06.94zm10 10l.94 2.06.94-2.06 2.06-.94-2.06-.94-.94-2.06-.94 2.06-2.06.94z\"/><path d=\"M17.41 7.96l-1.37-1.37c-.4-.4-.92-.59-1.43-.59-.52 0-1.04.2-1.43.59L10.3 9.45l-7.72 7.72c-.78.78-.78 2.05 0 2.83L4 21.41c.39.39.9.59 1.41.59.51 0 1.02-.2 1.41-.59l7.78-7.78 2.81-2.81c.8-.78.8-2.07 0-2.86zM5.41 20L4 18.59l7.72-7.72 1.47 1.35L5.41 20z\"/>\n",
              "  </svg>\n",
              "      </button>\n",
              "      \n",
              "  <style>\n",
              "    .colab-df-container {\n",
              "      display:flex;\n",
              "      flex-wrap:wrap;\n",
              "      gap: 12px;\n",
              "    }\n",
              "\n",
              "    .colab-df-convert {\n",
              "      background-color: #E8F0FE;\n",
              "      border: none;\n",
              "      border-radius: 50%;\n",
              "      cursor: pointer;\n",
              "      display: none;\n",
              "      fill: #1967D2;\n",
              "      height: 32px;\n",
              "      padding: 0 0 0 0;\n",
              "      width: 32px;\n",
              "    }\n",
              "\n",
              "    .colab-df-convert:hover {\n",
              "      background-color: #E2EBFA;\n",
              "      box-shadow: 0px 1px 2px rgba(60, 64, 67, 0.3), 0px 1px 3px 1px rgba(60, 64, 67, 0.15);\n",
              "      fill: #174EA6;\n",
              "    }\n",
              "\n",
              "    [theme=dark] .colab-df-convert {\n",
              "      background-color: #3B4455;\n",
              "      fill: #D2E3FC;\n",
              "    }\n",
              "\n",
              "    [theme=dark] .colab-df-convert:hover {\n",
              "      background-color: #434B5C;\n",
              "      box-shadow: 0px 1px 3px 1px rgba(0, 0, 0, 0.15);\n",
              "      filter: drop-shadow(0px 1px 2px rgba(0, 0, 0, 0.3));\n",
              "      fill: #FFFFFF;\n",
              "    }\n",
              "  </style>\n",
              "\n",
              "      <script>\n",
              "        const buttonEl =\n",
              "          document.querySelector('#df-7c25c5a2-2708-426a-928f-a1d878c270f5 button.colab-df-convert');\n",
              "        buttonEl.style.display =\n",
              "          google.colab.kernel.accessAllowed ? 'block' : 'none';\n",
              "\n",
              "        async function convertToInteractive(key) {\n",
              "          const element = document.querySelector('#df-7c25c5a2-2708-426a-928f-a1d878c270f5');\n",
              "          const dataTable =\n",
              "            await google.colab.kernel.invokeFunction('convertToInteractive',\n",
              "                                                     [key], {});\n",
              "          if (!dataTable) return;\n",
              "\n",
              "          const docLinkHtml = 'Like what you see? Visit the ' +\n",
              "            '<a target=\"_blank\" href=https://colab.research.google.com/notebooks/data_table.ipynb>data table notebook</a>'\n",
              "            + ' to learn more about interactive tables.';\n",
              "          element.innerHTML = '';\n",
              "          dataTable['output_type'] = 'display_data';\n",
              "          await google.colab.output.renderOutput(dataTable, element);\n",
              "          const docLink = document.createElement('div');\n",
              "          docLink.innerHTML = docLinkHtml;\n",
              "          element.appendChild(docLink);\n",
              "        }\n",
              "      </script>\n",
              "    </div>\n",
              "  </div>\n",
              "  "
            ]
          },
          "metadata": {},
          "execution_count": 535
        }
      ]
    },
    {
      "cell_type": "code",
      "source": [
        "mobike_5.groupby(['cluster'])['gender_Female'].describe()"
      ],
      "metadata": {
        "colab": {
          "base_uri": "https://localhost:8080/",
          "height": 175
        },
        "id": "wb27L-l4pC-s",
        "outputId": "b8d23421-b39d-48be-f823-5f887af6956a"
      },
      "execution_count": null,
      "outputs": [
        {
          "output_type": "execute_result",
          "data": {
            "text/plain": [
              "          count      mean      std  min  25%  50%  75%  max\n",
              "cluster                                                    \n",
              "0        4390.0  0.000000  0.00000  0.0  0.0  0.0  0.0  0.0\n",
              "1         460.0  0.082609  0.27559  0.0  0.0  0.0  0.0  1.0\n",
              "2        1205.0  1.000000  0.00000  1.0  1.0  1.0  1.0  1.0"
            ],
            "text/html": [
              "\n",
              "  <div id=\"df-5ba1dd53-1ab2-4e16-8551-506fdab00671\">\n",
              "    <div class=\"colab-df-container\">\n",
              "      <div>\n",
              "<style scoped>\n",
              "    .dataframe tbody tr th:only-of-type {\n",
              "        vertical-align: middle;\n",
              "    }\n",
              "\n",
              "    .dataframe tbody tr th {\n",
              "        vertical-align: top;\n",
              "    }\n",
              "\n",
              "    .dataframe thead th {\n",
              "        text-align: right;\n",
              "    }\n",
              "</style>\n",
              "<table border=\"1\" class=\"dataframe\">\n",
              "  <thead>\n",
              "    <tr style=\"text-align: right;\">\n",
              "      <th></th>\n",
              "      <th>count</th>\n",
              "      <th>mean</th>\n",
              "      <th>std</th>\n",
              "      <th>min</th>\n",
              "      <th>25%</th>\n",
              "      <th>50%</th>\n",
              "      <th>75%</th>\n",
              "      <th>max</th>\n",
              "    </tr>\n",
              "    <tr>\n",
              "      <th>cluster</th>\n",
              "      <th></th>\n",
              "      <th></th>\n",
              "      <th></th>\n",
              "      <th></th>\n",
              "      <th></th>\n",
              "      <th></th>\n",
              "      <th></th>\n",
              "      <th></th>\n",
              "    </tr>\n",
              "  </thead>\n",
              "  <tbody>\n",
              "    <tr>\n",
              "      <th>0</th>\n",
              "      <td>4390.0</td>\n",
              "      <td>0.000000</td>\n",
              "      <td>0.00000</td>\n",
              "      <td>0.0</td>\n",
              "      <td>0.0</td>\n",
              "      <td>0.0</td>\n",
              "      <td>0.0</td>\n",
              "      <td>0.0</td>\n",
              "    </tr>\n",
              "    <tr>\n",
              "      <th>1</th>\n",
              "      <td>460.0</td>\n",
              "      <td>0.082609</td>\n",
              "      <td>0.27559</td>\n",
              "      <td>0.0</td>\n",
              "      <td>0.0</td>\n",
              "      <td>0.0</td>\n",
              "      <td>0.0</td>\n",
              "      <td>1.0</td>\n",
              "    </tr>\n",
              "    <tr>\n",
              "      <th>2</th>\n",
              "      <td>1205.0</td>\n",
              "      <td>1.000000</td>\n",
              "      <td>0.00000</td>\n",
              "      <td>1.0</td>\n",
              "      <td>1.0</td>\n",
              "      <td>1.0</td>\n",
              "      <td>1.0</td>\n",
              "      <td>1.0</td>\n",
              "    </tr>\n",
              "  </tbody>\n",
              "</table>\n",
              "</div>\n",
              "      <button class=\"colab-df-convert\" onclick=\"convertToInteractive('df-5ba1dd53-1ab2-4e16-8551-506fdab00671')\"\n",
              "              title=\"Convert this dataframe to an interactive table.\"\n",
              "              style=\"display:none;\">\n",
              "        \n",
              "  <svg xmlns=\"http://www.w3.org/2000/svg\" height=\"24px\"viewBox=\"0 0 24 24\"\n",
              "       width=\"24px\">\n",
              "    <path d=\"M0 0h24v24H0V0z\" fill=\"none\"/>\n",
              "    <path d=\"M18.56 5.44l.94 2.06.94-2.06 2.06-.94-2.06-.94-.94-2.06-.94 2.06-2.06.94zm-11 1L8.5 8.5l.94-2.06 2.06-.94-2.06-.94L8.5 2.5l-.94 2.06-2.06.94zm10 10l.94 2.06.94-2.06 2.06-.94-2.06-.94-.94-2.06-.94 2.06-2.06.94z\"/><path d=\"M17.41 7.96l-1.37-1.37c-.4-.4-.92-.59-1.43-.59-.52 0-1.04.2-1.43.59L10.3 9.45l-7.72 7.72c-.78.78-.78 2.05 0 2.83L4 21.41c.39.39.9.59 1.41.59.51 0 1.02-.2 1.41-.59l7.78-7.78 2.81-2.81c.8-.78.8-2.07 0-2.86zM5.41 20L4 18.59l7.72-7.72 1.47 1.35L5.41 20z\"/>\n",
              "  </svg>\n",
              "      </button>\n",
              "      \n",
              "  <style>\n",
              "    .colab-df-container {\n",
              "      display:flex;\n",
              "      flex-wrap:wrap;\n",
              "      gap: 12px;\n",
              "    }\n",
              "\n",
              "    .colab-df-convert {\n",
              "      background-color: #E8F0FE;\n",
              "      border: none;\n",
              "      border-radius: 50%;\n",
              "      cursor: pointer;\n",
              "      display: none;\n",
              "      fill: #1967D2;\n",
              "      height: 32px;\n",
              "      padding: 0 0 0 0;\n",
              "      width: 32px;\n",
              "    }\n",
              "\n",
              "    .colab-df-convert:hover {\n",
              "      background-color: #E2EBFA;\n",
              "      box-shadow: 0px 1px 2px rgba(60, 64, 67, 0.3), 0px 1px 3px 1px rgba(60, 64, 67, 0.15);\n",
              "      fill: #174EA6;\n",
              "    }\n",
              "\n",
              "    [theme=dark] .colab-df-convert {\n",
              "      background-color: #3B4455;\n",
              "      fill: #D2E3FC;\n",
              "    }\n",
              "\n",
              "    [theme=dark] .colab-df-convert:hover {\n",
              "      background-color: #434B5C;\n",
              "      box-shadow: 0px 1px 3px 1px rgba(0, 0, 0, 0.15);\n",
              "      filter: drop-shadow(0px 1px 2px rgba(0, 0, 0, 0.3));\n",
              "      fill: #FFFFFF;\n",
              "    }\n",
              "  </style>\n",
              "\n",
              "      <script>\n",
              "        const buttonEl =\n",
              "          document.querySelector('#df-5ba1dd53-1ab2-4e16-8551-506fdab00671 button.colab-df-convert');\n",
              "        buttonEl.style.display =\n",
              "          google.colab.kernel.accessAllowed ? 'block' : 'none';\n",
              "\n",
              "        async function convertToInteractive(key) {\n",
              "          const element = document.querySelector('#df-5ba1dd53-1ab2-4e16-8551-506fdab00671');\n",
              "          const dataTable =\n",
              "            await google.colab.kernel.invokeFunction('convertToInteractive',\n",
              "                                                     [key], {});\n",
              "          if (!dataTable) return;\n",
              "\n",
              "          const docLinkHtml = 'Like what you see? Visit the ' +\n",
              "            '<a target=\"_blank\" href=https://colab.research.google.com/notebooks/data_table.ipynb>data table notebook</a>'\n",
              "            + ' to learn more about interactive tables.';\n",
              "          element.innerHTML = '';\n",
              "          dataTable['output_type'] = 'display_data';\n",
              "          await google.colab.output.renderOutput(dataTable, element);\n",
              "          const docLink = document.createElement('div');\n",
              "          docLink.innerHTML = docLinkHtml;\n",
              "          element.appendChild(docLink);\n",
              "        }\n",
              "      </script>\n",
              "    </div>\n",
              "  </div>\n",
              "  "
            ]
          },
          "metadata": {},
          "execution_count": 536
        }
      ]
    },
    {
      "cell_type": "code",
      "source": [
        "from sklearn import metrics#调用sklearn的metrics库\n",
        "x_cluster=model.fit_predict(x)#个体与群的距离\n",
        "score=metrics.silhouette_score(x,x_cluster)#评分越高，个体与群越近；评分越低，个体与群越远\n",
        "print(score) "
      ],
      "metadata": {
        "colab": {
          "base_uri": "https://localhost:8080/"
        },
        "id": "CpB3pkuHpQup",
        "outputId": "0555ae51-4ea5-46ef-c13a-f4e00d63a5fe"
      },
      "execution_count": null,
      "outputs": [
        {
          "output_type": "stream",
          "name": "stdout",
          "text": [
            "0.716841150053588\n"
          ]
        }
      ]
    },
    {
      "cell_type": "code",
      "source": [
        "centers=pd.DataFrame(model.cluster_centers_)"
      ],
      "metadata": {
        "id": "NlL0By0dpkHW"
      },
      "execution_count": null,
      "outputs": []
    },
    {
      "cell_type": "code",
      "source": [
        "centers.columns=['timeduration','usertype_Customer','usertype_Subscriber','gender_Female','gender_Male']\n",
        "print(centers)"
      ],
      "metadata": {
        "colab": {
          "base_uri": "https://localhost:8080/"
        },
        "id": "obCteEIjpmQf",
        "outputId": "1565a954-45b7-466d-baed-a3ebd189af0c"
      },
      "execution_count": null,
      "outputs": [
        {
          "output_type": "stream",
          "name": "stdout",
          "text": [
            "   timeduration  usertype_Customer  usertype_Subscriber  gender_Female  \\\n",
            "0     -0.102331          -0.286734             0.286734      -0.508245   \n",
            "1      0.945281           3.487556            -3.487556      -0.303722   \n",
            "2      0.011953          -0.286734             0.286734       1.967557   \n",
            "\n",
            "   gender_Male  \n",
            "0     0.582299  \n",
            "1    -1.129638  \n",
            "2    -1.690174  \n"
          ]
        }
      ]
    },
    {
      "cell_type": "code",
      "source": [
        "mobike_5['cluster'].value_counts(1)"
      ],
      "metadata": {
        "colab": {
          "base_uri": "https://localhost:8080/"
        },
        "id": "3zyXmXlytvJ8",
        "outputId": "e8bd3533-85cc-4f85-d879-9eca6e2837c1"
      },
      "execution_count": null,
      "outputs": [
        {
          "output_type": "execute_result",
          "data": {
            "text/plain": [
              "0    0.725021\n",
              "2    0.199009\n",
              "1    0.075970\n",
              "Name: cluster, dtype: float64"
            ]
          },
          "metadata": {},
          "execution_count": 540
        }
      ]
    },
    {
      "cell_type": "code",
      "source": [
        "centers.to_csv('monike_users.csv')"
      ],
      "metadata": {
        "id": "DkATEjIzqc2B"
      },
      "execution_count": null,
      "outputs": []
    },
    {
      "cell_type": "markdown",
      "source": [
        "# 4. 业务建议\n",
        "（1） 单车的用户人群广泛分布于校园，或者刚出校园的年轻男性工作者，可以在校园中推广骑行活动，通过该群体人数规模大的优势进行品牌宣传扩大品牌影响力。\n",
        "\n",
        "（2） 0群用户以男性为主，骑行市场较长，可以针对这部分人群实行时长兑换商品积分的活动，与线上商城达成商务合作，刺激购买欲望。\n",
        "\n",
        "（3） 1群代表女性、骑行时间较短的会员用户，可以向此类用户推广包月活动。\n",
        "\n",
        "（4） 2群的用户骑行时间短，可推断为主要是临时性需求的用户，可以向此类人群推广加入会员优惠活动，增加此类用户粘性。"
      ],
      "metadata": {
        "id": "NuyrGRBvqgKS"
      }
    }
  ]
}