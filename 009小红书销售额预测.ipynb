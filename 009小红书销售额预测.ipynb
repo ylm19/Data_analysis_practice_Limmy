{
  "nbformat": 4,
  "nbformat_minor": 0,
  "metadata": {
    "colab": {
      "provenance": [],
      "collapsed_sections": [],
      "authorship_tag": "ABX9TyNKnqMr26kryMkrMx9zIqOX",
      "include_colab_link": true
    },
    "kernelspec": {
      "name": "python3",
      "display_name": "Python 3"
    },
    "language_info": {
      "name": "python"
    }
  },
  "cells": [
    {
      "cell_type": "markdown",
      "metadata": {
        "id": "view-in-github",
        "colab_type": "text"
      },
      "source": [
        "<a href=\"https://colab.research.google.com/github/ylm19/Data_analysis_practice_Limmy/blob/main/009%E5%B0%8F%E7%BA%A2%E4%B9%A6%E9%94%80%E5%94%AE%E9%A2%9D%E9%A2%84%E6%B5%8B.ipynb\" target=\"_parent\"><img src=\"https://colab.research.google.com/assets/colab-badge.svg\" alt=\"Open In Colab\"/></a>"
      ]
    },
    {
      "cell_type": "markdown",
      "source": [
        "# 课题背景\n",
        "小红书是—个生活方式平台和消费决第入口，是当前著名的电商平台，和其他电商平台不同 小红书是从社区起家。在小红书社区， 用户通过文字、图片、视颉笔记的分享，记录了这个时代年轻人的正能里和美好生活。\n",
        "\n",
        "2014年10月小红书福利社上线，旨在解决海外购物的另一个难题：买不到。小红书通过机器学习对海量信息和人进行精准、高效匹配，已累积海罢的海外购物数据，分析出最受欢迎的商品及全球购物趋势，并仕此基础上把全世界的好东西，以最短的路径、最简洁的方式提供给用户。\n",
        "\n",
        "本节将根据小红书的数据利用Python进行线性回归，对小红书的销售额进行预测。"
      ],
      "metadata": {
        "id": "1DWlpqzdYTZl"
      }
    },
    {
      "cell_type": "markdown",
      "source": [
        "# 数据字典\n",
        "Revenue 用户的下单购买金额（预测目标）\n",
        "\n",
        "3rd_party_stores 用户过往在app中从第三方商家购买的数量，为0则代表只在自营产品中购买\n",
        "\n",
        "Gender 性别:1-男，0-女，未知则空缺\n",
        "\n",
        "Age 年龄，未知为空缺\n",
        "\n",
        "Engaged_last_30 最近30天在app上有参与重点活动（讨论，买家秀等等）\n",
        "\n",
        "Lifecycle 生命周期分类为A,B,C（分别对应注册后6个月内，1年内，2年内)\n",
        "\n",
        "days_since_last_order 最近一次下单距今的天数（小于1则代表当天有下单）\n",
        "\n",
        "previous_order_amount 以往累积的用户购买金额"
      ],
      "metadata": {
        "id": "VCTexHOxZCpd"
      }
    },
    {
      "cell_type": "markdown",
      "source": [
        "# 1. 数据概况分析"
      ],
      "metadata": {
        "id": "OOoo0A0TZ3ok"
      }
    },
    {
      "cell_type": "code",
      "execution_count": null,
      "metadata": {
        "id": "qL9ca0KoYO-t"
      },
      "outputs": [],
      "source": [
        "import pandas as pd\n",
        "import matplotlib.pyplot as plt\n",
        "import seaborn as sns\n",
        "% matplotlib inline"
      ]
    },
    {
      "cell_type": "code",
      "source": [
        "red = pd.read_csv('/content/31 l2_week2.csv')\n",
        "red.head()"
      ],
      "metadata": {
        "colab": {
          "base_uri": "https://localhost:8080/",
          "height": 206
        },
        "id": "2YmRn6zQaBsp",
        "outputId": "60b98c47-86bd-4138-d461-9a4e6fd78dc1"
      },
      "execution_count": null,
      "outputs": [
        {
          "output_type": "execute_result",
          "data": {
            "text/plain": [
              "   revenue  gender   age  engaged_last_30 lifecycle   days_since_last_order   \\\n",
              "0    72.98     1.0  59.0              0.0         B                     4.26   \n",
              "1   200.99     1.0  51.0              0.0         A                     0.94   \n",
              "2    69.98     1.0  79.0              0.0         C                     4.29   \n",
              "3   649.99     NaN   NaN              NaN         C                    14.90   \n",
              "4    83.59     NaN   NaN              NaN         C                    21.13   \n",
              "\n",
              "   previous_order_amount  3rd_party_stores  \n",
              "0               2343.870                 0  \n",
              "1               8539.872                 0  \n",
              "2               1687.646                 1  \n",
              "3               3498.846                 0  \n",
              "4               3968.490                 4  "
            ],
            "text/html": [
              "\n",
              "  <div id=\"df-7a644aa5-958d-408e-82f4-31bd2b79e7f3\">\n",
              "    <div class=\"colab-df-container\">\n",
              "      <div>\n",
              "<style scoped>\n",
              "    .dataframe tbody tr th:only-of-type {\n",
              "        vertical-align: middle;\n",
              "    }\n",
              "\n",
              "    .dataframe tbody tr th {\n",
              "        vertical-align: top;\n",
              "    }\n",
              "\n",
              "    .dataframe thead th {\n",
              "        text-align: right;\n",
              "    }\n",
              "</style>\n",
              "<table border=\"1\" class=\"dataframe\">\n",
              "  <thead>\n",
              "    <tr style=\"text-align: right;\">\n",
              "      <th></th>\n",
              "      <th>revenue</th>\n",
              "      <th>gender</th>\n",
              "      <th>age</th>\n",
              "      <th>engaged_last_30</th>\n",
              "      <th>lifecycle</th>\n",
              "      <th>days_since_last_order</th>\n",
              "      <th>previous_order_amount</th>\n",
              "      <th>3rd_party_stores</th>\n",
              "    </tr>\n",
              "  </thead>\n",
              "  <tbody>\n",
              "    <tr>\n",
              "      <th>0</th>\n",
              "      <td>72.98</td>\n",
              "      <td>1.0</td>\n",
              "      <td>59.0</td>\n",
              "      <td>0.0</td>\n",
              "      <td>B</td>\n",
              "      <td>4.26</td>\n",
              "      <td>2343.870</td>\n",
              "      <td>0</td>\n",
              "    </tr>\n",
              "    <tr>\n",
              "      <th>1</th>\n",
              "      <td>200.99</td>\n",
              "      <td>1.0</td>\n",
              "      <td>51.0</td>\n",
              "      <td>0.0</td>\n",
              "      <td>A</td>\n",
              "      <td>0.94</td>\n",
              "      <td>8539.872</td>\n",
              "      <td>0</td>\n",
              "    </tr>\n",
              "    <tr>\n",
              "      <th>2</th>\n",
              "      <td>69.98</td>\n",
              "      <td>1.0</td>\n",
              "      <td>79.0</td>\n",
              "      <td>0.0</td>\n",
              "      <td>C</td>\n",
              "      <td>4.29</td>\n",
              "      <td>1687.646</td>\n",
              "      <td>1</td>\n",
              "    </tr>\n",
              "    <tr>\n",
              "      <th>3</th>\n",
              "      <td>649.99</td>\n",
              "      <td>NaN</td>\n",
              "      <td>NaN</td>\n",
              "      <td>NaN</td>\n",
              "      <td>C</td>\n",
              "      <td>14.90</td>\n",
              "      <td>3498.846</td>\n",
              "      <td>0</td>\n",
              "    </tr>\n",
              "    <tr>\n",
              "      <th>4</th>\n",
              "      <td>83.59</td>\n",
              "      <td>NaN</td>\n",
              "      <td>NaN</td>\n",
              "      <td>NaN</td>\n",
              "      <td>C</td>\n",
              "      <td>21.13</td>\n",
              "      <td>3968.490</td>\n",
              "      <td>4</td>\n",
              "    </tr>\n",
              "  </tbody>\n",
              "</table>\n",
              "</div>\n",
              "      <button class=\"colab-df-convert\" onclick=\"convertToInteractive('df-7a644aa5-958d-408e-82f4-31bd2b79e7f3')\"\n",
              "              title=\"Convert this dataframe to an interactive table.\"\n",
              "              style=\"display:none;\">\n",
              "        \n",
              "  <svg xmlns=\"http://www.w3.org/2000/svg\" height=\"24px\"viewBox=\"0 0 24 24\"\n",
              "       width=\"24px\">\n",
              "    <path d=\"M0 0h24v24H0V0z\" fill=\"none\"/>\n",
              "    <path d=\"M18.56 5.44l.94 2.06.94-2.06 2.06-.94-2.06-.94-.94-2.06-.94 2.06-2.06.94zm-11 1L8.5 8.5l.94-2.06 2.06-.94-2.06-.94L8.5 2.5l-.94 2.06-2.06.94zm10 10l.94 2.06.94-2.06 2.06-.94-2.06-.94-.94-2.06-.94 2.06-2.06.94z\"/><path d=\"M17.41 7.96l-1.37-1.37c-.4-.4-.92-.59-1.43-.59-.52 0-1.04.2-1.43.59L10.3 9.45l-7.72 7.72c-.78.78-.78 2.05 0 2.83L4 21.41c.39.39.9.59 1.41.59.51 0 1.02-.2 1.41-.59l7.78-7.78 2.81-2.81c.8-.78.8-2.07 0-2.86zM5.41 20L4 18.59l7.72-7.72 1.47 1.35L5.41 20z\"/>\n",
              "  </svg>\n",
              "      </button>\n",
              "      \n",
              "  <style>\n",
              "    .colab-df-container {\n",
              "      display:flex;\n",
              "      flex-wrap:wrap;\n",
              "      gap: 12px;\n",
              "    }\n",
              "\n",
              "    .colab-df-convert {\n",
              "      background-color: #E8F0FE;\n",
              "      border: none;\n",
              "      border-radius: 50%;\n",
              "      cursor: pointer;\n",
              "      display: none;\n",
              "      fill: #1967D2;\n",
              "      height: 32px;\n",
              "      padding: 0 0 0 0;\n",
              "      width: 32px;\n",
              "    }\n",
              "\n",
              "    .colab-df-convert:hover {\n",
              "      background-color: #E2EBFA;\n",
              "      box-shadow: 0px 1px 2px rgba(60, 64, 67, 0.3), 0px 1px 3px 1px rgba(60, 64, 67, 0.15);\n",
              "      fill: #174EA6;\n",
              "    }\n",
              "\n",
              "    [theme=dark] .colab-df-convert {\n",
              "      background-color: #3B4455;\n",
              "      fill: #D2E3FC;\n",
              "    }\n",
              "\n",
              "    [theme=dark] .colab-df-convert:hover {\n",
              "      background-color: #434B5C;\n",
              "      box-shadow: 0px 1px 3px 1px rgba(0, 0, 0, 0.15);\n",
              "      filter: drop-shadow(0px 1px 2px rgba(0, 0, 0, 0.3));\n",
              "      fill: #FFFFFF;\n",
              "    }\n",
              "  </style>\n",
              "\n",
              "      <script>\n",
              "        const buttonEl =\n",
              "          document.querySelector('#df-7a644aa5-958d-408e-82f4-31bd2b79e7f3 button.colab-df-convert');\n",
              "        buttonEl.style.display =\n",
              "          google.colab.kernel.accessAllowed ? 'block' : 'none';\n",
              "\n",
              "        async function convertToInteractive(key) {\n",
              "          const element = document.querySelector('#df-7a644aa5-958d-408e-82f4-31bd2b79e7f3');\n",
              "          const dataTable =\n",
              "            await google.colab.kernel.invokeFunction('convertToInteractive',\n",
              "                                                     [key], {});\n",
              "          if (!dataTable) return;\n",
              "\n",
              "          const docLinkHtml = 'Like what you see? Visit the ' +\n",
              "            '<a target=\"_blank\" href=https://colab.research.google.com/notebooks/data_table.ipynb>data table notebook</a>'\n",
              "            + ' to learn more about interactive tables.';\n",
              "          element.innerHTML = '';\n",
              "          dataTable['output_type'] = 'display_data';\n",
              "          await google.colab.output.renderOutput(dataTable, element);\n",
              "          const docLink = document.createElement('div');\n",
              "          docLink.innerHTML = docLinkHtml;\n",
              "          element.appendChild(docLink);\n",
              "        }\n",
              "      </script>\n",
              "    </div>\n",
              "  </div>\n",
              "  "
            ]
          },
          "metadata": {},
          "execution_count": 6
        }
      ]
    },
    {
      "cell_type": "code",
      "source": [
        "red.info()"
      ],
      "metadata": {
        "colab": {
          "base_uri": "https://localhost:8080/"
        },
        "id": "-8zARarZaWRd",
        "outputId": "a296a5c2-2983-4c44-e7d8-f058fae03410"
      },
      "execution_count": null,
      "outputs": [
        {
          "output_type": "stream",
          "name": "stdout",
          "text": [
            "<class 'pandas.core.frame.DataFrame'>\n",
            "RangeIndex: 29452 entries, 0 to 29451\n",
            "Data columns (total 8 columns):\n",
            " #   Column                   Non-Null Count  Dtype  \n",
            "---  ------                   --------------  -----  \n",
            " 0   revenue                  29452 non-null  float64\n",
            " 1   gender                   17723 non-null  float64\n",
            " 2   age                      16716 non-null  float64\n",
            " 3   engaged_last_30          17723 non-null  float64\n",
            " 4   lifecycle                29452 non-null  object \n",
            " 5    days_since_last_order   29452 non-null  float64\n",
            " 6   previous_order_amount    29452 non-null  float64\n",
            " 7   3rd_party_stores         29452 non-null  int64  \n",
            "dtypes: float64(6), int64(1), object(1)\n",
            "memory usage: 1.8+ MB\n"
          ]
        }
      ]
    },
    {
      "cell_type": "code",
      "source": [
        "red.isnull().sum()"
      ],
      "metadata": {
        "colab": {
          "base_uri": "https://localhost:8080/"
        },
        "id": "-u0Y8Qbtblav",
        "outputId": "678f119b-9c29-4ece-a240-10413e349103"
      },
      "execution_count": null,
      "outputs": [
        {
          "output_type": "execute_result",
          "data": {
            "text/plain": [
              "revenue                        0\n",
              "gender                     11729\n",
              "age                        12736\n",
              "engaged_last_30            11729\n",
              "lifecycle                      0\n",
              " days_since_last_order         0\n",
              "previous_order_amount          0\n",
              "3rd_party_stores               0\n",
              "dtype: int64"
            ]
          },
          "metadata": {},
          "execution_count": 8
        }
      ]
    },
    {
      "cell_type": "code",
      "source": [
        "red.describe()"
      ],
      "metadata": {
        "colab": {
          "base_uri": "https://localhost:8080/",
          "height": 300
        },
        "id": "Fz3X1ohnbi2f",
        "outputId": "76762cf7-e7d2-44cf-e56f-cbd33971fb35"
      },
      "execution_count": null,
      "outputs": [
        {
          "output_type": "execute_result",
          "data": {
            "text/plain": [
              "             revenue        gender           age  engaged_last_30  \\\n",
              "count   29452.000000  17723.000000  16716.000000     17723.000000   \n",
              "mean      398.288037      0.950742     60.397404         0.073069   \n",
              "std       960.251728      0.216412     14.823026         0.260257   \n",
              "min         0.020000      0.000000     18.000000         0.000000   \n",
              "25%        74.970000      1.000000     50.000000         0.000000   \n",
              "50%       175.980000      1.000000     60.000000         0.000000   \n",
              "75%       499.990000      1.000000     70.000000         0.000000   \n",
              "max    103466.100000      1.000000     99.000000         1.000000   \n",
              "\n",
              "        days_since_last_order   previous_order_amount  3rd_party_stores  \n",
              "count             29452.000000           29452.000000      29452.000000  \n",
              "mean                  7.711348            2348.904830          2.286059  \n",
              "std                   6.489289            2379.774213          3.538219  \n",
              "min                   0.130000               0.000000          0.000000  \n",
              "25%                   2.190000             773.506250          0.000000  \n",
              "50%                   5.970000            1655.980000          0.000000  \n",
              "75%                  11.740000            3096.766500          3.000000  \n",
              "max                  23.710000           11597.900000         10.000000  "
            ],
            "text/html": [
              "\n",
              "  <div id=\"df-f325fac5-d314-411f-949b-f0f8e85e9c79\">\n",
              "    <div class=\"colab-df-container\">\n",
              "      <div>\n",
              "<style scoped>\n",
              "    .dataframe tbody tr th:only-of-type {\n",
              "        vertical-align: middle;\n",
              "    }\n",
              "\n",
              "    .dataframe tbody tr th {\n",
              "        vertical-align: top;\n",
              "    }\n",
              "\n",
              "    .dataframe thead th {\n",
              "        text-align: right;\n",
              "    }\n",
              "</style>\n",
              "<table border=\"1\" class=\"dataframe\">\n",
              "  <thead>\n",
              "    <tr style=\"text-align: right;\">\n",
              "      <th></th>\n",
              "      <th>revenue</th>\n",
              "      <th>gender</th>\n",
              "      <th>age</th>\n",
              "      <th>engaged_last_30</th>\n",
              "      <th>days_since_last_order</th>\n",
              "      <th>previous_order_amount</th>\n",
              "      <th>3rd_party_stores</th>\n",
              "    </tr>\n",
              "  </thead>\n",
              "  <tbody>\n",
              "    <tr>\n",
              "      <th>count</th>\n",
              "      <td>29452.000000</td>\n",
              "      <td>17723.000000</td>\n",
              "      <td>16716.000000</td>\n",
              "      <td>17723.000000</td>\n",
              "      <td>29452.000000</td>\n",
              "      <td>29452.000000</td>\n",
              "      <td>29452.000000</td>\n",
              "    </tr>\n",
              "    <tr>\n",
              "      <th>mean</th>\n",
              "      <td>398.288037</td>\n",
              "      <td>0.950742</td>\n",
              "      <td>60.397404</td>\n",
              "      <td>0.073069</td>\n",
              "      <td>7.711348</td>\n",
              "      <td>2348.904830</td>\n",
              "      <td>2.286059</td>\n",
              "    </tr>\n",
              "    <tr>\n",
              "      <th>std</th>\n",
              "      <td>960.251728</td>\n",
              "      <td>0.216412</td>\n",
              "      <td>14.823026</td>\n",
              "      <td>0.260257</td>\n",
              "      <td>6.489289</td>\n",
              "      <td>2379.774213</td>\n",
              "      <td>3.538219</td>\n",
              "    </tr>\n",
              "    <tr>\n",
              "      <th>min</th>\n",
              "      <td>0.020000</td>\n",
              "      <td>0.000000</td>\n",
              "      <td>18.000000</td>\n",
              "      <td>0.000000</td>\n",
              "      <td>0.130000</td>\n",
              "      <td>0.000000</td>\n",
              "      <td>0.000000</td>\n",
              "    </tr>\n",
              "    <tr>\n",
              "      <th>25%</th>\n",
              "      <td>74.970000</td>\n",
              "      <td>1.000000</td>\n",
              "      <td>50.000000</td>\n",
              "      <td>0.000000</td>\n",
              "      <td>2.190000</td>\n",
              "      <td>773.506250</td>\n",
              "      <td>0.000000</td>\n",
              "    </tr>\n",
              "    <tr>\n",
              "      <th>50%</th>\n",
              "      <td>175.980000</td>\n",
              "      <td>1.000000</td>\n",
              "      <td>60.000000</td>\n",
              "      <td>0.000000</td>\n",
              "      <td>5.970000</td>\n",
              "      <td>1655.980000</td>\n",
              "      <td>0.000000</td>\n",
              "    </tr>\n",
              "    <tr>\n",
              "      <th>75%</th>\n",
              "      <td>499.990000</td>\n",
              "      <td>1.000000</td>\n",
              "      <td>70.000000</td>\n",
              "      <td>0.000000</td>\n",
              "      <td>11.740000</td>\n",
              "      <td>3096.766500</td>\n",
              "      <td>3.000000</td>\n",
              "    </tr>\n",
              "    <tr>\n",
              "      <th>max</th>\n",
              "      <td>103466.100000</td>\n",
              "      <td>1.000000</td>\n",
              "      <td>99.000000</td>\n",
              "      <td>1.000000</td>\n",
              "      <td>23.710000</td>\n",
              "      <td>11597.900000</td>\n",
              "      <td>10.000000</td>\n",
              "    </tr>\n",
              "  </tbody>\n",
              "</table>\n",
              "</div>\n",
              "      <button class=\"colab-df-convert\" onclick=\"convertToInteractive('df-f325fac5-d314-411f-949b-f0f8e85e9c79')\"\n",
              "              title=\"Convert this dataframe to an interactive table.\"\n",
              "              style=\"display:none;\">\n",
              "        \n",
              "  <svg xmlns=\"http://www.w3.org/2000/svg\" height=\"24px\"viewBox=\"0 0 24 24\"\n",
              "       width=\"24px\">\n",
              "    <path d=\"M0 0h24v24H0V0z\" fill=\"none\"/>\n",
              "    <path d=\"M18.56 5.44l.94 2.06.94-2.06 2.06-.94-2.06-.94-.94-2.06-.94 2.06-2.06.94zm-11 1L8.5 8.5l.94-2.06 2.06-.94-2.06-.94L8.5 2.5l-.94 2.06-2.06.94zm10 10l.94 2.06.94-2.06 2.06-.94-2.06-.94-.94-2.06-.94 2.06-2.06.94z\"/><path d=\"M17.41 7.96l-1.37-1.37c-.4-.4-.92-.59-1.43-.59-.52 0-1.04.2-1.43.59L10.3 9.45l-7.72 7.72c-.78.78-.78 2.05 0 2.83L4 21.41c.39.39.9.59 1.41.59.51 0 1.02-.2 1.41-.59l7.78-7.78 2.81-2.81c.8-.78.8-2.07 0-2.86zM5.41 20L4 18.59l7.72-7.72 1.47 1.35L5.41 20z\"/>\n",
              "  </svg>\n",
              "      </button>\n",
              "      \n",
              "  <style>\n",
              "    .colab-df-container {\n",
              "      display:flex;\n",
              "      flex-wrap:wrap;\n",
              "      gap: 12px;\n",
              "    }\n",
              "\n",
              "    .colab-df-convert {\n",
              "      background-color: #E8F0FE;\n",
              "      border: none;\n",
              "      border-radius: 50%;\n",
              "      cursor: pointer;\n",
              "      display: none;\n",
              "      fill: #1967D2;\n",
              "      height: 32px;\n",
              "      padding: 0 0 0 0;\n",
              "      width: 32px;\n",
              "    }\n",
              "\n",
              "    .colab-df-convert:hover {\n",
              "      background-color: #E2EBFA;\n",
              "      box-shadow: 0px 1px 2px rgba(60, 64, 67, 0.3), 0px 1px 3px 1px rgba(60, 64, 67, 0.15);\n",
              "      fill: #174EA6;\n",
              "    }\n",
              "\n",
              "    [theme=dark] .colab-df-convert {\n",
              "      background-color: #3B4455;\n",
              "      fill: #D2E3FC;\n",
              "    }\n",
              "\n",
              "    [theme=dark] .colab-df-convert:hover {\n",
              "      background-color: #434B5C;\n",
              "      box-shadow: 0px 1px 3px 1px rgba(0, 0, 0, 0.15);\n",
              "      filter: drop-shadow(0px 1px 2px rgba(0, 0, 0, 0.3));\n",
              "      fill: #FFFFFF;\n",
              "    }\n",
              "  </style>\n",
              "\n",
              "      <script>\n",
              "        const buttonEl =\n",
              "          document.querySelector('#df-f325fac5-d314-411f-949b-f0f8e85e9c79 button.colab-df-convert');\n",
              "        buttonEl.style.display =\n",
              "          google.colab.kernel.accessAllowed ? 'block' : 'none';\n",
              "\n",
              "        async function convertToInteractive(key) {\n",
              "          const element = document.querySelector('#df-f325fac5-d314-411f-949b-f0f8e85e9c79');\n",
              "          const dataTable =\n",
              "            await google.colab.kernel.invokeFunction('convertToInteractive',\n",
              "                                                     [key], {});\n",
              "          if (!dataTable) return;\n",
              "\n",
              "          const docLinkHtml = 'Like what you see? Visit the ' +\n",
              "            '<a target=\"_blank\" href=https://colab.research.google.com/notebooks/data_table.ipynb>data table notebook</a>'\n",
              "            + ' to learn more about interactive tables.';\n",
              "          element.innerHTML = '';\n",
              "          dataTable['output_type'] = 'display_data';\n",
              "          await google.colab.output.renderOutput(dataTable, element);\n",
              "          const docLink = document.createElement('div');\n",
              "          docLink.innerHTML = docLinkHtml;\n",
              "          element.appendChild(docLink);\n",
              "        }\n",
              "      </script>\n",
              "    </div>\n",
              "  </div>\n",
              "  "
            ]
          },
          "metadata": {},
          "execution_count": 9
        }
      ]
    },
    {
      "cell_type": "code",
      "source": [
        "#缺失值处理\n",
        "red['age'] = red['age'].fillna(red['age'].median())\n",
        "red['gender'] = red['gender'].fillna('Unknown')\n",
        "red['engaged_last_30'] = red['engaged_last_30'].fillna('Unknown')"
      ],
      "metadata": {
        "id": "pmLKSecSbyJK"
      },
      "execution_count": null,
      "outputs": []
    },
    {
      "cell_type": "code",
      "source": [
        "red1 = pd.get_dummies(red)\n",
        "red1.head()"
      ],
      "metadata": {
        "colab": {
          "base_uri": "https://localhost:8080/",
          "height": 270
        },
        "id": "wmPxB6THcOWm",
        "outputId": "3f70c7fd-7b0e-4c41-d2f4-a698e5750a6e"
      },
      "execution_count": null,
      "outputs": [
        {
          "output_type": "execute_result",
          "data": {
            "text/plain": [
              "   revenue   age   days_since_last_order   previous_order_amount  \\\n",
              "0    72.98  59.0                     4.26               2343.870   \n",
              "1   200.99  51.0                     0.94               8539.872   \n",
              "2    69.98  79.0                     4.29               1687.646   \n",
              "3   649.99  60.0                    14.90               3498.846   \n",
              "4    83.59  60.0                    21.13               3968.490   \n",
              "\n",
              "   3rd_party_stores  gender_0.0  gender_1.0  gender_Unknown  \\\n",
              "0                 0           0           1               0   \n",
              "1                 0           0           1               0   \n",
              "2                 1           0           1               0   \n",
              "3                 0           0           0               1   \n",
              "4                 4           0           0               1   \n",
              "\n",
              "   engaged_last_30_0.0  engaged_last_30_1.0  engaged_last_30_Unknown  \\\n",
              "0                    1                    0                        0   \n",
              "1                    1                    0                        0   \n",
              "2                    1                    0                        0   \n",
              "3                    0                    0                        1   \n",
              "4                    0                    0                        1   \n",
              "\n",
              "   lifecycle_A  lifecycle_B  lifecycle_C  \n",
              "0            0            1            0  \n",
              "1            1            0            0  \n",
              "2            0            0            1  \n",
              "3            0            0            1  \n",
              "4            0            0            1  "
            ],
            "text/html": [
              "\n",
              "  <div id=\"df-6f8da134-913d-480c-b851-db30496c747e\">\n",
              "    <div class=\"colab-df-container\">\n",
              "      <div>\n",
              "<style scoped>\n",
              "    .dataframe tbody tr th:only-of-type {\n",
              "        vertical-align: middle;\n",
              "    }\n",
              "\n",
              "    .dataframe tbody tr th {\n",
              "        vertical-align: top;\n",
              "    }\n",
              "\n",
              "    .dataframe thead th {\n",
              "        text-align: right;\n",
              "    }\n",
              "</style>\n",
              "<table border=\"1\" class=\"dataframe\">\n",
              "  <thead>\n",
              "    <tr style=\"text-align: right;\">\n",
              "      <th></th>\n",
              "      <th>revenue</th>\n",
              "      <th>age</th>\n",
              "      <th>days_since_last_order</th>\n",
              "      <th>previous_order_amount</th>\n",
              "      <th>3rd_party_stores</th>\n",
              "      <th>gender_0.0</th>\n",
              "      <th>gender_1.0</th>\n",
              "      <th>gender_Unknown</th>\n",
              "      <th>engaged_last_30_0.0</th>\n",
              "      <th>engaged_last_30_1.0</th>\n",
              "      <th>engaged_last_30_Unknown</th>\n",
              "      <th>lifecycle_A</th>\n",
              "      <th>lifecycle_B</th>\n",
              "      <th>lifecycle_C</th>\n",
              "    </tr>\n",
              "  </thead>\n",
              "  <tbody>\n",
              "    <tr>\n",
              "      <th>0</th>\n",
              "      <td>72.98</td>\n",
              "      <td>59.0</td>\n",
              "      <td>4.26</td>\n",
              "      <td>2343.870</td>\n",
              "      <td>0</td>\n",
              "      <td>0</td>\n",
              "      <td>1</td>\n",
              "      <td>0</td>\n",
              "      <td>1</td>\n",
              "      <td>0</td>\n",
              "      <td>0</td>\n",
              "      <td>0</td>\n",
              "      <td>1</td>\n",
              "      <td>0</td>\n",
              "    </tr>\n",
              "    <tr>\n",
              "      <th>1</th>\n",
              "      <td>200.99</td>\n",
              "      <td>51.0</td>\n",
              "      <td>0.94</td>\n",
              "      <td>8539.872</td>\n",
              "      <td>0</td>\n",
              "      <td>0</td>\n",
              "      <td>1</td>\n",
              "      <td>0</td>\n",
              "      <td>1</td>\n",
              "      <td>0</td>\n",
              "      <td>0</td>\n",
              "      <td>1</td>\n",
              "      <td>0</td>\n",
              "      <td>0</td>\n",
              "    </tr>\n",
              "    <tr>\n",
              "      <th>2</th>\n",
              "      <td>69.98</td>\n",
              "      <td>79.0</td>\n",
              "      <td>4.29</td>\n",
              "      <td>1687.646</td>\n",
              "      <td>1</td>\n",
              "      <td>0</td>\n",
              "      <td>1</td>\n",
              "      <td>0</td>\n",
              "      <td>1</td>\n",
              "      <td>0</td>\n",
              "      <td>0</td>\n",
              "      <td>0</td>\n",
              "      <td>0</td>\n",
              "      <td>1</td>\n",
              "    </tr>\n",
              "    <tr>\n",
              "      <th>3</th>\n",
              "      <td>649.99</td>\n",
              "      <td>60.0</td>\n",
              "      <td>14.90</td>\n",
              "      <td>3498.846</td>\n",
              "      <td>0</td>\n",
              "      <td>0</td>\n",
              "      <td>0</td>\n",
              "      <td>1</td>\n",
              "      <td>0</td>\n",
              "      <td>0</td>\n",
              "      <td>1</td>\n",
              "      <td>0</td>\n",
              "      <td>0</td>\n",
              "      <td>1</td>\n",
              "    </tr>\n",
              "    <tr>\n",
              "      <th>4</th>\n",
              "      <td>83.59</td>\n",
              "      <td>60.0</td>\n",
              "      <td>21.13</td>\n",
              "      <td>3968.490</td>\n",
              "      <td>4</td>\n",
              "      <td>0</td>\n",
              "      <td>0</td>\n",
              "      <td>1</td>\n",
              "      <td>0</td>\n",
              "      <td>0</td>\n",
              "      <td>1</td>\n",
              "      <td>0</td>\n",
              "      <td>0</td>\n",
              "      <td>1</td>\n",
              "    </tr>\n",
              "  </tbody>\n",
              "</table>\n",
              "</div>\n",
              "      <button class=\"colab-df-convert\" onclick=\"convertToInteractive('df-6f8da134-913d-480c-b851-db30496c747e')\"\n",
              "              title=\"Convert this dataframe to an interactive table.\"\n",
              "              style=\"display:none;\">\n",
              "        \n",
              "  <svg xmlns=\"http://www.w3.org/2000/svg\" height=\"24px\"viewBox=\"0 0 24 24\"\n",
              "       width=\"24px\">\n",
              "    <path d=\"M0 0h24v24H0V0z\" fill=\"none\"/>\n",
              "    <path d=\"M18.56 5.44l.94 2.06.94-2.06 2.06-.94-2.06-.94-.94-2.06-.94 2.06-2.06.94zm-11 1L8.5 8.5l.94-2.06 2.06-.94-2.06-.94L8.5 2.5l-.94 2.06-2.06.94zm10 10l.94 2.06.94-2.06 2.06-.94-2.06-.94-.94-2.06-.94 2.06-2.06.94z\"/><path d=\"M17.41 7.96l-1.37-1.37c-.4-.4-.92-.59-1.43-.59-.52 0-1.04.2-1.43.59L10.3 9.45l-7.72 7.72c-.78.78-.78 2.05 0 2.83L4 21.41c.39.39.9.59 1.41.59.51 0 1.02-.2 1.41-.59l7.78-7.78 2.81-2.81c.8-.78.8-2.07 0-2.86zM5.41 20L4 18.59l7.72-7.72 1.47 1.35L5.41 20z\"/>\n",
              "  </svg>\n",
              "      </button>\n",
              "      \n",
              "  <style>\n",
              "    .colab-df-container {\n",
              "      display:flex;\n",
              "      flex-wrap:wrap;\n",
              "      gap: 12px;\n",
              "    }\n",
              "\n",
              "    .colab-df-convert {\n",
              "      background-color: #E8F0FE;\n",
              "      border: none;\n",
              "      border-radius: 50%;\n",
              "      cursor: pointer;\n",
              "      display: none;\n",
              "      fill: #1967D2;\n",
              "      height: 32px;\n",
              "      padding: 0 0 0 0;\n",
              "      width: 32px;\n",
              "    }\n",
              "\n",
              "    .colab-df-convert:hover {\n",
              "      background-color: #E2EBFA;\n",
              "      box-shadow: 0px 1px 2px rgba(60, 64, 67, 0.3), 0px 1px 3px 1px rgba(60, 64, 67, 0.15);\n",
              "      fill: #174EA6;\n",
              "    }\n",
              "\n",
              "    [theme=dark] .colab-df-convert {\n",
              "      background-color: #3B4455;\n",
              "      fill: #D2E3FC;\n",
              "    }\n",
              "\n",
              "    [theme=dark] .colab-df-convert:hover {\n",
              "      background-color: #434B5C;\n",
              "      box-shadow: 0px 1px 3px 1px rgba(0, 0, 0, 0.15);\n",
              "      filter: drop-shadow(0px 1px 2px rgba(0, 0, 0, 0.3));\n",
              "      fill: #FFFFFF;\n",
              "    }\n",
              "  </style>\n",
              "\n",
              "      <script>\n",
              "        const buttonEl =\n",
              "          document.querySelector('#df-6f8da134-913d-480c-b851-db30496c747e button.colab-df-convert');\n",
              "        buttonEl.style.display =\n",
              "          google.colab.kernel.accessAllowed ? 'block' : 'none';\n",
              "\n",
              "        async function convertToInteractive(key) {\n",
              "          const element = document.querySelector('#df-6f8da134-913d-480c-b851-db30496c747e');\n",
              "          const dataTable =\n",
              "            await google.colab.kernel.invokeFunction('convertToInteractive',\n",
              "                                                     [key], {});\n",
              "          if (!dataTable) return;\n",
              "\n",
              "          const docLinkHtml = 'Like what you see? Visit the ' +\n",
              "            '<a target=\"_blank\" href=https://colab.research.google.com/notebooks/data_table.ipynb>data table notebook</a>'\n",
              "            + ' to learn more about interactive tables.';\n",
              "          element.innerHTML = '';\n",
              "          dataTable['output_type'] = 'display_data';\n",
              "          await google.colab.output.renderOutput(dataTable, element);\n",
              "          const docLink = document.createElement('div');\n",
              "          docLink.innerHTML = docLinkHtml;\n",
              "          element.appendChild(docLink);\n",
              "        }\n",
              "      </script>\n",
              "    </div>\n",
              "  </div>\n",
              "  "
            ]
          },
          "metadata": {},
          "execution_count": 11
        }
      ]
    },
    {
      "cell_type": "markdown",
      "source": [
        "# 2. 数据可视化"
      ],
      "metadata": {
        "id": "CQWj8cNJca-2"
      }
    },
    {
      "cell_type": "code",
      "source": [
        "sns.lineplot(x='age',y='revenue',data=red)"
      ],
      "metadata": {
        "colab": {
          "base_uri": "https://localhost:8080/",
          "height": 297
        },
        "id": "LIoEDZkAcdEe",
        "outputId": "c130e430-0791-4487-a49a-eb1ca194052a"
      },
      "execution_count": null,
      "outputs": [
        {
          "output_type": "execute_result",
          "data": {
            "text/plain": [
              "<matplotlib.axes._subplots.AxesSubplot at 0x7f3dd7ab22d0>"
            ]
          },
          "metadata": {},
          "execution_count": 17
        },
        {
          "output_type": "display_data",
          "data": {
            "text/plain": [
              "<Figure size 432x288 with 1 Axes>"
            ],
            "image/png": "[encoded data removed]"
          },
          "metadata": {
            "needs_background": "light"
          }
        }
      ]
    },
    {
      "cell_type": "markdown",
      "source": [
        "（1） 销售额在20-30岁之间是最高的，30岁之后的销售额相对平稳"
      ],
      "metadata": {
        "id": "s0I51b5MdEuK"
      }
    },
    {
      "cell_type": "code",
      "source": [
        "sns.regplot('previous_order_amount','revenue',data=red)"
      ],
      "metadata": {
        "colab": {
          "base_uri": "https://localhost:8080/",
          "height": 355
        },
        "id": "xe2hjycKdO7v",
        "outputId": "ea473de3-0dcf-40e5-8423-12b64d7dce0f"
      },
      "execution_count": null,
      "outputs": [
        {
          "output_type": "stream",
          "name": "stderr",
          "text": [
            "/usr/local/lib/python3.7/dist-packages/seaborn/_decorators.py:43: FutureWarning: Pass the following variables as keyword args: x, y. From version 0.12, the only valid positional argument will be `data`, and passing other arguments without an explicit keyword will result in an error or misinterpretation.\n",
            "  FutureWarning\n"
          ]
        },
        {
          "output_type": "execute_result",
          "data": {
            "text/plain": [
              "<matplotlib.axes._subplots.AxesSubplot at 0x7f3dc61700d0>"
            ]
          },
          "metadata": {},
          "execution_count": 19
        },
        {
          "output_type": "display_data",
          "data": {
            "text/plain": [
              "<Figure size 432x288 with 1 Axes>"
            ],
            "image/png": "[encoded data removed]"
          },
          "metadata": {
            "needs_background": "light"
          }
        }
      ]
    },
    {
      "cell_type": "code",
      "source": [
        "sns.regplot('age','revenue',data=red)"
      ],
      "metadata": {
        "colab": {
          "base_uri": "https://localhost:8080/",
          "height": 353
        },
        "id": "lv3CdzRrdi9d",
        "outputId": "b7686367-38d6-4146-d62f-dd5d8f62c6ba"
      },
      "execution_count": null,
      "outputs": [
        {
          "output_type": "stream",
          "name": "stderr",
          "text": [
            "/usr/local/lib/python3.7/dist-packages/seaborn/_decorators.py:43: FutureWarning: Pass the following variables as keyword args: x, y. From version 0.12, the only valid positional argument will be `data`, and passing other arguments without an explicit keyword will result in an error or misinterpretation.\n",
            "  FutureWarning\n"
          ]
        },
        {
          "output_type": "execute_result",
          "data": {
            "text/plain": [
              "<matplotlib.axes._subplots.AxesSubplot at 0x7f3dc60f9c10>"
            ]
          },
          "metadata": {},
          "execution_count": 20
        },
        {
          "output_type": "display_data",
          "data": {
            "text/plain": [
              "<Figure size 432x288 with 1 Axes>"
            ],
            "image/png": "[encoded data removed]"
          },
          "metadata": {
            "needs_background": "light"
          }
        }
      ]
    },
    {
      "cell_type": "markdown",
      "source": [
        "（2）根据上图，年龄、累计金额与销售额未显示出线性关系，同时，由于某些销售额过高导致无法区分销售额主要集中在哪个区间。"
      ],
      "metadata": {
        "id": "LJypdKdQdmh8"
      }
    },
    {
      "cell_type": "code",
      "source": [
        "bins=[0,100,1000,1200,1500,2000,5000,10000,100000]\n",
        "red1['revenue_level'] = pd.cut(red1['revenue'],bins,right=False)\n",
        "red1.groupby('revenue_level').revenue.describe()"
      ],
      "metadata": {
        "colab": {
          "base_uri": "https://localhost:8080/",
          "height": 331
        },
        "id": "2Mzmj57Cd7sh",
        "outputId": "5d9d9db1-b7dc-4bf6-ffae-8ed332e09881"
      },
      "execution_count": null,
      "outputs": [
        {
          "output_type": "execute_result",
          "data": {
            "text/plain": [
              "                   count          mean           std       min        25%  \\\n",
              "revenue_level                                                               \n",
              "[0, 100)          9970.0     56.737771     24.530894      0.02     35.990   \n",
              "[100, 1000)      16761.0    369.924863    242.519685    100.00    158.150   \n",
              "[1000, 1200)       796.0   1098.275573     59.316398   1000.06   1049.000   \n",
              "[1200, 1500)       755.0   1341.604563     88.727190   1200.00   1266.985   \n",
              "[1500, 2000)       584.0   1713.847178    142.700321   1500.01   1594.795   \n",
              "[2000, 5000)       532.0   2707.051090    657.146959   2000.04   2221.240   \n",
              "[5000, 10000)       39.0   6485.890769   1196.145429   5031.49   5545.200   \n",
              "[10000, 100000)     14.0  19985.749286  13404.103018  10689.11  11471.215   \n",
              "\n",
              "                       50%         75%       max  \n",
              "revenue_level                                     \n",
              "[0, 100)            57.980     74.9900     99.99  \n",
              "[100, 1000)        289.000    537.9900    999.99  \n",
              "[1000, 1200)      1097.300   1149.6200   1199.99  \n",
              "[1200, 1500)      1338.940   1415.9600   1499.99  \n",
              "[1500, 2000)      1691.110   1827.6725   1999.95  \n",
              "[2000, 5000)      2496.435   3015.7075   4970.42  \n",
              "[5000, 10000)     6301.930   7086.7800   9983.28  \n",
              "[10000, 100000)  15907.315  21928.2325  62100.00  "
            ],
            "text/html": [
              "\n",
              "  <div id=\"df-4e89e57f-0628-4dc9-a8f5-d3e77a1f09f8\">\n",
              "    <div class=\"colab-df-container\">\n",
              "      <div>\n",
              "<style scoped>\n",
              "    .dataframe tbody tr th:only-of-type {\n",
              "        vertical-align: middle;\n",
              "    }\n",
              "\n",
              "    .dataframe tbody tr th {\n",
              "        vertical-align: top;\n",
              "    }\n",
              "\n",
              "    .dataframe thead th {\n",
              "        text-align: right;\n",
              "    }\n",
              "</style>\n",
              "<table border=\"1\" class=\"dataframe\">\n",
              "  <thead>\n",
              "    <tr style=\"text-align: right;\">\n",
              "      <th></th>\n",
              "      <th>count</th>\n",
              "      <th>mean</th>\n",
              "      <th>std</th>\n",
              "      <th>min</th>\n",
              "      <th>25%</th>\n",
              "      <th>50%</th>\n",
              "      <th>75%</th>\n",
              "      <th>max</th>\n",
              "    </tr>\n",
              "    <tr>\n",
              "      <th>revenue_level</th>\n",
              "      <th></th>\n",
              "      <th></th>\n",
              "      <th></th>\n",
              "      <th></th>\n",
              "      <th></th>\n",
              "      <th></th>\n",
              "      <th></th>\n",
              "      <th></th>\n",
              "    </tr>\n",
              "  </thead>\n",
              "  <tbody>\n",
              "    <tr>\n",
              "      <th>[0, 100)</th>\n",
              "      <td>9970.0</td>\n",
              "      <td>56.737771</td>\n",
              "      <td>24.530894</td>\n",
              "      <td>0.02</td>\n",
              "      <td>35.990</td>\n",
              "      <td>57.980</td>\n",
              "      <td>74.9900</td>\n",
              "      <td>99.99</td>\n",
              "    </tr>\n",
              "    <tr>\n",
              "      <th>[100, 1000)</th>\n",
              "      <td>16761.0</td>\n",
              "      <td>369.924863</td>\n",
              "      <td>242.519685</td>\n",
              "      <td>100.00</td>\n",
              "      <td>158.150</td>\n",
              "      <td>289.000</td>\n",
              "      <td>537.9900</td>\n",
              "      <td>999.99</td>\n",
              "    </tr>\n",
              "    <tr>\n",
              "      <th>[1000, 1200)</th>\n",
              "      <td>796.0</td>\n",
              "      <td>1098.275573</td>\n",
              "      <td>59.316398</td>\n",
              "      <td>1000.06</td>\n",
              "      <td>1049.000</td>\n",
              "      <td>1097.300</td>\n",
              "      <td>1149.6200</td>\n",
              "      <td>1199.99</td>\n",
              "    </tr>\n",
              "    <tr>\n",
              "      <th>[1200, 1500)</th>\n",
              "      <td>755.0</td>\n",
              "      <td>1341.604563</td>\n",
              "      <td>88.727190</td>\n",
              "      <td>1200.00</td>\n",
              "      <td>1266.985</td>\n",
              "      <td>1338.940</td>\n",
              "      <td>1415.9600</td>\n",
              "      <td>1499.99</td>\n",
              "    </tr>\n",
              "    <tr>\n",
              "      <th>[1500, 2000)</th>\n",
              "      <td>584.0</td>\n",
              "      <td>1713.847178</td>\n",
              "      <td>142.700321</td>\n",
              "      <td>1500.01</td>\n",
              "      <td>1594.795</td>\n",
              "      <td>1691.110</td>\n",
              "      <td>1827.6725</td>\n",
              "      <td>1999.95</td>\n",
              "    </tr>\n",
              "    <tr>\n",
              "      <th>[2000, 5000)</th>\n",
              "      <td>532.0</td>\n",
              "      <td>2707.051090</td>\n",
              "      <td>657.146959</td>\n",
              "      <td>2000.04</td>\n",
              "      <td>2221.240</td>\n",
              "      <td>2496.435</td>\n",
              "      <td>3015.7075</td>\n",
              "      <td>4970.42</td>\n",
              "    </tr>\n",
              "    <tr>\n",
              "      <th>[5000, 10000)</th>\n",
              "      <td>39.0</td>\n",
              "      <td>6485.890769</td>\n",
              "      <td>1196.145429</td>\n",
              "      <td>5031.49</td>\n",
              "      <td>5545.200</td>\n",
              "      <td>6301.930</td>\n",
              "      <td>7086.7800</td>\n",
              "      <td>9983.28</td>\n",
              "    </tr>\n",
              "    <tr>\n",
              "      <th>[10000, 100000)</th>\n",
              "      <td>14.0</td>\n",
              "      <td>19985.749286</td>\n",
              "      <td>13404.103018</td>\n",
              "      <td>10689.11</td>\n",
              "      <td>11471.215</td>\n",
              "      <td>15907.315</td>\n",
              "      <td>21928.2325</td>\n",
              "      <td>62100.00</td>\n",
              "    </tr>\n",
              "  </tbody>\n",
              "</table>\n",
              "</div>\n",
              "      <button class=\"colab-df-convert\" onclick=\"convertToInteractive('df-4e89e57f-0628-4dc9-a8f5-d3e77a1f09f8')\"\n",
              "              title=\"Convert this dataframe to an interactive table.\"\n",
              "              style=\"display:none;\">\n",
              "        \n",
              "  <svg xmlns=\"http://www.w3.org/2000/svg\" height=\"24px\"viewBox=\"0 0 24 24\"\n",
              "       width=\"24px\">\n",
              "    <path d=\"M0 0h24v24H0V0z\" fill=\"none\"/>\n",
              "    <path d=\"M18.56 5.44l.94 2.06.94-2.06 2.06-.94-2.06-.94-.94-2.06-.94 2.06-2.06.94zm-11 1L8.5 8.5l.94-2.06 2.06-.94-2.06-.94L8.5 2.5l-.94 2.06-2.06.94zm10 10l.94 2.06.94-2.06 2.06-.94-2.06-.94-.94-2.06-.94 2.06-2.06.94z\"/><path d=\"M17.41 7.96l-1.37-1.37c-.4-.4-.92-.59-1.43-.59-.52 0-1.04.2-1.43.59L10.3 9.45l-7.72 7.72c-.78.78-.78 2.05 0 2.83L4 21.41c.39.39.9.59 1.41.59.51 0 1.02-.2 1.41-.59l7.78-7.78 2.81-2.81c.8-.78.8-2.07 0-2.86zM5.41 20L4 18.59l7.72-7.72 1.47 1.35L5.41 20z\"/>\n",
              "  </svg>\n",
              "      </button>\n",
              "      \n",
              "  <style>\n",
              "    .colab-df-container {\n",
              "      display:flex;\n",
              "      flex-wrap:wrap;\n",
              "      gap: 12px;\n",
              "    }\n",
              "\n",
              "    .colab-df-convert {\n",
              "      background-color: #E8F0FE;\n",
              "      border: none;\n",
              "      border-radius: 50%;\n",
              "      cursor: pointer;\n",
              "      display: none;\n",
              "      fill: #1967D2;\n",
              "      height: 32px;\n",
              "      padding: 0 0 0 0;\n",
              "      width: 32px;\n",
              "    }\n",
              "\n",
              "    .colab-df-convert:hover {\n",
              "      background-color: #E2EBFA;\n",
              "      box-shadow: 0px 1px 2px rgba(60, 64, 67, 0.3), 0px 1px 3px 1px rgba(60, 64, 67, 0.15);\n",
              "      fill: #174EA6;\n",
              "    }\n",
              "\n",
              "    [theme=dark] .colab-df-convert {\n",
              "      background-color: #3B4455;\n",
              "      fill: #D2E3FC;\n",
              "    }\n",
              "\n",
              "    [theme=dark] .colab-df-convert:hover {\n",
              "      background-color: #434B5C;\n",
              "      box-shadow: 0px 1px 3px 1px rgba(0, 0, 0, 0.15);\n",
              "      filter: drop-shadow(0px 1px 2px rgba(0, 0, 0, 0.3));\n",
              "      fill: #FFFFFF;\n",
              "    }\n",
              "  </style>\n",
              "\n",
              "      <script>\n",
              "        const buttonEl =\n",
              "          document.querySelector('#df-4e89e57f-0628-4dc9-a8f5-d3e77a1f09f8 button.colab-df-convert');\n",
              "        buttonEl.style.display =\n",
              "          google.colab.kernel.accessAllowed ? 'block' : 'none';\n",
              "\n",
              "        async function convertToInteractive(key) {\n",
              "          const element = document.querySelector('#df-4e89e57f-0628-4dc9-a8f5-d3e77a1f09f8');\n",
              "          const dataTable =\n",
              "            await google.colab.kernel.invokeFunction('convertToInteractive',\n",
              "                                                     [key], {});\n",
              "          if (!dataTable) return;\n",
              "\n",
              "          const docLinkHtml = 'Like what you see? Visit the ' +\n",
              "            '<a target=\"_blank\" href=https://colab.research.google.com/notebooks/data_table.ipynb>data table notebook</a>'\n",
              "            + ' to learn more about interactive tables.';\n",
              "          element.innerHTML = '';\n",
              "          dataTable['output_type'] = 'display_data';\n",
              "          await google.colab.output.renderOutput(dataTable, element);\n",
              "          const docLink = document.createElement('div');\n",
              "          docLink.innerHTML = docLinkHtml;\n",
              "          element.appendChild(docLink);\n",
              "        }\n",
              "      </script>\n",
              "    </div>\n",
              "  </div>\n",
              "  "
            ]
          },
          "metadata": {},
          "execution_count": 22
        }
      ]
    },
    {
      "cell_type": "code",
      "source": [
        "#根据上表可知，5000元以上的销售额数量很小，因此筛选出销售额小于5000元的数据进行分析\n",
        "red2=red1[red1['revenue']<5001]\n",
        "sns.regplot('previous_order_amount','revenue',data=red2,line_kws={'color':'red','lw':3})"
      ],
      "metadata": {
        "colab": {
          "base_uri": "https://localhost:8080/",
          "height": 355
        },
        "id": "Nwacds5deh42",
        "outputId": "18071c7c-b091-417f-96e3-e81e2e4e0983"
      },
      "execution_count": null,
      "outputs": [
        {
          "output_type": "stream",
          "name": "stderr",
          "text": [
            "/usr/local/lib/python3.7/dist-packages/seaborn/_decorators.py:43: FutureWarning: Pass the following variables as keyword args: x, y. From version 0.12, the only valid positional argument will be `data`, and passing other arguments without an explicit keyword will result in an error or misinterpretation.\n",
            "  FutureWarning\n"
          ]
        },
        {
          "output_type": "execute_result",
          "data": {
            "text/plain": [
              "<matplotlib.axes._subplots.AxesSubplot at 0x7f3dc5dd5410>"
            ]
          },
          "metadata": {},
          "execution_count": 30
        },
        {
          "output_type": "display_data",
          "data": {
            "text/plain": [
              "<Figure size 432x288 with 1 Axes>"
            ],
            "image/png": "[encoded data removed]"
          },
          "metadata": {
            "needs_background": "light"
          }
        }
      ]
    },
    {
      "cell_type": "code",
      "source": [
        "sns.regplot('age','revenue',data=red2,line_kws={'color':'red','lw':3})"
      ],
      "metadata": {
        "colab": {
          "base_uri": "https://localhost:8080/",
          "height": 353
        },
        "id": "Ic_9ucnBkrpV",
        "outputId": "8cf0d46f-c34f-402f-def7-b1575d731684"
      },
      "execution_count": null,
      "outputs": [
        {
          "output_type": "stream",
          "name": "stderr",
          "text": [
            "/usr/local/lib/python3.7/dist-packages/seaborn/_decorators.py:43: FutureWarning: Pass the following variables as keyword args: x, y. From version 0.12, the only valid positional argument will be `data`, and passing other arguments without an explicit keyword will result in an error or misinterpretation.\n",
            "  FutureWarning\n"
          ]
        },
        {
          "output_type": "execute_result",
          "data": {
            "text/plain": [
              "<matplotlib.axes._subplots.AxesSubplot at 0x7f3db7e980d0>"
            ]
          },
          "metadata": {},
          "execution_count": 54
        },
        {
          "output_type": "display_data",
          "data": {
            "text/plain": [
              "<Figure size 432x288 with 1 Axes>"
            ],
            "image/png": "[encoded data removed]"
          },
          "metadata": {
            "needs_background": "light"
          }
        }
      ]
    },
    {
      "cell_type": "markdown",
      "source": [
        "# 3. 模型构建"
      ],
      "metadata": {
        "id": "kKz061_FgSL9"
      }
    },
    {
      "cell_type": "code",
      "source": [
        "a=red1.corr()[['revenue']].sort_values('revenue',ascending=False)\n",
        "a"
      ],
      "metadata": {
        "colab": {
          "base_uri": "https://localhost:8080/",
          "height": 488
        },
        "id": "pe8tPglvgWip",
        "outputId": "ddd1866f-e623-441a-b20f-7794d201a6f1"
      },
      "execution_count": null,
      "outputs": [
        {
          "output_type": "execute_result",
          "data": {
            "text/plain": [
              "                          revenue\n",
              "revenue                  1.000000\n",
              "previous_order_amount    0.168540\n",
              "engaged_last_30_1.0      0.038287\n",
              " days_since_last_order   0.036654\n",
              "gender_Unknown           0.017722\n",
              "engaged_last_30_Unknown  0.017722\n",
              "lifecycle_A              0.013683\n",
              "lifecycle_C             -0.002221\n",
              "lifecycle_B             -0.008651\n",
              "gender_1.0              -0.012422\n",
              "gender_0.0              -0.014914\n",
              "3rd_party_stores        -0.026398\n",
              "engaged_last_30_0.0     -0.033274\n",
              "age                     -0.036281"
            ],
            "text/html": [
              "\n",
              "  <div id=\"df-6044569e-927b-4f5d-975f-e6ef267bc4da\">\n",
              "    <div class=\"colab-df-container\">\n",
              "      <div>\n",
              "<style scoped>\n",
              "    .dataframe tbody tr th:only-of-type {\n",
              "        vertical-align: middle;\n",
              "    }\n",
              "\n",
              "    .dataframe tbody tr th {\n",
              "        vertical-align: top;\n",
              "    }\n",
              "\n",
              "    .dataframe thead th {\n",
              "        text-align: right;\n",
              "    }\n",
              "</style>\n",
              "<table border=\"1\" class=\"dataframe\">\n",
              "  <thead>\n",
              "    <tr style=\"text-align: right;\">\n",
              "      <th></th>\n",
              "      <th>revenue</th>\n",
              "    </tr>\n",
              "  </thead>\n",
              "  <tbody>\n",
              "    <tr>\n",
              "      <th>revenue</th>\n",
              "      <td>1.000000</td>\n",
              "    </tr>\n",
              "    <tr>\n",
              "      <th>previous_order_amount</th>\n",
              "      <td>0.168540</td>\n",
              "    </tr>\n",
              "    <tr>\n",
              "      <th>engaged_last_30_1.0</th>\n",
              "      <td>0.038287</td>\n",
              "    </tr>\n",
              "    <tr>\n",
              "      <th>days_since_last_order</th>\n",
              "      <td>0.036654</td>\n",
              "    </tr>\n",
              "    <tr>\n",
              "      <th>gender_Unknown</th>\n",
              "      <td>0.017722</td>\n",
              "    </tr>\n",
              "    <tr>\n",
              "      <th>engaged_last_30_Unknown</th>\n",
              "      <td>0.017722</td>\n",
              "    </tr>\n",
              "    <tr>\n",
              "      <th>lifecycle_A</th>\n",
              "      <td>0.013683</td>\n",
              "    </tr>\n",
              "    <tr>\n",
              "      <th>lifecycle_C</th>\n",
              "      <td>-0.002221</td>\n",
              "    </tr>\n",
              "    <tr>\n",
              "      <th>lifecycle_B</th>\n",
              "      <td>-0.008651</td>\n",
              "    </tr>\n",
              "    <tr>\n",
              "      <th>gender_1.0</th>\n",
              "      <td>-0.012422</td>\n",
              "    </tr>\n",
              "    <tr>\n",
              "      <th>gender_0.0</th>\n",
              "      <td>-0.014914</td>\n",
              "    </tr>\n",
              "    <tr>\n",
              "      <th>3rd_party_stores</th>\n",
              "      <td>-0.026398</td>\n",
              "    </tr>\n",
              "    <tr>\n",
              "      <th>engaged_last_30_0.0</th>\n",
              "      <td>-0.033274</td>\n",
              "    </tr>\n",
              "    <tr>\n",
              "      <th>age</th>\n",
              "      <td>-0.036281</td>\n",
              "    </tr>\n",
              "  </tbody>\n",
              "</table>\n",
              "</div>\n",
              "      <button class=\"colab-df-convert\" onclick=\"convertToInteractive('df-6044569e-927b-4f5d-975f-e6ef267bc4da')\"\n",
              "              title=\"Convert this dataframe to an interactive table.\"\n",
              "              style=\"display:none;\">\n",
              "        \n",
              "  <svg xmlns=\"http://www.w3.org/2000/svg\" height=\"24px\"viewBox=\"0 0 24 24\"\n",
              "       width=\"24px\">\n",
              "    <path d=\"M0 0h24v24H0V0z\" fill=\"none\"/>\n",
              "    <path d=\"M18.56 5.44l.94 2.06.94-2.06 2.06-.94-2.06-.94-.94-2.06-.94 2.06-2.06.94zm-11 1L8.5 8.5l.94-2.06 2.06-.94-2.06-.94L8.5 2.5l-.94 2.06-2.06.94zm10 10l.94 2.06.94-2.06 2.06-.94-2.06-.94-.94-2.06-.94 2.06-2.06.94z\"/><path d=\"M17.41 7.96l-1.37-1.37c-.4-.4-.92-.59-1.43-.59-.52 0-1.04.2-1.43.59L10.3 9.45l-7.72 7.72c-.78.78-.78 2.05 0 2.83L4 21.41c.39.39.9.59 1.41.59.51 0 1.02-.2 1.41-.59l7.78-7.78 2.81-2.81c.8-.78.8-2.07 0-2.86zM5.41 20L4 18.59l7.72-7.72 1.47 1.35L5.41 20z\"/>\n",
              "  </svg>\n",
              "      </button>\n",
              "      \n",
              "  <style>\n",
              "    .colab-df-container {\n",
              "      display:flex;\n",
              "      flex-wrap:wrap;\n",
              "      gap: 12px;\n",
              "    }\n",
              "\n",
              "    .colab-df-convert {\n",
              "      background-color: #E8F0FE;\n",
              "      border: none;\n",
              "      border-radius: 50%;\n",
              "      cursor: pointer;\n",
              "      display: none;\n",
              "      fill: #1967D2;\n",
              "      height: 32px;\n",
              "      padding: 0 0 0 0;\n",
              "      width: 32px;\n",
              "    }\n",
              "\n",
              "    .colab-df-convert:hover {\n",
              "      background-color: #E2EBFA;\n",
              "      box-shadow: 0px 1px 2px rgba(60, 64, 67, 0.3), 0px 1px 3px 1px rgba(60, 64, 67, 0.15);\n",
              "      fill: #174EA6;\n",
              "    }\n",
              "\n",
              "    [theme=dark] .colab-df-convert {\n",
              "      background-color: #3B4455;\n",
              "      fill: #D2E3FC;\n",
              "    }\n",
              "\n",
              "    [theme=dark] .colab-df-convert:hover {\n",
              "      background-color: #434B5C;\n",
              "      box-shadow: 0px 1px 3px 1px rgba(0, 0, 0, 0.15);\n",
              "      filter: drop-shadow(0px 1px 2px rgba(0, 0, 0, 0.3));\n",
              "      fill: #FFFFFF;\n",
              "    }\n",
              "  </style>\n",
              "\n",
              "      <script>\n",
              "        const buttonEl =\n",
              "          document.querySelector('#df-6044569e-927b-4f5d-975f-e6ef267bc4da button.colab-df-convert');\n",
              "        buttonEl.style.display =\n",
              "          google.colab.kernel.accessAllowed ? 'block' : 'none';\n",
              "\n",
              "        async function convertToInteractive(key) {\n",
              "          const element = document.querySelector('#df-6044569e-927b-4f5d-975f-e6ef267bc4da');\n",
              "          const dataTable =\n",
              "            await google.colab.kernel.invokeFunction('convertToInteractive',\n",
              "                                                     [key], {});\n",
              "          if (!dataTable) return;\n",
              "\n",
              "          const docLinkHtml = 'Like what you see? Visit the ' +\n",
              "            '<a target=\"_blank\" href=https://colab.research.google.com/notebooks/data_table.ipynb>data table notebook</a>'\n",
              "            + ' to learn more about interactive tables.';\n",
              "          element.innerHTML = '';\n",
              "          dataTable['output_type'] = 'display_data';\n",
              "          await google.colab.output.renderOutput(dataTable, element);\n",
              "          const docLink = document.createElement('div');\n",
              "          docLink.innerHTML = docLinkHtml;\n",
              "          element.appendChild(docLink);\n",
              "        }\n",
              "      </script>\n",
              "    </div>\n",
              "  </div>\n",
              "  "
            ]
          },
          "metadata": {},
          "execution_count": 53
        }
      ]
    },
    {
      "cell_type": "code",
      "source": [
        "sns.heatmap(a)"
      ],
      "metadata": {
        "colab": {
          "base_uri": "https://localhost:8080/",
          "height": 287
        },
        "id": "Inzpa-lrkaEp",
        "outputId": "0b9e48ac-e466-4088-b572-6714d7412fe6"
      },
      "execution_count": null,
      "outputs": [
        {
          "output_type": "execute_result",
          "data": {
            "text/plain": [
              "<matplotlib.axes._subplots.AxesSubplot at 0x7f3db7c29590>"
            ]
          },
          "metadata": {},
          "execution_count": 52
        },
        {
          "output_type": "display_data",
          "data": {
            "text/plain": [
              "<Figure size 432x288 with 2 Axes>"
            ],
            "image/png": "[encoded data removed]"
          },
          "metadata": {
            "needs_background": "light"
          }
        }
      ]
    },
    {
      "cell_type": "code",
      "source": [
        "from sklearn.linear_model import LinearRegression\n",
        "model = LinearRegression()\n",
        "x=red2[['previous_order_amount']]\n",
        "y=red2['revenue']\n",
        "model.fit(x,y)"
      ],
      "metadata": {
        "colab": {
          "base_uri": "https://localhost:8080/"
        },
        "id": "VYvQqIrIg-Ke",
        "outputId": "534c7a47-9431-4f97-c2f8-b8a5d2592eef"
      },
      "execution_count": null,
      "outputs": [
        {
          "output_type": "execute_result",
          "data": {
            "text/plain": [
              "LinearRegression()"
            ]
          },
          "metadata": {},
          "execution_count": 36
        }
      ]
    },
    {
      "cell_type": "code",
      "source": [
        "model.coef_"
      ],
      "metadata": {
        "colab": {
          "base_uri": "https://localhost:8080/"
        },
        "id": "VY_DpKgahfe5",
        "outputId": "ab67b188-c6e0-43ea-8c94-330f04c5e495"
      },
      "execution_count": null,
      "outputs": [
        {
          "output_type": "execute_result",
          "data": {
            "text/plain": [
              "array([0.04417161])"
            ]
          },
          "metadata": {},
          "execution_count": 37
        }
      ]
    },
    {
      "cell_type": "code",
      "source": [
        "model.intercept_"
      ],
      "metadata": {
        "colab": {
          "base_uri": "https://localhost:8080/"
        },
        "id": "dgwOl5QMhhi4",
        "outputId": "0631fa04-ceaa-4714-beef-b570c07edd3f"
      },
      "execution_count": null,
      "outputs": [
        {
          "output_type": "execute_result",
          "data": {
            "text/plain": [
              "274.0315166158015"
            ]
          },
          "metadata": {},
          "execution_count": 38
        }
      ]
    },
    {
      "cell_type": "code",
      "source": [
        "from statsmodels.formula.api import ols\n",
        "y=red2['revenue']\n",
        "x=red2[['previous_order_amount']]\n",
        "model = ols('y~x',red2).fit()\n",
        "print(model.summary())"
      ],
      "metadata": {
        "colab": {
          "base_uri": "https://localhost:8080/"
        },
        "id": "YYuv1rzkhnDk",
        "outputId": "a1c2115f-ef60-4dd6-c7f3-fec3454b4c48"
      },
      "execution_count": null,
      "outputs": [
        {
          "output_type": "stream",
          "name": "stderr",
          "text": [
            "/usr/local/lib/python3.7/dist-packages/statsmodels/tools/_testing.py:19: FutureWarning: pandas.util.testing is deprecated. Use the functions in the public API at pandas.testing instead.\n",
            "  import pandas.util.testing as tm\n"
          ]
        },
        {
          "output_type": "stream",
          "name": "stdout",
          "text": [
            "                            OLS Regression Results                            \n",
            "==============================================================================\n",
            "Dep. Variable:                      y   R-squared:                       0.044\n",
            "Model:                            OLS   Adj. R-squared:                  0.044\n",
            "Method:                 Least Squares   F-statistic:                     1348.\n",
            "Date:                Wed, 13 Apr 2022   Prob (F-statistic):          1.73e-288\n",
            "Time:                        06:06:24   Log-Likelihood:            -2.2368e+05\n",
            "No. Observations:               29398   AIC:                         4.474e+05\n",
            "Df Residuals:                   29396   BIC:                         4.474e+05\n",
            "Df Model:                           1                                         \n",
            "Covariance Type:            nonrobust                                         \n",
            "==============================================================================\n",
            "                 coef    std err          t      P>|t|      [0.025      0.975]\n",
            "------------------------------------------------------------------------------\n",
            "Intercept    274.0315      4.002     68.469      0.000     266.187     281.876\n",
            "x              0.0442      0.001     36.709      0.000       0.042       0.047\n",
            "==============================================================================\n",
            "Omnibus:                    18147.474   Durbin-Watson:                   1.967\n",
            "Prob(Omnibus):                  0.000   Jarque-Bera (JB):           214899.602\n",
            "Skew:                           2.830   Prob(JB):                         0.00\n",
            "Kurtosis:                      14.975   Cond. No.                     4.68e+03\n",
            "==============================================================================\n",
            "\n",
            "Warnings:\n",
            "[1] Standard Errors assume that the covariance matrix of the errors is correctly specified.\n",
            "[2] The condition number is large, 4.68e+03. This might indicate that there are\n",
            "strong multicollinearity or other numerical problems.\n"
          ]
        }
      ]
    },
    {
      "cell_type": "code",
      "source": [
        "model = LinearRegression()\n",
        "x=red2[['previous_order_amount','engaged_last_30_1.0',' days_since_last_order ']]\n",
        "y=red2['revenue']\n",
        "model = ols('y~x',red2).fit()\n",
        "print(model.summary())"
      ],
      "metadata": {
        "colab": {
          "base_uri": "https://localhost:8080/"
        },
        "id": "ArCe92lRiFAk",
        "outputId": "b46aae6d-0125-4683-9d4b-a2f6f3bf0a4b"
      },
      "execution_count": null,
      "outputs": [
        {
          "output_type": "stream",
          "name": "stdout",
          "text": [
            "                            OLS Regression Results                            \n",
            "==============================================================================\n",
            "Dep. Variable:                      y   R-squared:                       0.055\n",
            "Model:                            OLS   Adj. R-squared:                  0.055\n",
            "Method:                 Least Squares   F-statistic:                     574.2\n",
            "Date:                Wed, 13 Apr 2022   Prob (F-statistic):               0.00\n",
            "Time:                        06:25:37   Log-Likelihood:            -2.2350e+05\n",
            "No. Observations:               29398   AIC:                         4.470e+05\n",
            "Df Residuals:                   29394   BIC:                         4.470e+05\n",
            "Df Model:                           3                                         \n",
            "Covariance Type:            nonrobust                                         \n",
            "==============================================================================\n",
            "                 coef    std err          t      P>|t|      [0.025      0.975]\n",
            "------------------------------------------------------------------------------\n",
            "Intercept    206.1000      5.376     38.337      0.000     195.563     216.637\n",
            "x[0]           0.0454      0.001     37.414      0.000       0.043       0.048\n",
            "x[1]          48.9534     13.983      3.501      0.000      21.545      76.361\n",
            "x[2]           8.1507      0.437     18.638      0.000       7.294       9.008\n",
            "==============================================================================\n",
            "Omnibus:                    18255.578   Durbin-Watson:                   1.964\n",
            "Prob(Omnibus):                  0.000   Jarque-Bera (JB):           222465.433\n",
            "Skew:                           2.841   Prob(JB):                         0.00\n",
            "Kurtosis:                      15.220   Cond. No.                     1.65e+04\n",
            "==============================================================================\n",
            "\n",
            "Warnings:\n",
            "[1] Standard Errors assume that the covariance matrix of the errors is correctly specified.\n",
            "[2] The condition number is large, 1.65e+04. This might indicate that there are\n",
            "strong multicollinearity or other numerical problems.\n"
          ]
        }
      ]
    },
    {
      "cell_type": "markdown",
      "source": [
        "R方提升到0.055，依然很小，但误差减小了\n",
        "\n",
        "销售额=206.1 + 0.0454*previous_order_amount + 48.95*engaged_last_30_1.0 + 8.15*days_since_last_order\n",
        "\n",
        "## 结论\n",
        "\n",
        "* 最近30天参与重点活动的客户每增加1个，可获得58.95元的销售额回报；\n",
        "* 最近一次距今下单天数每增加1天，可获得8.15元的销售额回报；\n",
        "\n",
        "**综上，我们需要寻找累计销售额越高、最近三十天有在app上参与重点讨论，距今下单天数越长的用户,向这些用户展开营销活动，查看其消费情况，做进一步的测试。**\n"
      ],
      "metadata": {
        "id": "Uw2D7vnLip95"
      }
    }
  ]
}