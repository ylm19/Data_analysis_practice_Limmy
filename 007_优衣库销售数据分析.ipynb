{
  "nbformat": 4,
  "nbformat_minor": 0,
  "metadata": {
    "colab": {
      "provenance": [],
      "collapsed_sections": [],
      "authorship_tag": "ABX9TyOjTYasY8jeREoN01wfab0c",
      "include_colab_link": true
    },
    "kernelspec": {
      "name": "python3",
      "display_name": "Python 3"
    },
    "language_info": {
      "name": "python"
    }
  },
  "cells": [
    {
      "cell_type": "markdown",
      "metadata": {
        "id": "view-in-github",
        "colab_type": "text"
      },
      "source": [
        "<a href=\"https://colab.research.google.com/github/ylm19/Data_analysis_practice_Limmy/blob/main/007_%E4%BC%98%E8%A1%A3%E5%BA%93%E9%94%80%E5%94%AE%E6%95%B0%E6%8D%AE%E5%88%86%E6%9E%90.ipynb\" target=\"_parent\"><img src=\"https://colab.research.google.com/assets/colab-badge.svg\" alt=\"Open In Colab\"/></a>"
      ]
    },
    {
      "cell_type": "markdown",
      "source": [
        "# 背景\n",
        "优衣库（英文名称：UNIQLO, 日文假名发音：二二夕口），为日本迅销公司的核心品牌，建立于1984年，当年是一家销售西服的小服装店，现已成为国际知名服装品牌。优衣库现任董事长兼总经理柳井正在日本首次引进了大卖场式的服装销售方式，通过独特的商品策划、开发和销售体系来实现店铺运作的低成本化，由此引发了优衣库的热卖潮。\n",
        "\n",
        "该分析项目将根据优衣库的销售数据，利用Python进行可视化，并回答如下问题：\n",
        "\n",
        "\n",
        "1.   整体销售情况随时间的变化是怎样的？\n",
        "2.   不同产品的销售情况是怎样的？顾客偏爱哪一种购买方式\n",
        "3.   销售额和产品成本之间的关系怎么样？"
      ],
      "metadata": {
        "id": "jN0uN77w7bs2"
      }
    },
    {
      "cell_type": "markdown",
      "source": [
        "# 数据各字段的含义：\n",
        "Store_id： 门店随机编号id\n",
        "City： 门店所在城市\n",
        "\n",
        "Channel： 门店所产生的销售渠道，钱上表示网上购买到门店自提，线下表示门店直接购买\n",
        "\n",
        "gender_Group： 客户性别男女\n",
        "\n",
        "age_group: 客户年龄段\n",
        "\n",
        "wkd_ind: 购买发生的时间（周末，周中）\n",
        "\n",
        "Product: 产品类别\n",
        "\n",
        "customer: 客户数量\n",
        "\n",
        "revenue: 销售金额\n",
        "\n",
        "Order: 订单数量（1个客人可能多次购买）\n",
        "\n",
        "Quant: 购买的产品数量\n",
        "\n",
        "unit_cost: 产品的成本（包含制造和营销层面）"
      ],
      "metadata": {
        "id": "l5gvVL3H78qP"
      }
    },
    {
      "cell_type": "markdown",
      "source": [
        "\n",
        "## 一、数据清理"
      ],
      "metadata": {
        "id": "9VY8u41R8gnd"
      }
    },
    {
      "cell_type": "code",
      "execution_count": null,
      "metadata": {
        "id": "CMYcokgx7CUc"
      },
      "outputs": [],
      "source": [
        "import pandas as pd\n",
        "import numpy as np\n",
        "import matplotlib.pyplot as plt\n",
        "import seaborn as sns\n",
        "%matplotlib inline\n",
        "\n",
        "plt.style.use('seaborn-darkgrid')\n",
        "\n",
        "#忽略报错\n",
        "import warnings\n",
        "warnings.filterwarnings(\"ignore\")"
      ]
    },
    {
      "cell_type": "code",
      "source": [
        "!wget -O /usr/share/fonts/truetype/liberation/simhei.ttf \"https://www.wfonts.com/download/data/2014/06/01/simhei/chinese.simhei.ttf\"\n",
        "import matplotlib.pyplot as plt\n",
        "import matplotlib as mpl\n",
        "zhfont = mpl.font_manager.FontProperties(fname='/usr/share/fonts/truetype/liberation/simhei.ttf')\n",
        "plt.rcParams['axes.unicode_minus'] = False  # 用来正常显示负号\n",
        "from matplotlib import font_manager"
      ],
      "metadata": {
        "colab": {
          "base_uri": "https://localhost:8080/"
        },
        "id": "WfZez8m7FJFd",
        "outputId": "cb963a23-7334-4d4b-e707-6caa798fac66"
      },
      "execution_count": null,
      "outputs": [
        {
          "output_type": "stream",
          "name": "stdout",
          "text": [
            "--2022-04-07 12:51:45--  https://www.wfonts.com/download/data/2014/06/01/simhei/chinese.simhei.ttf\n",
            "Resolving www.wfonts.com (www.wfonts.com)... 104.225.219.210\n",
            "Connecting to www.wfonts.com (www.wfonts.com)|104.225.219.210|:443... connected.\n",
            "HTTP request sent, awaiting response... 200 OK\n",
            "Length: 10050870 (9.6M) [application/octetstream]\n",
            "Saving to: ‘/usr/share/fonts/truetype/liberation/simhei.ttf’\n",
            "\n",
            "/usr/share/fonts/tr 100%[===================>]   9.58M  62.2MB/s    in 0.2s    \n",
            "\n",
            "2022-04-07 12:51:45 (62.2 MB/s) - ‘/usr/share/fonts/truetype/liberation/simhei.ttf’ saved [10050870/10050870]\n",
            "\n"
          ]
        }
      ]
    },
    {
      "cell_type": "code",
      "source": [
        "df = pd.read_csv('/content/23 L2W1-优衣库数据.csv')\n",
        "df.info()"
      ],
      "metadata": {
        "colab": {
          "base_uri": "https://localhost:8080/"
        },
        "id": "a-oBkK228tvA",
        "outputId": "79be6a70-df42-4867-9eec-2a61943b0bbb"
      },
      "execution_count": null,
      "outputs": [
        {
          "output_type": "stream",
          "name": "stdout",
          "text": [
            "<class 'pandas.core.frame.DataFrame'>\n",
            "RangeIndex: 22293 entries, 0 to 22292\n",
            "Data columns (total 12 columns):\n",
            " #   Column        Non-Null Count  Dtype  \n",
            "---  ------        --------------  -----  \n",
            " 0   store_id      22293 non-null  int64  \n",
            " 1   city          22293 non-null  object \n",
            " 2   channel       22293 non-null  object \n",
            " 3   gender_group  22293 non-null  object \n",
            " 4   age_group     22293 non-null  object \n",
            " 5   wkd_ind       22293 non-null  object \n",
            " 6   product       22293 non-null  object \n",
            " 7   customer      22293 non-null  int64  \n",
            " 8   revenue       22293 non-null  float64\n",
            " 9   order         22293 non-null  int64  \n",
            " 10  quant         22293 non-null  int64  \n",
            " 11  unit_cost     22293 non-null  int64  \n",
            "dtypes: float64(1), int64(5), object(6)\n",
            "memory usage: 2.0+ MB\n"
          ]
        }
      ]
    },
    {
      "cell_type": "code",
      "source": [
        "df.head()"
      ],
      "metadata": {
        "id": "5vuvQPDP9-1r",
        "outputId": "8c3cb15d-c9c9-429e-c115-95d351e8523d",
        "colab": {
          "base_uri": "https://localhost:8080/",
          "height": 206
        }
      },
      "execution_count": null,
      "outputs": [
        {
          "output_type": "execute_result",
          "data": {
            "text/plain": [
              "   store_id city channel gender_group age_group  wkd_ind product  customer  \\\n",
              "0       658   深圳      线下       Female     25-29  Weekday    当季新品         4   \n",
              "1       146   杭州      线下       Female     25-29  Weekday      运动         1   \n",
              "2        70   深圳      线下         Male      >=60  Weekday      T恤         2   \n",
              "3       658   深圳      线下       Female     25-29  Weekday      T恤         1   \n",
              "4       229   深圳      线下         Male     20-24  Weekend      袜子         2   \n",
              "\n",
              "   revenue  order  quant  unit_cost  \n",
              "0    796.0      4      4         59  \n",
              "1    149.0      1      1         49  \n",
              "2    178.0      2      2         49  \n",
              "3     59.0      1      1         49  \n",
              "4     65.0      2      3          9  "
            ],
            "text/html": [
              "\n",
              "  <div id=\"df-8014073b-98d3-4e3f-bdfe-77a22d7c7052\">\n",
              "    <div class=\"colab-df-container\">\n",
              "      <div>\n",
              "<style scoped>\n",
              "    .dataframe tbody tr th:only-of-type {\n",
              "        vertical-align: middle;\n",
              "    }\n",
              "\n",
              "    .dataframe tbody tr th {\n",
              "        vertical-align: top;\n",
              "    }\n",
              "\n",
              "    .dataframe thead th {\n",
              "        text-align: right;\n",
              "    }\n",
              "</style>\n",
              "<table border=\"1\" class=\"dataframe\">\n",
              "  <thead>\n",
              "    <tr style=\"text-align: right;\">\n",
              "      <th></th>\n",
              "      <th>store_id</th>\n",
              "      <th>city</th>\n",
              "      <th>channel</th>\n",
              "      <th>gender_group</th>\n",
              "      <th>age_group</th>\n",
              "      <th>wkd_ind</th>\n",
              "      <th>product</th>\n",
              "      <th>customer</th>\n",
              "      <th>revenue</th>\n",
              "      <th>order</th>\n",
              "      <th>quant</th>\n",
              "      <th>unit_cost</th>\n",
              "    </tr>\n",
              "  </thead>\n",
              "  <tbody>\n",
              "    <tr>\n",
              "      <th>0</th>\n",
              "      <td>658</td>\n",
              "      <td>深圳</td>\n",
              "      <td>线下</td>\n",
              "      <td>Female</td>\n",
              "      <td>25-29</td>\n",
              "      <td>Weekday</td>\n",
              "      <td>当季新品</td>\n",
              "      <td>4</td>\n",
              "      <td>796.0</td>\n",
              "      <td>4</td>\n",
              "      <td>4</td>\n",
              "      <td>59</td>\n",
              "    </tr>\n",
              "    <tr>\n",
              "      <th>1</th>\n",
              "      <td>146</td>\n",
              "      <td>杭州</td>\n",
              "      <td>线下</td>\n",
              "      <td>Female</td>\n",
              "      <td>25-29</td>\n",
              "      <td>Weekday</td>\n",
              "      <td>运动</td>\n",
              "      <td>1</td>\n",
              "      <td>149.0</td>\n",
              "      <td>1</td>\n",
              "      <td>1</td>\n",
              "      <td>49</td>\n",
              "    </tr>\n",
              "    <tr>\n",
              "      <th>2</th>\n",
              "      <td>70</td>\n",
              "      <td>深圳</td>\n",
              "      <td>线下</td>\n",
              "      <td>Male</td>\n",
              "      <td>&gt;=60</td>\n",
              "      <td>Weekday</td>\n",
              "      <td>T恤</td>\n",
              "      <td>2</td>\n",
              "      <td>178.0</td>\n",
              "      <td>2</td>\n",
              "      <td>2</td>\n",
              "      <td>49</td>\n",
              "    </tr>\n",
              "    <tr>\n",
              "      <th>3</th>\n",
              "      <td>658</td>\n",
              "      <td>深圳</td>\n",
              "      <td>线下</td>\n",
              "      <td>Female</td>\n",
              "      <td>25-29</td>\n",
              "      <td>Weekday</td>\n",
              "      <td>T恤</td>\n",
              "      <td>1</td>\n",
              "      <td>59.0</td>\n",
              "      <td>1</td>\n",
              "      <td>1</td>\n",
              "      <td>49</td>\n",
              "    </tr>\n",
              "    <tr>\n",
              "      <th>4</th>\n",
              "      <td>229</td>\n",
              "      <td>深圳</td>\n",
              "      <td>线下</td>\n",
              "      <td>Male</td>\n",
              "      <td>20-24</td>\n",
              "      <td>Weekend</td>\n",
              "      <td>袜子</td>\n",
              "      <td>2</td>\n",
              "      <td>65.0</td>\n",
              "      <td>2</td>\n",
              "      <td>3</td>\n",
              "      <td>9</td>\n",
              "    </tr>\n",
              "  </tbody>\n",
              "</table>\n",
              "</div>\n",
              "      <button class=\"colab-df-convert\" onclick=\"convertToInteractive('df-8014073b-98d3-4e3f-bdfe-77a22d7c7052')\"\n",
              "              title=\"Convert this dataframe to an interactive table.\"\n",
              "              style=\"display:none;\">\n",
              "        \n",
              "  <svg xmlns=\"http://www.w3.org/2000/svg\" height=\"24px\"viewBox=\"0 0 24 24\"\n",
              "       width=\"24px\">\n",
              "    <path d=\"M0 0h24v24H0V0z\" fill=\"none\"/>\n",
              "    <path d=\"M18.56 5.44l.94 2.06.94-2.06 2.06-.94-2.06-.94-.94-2.06-.94 2.06-2.06.94zm-11 1L8.5 8.5l.94-2.06 2.06-.94-2.06-.94L8.5 2.5l-.94 2.06-2.06.94zm10 10l.94 2.06.94-2.06 2.06-.94-2.06-.94-.94-2.06-.94 2.06-2.06.94z\"/><path d=\"M17.41 7.96l-1.37-1.37c-.4-.4-.92-.59-1.43-.59-.52 0-1.04.2-1.43.59L10.3 9.45l-7.72 7.72c-.78.78-.78 2.05 0 2.83L4 21.41c.39.39.9.59 1.41.59.51 0 1.02-.2 1.41-.59l7.78-7.78 2.81-2.81c.8-.78.8-2.07 0-2.86zM5.41 20L4 18.59l7.72-7.72 1.47 1.35L5.41 20z\"/>\n",
              "  </svg>\n",
              "      </button>\n",
              "      \n",
              "  <style>\n",
              "    .colab-df-container {\n",
              "      display:flex;\n",
              "      flex-wrap:wrap;\n",
              "      gap: 12px;\n",
              "    }\n",
              "\n",
              "    .colab-df-convert {\n",
              "      background-color: #E8F0FE;\n",
              "      border: none;\n",
              "      border-radius: 50%;\n",
              "      cursor: pointer;\n",
              "      display: none;\n",
              "      fill: #1967D2;\n",
              "      height: 32px;\n",
              "      padding: 0 0 0 0;\n",
              "      width: 32px;\n",
              "    }\n",
              "\n",
              "    .colab-df-convert:hover {\n",
              "      background-color: #E2EBFA;\n",
              "      box-shadow: 0px 1px 2px rgba(60, 64, 67, 0.3), 0px 1px 3px 1px rgba(60, 64, 67, 0.15);\n",
              "      fill: #174EA6;\n",
              "    }\n",
              "\n",
              "    [theme=dark] .colab-df-convert {\n",
              "      background-color: #3B4455;\n",
              "      fill: #D2E3FC;\n",
              "    }\n",
              "\n",
              "    [theme=dark] .colab-df-convert:hover {\n",
              "      background-color: #434B5C;\n",
              "      box-shadow: 0px 1px 3px 1px rgba(0, 0, 0, 0.15);\n",
              "      filter: drop-shadow(0px 1px 2px rgba(0, 0, 0, 0.3));\n",
              "      fill: #FFFFFF;\n",
              "    }\n",
              "  </style>\n",
              "\n",
              "      <script>\n",
              "        const buttonEl =\n",
              "          document.querySelector('#df-8014073b-98d3-4e3f-bdfe-77a22d7c7052 button.colab-df-convert');\n",
              "        buttonEl.style.display =\n",
              "          google.colab.kernel.accessAllowed ? 'block' : 'none';\n",
              "\n",
              "        async function convertToInteractive(key) {\n",
              "          const element = document.querySelector('#df-8014073b-98d3-4e3f-bdfe-77a22d7c7052');\n",
              "          const dataTable =\n",
              "            await google.colab.kernel.invokeFunction('convertToInteractive',\n",
              "                                                     [key], {});\n",
              "          if (!dataTable) return;\n",
              "\n",
              "          const docLinkHtml = 'Like what you see? Visit the ' +\n",
              "            '<a target=\"_blank\" href=https://colab.research.google.com/notebooks/data_table.ipynb>data table notebook</a>'\n",
              "            + ' to learn more about interactive tables.';\n",
              "          element.innerHTML = '';\n",
              "          dataTable['output_type'] = 'display_data';\n",
              "          await google.colab.output.renderOutput(dataTable, element);\n",
              "          const docLink = document.createElement('div');\n",
              "          docLink.innerHTML = docLinkHtml;\n",
              "          element.appendChild(docLink);\n",
              "        }\n",
              "      </script>\n",
              "    </div>\n",
              "  </div>\n",
              "  "
            ]
          },
          "metadata": {},
          "execution_count": 5
        }
      ]
    },
    {
      "cell_type": "code",
      "source": [
        "print(df['gender_group'].value_counts())\n",
        "print(df['age_group'].value_counts())"
      ],
      "metadata": {
        "colab": {
          "base_uri": "https://localhost:8080/"
        },
        "id": "UkwZrLhmMGFF",
        "outputId": "9e6cbc62-2784-40c0-9b58-cb55873d225c"
      },
      "execution_count": null,
      "outputs": [
        {
          "output_type": "stream",
          "name": "stdout",
          "text": [
            "Female    14208\n",
            "Male       7967\n",
            "Unkown      118\n",
            "Name: gender_group, dtype: int64\n",
            "30-34     4426\n",
            "25-29     4224\n",
            "35-39     3691\n",
            "20-24     3345\n",
            "40-44     1955\n",
            ">=60      1574\n",
            "45-49     1095\n",
            "50-54      672\n",
            "<20        660\n",
            "55-59      514\n",
            "Unkown     137\n",
            "Name: age_group, dtype: int64\n"
          ]
        }
      ]
    },
    {
      "cell_type": "code",
      "source": [
        "# 删除性别和年龄Unknown的行\n",
        "df = df[~df['gender_group'].str.contains('Unkown') ]\n",
        "df = df[~df['age_group'].str.contains('Unkown') ]"
      ],
      "metadata": {
        "id": "0I-LLFQCMNFV"
      },
      "execution_count": null,
      "outputs": []
    },
    {
      "cell_type": "code",
      "source": [
        "df.isnull().sum()"
      ],
      "metadata": {
        "colab": {
          "base_uri": "https://localhost:8080/"
        },
        "id": "ESpJNRSs-dWb",
        "outputId": "90edb042-b873-48da-f40c-a49b2a2b31bd"
      },
      "execution_count": null,
      "outputs": [
        {
          "output_type": "execute_result",
          "data": {
            "text/plain": [
              "store_id        0\n",
              "city            0\n",
              "channel         0\n",
              "gender_group    0\n",
              "age_group       0\n",
              "wkd_ind         0\n",
              "product         0\n",
              "customer        0\n",
              "revenue         0\n",
              "order           0\n",
              "quant           0\n",
              "unit_cost       0\n",
              "dtype: int64"
            ]
          },
          "metadata": {},
          "execution_count": 8
        }
      ]
    },
    {
      "cell_type": "code",
      "source": [
        "df.describe()"
      ],
      "metadata": {
        "colab": {
          "base_uri": "https://localhost:8080/",
          "height": 300
        },
        "id": "znIjZ3mq-jyd",
        "outputId": "3d495c49-bfa4-4c87-c445-7167213ac803"
      },
      "execution_count": null,
      "outputs": [
        {
          "output_type": "execute_result",
          "data": {
            "text/plain": [
              "           store_id      customer       revenue         order         quant  \\\n",
              "count  22154.000000  22154.000000  22154.000000  22154.000000  22154.000000   \n",
              "mean     335.487948      1.633114    159.973413      1.655728      1.862553   \n",
              "std      230.307319      1.790498    277.025601      1.866550      2.353709   \n",
              "min       19.000000      1.000000     -0.660000      1.000000      1.000000   \n",
              "25%      142.000000      1.000000     65.307500      1.000000      1.000000   \n",
              "50%      315.000000      1.000000     99.000000      1.000000      1.000000   \n",
              "75%      480.000000      2.000000    176.000000      2.000000      2.000000   \n",
              "max      831.000000     58.000000  12538.000000     65.000000     84.000000   \n",
              "\n",
              "          unit_cost  \n",
              "count  22154.000000  \n",
              "mean      46.141825  \n",
              "std       19.126433  \n",
              "min        9.000000  \n",
              "25%       49.000000  \n",
              "50%       49.000000  \n",
              "75%       49.000000  \n",
              "max       99.000000  "
            ],
            "text/html": [
              "\n",
              "  <div id=\"df-b46e53b8-e5ad-40cb-8532-905163a047a0\">\n",
              "    <div class=\"colab-df-container\">\n",
              "      <div>\n",
              "<style scoped>\n",
              "    .dataframe tbody tr th:only-of-type {\n",
              "        vertical-align: middle;\n",
              "    }\n",
              "\n",
              "    .dataframe tbody tr th {\n",
              "        vertical-align: top;\n",
              "    }\n",
              "\n",
              "    .dataframe thead th {\n",
              "        text-align: right;\n",
              "    }\n",
              "</style>\n",
              "<table border=\"1\" class=\"dataframe\">\n",
              "  <thead>\n",
              "    <tr style=\"text-align: right;\">\n",
              "      <th></th>\n",
              "      <th>store_id</th>\n",
              "      <th>customer</th>\n",
              "      <th>revenue</th>\n",
              "      <th>order</th>\n",
              "      <th>quant</th>\n",
              "      <th>unit_cost</th>\n",
              "    </tr>\n",
              "  </thead>\n",
              "  <tbody>\n",
              "    <tr>\n",
              "      <th>count</th>\n",
              "      <td>22154.000000</td>\n",
              "      <td>22154.000000</td>\n",
              "      <td>22154.000000</td>\n",
              "      <td>22154.000000</td>\n",
              "      <td>22154.000000</td>\n",
              "      <td>22154.000000</td>\n",
              "    </tr>\n",
              "    <tr>\n",
              "      <th>mean</th>\n",
              "      <td>335.487948</td>\n",
              "      <td>1.633114</td>\n",
              "      <td>159.973413</td>\n",
              "      <td>1.655728</td>\n",
              "      <td>1.862553</td>\n",
              "      <td>46.141825</td>\n",
              "    </tr>\n",
              "    <tr>\n",
              "      <th>std</th>\n",
              "      <td>230.307319</td>\n",
              "      <td>1.790498</td>\n",
              "      <td>277.025601</td>\n",
              "      <td>1.866550</td>\n",
              "      <td>2.353709</td>\n",
              "      <td>19.126433</td>\n",
              "    </tr>\n",
              "    <tr>\n",
              "      <th>min</th>\n",
              "      <td>19.000000</td>\n",
              "      <td>1.000000</td>\n",
              "      <td>-0.660000</td>\n",
              "      <td>1.000000</td>\n",
              "      <td>1.000000</td>\n",
              "      <td>9.000000</td>\n",
              "    </tr>\n",
              "    <tr>\n",
              "      <th>25%</th>\n",
              "      <td>142.000000</td>\n",
              "      <td>1.000000</td>\n",
              "      <td>65.307500</td>\n",
              "      <td>1.000000</td>\n",
              "      <td>1.000000</td>\n",
              "      <td>49.000000</td>\n",
              "    </tr>\n",
              "    <tr>\n",
              "      <th>50%</th>\n",
              "      <td>315.000000</td>\n",
              "      <td>1.000000</td>\n",
              "      <td>99.000000</td>\n",
              "      <td>1.000000</td>\n",
              "      <td>1.000000</td>\n",
              "      <td>49.000000</td>\n",
              "    </tr>\n",
              "    <tr>\n",
              "      <th>75%</th>\n",
              "      <td>480.000000</td>\n",
              "      <td>2.000000</td>\n",
              "      <td>176.000000</td>\n",
              "      <td>2.000000</td>\n",
              "      <td>2.000000</td>\n",
              "      <td>49.000000</td>\n",
              "    </tr>\n",
              "    <tr>\n",
              "      <th>max</th>\n",
              "      <td>831.000000</td>\n",
              "      <td>58.000000</td>\n",
              "      <td>12538.000000</td>\n",
              "      <td>65.000000</td>\n",
              "      <td>84.000000</td>\n",
              "      <td>99.000000</td>\n",
              "    </tr>\n",
              "  </tbody>\n",
              "</table>\n",
              "</div>\n",
              "      <button class=\"colab-df-convert\" onclick=\"convertToInteractive('df-b46e53b8-e5ad-40cb-8532-905163a047a0')\"\n",
              "              title=\"Convert this dataframe to an interactive table.\"\n",
              "              style=\"display:none;\">\n",
              "        \n",
              "  <svg xmlns=\"http://www.w3.org/2000/svg\" height=\"24px\"viewBox=\"0 0 24 24\"\n",
              "       width=\"24px\">\n",
              "    <path d=\"M0 0h24v24H0V0z\" fill=\"none\"/>\n",
              "    <path d=\"M18.56 5.44l.94 2.06.94-2.06 2.06-.94-2.06-.94-.94-2.06-.94 2.06-2.06.94zm-11 1L8.5 8.5l.94-2.06 2.06-.94-2.06-.94L8.5 2.5l-.94 2.06-2.06.94zm10 10l.94 2.06.94-2.06 2.06-.94-2.06-.94-.94-2.06-.94 2.06-2.06.94z\"/><path d=\"M17.41 7.96l-1.37-1.37c-.4-.4-.92-.59-1.43-.59-.52 0-1.04.2-1.43.59L10.3 9.45l-7.72 7.72c-.78.78-.78 2.05 0 2.83L4 21.41c.39.39.9.59 1.41.59.51 0 1.02-.2 1.41-.59l7.78-7.78 2.81-2.81c.8-.78.8-2.07 0-2.86zM5.41 20L4 18.59l7.72-7.72 1.47 1.35L5.41 20z\"/>\n",
              "  </svg>\n",
              "      </button>\n",
              "      \n",
              "  <style>\n",
              "    .colab-df-container {\n",
              "      display:flex;\n",
              "      flex-wrap:wrap;\n",
              "      gap: 12px;\n",
              "    }\n",
              "\n",
              "    .colab-df-convert {\n",
              "      background-color: #E8F0FE;\n",
              "      border: none;\n",
              "      border-radius: 50%;\n",
              "      cursor: pointer;\n",
              "      display: none;\n",
              "      fill: #1967D2;\n",
              "      height: 32px;\n",
              "      padding: 0 0 0 0;\n",
              "      width: 32px;\n",
              "    }\n",
              "\n",
              "    .colab-df-convert:hover {\n",
              "      background-color: #E2EBFA;\n",
              "      box-shadow: 0px 1px 2px rgba(60, 64, 67, 0.3), 0px 1px 3px 1px rgba(60, 64, 67, 0.15);\n",
              "      fill: #174EA6;\n",
              "    }\n",
              "\n",
              "    [theme=dark] .colab-df-convert {\n",
              "      background-color: #3B4455;\n",
              "      fill: #D2E3FC;\n",
              "    }\n",
              "\n",
              "    [theme=dark] .colab-df-convert:hover {\n",
              "      background-color: #434B5C;\n",
              "      box-shadow: 0px 1px 3px 1px rgba(0, 0, 0, 0.15);\n",
              "      filter: drop-shadow(0px 1px 2px rgba(0, 0, 0, 0.3));\n",
              "      fill: #FFFFFF;\n",
              "    }\n",
              "  </style>\n",
              "\n",
              "      <script>\n",
              "        const buttonEl =\n",
              "          document.querySelector('#df-b46e53b8-e5ad-40cb-8532-905163a047a0 button.colab-df-convert');\n",
              "        buttonEl.style.display =\n",
              "          google.colab.kernel.accessAllowed ? 'block' : 'none';\n",
              "\n",
              "        async function convertToInteractive(key) {\n",
              "          const element = document.querySelector('#df-b46e53b8-e5ad-40cb-8532-905163a047a0');\n",
              "          const dataTable =\n",
              "            await google.colab.kernel.invokeFunction('convertToInteractive',\n",
              "                                                     [key], {});\n",
              "          if (!dataTable) return;\n",
              "\n",
              "          const docLinkHtml = 'Like what you see? Visit the ' +\n",
              "            '<a target=\"_blank\" href=https://colab.research.google.com/notebooks/data_table.ipynb>data table notebook</a>'\n",
              "            + ' to learn more about interactive tables.';\n",
              "          element.innerHTML = '';\n",
              "          dataTable['output_type'] = 'display_data';\n",
              "          await google.colab.output.renderOutput(dataTable, element);\n",
              "          const docLink = document.createElement('div');\n",
              "          docLink.innerHTML = docLinkHtml;\n",
              "          element.appendChild(docLink);\n",
              "        }\n",
              "      </script>\n",
              "    </div>\n",
              "  </div>\n",
              "  "
            ]
          },
          "metadata": {},
          "execution_count": 9
        }
      ]
    },
    {
      "cell_type": "code",
      "source": [
        "# 异常值处理-删除revenue负值数据\n",
        "df[df['revenue']<0]"
      ],
      "metadata": {
        "colab": {
          "base_uri": "https://localhost:8080/",
          "height": 81
        },
        "id": "A2RfbL9NDOTW",
        "outputId": "7ace2c92-3ccc-4db1-9b71-416046d67f7d"
      },
      "execution_count": null,
      "outputs": [
        {
          "output_type": "execute_result",
          "data": {
            "text/plain": [
              "       store_id city channel gender_group age_group  wkd_ind product  \\\n",
              "20049        91   武汉      线上       Female     55-59  Weekday      运动   \n",
              "\n",
              "       customer  revenue  order  quant  unit_cost  \n",
              "20049         1    -0.66      1      2         49  "
            ],
            "text/html": [
              "\n",
              "  <div id=\"df-e3b8bd57-382c-4715-82b7-7f5862cff6f3\">\n",
              "    <div class=\"colab-df-container\">\n",
              "      <div>\n",
              "<style scoped>\n",
              "    .dataframe tbody tr th:only-of-type {\n",
              "        vertical-align: middle;\n",
              "    }\n",
              "\n",
              "    .dataframe tbody tr th {\n",
              "        vertical-align: top;\n",
              "    }\n",
              "\n",
              "    .dataframe thead th {\n",
              "        text-align: right;\n",
              "    }\n",
              "</style>\n",
              "<table border=\"1\" class=\"dataframe\">\n",
              "  <thead>\n",
              "    <tr style=\"text-align: right;\">\n",
              "      <th></th>\n",
              "      <th>store_id</th>\n",
              "      <th>city</th>\n",
              "      <th>channel</th>\n",
              "      <th>gender_group</th>\n",
              "      <th>age_group</th>\n",
              "      <th>wkd_ind</th>\n",
              "      <th>product</th>\n",
              "      <th>customer</th>\n",
              "      <th>revenue</th>\n",
              "      <th>order</th>\n",
              "      <th>quant</th>\n",
              "      <th>unit_cost</th>\n",
              "    </tr>\n",
              "  </thead>\n",
              "  <tbody>\n",
              "    <tr>\n",
              "      <th>20049</th>\n",
              "      <td>91</td>\n",
              "      <td>武汉</td>\n",
              "      <td>线上</td>\n",
              "      <td>Female</td>\n",
              "      <td>55-59</td>\n",
              "      <td>Weekday</td>\n",
              "      <td>运动</td>\n",
              "      <td>1</td>\n",
              "      <td>-0.66</td>\n",
              "      <td>1</td>\n",
              "      <td>2</td>\n",
              "      <td>49</td>\n",
              "    </tr>\n",
              "  </tbody>\n",
              "</table>\n",
              "</div>\n",
              "      <button class=\"colab-df-convert\" onclick=\"convertToInteractive('df-e3b8bd57-382c-4715-82b7-7f5862cff6f3')\"\n",
              "              title=\"Convert this dataframe to an interactive table.\"\n",
              "              style=\"display:none;\">\n",
              "        \n",
              "  <svg xmlns=\"http://www.w3.org/2000/svg\" height=\"24px\"viewBox=\"0 0 24 24\"\n",
              "       width=\"24px\">\n",
              "    <path d=\"M0 0h24v24H0V0z\" fill=\"none\"/>\n",
              "    <path d=\"M18.56 5.44l.94 2.06.94-2.06 2.06-.94-2.06-.94-.94-2.06-.94 2.06-2.06.94zm-11 1L8.5 8.5l.94-2.06 2.06-.94-2.06-.94L8.5 2.5l-.94 2.06-2.06.94zm10 10l.94 2.06.94-2.06 2.06-.94-2.06-.94-.94-2.06-.94 2.06-2.06.94z\"/><path d=\"M17.41 7.96l-1.37-1.37c-.4-.4-.92-.59-1.43-.59-.52 0-1.04.2-1.43.59L10.3 9.45l-7.72 7.72c-.78.78-.78 2.05 0 2.83L4 21.41c.39.39.9.59 1.41.59.51 0 1.02-.2 1.41-.59l7.78-7.78 2.81-2.81c.8-.78.8-2.07 0-2.86zM5.41 20L4 18.59l7.72-7.72 1.47 1.35L5.41 20z\"/>\n",
              "  </svg>\n",
              "      </button>\n",
              "      \n",
              "  <style>\n",
              "    .colab-df-container {\n",
              "      display:flex;\n",
              "      flex-wrap:wrap;\n",
              "      gap: 12px;\n",
              "    }\n",
              "\n",
              "    .colab-df-convert {\n",
              "      background-color: #E8F0FE;\n",
              "      border: none;\n",
              "      border-radius: 50%;\n",
              "      cursor: pointer;\n",
              "      display: none;\n",
              "      fill: #1967D2;\n",
              "      height: 32px;\n",
              "      padding: 0 0 0 0;\n",
              "      width: 32px;\n",
              "    }\n",
              "\n",
              "    .colab-df-convert:hover {\n",
              "      background-color: #E2EBFA;\n",
              "      box-shadow: 0px 1px 2px rgba(60, 64, 67, 0.3), 0px 1px 3px 1px rgba(60, 64, 67, 0.15);\n",
              "      fill: #174EA6;\n",
              "    }\n",
              "\n",
              "    [theme=dark] .colab-df-convert {\n",
              "      background-color: #3B4455;\n",
              "      fill: #D2E3FC;\n",
              "    }\n",
              "\n",
              "    [theme=dark] .colab-df-convert:hover {\n",
              "      background-color: #434B5C;\n",
              "      box-shadow: 0px 1px 3px 1px rgba(0, 0, 0, 0.15);\n",
              "      filter: drop-shadow(0px 1px 2px rgba(0, 0, 0, 0.3));\n",
              "      fill: #FFFFFF;\n",
              "    }\n",
              "  </style>\n",
              "\n",
              "      <script>\n",
              "        const buttonEl =\n",
              "          document.querySelector('#df-e3b8bd57-382c-4715-82b7-7f5862cff6f3 button.colab-df-convert');\n",
              "        buttonEl.style.display =\n",
              "          google.colab.kernel.accessAllowed ? 'block' : 'none';\n",
              "\n",
              "        async function convertToInteractive(key) {\n",
              "          const element = document.querySelector('#df-e3b8bd57-382c-4715-82b7-7f5862cff6f3');\n",
              "          const dataTable =\n",
              "            await google.colab.kernel.invokeFunction('convertToInteractive',\n",
              "                                                     [key], {});\n",
              "          if (!dataTable) return;\n",
              "\n",
              "          const docLinkHtml = 'Like what you see? Visit the ' +\n",
              "            '<a target=\"_blank\" href=https://colab.research.google.com/notebooks/data_table.ipynb>data table notebook</a>'\n",
              "            + ' to learn more about interactive tables.';\n",
              "          element.innerHTML = '';\n",
              "          dataTable['output_type'] = 'display_data';\n",
              "          await google.colab.output.renderOutput(dataTable, element);\n",
              "          const docLink = document.createElement('div');\n",
              "          docLink.innerHTML = docLinkHtml;\n",
              "          element.appendChild(docLink);\n",
              "        }\n",
              "      </script>\n",
              "    </div>\n",
              "  </div>\n",
              "  "
            ]
          },
          "metadata": {},
          "execution_count": 18
        }
      ]
    },
    {
      "cell_type": "code",
      "source": [
        "df = df.drop(df[df['revenue']<0].index)"
      ],
      "metadata": {
        "id": "Lx10uAEBDhqG"
      },
      "execution_count": null,
      "outputs": []
    },
    {
      "cell_type": "code",
      "source": [
        "df.describe()"
      ],
      "metadata": {
        "colab": {
          "base_uri": "https://localhost:8080/",
          "height": 300
        },
        "id": "IMGqp2EvDtAf",
        "outputId": "d4493b08-4bb9-4983-b79e-59fa03bed167"
      },
      "execution_count": null,
      "outputs": [
        {
          "output_type": "execute_result",
          "data": {
            "text/plain": [
              "           store_id      customer       revenue         order         quant  \\\n",
              "count  22153.000000  22153.000000  22153.000000  22153.000000  22153.000000   \n",
              "mean     335.498984      1.633142    159.980664      1.655758      1.862547   \n",
              "std      230.306659      1.790534    277.029751      1.866587      2.353762   \n",
              "min       19.000000      1.000000      0.000000      1.000000      1.000000   \n",
              "25%      142.000000      1.000000     65.510000      1.000000      1.000000   \n",
              "50%      315.000000      1.000000     99.000000      1.000000      1.000000   \n",
              "75%      480.000000      2.000000    176.000000      2.000000      2.000000   \n",
              "max      831.000000     58.000000  12538.000000     65.000000     84.000000   \n",
              "\n",
              "          unit_cost  \n",
              "count  22153.000000  \n",
              "mean      46.141696  \n",
              "std       19.126855  \n",
              "min        9.000000  \n",
              "25%       49.000000  \n",
              "50%       49.000000  \n",
              "75%       49.000000  \n",
              "max       99.000000  "
            ],
            "text/html": [
              "\n",
              "  <div id=\"df-17812e06-001f-402f-b707-9f92755e9afd\">\n",
              "    <div class=\"colab-df-container\">\n",
              "      <div>\n",
              "<style scoped>\n",
              "    .dataframe tbody tr th:only-of-type {\n",
              "        vertical-align: middle;\n",
              "    }\n",
              "\n",
              "    .dataframe tbody tr th {\n",
              "        vertical-align: top;\n",
              "    }\n",
              "\n",
              "    .dataframe thead th {\n",
              "        text-align: right;\n",
              "    }\n",
              "</style>\n",
              "<table border=\"1\" class=\"dataframe\">\n",
              "  <thead>\n",
              "    <tr style=\"text-align: right;\">\n",
              "      <th></th>\n",
              "      <th>store_id</th>\n",
              "      <th>customer</th>\n",
              "      <th>revenue</th>\n",
              "      <th>order</th>\n",
              "      <th>quant</th>\n",
              "      <th>unit_cost</th>\n",
              "    </tr>\n",
              "  </thead>\n",
              "  <tbody>\n",
              "    <tr>\n",
              "      <th>count</th>\n",
              "      <td>22153.000000</td>\n",
              "      <td>22153.000000</td>\n",
              "      <td>22153.000000</td>\n",
              "      <td>22153.000000</td>\n",
              "      <td>22153.000000</td>\n",
              "      <td>22153.000000</td>\n",
              "    </tr>\n",
              "    <tr>\n",
              "      <th>mean</th>\n",
              "      <td>335.498984</td>\n",
              "      <td>1.633142</td>\n",
              "      <td>159.980664</td>\n",
              "      <td>1.655758</td>\n",
              "      <td>1.862547</td>\n",
              "      <td>46.141696</td>\n",
              "    </tr>\n",
              "    <tr>\n",
              "      <th>std</th>\n",
              "      <td>230.306659</td>\n",
              "      <td>1.790534</td>\n",
              "      <td>277.029751</td>\n",
              "      <td>1.866587</td>\n",
              "      <td>2.353762</td>\n",
              "      <td>19.126855</td>\n",
              "    </tr>\n",
              "    <tr>\n",
              "      <th>min</th>\n",
              "      <td>19.000000</td>\n",
              "      <td>1.000000</td>\n",
              "      <td>0.000000</td>\n",
              "      <td>1.000000</td>\n",
              "      <td>1.000000</td>\n",
              "      <td>9.000000</td>\n",
              "    </tr>\n",
              "    <tr>\n",
              "      <th>25%</th>\n",
              "      <td>142.000000</td>\n",
              "      <td>1.000000</td>\n",
              "      <td>65.510000</td>\n",
              "      <td>1.000000</td>\n",
              "      <td>1.000000</td>\n",
              "      <td>49.000000</td>\n",
              "    </tr>\n",
              "    <tr>\n",
              "      <th>50%</th>\n",
              "      <td>315.000000</td>\n",
              "      <td>1.000000</td>\n",
              "      <td>99.000000</td>\n",
              "      <td>1.000000</td>\n",
              "      <td>1.000000</td>\n",
              "      <td>49.000000</td>\n",
              "    </tr>\n",
              "    <tr>\n",
              "      <th>75%</th>\n",
              "      <td>480.000000</td>\n",
              "      <td>2.000000</td>\n",
              "      <td>176.000000</td>\n",
              "      <td>2.000000</td>\n",
              "      <td>2.000000</td>\n",
              "      <td>49.000000</td>\n",
              "    </tr>\n",
              "    <tr>\n",
              "      <th>max</th>\n",
              "      <td>831.000000</td>\n",
              "      <td>58.000000</td>\n",
              "      <td>12538.000000</td>\n",
              "      <td>65.000000</td>\n",
              "      <td>84.000000</td>\n",
              "      <td>99.000000</td>\n",
              "    </tr>\n",
              "  </tbody>\n",
              "</table>\n",
              "</div>\n",
              "      <button class=\"colab-df-convert\" onclick=\"convertToInteractive('df-17812e06-001f-402f-b707-9f92755e9afd')\"\n",
              "              title=\"Convert this dataframe to an interactive table.\"\n",
              "              style=\"display:none;\">\n",
              "        \n",
              "  <svg xmlns=\"http://www.w3.org/2000/svg\" height=\"24px\"viewBox=\"0 0 24 24\"\n",
              "       width=\"24px\">\n",
              "    <path d=\"M0 0h24v24H0V0z\" fill=\"none\"/>\n",
              "    <path d=\"M18.56 5.44l.94 2.06.94-2.06 2.06-.94-2.06-.94-.94-2.06-.94 2.06-2.06.94zm-11 1L8.5 8.5l.94-2.06 2.06-.94-2.06-.94L8.5 2.5l-.94 2.06-2.06.94zm10 10l.94 2.06.94-2.06 2.06-.94-2.06-.94-.94-2.06-.94 2.06-2.06.94z\"/><path d=\"M17.41 7.96l-1.37-1.37c-.4-.4-.92-.59-1.43-.59-.52 0-1.04.2-1.43.59L10.3 9.45l-7.72 7.72c-.78.78-.78 2.05 0 2.83L4 21.41c.39.39.9.59 1.41.59.51 0 1.02-.2 1.41-.59l7.78-7.78 2.81-2.81c.8-.78.8-2.07 0-2.86zM5.41 20L4 18.59l7.72-7.72 1.47 1.35L5.41 20z\"/>\n",
              "  </svg>\n",
              "      </button>\n",
              "      \n",
              "  <style>\n",
              "    .colab-df-container {\n",
              "      display:flex;\n",
              "      flex-wrap:wrap;\n",
              "      gap: 12px;\n",
              "    }\n",
              "\n",
              "    .colab-df-convert {\n",
              "      background-color: #E8F0FE;\n",
              "      border: none;\n",
              "      border-radius: 50%;\n",
              "      cursor: pointer;\n",
              "      display: none;\n",
              "      fill: #1967D2;\n",
              "      height: 32px;\n",
              "      padding: 0 0 0 0;\n",
              "      width: 32px;\n",
              "    }\n",
              "\n",
              "    .colab-df-convert:hover {\n",
              "      background-color: #E2EBFA;\n",
              "      box-shadow: 0px 1px 2px rgba(60, 64, 67, 0.3), 0px 1px 3px 1px rgba(60, 64, 67, 0.15);\n",
              "      fill: #174EA6;\n",
              "    }\n",
              "\n",
              "    [theme=dark] .colab-df-convert {\n",
              "      background-color: #3B4455;\n",
              "      fill: #D2E3FC;\n",
              "    }\n",
              "\n",
              "    [theme=dark] .colab-df-convert:hover {\n",
              "      background-color: #434B5C;\n",
              "      box-shadow: 0px 1px 3px 1px rgba(0, 0, 0, 0.15);\n",
              "      filter: drop-shadow(0px 1px 2px rgba(0, 0, 0, 0.3));\n",
              "      fill: #FFFFFF;\n",
              "    }\n",
              "  </style>\n",
              "\n",
              "      <script>\n",
              "        const buttonEl =\n",
              "          document.querySelector('#df-17812e06-001f-402f-b707-9f92755e9afd button.colab-df-convert');\n",
              "        buttonEl.style.display =\n",
              "          google.colab.kernel.accessAllowed ? 'block' : 'none';\n",
              "\n",
              "        async function convertToInteractive(key) {\n",
              "          const element = document.querySelector('#df-17812e06-001f-402f-b707-9f92755e9afd');\n",
              "          const dataTable =\n",
              "            await google.colab.kernel.invokeFunction('convertToInteractive',\n",
              "                                                     [key], {});\n",
              "          if (!dataTable) return;\n",
              "\n",
              "          const docLinkHtml = 'Like what you see? Visit the ' +\n",
              "            '<a target=\"_blank\" href=https://colab.research.google.com/notebooks/data_table.ipynb>data table notebook</a>'\n",
              "            + ' to learn more about interactive tables.';\n",
              "          element.innerHTML = '';\n",
              "          dataTable['output_type'] = 'display_data';\n",
              "          await google.colab.output.renderOutput(dataTable, element);\n",
              "          const docLink = document.createElement('div');\n",
              "          docLink.innerHTML = docLinkHtml;\n",
              "          element.appendChild(docLink);\n",
              "        }\n",
              "      </script>\n",
              "    </div>\n",
              "  </div>\n",
              "  "
            ]
          },
          "metadata": {},
          "execution_count": 21
        }
      ]
    },
    {
      "cell_type": "markdown",
      "source": [
        "## 二、 数据分析"
      ],
      "metadata": {
        "id": "3tcQHw-A_Eeu"
      }
    },
    {
      "cell_type": "markdown",
      "source": [
        "### 1. 单变量分析\n",
        "\n",
        "**（1） city**"
      ],
      "metadata": {
        "id": "6LTyzW-eD5qu"
      }
    },
    {
      "cell_type": "code",
      "source": [
        "# count of city\n",
        "df_count_city = df.city.value_counts().reset_index()\n",
        "# 更改列名\n",
        "df_count_city = df_count_city.rename(columns = {'index':'city','city':'count'})\n",
        "\n",
        "sns.catplot(x='city',y='count',data=df_count_city,kind='bar')\n",
        "plt.xticks(fontproperties=zhfont)"
      ],
      "metadata": {
        "colab": {
          "base_uri": "https://localhost:8080/",
          "height": 405
        },
        "id": "7SZW13IOD4by",
        "outputId": "26c306a5-17af-4ff4-d6ac-64a52f20195f"
      },
      "execution_count": null,
      "outputs": [
        {
          "output_type": "execute_result",
          "data": {
            "text/plain": [
              "(array([0, 1, 2, 3, 4, 5, 6, 7, 8, 9]),\n",
              " <a list of 10 Text major ticklabel objects>)"
            ]
          },
          "metadata": {},
          "execution_count": 30
        },
        {
          "output_type": "display_data",
          "data": {
            "text/plain": [
              "<Figure size 360x360 with 1 Axes>"
            ],
            "image/png": "[encoded data removed]"
          },
          "metadata": {}
        }
      ]
    },
    {
      "cell_type": "markdown",
      "source": [
        "* 客户下单主要集中于深圳、杭州、武汉等一线、新一线城市\n",
        "\n",
        "**（2） Channel**\n"
      ],
      "metadata": {
        "id": "uQnM1noPFjxE"
      }
    },
    {
      "cell_type": "code",
      "source": [
        "df_count_channel = df['channel'].value_counts().reset_index()\n",
        "df_count_channel = df_count_channel.rename(columns={'index':'channel','channel':'count'})\n",
        "\n",
        "sns.catplot(x='channel',y='count',data=df_count_channel,kind='bar')\n",
        "plt.xticks(fontproperties=zhfont)"
      ],
      "metadata": {
        "id": "HTc2w2OX-suU",
        "outputId": "c66c7116-e30c-4292-95fb-74bdab0f4eb7",
        "colab": {
          "base_uri": "https://localhost:8080/",
          "height": 387
        }
      },
      "execution_count": null,
      "outputs": [
        {
          "output_type": "execute_result",
          "data": {
            "text/plain": [
              "(array([0, 1]), <a list of 2 Text major ticklabel objects>)"
            ]
          },
          "metadata": {},
          "execution_count": 31
        },
        {
          "output_type": "display_data",
          "data": {
            "text/plain": [
              "<Figure size 360x360 with 1 Axes>"
            ],
            "image/png": "[encoded data removed]"
          },
          "metadata": {}
        }
      ]
    },
    {
      "cell_type": "markdown",
      "source": [
        "* 客户主要在线下购买产品\n",
        "\n",
        "**（3） gender_group**"
      ],
      "metadata": {
        "id": "kwWvMFR7GRta"
      }
    },
    {
      "cell_type": "code",
      "source": [
        "df_count_gender = df['gender_group'].value_counts().reset_index()\n",
        "df_count_gender = df_count_gender.rename(columns={'index':'gender','gender_group':'count'})\n",
        "\n",
        "sns.catplot(x='gender',y='count',data=df_count_gender,kind='bar')\n",
        "plt.xticks(fontproperties=zhfont)"
      ],
      "metadata": {
        "colab": {
          "base_uri": "https://localhost:8080/",
          "height": 385
        },
        "id": "tZkWK8PuAMRW",
        "outputId": "e0ece89e-d97e-4675-a495-c7f217ac682f"
      },
      "execution_count": null,
      "outputs": [
        {
          "output_type": "execute_result",
          "data": {
            "text/plain": [
              "(array([0, 1]), <a list of 2 Text major ticklabel objects>)"
            ]
          },
          "metadata": {},
          "execution_count": 32
        },
        {
          "output_type": "display_data",
          "data": {
            "text/plain": [
              "<Figure size 360x360 with 1 Axes>"
            ],
            "image/png": "[encoded data removed]"
          },
          "metadata": {}
        }
      ]
    },
    {
      "cell_type": "markdown",
      "source": [
        "* 客户群体主要为女性\n",
        "\n",
        "**（4） age_group**"
      ],
      "metadata": {
        "id": "9nXYYjf2Gum6"
      }
    },
    {
      "cell_type": "code",
      "source": [
        "df_count_age = df['age_group'].value_counts().reset_index()\n",
        "df_count_age = df_count_age.rename(columns={'index':'age','age_group':'count'})\n",
        "\n",
        "age_orders = ['<20','20-24','25-29',  '30-34','35-39',  '40-44','45-49', '50-54','55-59','>=60']\n",
        "\n",
        "sns.catplot(x='age',y='count',data=df_count_age,kind='bar',order=age_orders)\n",
        "plt.xticks(fontproperties=zhfont)"
      ],
      "metadata": {
        "colab": {
          "base_uri": "https://localhost:8080/",
          "height": 403
        },
        "id": "e9EJVOdIDQVC",
        "outputId": "d3828999-0650-47e0-d564-c013a67683d2"
      },
      "execution_count": null,
      "outputs": [
        {
          "output_type": "execute_result",
          "data": {
            "text/plain": [
              "(array([0, 1, 2, 3, 4, 5, 6, 7, 8, 9]),\n",
              " <a list of 10 Text major ticklabel objects>)"
            ]
          },
          "metadata": {},
          "execution_count": 34
        },
        {
          "output_type": "display_data",
          "data": {
            "text/plain": [
              "<Figure size 360x360 with 1 Axes>"
            ],
            "image/png": "[encoded data removed]"
          },
          "metadata": {}
        }
      ]
    },
    {
      "cell_type": "markdown",
      "source": [
        "* 购买人群年龄主要在20到39岁之间\n",
        "\n",
        "**（5） wkd_ind**"
      ],
      "metadata": {
        "id": "AQeZDqmmHIyF"
      }
    },
    {
      "cell_type": "code",
      "source": [
        "df_count_wkd = df['wkd_ind'].value_counts().reset_index()\n",
        "df_count_wkd = df_count_wkd.rename(columns={'index':'wkd_ind','wkd_ind':'count'})\n",
        "\n",
        "sns.catplot(x='wkd_ind',y='count',data=df_count_wkd,kind='bar')\n",
        "plt.xticks(fontproperties=zhfont)"
      ],
      "metadata": {
        "colab": {
          "base_uri": "https://localhost:8080/",
          "height": 385
        },
        "id": "D3_N5H1XAZJu",
        "outputId": "880161cf-8ddb-43de-af29-21deb2e11731"
      },
      "execution_count": null,
      "outputs": [
        {
          "output_type": "execute_result",
          "data": {
            "text/plain": [
              "(array([0, 1]), <a list of 2 Text major ticklabel objects>)"
            ]
          },
          "metadata": {},
          "execution_count": 35
        },
        {
          "output_type": "display_data",
          "data": {
            "text/plain": [
              "<Figure size 360x360 with 1 Axes>"
            ],
            "image/png": "[encoded data removed]"
          },
          "metadata": {}
        }
      ]
    },
    {
      "cell_type": "markdown",
      "source": [
        "* 客户平时下单数量是最多的\n",
        "\n",
        "### 2. 数值型变量\n",
        "\n",
        "**（1） revenue**"
      ],
      "metadata": {
        "id": "vNIFC9aBH1ap"
      }
    },
    {
      "cell_type": "code",
      "source": [
        "df['revenue'].describe()"
      ],
      "metadata": {
        "colab": {
          "base_uri": "https://localhost:8080/"
        },
        "id": "ezM_nyLoDdhR",
        "outputId": "55ecc8ed-fd9d-42f2-d943-730b202bf6b5"
      },
      "execution_count": null,
      "outputs": [
        {
          "output_type": "execute_result",
          "data": {
            "text/plain": [
              "count    22153.000000\n",
              "mean       159.980664\n",
              "std        277.029751\n",
              "min          0.000000\n",
              "25%         65.510000\n",
              "50%         99.000000\n",
              "75%        176.000000\n",
              "max      12538.000000\n",
              "Name: revenue, dtype: float64"
            ]
          },
          "metadata": {},
          "execution_count": 38
        }
      ]
    },
    {
      "cell_type": "code",
      "source": [
        "sns.boxplot(df.revenue)"
      ],
      "metadata": {
        "colab": {
          "base_uri": "https://localhost:8080/",
          "height": 294
        },
        "id": "MteMaiQaJw0S",
        "outputId": "f502f1cb-3f90-4c81-d705-cd1d90e14f1a"
      },
      "execution_count": null,
      "outputs": [
        {
          "output_type": "execute_result",
          "data": {
            "text/plain": [
              "<matplotlib.axes._subplots.AxesSubplot at 0x7fd9e6206310>"
            ]
          },
          "metadata": {},
          "execution_count": 45
        },
        {
          "output_type": "display_data",
          "data": {
            "text/plain": [
              "<Figure size 432x288 with 1 Axes>"
            ],
            "image/png": "[encoded data removed]"
          },
          "metadata": {}
        }
      ]
    },
    {
      "cell_type": "code",
      "source": [
        "bins = [0,100,200,300,500,1000,2000,4000,6000,13000]\n",
        "df['revenue_new'] = pd.cut(df['revenue'],bins,right=False)\n",
        "df.groupby(['revenue_new'])['revenue'].describe()"
      ],
      "metadata": {
        "colab": {
          "base_uri": "https://localhost:8080/",
          "height": 362
        },
        "id": "GNOxsNlwJOes",
        "outputId": "eef6caad-c9b2-4aa2-e6d1-37364884f1c4"
      },
      "execution_count": null,
      "outputs": [
        {
          "output_type": "execute_result",
          "data": {
            "text/plain": [
              "                 count         mean          std      min        25%     50%  \\\n",
              "revenue_new                                                                    \n",
              "[0, 100)       13623.0    69.430846    24.057158     0.00    54.0000    79.0   \n",
              "[100, 200)      4943.0   163.856476    29.291676   100.00   149.0000   158.0   \n",
              "[200, 300)      1441.0   263.889806    29.416385   201.00   237.0000   257.0   \n",
              "[300, 500)      1251.0   398.399361    55.740078   300.82   348.0000   396.0   \n",
              "[500, 1000)      671.0   684.615633   134.712670   505.00   592.0000   643.0   \n",
              "[1000, 2000)     162.0  1358.550617   257.825041  1009.00  1155.2500  1293.0   \n",
              "[2000, 4000)      44.0  2684.032727   510.902349  2050.00  2285.5725  2560.0   \n",
              "[4000, 6000)      12.0  4954.405000   549.981880  4110.00  4623.7100  4960.5   \n",
              "[6000, 13000)      6.0  8762.880000  2422.039826  6150.00  6956.7500  8377.5   \n",
              "\n",
              "                      75%      max  \n",
              "revenue_new                         \n",
              "[0, 100)          92.0000     99.0  \n",
              "[100, 200)       198.0000    199.0  \n",
              "[200, 300)       297.0000    299.0  \n",
              "[300, 500)       447.0000    498.0  \n",
              "[500, 1000)      780.7500    997.0  \n",
              "[1000, 2000)    1541.2500   1990.0  \n",
              "[2000, 4000)    3083.5425   3778.0  \n",
              "[4000, 6000)    5151.8575   5947.0  \n",
              "[6000, 13000)  10082.7100  12538.0  "
            ],
            "text/html": [
              "\n",
              "  <div id=\"df-5ebd0aaf-acbe-4c09-9a0d-e33f0ba649d2\">\n",
              "    <div class=\"colab-df-container\">\n",
              "      <div>\n",
              "<style scoped>\n",
              "    .dataframe tbody tr th:only-of-type {\n",
              "        vertical-align: middle;\n",
              "    }\n",
              "\n",
              "    .dataframe tbody tr th {\n",
              "        vertical-align: top;\n",
              "    }\n",
              "\n",
              "    .dataframe thead th {\n",
              "        text-align: right;\n",
              "    }\n",
              "</style>\n",
              "<table border=\"1\" class=\"dataframe\">\n",
              "  <thead>\n",
              "    <tr style=\"text-align: right;\">\n",
              "      <th></th>\n",
              "      <th>count</th>\n",
              "      <th>mean</th>\n",
              "      <th>std</th>\n",
              "      <th>min</th>\n",
              "      <th>25%</th>\n",
              "      <th>50%</th>\n",
              "      <th>75%</th>\n",
              "      <th>max</th>\n",
              "    </tr>\n",
              "    <tr>\n",
              "      <th>revenue_new</th>\n",
              "      <th></th>\n",
              "      <th></th>\n",
              "      <th></th>\n",
              "      <th></th>\n",
              "      <th></th>\n",
              "      <th></th>\n",
              "      <th></th>\n",
              "      <th></th>\n",
              "    </tr>\n",
              "  </thead>\n",
              "  <tbody>\n",
              "    <tr>\n",
              "      <th>[0, 100)</th>\n",
              "      <td>13623.0</td>\n",
              "      <td>69.430846</td>\n",
              "      <td>24.057158</td>\n",
              "      <td>0.00</td>\n",
              "      <td>54.0000</td>\n",
              "      <td>79.0</td>\n",
              "      <td>92.0000</td>\n",
              "      <td>99.0</td>\n",
              "    </tr>\n",
              "    <tr>\n",
              "      <th>[100, 200)</th>\n",
              "      <td>4943.0</td>\n",
              "      <td>163.856476</td>\n",
              "      <td>29.291676</td>\n",
              "      <td>100.00</td>\n",
              "      <td>149.0000</td>\n",
              "      <td>158.0</td>\n",
              "      <td>198.0000</td>\n",
              "      <td>199.0</td>\n",
              "    </tr>\n",
              "    <tr>\n",
              "      <th>[200, 300)</th>\n",
              "      <td>1441.0</td>\n",
              "      <td>263.889806</td>\n",
              "      <td>29.416385</td>\n",
              "      <td>201.00</td>\n",
              "      <td>237.0000</td>\n",
              "      <td>257.0</td>\n",
              "      <td>297.0000</td>\n",
              "      <td>299.0</td>\n",
              "    </tr>\n",
              "    <tr>\n",
              "      <th>[300, 500)</th>\n",
              "      <td>1251.0</td>\n",
              "      <td>398.399361</td>\n",
              "      <td>55.740078</td>\n",
              "      <td>300.82</td>\n",
              "      <td>348.0000</td>\n",
              "      <td>396.0</td>\n",
              "      <td>447.0000</td>\n",
              "      <td>498.0</td>\n",
              "    </tr>\n",
              "    <tr>\n",
              "      <th>[500, 1000)</th>\n",
              "      <td>671.0</td>\n",
              "      <td>684.615633</td>\n",
              "      <td>134.712670</td>\n",
              "      <td>505.00</td>\n",
              "      <td>592.0000</td>\n",
              "      <td>643.0</td>\n",
              "      <td>780.7500</td>\n",
              "      <td>997.0</td>\n",
              "    </tr>\n",
              "    <tr>\n",
              "      <th>[1000, 2000)</th>\n",
              "      <td>162.0</td>\n",
              "      <td>1358.550617</td>\n",
              "      <td>257.825041</td>\n",
              "      <td>1009.00</td>\n",
              "      <td>1155.2500</td>\n",
              "      <td>1293.0</td>\n",
              "      <td>1541.2500</td>\n",
              "      <td>1990.0</td>\n",
              "    </tr>\n",
              "    <tr>\n",
              "      <th>[2000, 4000)</th>\n",
              "      <td>44.0</td>\n",
              "      <td>2684.032727</td>\n",
              "      <td>510.902349</td>\n",
              "      <td>2050.00</td>\n",
              "      <td>2285.5725</td>\n",
              "      <td>2560.0</td>\n",
              "      <td>3083.5425</td>\n",
              "      <td>3778.0</td>\n",
              "    </tr>\n",
              "    <tr>\n",
              "      <th>[4000, 6000)</th>\n",
              "      <td>12.0</td>\n",
              "      <td>4954.405000</td>\n",
              "      <td>549.981880</td>\n",
              "      <td>4110.00</td>\n",
              "      <td>4623.7100</td>\n",
              "      <td>4960.5</td>\n",
              "      <td>5151.8575</td>\n",
              "      <td>5947.0</td>\n",
              "    </tr>\n",
              "    <tr>\n",
              "      <th>[6000, 13000)</th>\n",
              "      <td>6.0</td>\n",
              "      <td>8762.880000</td>\n",
              "      <td>2422.039826</td>\n",
              "      <td>6150.00</td>\n",
              "      <td>6956.7500</td>\n",
              "      <td>8377.5</td>\n",
              "      <td>10082.7100</td>\n",
              "      <td>12538.0</td>\n",
              "    </tr>\n",
              "  </tbody>\n",
              "</table>\n",
              "</div>\n",
              "      <button class=\"colab-df-convert\" onclick=\"convertToInteractive('df-5ebd0aaf-acbe-4c09-9a0d-e33f0ba649d2')\"\n",
              "              title=\"Convert this dataframe to an interactive table.\"\n",
              "              style=\"display:none;\">\n",
              "        \n",
              "  <svg xmlns=\"http://www.w3.org/2000/svg\" height=\"24px\"viewBox=\"0 0 24 24\"\n",
              "       width=\"24px\">\n",
              "    <path d=\"M0 0h24v24H0V0z\" fill=\"none\"/>\n",
              "    <path d=\"M18.56 5.44l.94 2.06.94-2.06 2.06-.94-2.06-.94-.94-2.06-.94 2.06-2.06.94zm-11 1L8.5 8.5l.94-2.06 2.06-.94-2.06-.94L8.5 2.5l-.94 2.06-2.06.94zm10 10l.94 2.06.94-2.06 2.06-.94-2.06-.94-.94-2.06-.94 2.06-2.06.94z\"/><path d=\"M17.41 7.96l-1.37-1.37c-.4-.4-.92-.59-1.43-.59-.52 0-1.04.2-1.43.59L10.3 9.45l-7.72 7.72c-.78.78-.78 2.05 0 2.83L4 21.41c.39.39.9.59 1.41.59.51 0 1.02-.2 1.41-.59l7.78-7.78 2.81-2.81c.8-.78.8-2.07 0-2.86zM5.41 20L4 18.59l7.72-7.72 1.47 1.35L5.41 20z\"/>\n",
              "  </svg>\n",
              "      </button>\n",
              "      \n",
              "  <style>\n",
              "    .colab-df-container {\n",
              "      display:flex;\n",
              "      flex-wrap:wrap;\n",
              "      gap: 12px;\n",
              "    }\n",
              "\n",
              "    .colab-df-convert {\n",
              "      background-color: #E8F0FE;\n",
              "      border: none;\n",
              "      border-radius: 50%;\n",
              "      cursor: pointer;\n",
              "      display: none;\n",
              "      fill: #1967D2;\n",
              "      height: 32px;\n",
              "      padding: 0 0 0 0;\n",
              "      width: 32px;\n",
              "    }\n",
              "\n",
              "    .colab-df-convert:hover {\n",
              "      background-color: #E2EBFA;\n",
              "      box-shadow: 0px 1px 2px rgba(60, 64, 67, 0.3), 0px 1px 3px 1px rgba(60, 64, 67, 0.15);\n",
              "      fill: #174EA6;\n",
              "    }\n",
              "\n",
              "    [theme=dark] .colab-df-convert {\n",
              "      background-color: #3B4455;\n",
              "      fill: #D2E3FC;\n",
              "    }\n",
              "\n",
              "    [theme=dark] .colab-df-convert:hover {\n",
              "      background-color: #434B5C;\n",
              "      box-shadow: 0px 1px 3px 1px rgba(0, 0, 0, 0.15);\n",
              "      filter: drop-shadow(0px 1px 2px rgba(0, 0, 0, 0.3));\n",
              "      fill: #FFFFFF;\n",
              "    }\n",
              "  </style>\n",
              "\n",
              "      <script>\n",
              "        const buttonEl =\n",
              "          document.querySelector('#df-5ebd0aaf-acbe-4c09-9a0d-e33f0ba649d2 button.colab-df-convert');\n",
              "        buttonEl.style.display =\n",
              "          google.colab.kernel.accessAllowed ? 'block' : 'none';\n",
              "\n",
              "        async function convertToInteractive(key) {\n",
              "          const element = document.querySelector('#df-5ebd0aaf-acbe-4c09-9a0d-e33f0ba649d2');\n",
              "          const dataTable =\n",
              "            await google.colab.kernel.invokeFunction('convertToInteractive',\n",
              "                                                     [key], {});\n",
              "          if (!dataTable) return;\n",
              "\n",
              "          const docLinkHtml = 'Like what you see? Visit the ' +\n",
              "            '<a target=\"_blank\" href=https://colab.research.google.com/notebooks/data_table.ipynb>data table notebook</a>'\n",
              "            + ' to learn more about interactive tables.';\n",
              "          element.innerHTML = '';\n",
              "          dataTable['output_type'] = 'display_data';\n",
              "          await google.colab.output.renderOutput(dataTable, element);\n",
              "          const docLink = document.createElement('div');\n",
              "          docLink.innerHTML = docLinkHtml;\n",
              "          element.appendChild(docLink);\n",
              "        }\n",
              "      </script>\n",
              "    </div>\n",
              "  </div>\n",
              "  "
            ]
          },
          "metadata": {},
          "execution_count": 47
        }
      ]
    },
    {
      "cell_type": "markdown",
      "source": [
        "* 销售额主要集中分布在1000元以下，高额订单较少\n",
        "\n",
        "### 3. 增加衍生变量\n",
        "\n",
        "* 人均订单量=order/customer\n",
        "* 人均购买商品量=quant/customer\n",
        "* 人均消费额=revenue/customer\n",
        "* 商品平均销售额=revenue/quant\n",
        "* 利润=商品平均销售额-unit_cost"
      ],
      "metadata": {
        "id": "qsmcTbeSKYK8"
      }
    },
    {
      "cell_type": "code",
      "source": [
        "df['unit_order_num']=df['order']/df['customer']\n",
        "df['unit_quant_num']=df['quant']/df['customer']\n",
        "df['unit_revenue']=df['revenue']/df['customer']\n",
        "df['unit_revenue_of_product']=round(df['revenue']/df['quant'],1)\n",
        "df['profit']=round(df['unit_revenue_of_product']-df['unit_cost'],1)"
      ],
      "metadata": {
        "id": "PYN1NPckJZnF"
      },
      "execution_count": null,
      "outputs": []
    },
    {
      "cell_type": "code",
      "source": [
        "df.head()"
      ],
      "metadata": {
        "colab": {
          "base_uri": "https://localhost:8080/",
          "height": 250
        },
        "id": "8f6NSkHGKCmK",
        "outputId": "a2fa57a2-e2e7-4559-cc1d-5735d6065084"
      },
      "execution_count": null,
      "outputs": [
        {
          "output_type": "execute_result",
          "data": {
            "text/plain": [
              "   store_id city channel gender_group age_group  wkd_ind product  customer  \\\n",
              "0       658   深圳      线下       Female     25-29  Weekday    当季新品         4   \n",
              "1       146   杭州      线下       Female     25-29  Weekday      运动         1   \n",
              "2        70   深圳      线下         Male      >=60  Weekday      T恤         2   \n",
              "3       658   深圳      线下       Female     25-29  Weekday      T恤         1   \n",
              "4       229   深圳      线下         Male     20-24  Weekend      袜子         2   \n",
              "\n",
              "   revenue  order  quant  unit_cost  revenue_new  unit_order_num  \\\n",
              "0    796.0      4      4         59  [500, 1000)             1.0   \n",
              "1    149.0      1      1         49   [100, 200)             1.0   \n",
              "2    178.0      2      2         49   [100, 200)             1.0   \n",
              "3     59.0      1      1         49     [0, 100)             1.0   \n",
              "4     65.0      2      3          9     [0, 100)             1.0   \n",
              "\n",
              "   unit_quant_num  unit_revenue  unit_revenue_of_product  profit  \n",
              "0             1.0         199.0                    199.0   140.0  \n",
              "1             1.0         149.0                    149.0   100.0  \n",
              "2             1.0          89.0                     89.0    40.0  \n",
              "3             1.0          59.0                     59.0    10.0  \n",
              "4             1.5          32.5                     21.7    12.7  "
            ],
            "text/html": [
              "\n",
              "  <div id=\"df-e91da3c0-b95b-4330-b98f-b006262e6833\">\n",
              "    <div class=\"colab-df-container\">\n",
              "      <div>\n",
              "<style scoped>\n",
              "    .dataframe tbody tr th:only-of-type {\n",
              "        vertical-align: middle;\n",
              "    }\n",
              "\n",
              "    .dataframe tbody tr th {\n",
              "        vertical-align: top;\n",
              "    }\n",
              "\n",
              "    .dataframe thead th {\n",
              "        text-align: right;\n",
              "    }\n",
              "</style>\n",
              "<table border=\"1\" class=\"dataframe\">\n",
              "  <thead>\n",
              "    <tr style=\"text-align: right;\">\n",
              "      <th></th>\n",
              "      <th>store_id</th>\n",
              "      <th>city</th>\n",
              "      <th>channel</th>\n",
              "      <th>gender_group</th>\n",
              "      <th>age_group</th>\n",
              "      <th>wkd_ind</th>\n",
              "      <th>product</th>\n",
              "      <th>customer</th>\n",
              "      <th>revenue</th>\n",
              "      <th>order</th>\n",
              "      <th>quant</th>\n",
              "      <th>unit_cost</th>\n",
              "      <th>revenue_new</th>\n",
              "      <th>unit_order_num</th>\n",
              "      <th>unit_quant_num</th>\n",
              "      <th>unit_revenue</th>\n",
              "      <th>unit_revenue_of_product</th>\n",
              "      <th>profit</th>\n",
              "    </tr>\n",
              "  </thead>\n",
              "  <tbody>\n",
              "    <tr>\n",
              "      <th>0</th>\n",
              "      <td>658</td>\n",
              "      <td>深圳</td>\n",
              "      <td>线下</td>\n",
              "      <td>Female</td>\n",
              "      <td>25-29</td>\n",
              "      <td>Weekday</td>\n",
              "      <td>当季新品</td>\n",
              "      <td>4</td>\n",
              "      <td>796.0</td>\n",
              "      <td>4</td>\n",
              "      <td>4</td>\n",
              "      <td>59</td>\n",
              "      <td>[500, 1000)</td>\n",
              "      <td>1.0</td>\n",
              "      <td>1.0</td>\n",
              "      <td>199.0</td>\n",
              "      <td>199.0</td>\n",
              "      <td>140.0</td>\n",
              "    </tr>\n",
              "    <tr>\n",
              "      <th>1</th>\n",
              "      <td>146</td>\n",
              "      <td>杭州</td>\n",
              "      <td>线下</td>\n",
              "      <td>Female</td>\n",
              "      <td>25-29</td>\n",
              "      <td>Weekday</td>\n",
              "      <td>运动</td>\n",
              "      <td>1</td>\n",
              "      <td>149.0</td>\n",
              "      <td>1</td>\n",
              "      <td>1</td>\n",
              "      <td>49</td>\n",
              "      <td>[100, 200)</td>\n",
              "      <td>1.0</td>\n",
              "      <td>1.0</td>\n",
              "      <td>149.0</td>\n",
              "      <td>149.0</td>\n",
              "      <td>100.0</td>\n",
              "    </tr>\n",
              "    <tr>\n",
              "      <th>2</th>\n",
              "      <td>70</td>\n",
              "      <td>深圳</td>\n",
              "      <td>线下</td>\n",
              "      <td>Male</td>\n",
              "      <td>&gt;=60</td>\n",
              "      <td>Weekday</td>\n",
              "      <td>T恤</td>\n",
              "      <td>2</td>\n",
              "      <td>178.0</td>\n",
              "      <td>2</td>\n",
              "      <td>2</td>\n",
              "      <td>49</td>\n",
              "      <td>[100, 200)</td>\n",
              "      <td>1.0</td>\n",
              "      <td>1.0</td>\n",
              "      <td>89.0</td>\n",
              "      <td>89.0</td>\n",
              "      <td>40.0</td>\n",
              "    </tr>\n",
              "    <tr>\n",
              "      <th>3</th>\n",
              "      <td>658</td>\n",
              "      <td>深圳</td>\n",
              "      <td>线下</td>\n",
              "      <td>Female</td>\n",
              "      <td>25-29</td>\n",
              "      <td>Weekday</td>\n",
              "      <td>T恤</td>\n",
              "      <td>1</td>\n",
              "      <td>59.0</td>\n",
              "      <td>1</td>\n",
              "      <td>1</td>\n",
              "      <td>49</td>\n",
              "      <td>[0, 100)</td>\n",
              "      <td>1.0</td>\n",
              "      <td>1.0</td>\n",
              "      <td>59.0</td>\n",
              "      <td>59.0</td>\n",
              "      <td>10.0</td>\n",
              "    </tr>\n",
              "    <tr>\n",
              "      <th>4</th>\n",
              "      <td>229</td>\n",
              "      <td>深圳</td>\n",
              "      <td>线下</td>\n",
              "      <td>Male</td>\n",
              "      <td>20-24</td>\n",
              "      <td>Weekend</td>\n",
              "      <td>袜子</td>\n",
              "      <td>2</td>\n",
              "      <td>65.0</td>\n",
              "      <td>2</td>\n",
              "      <td>3</td>\n",
              "      <td>9</td>\n",
              "      <td>[0, 100)</td>\n",
              "      <td>1.0</td>\n",
              "      <td>1.5</td>\n",
              "      <td>32.5</td>\n",
              "      <td>21.7</td>\n",
              "      <td>12.7</td>\n",
              "    </tr>\n",
              "  </tbody>\n",
              "</table>\n",
              "</div>\n",
              "      <button class=\"colab-df-convert\" onclick=\"convertToInteractive('df-e91da3c0-b95b-4330-b98f-b006262e6833')\"\n",
              "              title=\"Convert this dataframe to an interactive table.\"\n",
              "              style=\"display:none;\">\n",
              "        \n",
              "  <svg xmlns=\"http://www.w3.org/2000/svg\" height=\"24px\"viewBox=\"0 0 24 24\"\n",
              "       width=\"24px\">\n",
              "    <path d=\"M0 0h24v24H0V0z\" fill=\"none\"/>\n",
              "    <path d=\"M18.56 5.44l.94 2.06.94-2.06 2.06-.94-2.06-.94-.94-2.06-.94 2.06-2.06.94zm-11 1L8.5 8.5l.94-2.06 2.06-.94-2.06-.94L8.5 2.5l-.94 2.06-2.06.94zm10 10l.94 2.06.94-2.06 2.06-.94-2.06-.94-.94-2.06-.94 2.06-2.06.94z\"/><path d=\"M17.41 7.96l-1.37-1.37c-.4-.4-.92-.59-1.43-.59-.52 0-1.04.2-1.43.59L10.3 9.45l-7.72 7.72c-.78.78-.78 2.05 0 2.83L4 21.41c.39.39.9.59 1.41.59.51 0 1.02-.2 1.41-.59l7.78-7.78 2.81-2.81c.8-.78.8-2.07 0-2.86zM5.41 20L4 18.59l7.72-7.72 1.47 1.35L5.41 20z\"/>\n",
              "  </svg>\n",
              "      </button>\n",
              "      \n",
              "  <style>\n",
              "    .colab-df-container {\n",
              "      display:flex;\n",
              "      flex-wrap:wrap;\n",
              "      gap: 12px;\n",
              "    }\n",
              "\n",
              "    .colab-df-convert {\n",
              "      background-color: #E8F0FE;\n",
              "      border: none;\n",
              "      border-radius: 50%;\n",
              "      cursor: pointer;\n",
              "      display: none;\n",
              "      fill: #1967D2;\n",
              "      height: 32px;\n",
              "      padding: 0 0 0 0;\n",
              "      width: 32px;\n",
              "    }\n",
              "\n",
              "    .colab-df-convert:hover {\n",
              "      background-color: #E2EBFA;\n",
              "      box-shadow: 0px 1px 2px rgba(60, 64, 67, 0.3), 0px 1px 3px 1px rgba(60, 64, 67, 0.15);\n",
              "      fill: #174EA6;\n",
              "    }\n",
              "\n",
              "    [theme=dark] .colab-df-convert {\n",
              "      background-color: #3B4455;\n",
              "      fill: #D2E3FC;\n",
              "    }\n",
              "\n",
              "    [theme=dark] .colab-df-convert:hover {\n",
              "      background-color: #434B5C;\n",
              "      box-shadow: 0px 1px 3px 1px rgba(0, 0, 0, 0.15);\n",
              "      filter: drop-shadow(0px 1px 2px rgba(0, 0, 0, 0.3));\n",
              "      fill: #FFFFFF;\n",
              "    }\n",
              "  </style>\n",
              "\n",
              "      <script>\n",
              "        const buttonEl =\n",
              "          document.querySelector('#df-e91da3c0-b95b-4330-b98f-b006262e6833 button.colab-df-convert');\n",
              "        buttonEl.style.display =\n",
              "          google.colab.kernel.accessAllowed ? 'block' : 'none';\n",
              "\n",
              "        async function convertToInteractive(key) {\n",
              "          const element = document.querySelector('#df-e91da3c0-b95b-4330-b98f-b006262e6833');\n",
              "          const dataTable =\n",
              "            await google.colab.kernel.invokeFunction('convertToInteractive',\n",
              "                                                     [key], {});\n",
              "          if (!dataTable) return;\n",
              "\n",
              "          const docLinkHtml = 'Like what you see? Visit the ' +\n",
              "            '<a target=\"_blank\" href=https://colab.research.google.com/notebooks/data_table.ipynb>data table notebook</a>'\n",
              "            + ' to learn more about interactive tables.';\n",
              "          element.innerHTML = '';\n",
              "          dataTable['output_type'] = 'display_data';\n",
              "          await google.colab.output.renderOutput(dataTable, element);\n",
              "          const docLink = document.createElement('div');\n",
              "          docLink.innerHTML = docLinkHtml;\n",
              "          element.appendChild(docLink);\n",
              "        }\n",
              "      </script>\n",
              "    </div>\n",
              "  </div>\n",
              "  "
            ]
          },
          "metadata": {},
          "execution_count": 53
        }
      ]
    },
    {
      "cell_type": "code",
      "source": [
        "df.describe()"
      ],
      "metadata": {
        "colab": {
          "base_uri": "https://localhost:8080/",
          "height": 300
        },
        "id": "IpSa0vbpcTRa",
        "outputId": "7ef8775b-ed5f-4371-feac-8b6aee8a9f9a"
      },
      "execution_count": null,
      "outputs": [
        {
          "output_type": "execute_result",
          "data": {
            "text/plain": [
              "           store_id      customer       revenue         order         quant  \\\n",
              "count  22153.000000  22153.000000  22153.000000  22153.000000  22153.000000   \n",
              "mean     335.498984      1.633142    159.980664      1.655758      1.862547   \n",
              "std      230.306659      1.790534    277.029751      1.866587      2.353762   \n",
              "min       19.000000      1.000000      0.000000      1.000000      1.000000   \n",
              "25%      142.000000      1.000000     65.510000      1.000000      1.000000   \n",
              "50%      315.000000      1.000000     99.000000      1.000000      1.000000   \n",
              "75%      480.000000      2.000000    176.000000      2.000000      2.000000   \n",
              "max      831.000000     58.000000  12538.000000     65.000000     84.000000   \n",
              "\n",
              "          unit_cost  unit_order_num  unit_quant_num  unit_revenue  \\\n",
              "count  22153.000000    22153.000000    22153.000000  22153.000000   \n",
              "mean      46.141696        1.011594        1.132359     93.308863   \n",
              "std       19.126855        0.112301        0.740642     76.764955   \n",
              "min        9.000000        1.000000        1.000000      0.000000   \n",
              "25%       49.000000        1.000000        1.000000     59.000000   \n",
              "50%       49.000000        1.000000        1.000000     79.000000   \n",
              "75%       49.000000        1.000000        1.000000     99.000000   \n",
              "max       99.000000        5.500000       84.000000   6636.000000   \n",
              "\n",
              "       unit_revenue_of_product        profit  \n",
              "count             22153.000000  22153.000000  \n",
              "mean                 84.302424     38.160728  \n",
              "std                  46.315781     40.236577  \n",
              "min                   0.000000    -99.000000  \n",
              "25%                  56.000000     14.000000  \n",
              "50%                  79.000000     30.000000  \n",
              "75%                  99.000000     50.000000  \n",
              "max                 299.000000    270.000000  "
            ],
            "text/html": [
              "\n",
              "  <div id=\"df-8203792d-6368-40d4-a3ec-7893f4cf14bb\">\n",
              "    <div class=\"colab-df-container\">\n",
              "      <div>\n",
              "<style scoped>\n",
              "    .dataframe tbody tr th:only-of-type {\n",
              "        vertical-align: middle;\n",
              "    }\n",
              "\n",
              "    .dataframe tbody tr th {\n",
              "        vertical-align: top;\n",
              "    }\n",
              "\n",
              "    .dataframe thead th {\n",
              "        text-align: right;\n",
              "    }\n",
              "</style>\n",
              "<table border=\"1\" class=\"dataframe\">\n",
              "  <thead>\n",
              "    <tr style=\"text-align: right;\">\n",
              "      <th></th>\n",
              "      <th>store_id</th>\n",
              "      <th>customer</th>\n",
              "      <th>revenue</th>\n",
              "      <th>order</th>\n",
              "      <th>quant</th>\n",
              "      <th>unit_cost</th>\n",
              "      <th>unit_order_num</th>\n",
              "      <th>unit_quant_num</th>\n",
              "      <th>unit_revenue</th>\n",
              "      <th>unit_revenue_of_product</th>\n",
              "      <th>profit</th>\n",
              "    </tr>\n",
              "  </thead>\n",
              "  <tbody>\n",
              "    <tr>\n",
              "      <th>count</th>\n",
              "      <td>22153.000000</td>\n",
              "      <td>22153.000000</td>\n",
              "      <td>22153.000000</td>\n",
              "      <td>22153.000000</td>\n",
              "      <td>22153.000000</td>\n",
              "      <td>22153.000000</td>\n",
              "      <td>22153.000000</td>\n",
              "      <td>22153.000000</td>\n",
              "      <td>22153.000000</td>\n",
              "      <td>22153.000000</td>\n",
              "      <td>22153.000000</td>\n",
              "    </tr>\n",
              "    <tr>\n",
              "      <th>mean</th>\n",
              "      <td>335.498984</td>\n",
              "      <td>1.633142</td>\n",
              "      <td>159.980664</td>\n",
              "      <td>1.655758</td>\n",
              "      <td>1.862547</td>\n",
              "      <td>46.141696</td>\n",
              "      <td>1.011594</td>\n",
              "      <td>1.132359</td>\n",
              "      <td>93.308863</td>\n",
              "      <td>84.302424</td>\n",
              "      <td>38.160728</td>\n",
              "    </tr>\n",
              "    <tr>\n",
              "      <th>std</th>\n",
              "      <td>230.306659</td>\n",
              "      <td>1.790534</td>\n",
              "      <td>277.029751</td>\n",
              "      <td>1.866587</td>\n",
              "      <td>2.353762</td>\n",
              "      <td>19.126855</td>\n",
              "      <td>0.112301</td>\n",
              "      <td>0.740642</td>\n",
              "      <td>76.764955</td>\n",
              "      <td>46.315781</td>\n",
              "      <td>40.236577</td>\n",
              "    </tr>\n",
              "    <tr>\n",
              "      <th>min</th>\n",
              "      <td>19.000000</td>\n",
              "      <td>1.000000</td>\n",
              "      <td>0.000000</td>\n",
              "      <td>1.000000</td>\n",
              "      <td>1.000000</td>\n",
              "      <td>9.000000</td>\n",
              "      <td>1.000000</td>\n",
              "      <td>1.000000</td>\n",
              "      <td>0.000000</td>\n",
              "      <td>0.000000</td>\n",
              "      <td>-99.000000</td>\n",
              "    </tr>\n",
              "    <tr>\n",
              "      <th>25%</th>\n",
              "      <td>142.000000</td>\n",
              "      <td>1.000000</td>\n",
              "      <td>65.510000</td>\n",
              "      <td>1.000000</td>\n",
              "      <td>1.000000</td>\n",
              "      <td>49.000000</td>\n",
              "      <td>1.000000</td>\n",
              "      <td>1.000000</td>\n",
              "      <td>59.000000</td>\n",
              "      <td>56.000000</td>\n",
              "      <td>14.000000</td>\n",
              "    </tr>\n",
              "    <tr>\n",
              "      <th>50%</th>\n",
              "      <td>315.000000</td>\n",
              "      <td>1.000000</td>\n",
              "      <td>99.000000</td>\n",
              "      <td>1.000000</td>\n",
              "      <td>1.000000</td>\n",
              "      <td>49.000000</td>\n",
              "      <td>1.000000</td>\n",
              "      <td>1.000000</td>\n",
              "      <td>79.000000</td>\n",
              "      <td>79.000000</td>\n",
              "      <td>30.000000</td>\n",
              "    </tr>\n",
              "    <tr>\n",
              "      <th>75%</th>\n",
              "      <td>480.000000</td>\n",
              "      <td>2.000000</td>\n",
              "      <td>176.000000</td>\n",
              "      <td>2.000000</td>\n",
              "      <td>2.000000</td>\n",
              "      <td>49.000000</td>\n",
              "      <td>1.000000</td>\n",
              "      <td>1.000000</td>\n",
              "      <td>99.000000</td>\n",
              "      <td>99.000000</td>\n",
              "      <td>50.000000</td>\n",
              "    </tr>\n",
              "    <tr>\n",
              "      <th>max</th>\n",
              "      <td>831.000000</td>\n",
              "      <td>58.000000</td>\n",
              "      <td>12538.000000</td>\n",
              "      <td>65.000000</td>\n",
              "      <td>84.000000</td>\n",
              "      <td>99.000000</td>\n",
              "      <td>5.500000</td>\n",
              "      <td>84.000000</td>\n",
              "      <td>6636.000000</td>\n",
              "      <td>299.000000</td>\n",
              "      <td>270.000000</td>\n",
              "    </tr>\n",
              "  </tbody>\n",
              "</table>\n",
              "</div>\n",
              "      <button class=\"colab-df-convert\" onclick=\"convertToInteractive('df-8203792d-6368-40d4-a3ec-7893f4cf14bb')\"\n",
              "              title=\"Convert this dataframe to an interactive table.\"\n",
              "              style=\"display:none;\">\n",
              "        \n",
              "  <svg xmlns=\"http://www.w3.org/2000/svg\" height=\"24px\"viewBox=\"0 0 24 24\"\n",
              "       width=\"24px\">\n",
              "    <path d=\"M0 0h24v24H0V0z\" fill=\"none\"/>\n",
              "    <path d=\"M18.56 5.44l.94 2.06.94-2.06 2.06-.94-2.06-.94-.94-2.06-.94 2.06-2.06.94zm-11 1L8.5 8.5l.94-2.06 2.06-.94-2.06-.94L8.5 2.5l-.94 2.06-2.06.94zm10 10l.94 2.06.94-2.06 2.06-.94-2.06-.94-.94-2.06-.94 2.06-2.06.94z\"/><path d=\"M17.41 7.96l-1.37-1.37c-.4-.4-.92-.59-1.43-.59-.52 0-1.04.2-1.43.59L10.3 9.45l-7.72 7.72c-.78.78-.78 2.05 0 2.83L4 21.41c.39.39.9.59 1.41.59.51 0 1.02-.2 1.41-.59l7.78-7.78 2.81-2.81c.8-.78.8-2.07 0-2.86zM5.41 20L4 18.59l7.72-7.72 1.47 1.35L5.41 20z\"/>\n",
              "  </svg>\n",
              "      </button>\n",
              "      \n",
              "  <style>\n",
              "    .colab-df-container {\n",
              "      display:flex;\n",
              "      flex-wrap:wrap;\n",
              "      gap: 12px;\n",
              "    }\n",
              "\n",
              "    .colab-df-convert {\n",
              "      background-color: #E8F0FE;\n",
              "      border: none;\n",
              "      border-radius: 50%;\n",
              "      cursor: pointer;\n",
              "      display: none;\n",
              "      fill: #1967D2;\n",
              "      height: 32px;\n",
              "      padding: 0 0 0 0;\n",
              "      width: 32px;\n",
              "    }\n",
              "\n",
              "    .colab-df-convert:hover {\n",
              "      background-color: #E2EBFA;\n",
              "      box-shadow: 0px 1px 2px rgba(60, 64, 67, 0.3), 0px 1px 3px 1px rgba(60, 64, 67, 0.15);\n",
              "      fill: #174EA6;\n",
              "    }\n",
              "\n",
              "    [theme=dark] .colab-df-convert {\n",
              "      background-color: #3B4455;\n",
              "      fill: #D2E3FC;\n",
              "    }\n",
              "\n",
              "    [theme=dark] .colab-df-convert:hover {\n",
              "      background-color: #434B5C;\n",
              "      box-shadow: 0px 1px 3px 1px rgba(0, 0, 0, 0.15);\n",
              "      filter: drop-shadow(0px 1px 2px rgba(0, 0, 0, 0.3));\n",
              "      fill: #FFFFFF;\n",
              "    }\n",
              "  </style>\n",
              "\n",
              "      <script>\n",
              "        const buttonEl =\n",
              "          document.querySelector('#df-8203792d-6368-40d4-a3ec-7893f4cf14bb button.colab-df-convert');\n",
              "        buttonEl.style.display =\n",
              "          google.colab.kernel.accessAllowed ? 'block' : 'none';\n",
              "\n",
              "        async function convertToInteractive(key) {\n",
              "          const element = document.querySelector('#df-8203792d-6368-40d4-a3ec-7893f4cf14bb');\n",
              "          const dataTable =\n",
              "            await google.colab.kernel.invokeFunction('convertToInteractive',\n",
              "                                                     [key], {});\n",
              "          if (!dataTable) return;\n",
              "\n",
              "          const docLinkHtml = 'Like what you see? Visit the ' +\n",
              "            '<a target=\"_blank\" href=https://colab.research.google.com/notebooks/data_table.ipynb>data table notebook</a>'\n",
              "            + ' to learn more about interactive tables.';\n",
              "          element.innerHTML = '';\n",
              "          dataTable['output_type'] = 'display_data';\n",
              "          await google.colab.output.renderOutput(dataTable, element);\n",
              "          const docLink = document.createElement('div');\n",
              "          docLink.innerHTML = docLinkHtml;\n",
              "          element.appendChild(docLink);\n",
              "        }\n",
              "      </script>\n",
              "    </div>\n",
              "  </div>\n",
              "  "
            ]
          },
          "metadata": {},
          "execution_count": 54
        }
      ]
    },
    {
      "cell_type": "markdown",
      "source": [
        "### 4. 多变量分析"
      ],
      "metadata": {
        "id": "nup43XRSLRPN"
      }
    },
    {
      "cell_type": "code",
      "source": [
        "df.groupby(['city'])['revenue'].describe()"
      ],
      "metadata": {
        "colab": {
          "base_uri": "https://localhost:8080/",
          "height": 394
        },
        "id": "ROszZ6TgLdqI",
        "outputId": "64ceef23-1e35-48b1-a240-f349703d5407"
      },
      "execution_count": null,
      "outputs": [
        {
          "output_type": "execute_result",
          "data": {
            "text/plain": [
              "       count        mean         std   min   25%    50%    75%       max\n",
              "city                                                                    \n",
              "上海    2366.0  163.709100  259.619885  18.0  72.0   99.0  197.0   6636.00\n",
              "北京     576.0  226.353507  282.532186  19.0  79.0  118.5  237.0   2579.00\n",
              "南京     494.0  248.491761  668.730288  18.0  79.0   99.0  199.0  12538.00\n",
              "广州    2174.0  145.626260  163.886532   0.0  59.0   99.0  158.0   2081.00\n",
              "成都    1521.0  136.393728  216.879250  10.0  59.0   94.0  149.0   6150.00\n",
              "杭州    3764.0  156.229673  288.262277  10.0  59.0   99.0  158.0   8836.00\n",
              "武汉    3550.0  165.624913  286.349161  18.0  73.0   99.0  158.0   7919.00\n",
              "深圳    4331.0  168.696795  282.010164  10.0  75.0   99.0  191.5   5947.00\n",
              "西安    1603.0  131.345365  139.304151   0.0  59.0   93.0  158.0   1743.00\n",
              "重庆    1774.0  147.883681  296.135024  10.0  59.0   99.0  158.0  10498.28"
            ],
            "text/html": [
              "\n",
              "  <div id=\"df-997af61e-275b-47af-97b8-12bc4b3c4d59\">\n",
              "    <div class=\"colab-df-container\">\n",
              "      <div>\n",
              "<style scoped>\n",
              "    .dataframe tbody tr th:only-of-type {\n",
              "        vertical-align: middle;\n",
              "    }\n",
              "\n",
              "    .dataframe tbody tr th {\n",
              "        vertical-align: top;\n",
              "    }\n",
              "\n",
              "    .dataframe thead th {\n",
              "        text-align: right;\n",
              "    }\n",
              "</style>\n",
              "<table border=\"1\" class=\"dataframe\">\n",
              "  <thead>\n",
              "    <tr style=\"text-align: right;\">\n",
              "      <th></th>\n",
              "      <th>count</th>\n",
              "      <th>mean</th>\n",
              "      <th>std</th>\n",
              "      <th>min</th>\n",
              "      <th>25%</th>\n",
              "      <th>50%</th>\n",
              "      <th>75%</th>\n",
              "      <th>max</th>\n",
              "    </tr>\n",
              "    <tr>\n",
              "      <th>city</th>\n",
              "      <th></th>\n",
              "      <th></th>\n",
              "      <th></th>\n",
              "      <th></th>\n",
              "      <th></th>\n",
              "      <th></th>\n",
              "      <th></th>\n",
              "      <th></th>\n",
              "    </tr>\n",
              "  </thead>\n",
              "  <tbody>\n",
              "    <tr>\n",
              "      <th>上海</th>\n",
              "      <td>2366.0</td>\n",
              "      <td>163.709100</td>\n",
              "      <td>259.619885</td>\n",
              "      <td>18.0</td>\n",
              "      <td>72.0</td>\n",
              "      <td>99.0</td>\n",
              "      <td>197.0</td>\n",
              "      <td>6636.00</td>\n",
              "    </tr>\n",
              "    <tr>\n",
              "      <th>北京</th>\n",
              "      <td>576.0</td>\n",
              "      <td>226.353507</td>\n",
              "      <td>282.532186</td>\n",
              "      <td>19.0</td>\n",
              "      <td>79.0</td>\n",
              "      <td>118.5</td>\n",
              "      <td>237.0</td>\n",
              "      <td>2579.00</td>\n",
              "    </tr>\n",
              "    <tr>\n",
              "      <th>南京</th>\n",
              "      <td>494.0</td>\n",
              "      <td>248.491761</td>\n",
              "      <td>668.730288</td>\n",
              "      <td>18.0</td>\n",
              "      <td>79.0</td>\n",
              "      <td>99.0</td>\n",
              "      <td>199.0</td>\n",
              "      <td>12538.00</td>\n",
              "    </tr>\n",
              "    <tr>\n",
              "      <th>广州</th>\n",
              "      <td>2174.0</td>\n",
              "      <td>145.626260</td>\n",
              "      <td>163.886532</td>\n",
              "      <td>0.0</td>\n",
              "      <td>59.0</td>\n",
              "      <td>99.0</td>\n",
              "      <td>158.0</td>\n",
              "      <td>2081.00</td>\n",
              "    </tr>\n",
              "    <tr>\n",
              "      <th>成都</th>\n",
              "      <td>1521.0</td>\n",
              "      <td>136.393728</td>\n",
              "      <td>216.879250</td>\n",
              "      <td>10.0</td>\n",
              "      <td>59.0</td>\n",
              "      <td>94.0</td>\n",
              "      <td>149.0</td>\n",
              "      <td>6150.00</td>\n",
              "    </tr>\n",
              "    <tr>\n",
              "      <th>杭州</th>\n",
              "      <td>3764.0</td>\n",
              "      <td>156.229673</td>\n",
              "      <td>288.262277</td>\n",
              "      <td>10.0</td>\n",
              "      <td>59.0</td>\n",
              "      <td>99.0</td>\n",
              "      <td>158.0</td>\n",
              "      <td>8836.00</td>\n",
              "    </tr>\n",
              "    <tr>\n",
              "      <th>武汉</th>\n",
              "      <td>3550.0</td>\n",
              "      <td>165.624913</td>\n",
              "      <td>286.349161</td>\n",
              "      <td>18.0</td>\n",
              "      <td>73.0</td>\n",
              "      <td>99.0</td>\n",
              "      <td>158.0</td>\n",
              "      <td>7919.00</td>\n",
              "    </tr>\n",
              "    <tr>\n",
              "      <th>深圳</th>\n",
              "      <td>4331.0</td>\n",
              "      <td>168.696795</td>\n",
              "      <td>282.010164</td>\n",
              "      <td>10.0</td>\n",
              "      <td>75.0</td>\n",
              "      <td>99.0</td>\n",
              "      <td>191.5</td>\n",
              "      <td>5947.00</td>\n",
              "    </tr>\n",
              "    <tr>\n",
              "      <th>西安</th>\n",
              "      <td>1603.0</td>\n",
              "      <td>131.345365</td>\n",
              "      <td>139.304151</td>\n",
              "      <td>0.0</td>\n",
              "      <td>59.0</td>\n",
              "      <td>93.0</td>\n",
              "      <td>158.0</td>\n",
              "      <td>1743.00</td>\n",
              "    </tr>\n",
              "    <tr>\n",
              "      <th>重庆</th>\n",
              "      <td>1774.0</td>\n",
              "      <td>147.883681</td>\n",
              "      <td>296.135024</td>\n",
              "      <td>10.0</td>\n",
              "      <td>59.0</td>\n",
              "      <td>99.0</td>\n",
              "      <td>158.0</td>\n",
              "      <td>10498.28</td>\n",
              "    </tr>\n",
              "  </tbody>\n",
              "</table>\n",
              "</div>\n",
              "      <button class=\"colab-df-convert\" onclick=\"convertToInteractive('df-997af61e-275b-47af-97b8-12bc4b3c4d59')\"\n",
              "              title=\"Convert this dataframe to an interactive table.\"\n",
              "              style=\"display:none;\">\n",
              "        \n",
              "  <svg xmlns=\"http://www.w3.org/2000/svg\" height=\"24px\"viewBox=\"0 0 24 24\"\n",
              "       width=\"24px\">\n",
              "    <path d=\"M0 0h24v24H0V0z\" fill=\"none\"/>\n",
              "    <path d=\"M18.56 5.44l.94 2.06.94-2.06 2.06-.94-2.06-.94-.94-2.06-.94 2.06-2.06.94zm-11 1L8.5 8.5l.94-2.06 2.06-.94-2.06-.94L8.5 2.5l-.94 2.06-2.06.94zm10 10l.94 2.06.94-2.06 2.06-.94-2.06-.94-.94-2.06-.94 2.06-2.06.94z\"/><path d=\"M17.41 7.96l-1.37-1.37c-.4-.4-.92-.59-1.43-.59-.52 0-1.04.2-1.43.59L10.3 9.45l-7.72 7.72c-.78.78-.78 2.05 0 2.83L4 21.41c.39.39.9.59 1.41.59.51 0 1.02-.2 1.41-.59l7.78-7.78 2.81-2.81c.8-.78.8-2.07 0-2.86zM5.41 20L4 18.59l7.72-7.72 1.47 1.35L5.41 20z\"/>\n",
              "  </svg>\n",
              "      </button>\n",
              "      \n",
              "  <style>\n",
              "    .colab-df-container {\n",
              "      display:flex;\n",
              "      flex-wrap:wrap;\n",
              "      gap: 12px;\n",
              "    }\n",
              "\n",
              "    .colab-df-convert {\n",
              "      background-color: #E8F0FE;\n",
              "      border: none;\n",
              "      border-radius: 50%;\n",
              "      cursor: pointer;\n",
              "      display: none;\n",
              "      fill: #1967D2;\n",
              "      height: 32px;\n",
              "      padding: 0 0 0 0;\n",
              "      width: 32px;\n",
              "    }\n",
              "\n",
              "    .colab-df-convert:hover {\n",
              "      background-color: #E2EBFA;\n",
              "      box-shadow: 0px 1px 2px rgba(60, 64, 67, 0.3), 0px 1px 3px 1px rgba(60, 64, 67, 0.15);\n",
              "      fill: #174EA6;\n",
              "    }\n",
              "\n",
              "    [theme=dark] .colab-df-convert {\n",
              "      background-color: #3B4455;\n",
              "      fill: #D2E3FC;\n",
              "    }\n",
              "\n",
              "    [theme=dark] .colab-df-convert:hover {\n",
              "      background-color: #434B5C;\n",
              "      box-shadow: 0px 1px 3px 1px rgba(0, 0, 0, 0.15);\n",
              "      filter: drop-shadow(0px 1px 2px rgba(0, 0, 0, 0.3));\n",
              "      fill: #FFFFFF;\n",
              "    }\n",
              "  </style>\n",
              "\n",
              "      <script>\n",
              "        const buttonEl =\n",
              "          document.querySelector('#df-997af61e-275b-47af-97b8-12bc4b3c4d59 button.colab-df-convert');\n",
              "        buttonEl.style.display =\n",
              "          google.colab.kernel.accessAllowed ? 'block' : 'none';\n",
              "\n",
              "        async function convertToInteractive(key) {\n",
              "          const element = document.querySelector('#df-997af61e-275b-47af-97b8-12bc4b3c4d59');\n",
              "          const dataTable =\n",
              "            await google.colab.kernel.invokeFunction('convertToInteractive',\n",
              "                                                     [key], {});\n",
              "          if (!dataTable) return;\n",
              "\n",
              "          const docLinkHtml = 'Like what you see? Visit the ' +\n",
              "            '<a target=\"_blank\" href=https://colab.research.google.com/notebooks/data_table.ipynb>data table notebook</a>'\n",
              "            + ' to learn more about interactive tables.';\n",
              "          element.innerHTML = '';\n",
              "          dataTable['output_type'] = 'display_data';\n",
              "          await google.colab.output.renderOutput(dataTable, element);\n",
              "          const docLink = document.createElement('div');\n",
              "          docLink.innerHTML = docLinkHtml;\n",
              "          element.appendChild(docLink);\n",
              "        }\n",
              "      </script>\n",
              "    </div>\n",
              "  </div>\n",
              "  "
            ]
          },
          "metadata": {},
          "execution_count": 56
        }
      ]
    },
    {
      "cell_type": "code",
      "source": [
        "df.groupby(['channel'])['revenue'].describe()"
      ],
      "metadata": {
        "colab": {
          "base_uri": "https://localhost:8080/",
          "height": 143
        },
        "id": "0stQwAo3LrMF",
        "outputId": "48116258-b979-40aa-89dd-4d887cbec8d0"
      },
      "execution_count": null,
      "outputs": [
        {
          "output_type": "execute_result",
          "data": {
            "text/plain": [
              "           count        mean         std   min     25%   50%    75%       max\n",
              "channel                                                                      \n",
              "线上        3859.0  168.435123  241.588386  10.0  69.115  99.0  198.0   5039.59\n",
              "线下       18294.0  158.197251  283.915269   0.0  63.450  99.0  158.0  12538.00"
            ],
            "text/html": [
              "\n",
              "  <div id=\"df-dc41733e-bfc1-4f07-85e3-53370cb5bf3c\">\n",
              "    <div class=\"colab-df-container\">\n",
              "      <div>\n",
              "<style scoped>\n",
              "    .dataframe tbody tr th:only-of-type {\n",
              "        vertical-align: middle;\n",
              "    }\n",
              "\n",
              "    .dataframe tbody tr th {\n",
              "        vertical-align: top;\n",
              "    }\n",
              "\n",
              "    .dataframe thead th {\n",
              "        text-align: right;\n",
              "    }\n",
              "</style>\n",
              "<table border=\"1\" class=\"dataframe\">\n",
              "  <thead>\n",
              "    <tr style=\"text-align: right;\">\n",
              "      <th></th>\n",
              "      <th>count</th>\n",
              "      <th>mean</th>\n",
              "      <th>std</th>\n",
              "      <th>min</th>\n",
              "      <th>25%</th>\n",
              "      <th>50%</th>\n",
              "      <th>75%</th>\n",
              "      <th>max</th>\n",
              "    </tr>\n",
              "    <tr>\n",
              "      <th>channel</th>\n",
              "      <th></th>\n",
              "      <th></th>\n",
              "      <th></th>\n",
              "      <th></th>\n",
              "      <th></th>\n",
              "      <th></th>\n",
              "      <th></th>\n",
              "      <th></th>\n",
              "    </tr>\n",
              "  </thead>\n",
              "  <tbody>\n",
              "    <tr>\n",
              "      <th>线上</th>\n",
              "      <td>3859.0</td>\n",
              "      <td>168.435123</td>\n",
              "      <td>241.588386</td>\n",
              "      <td>10.0</td>\n",
              "      <td>69.115</td>\n",
              "      <td>99.0</td>\n",
              "      <td>198.0</td>\n",
              "      <td>5039.59</td>\n",
              "    </tr>\n",
              "    <tr>\n",
              "      <th>线下</th>\n",
              "      <td>18294.0</td>\n",
              "      <td>158.197251</td>\n",
              "      <td>283.915269</td>\n",
              "      <td>0.0</td>\n",
              "      <td>63.450</td>\n",
              "      <td>99.0</td>\n",
              "      <td>158.0</td>\n",
              "      <td>12538.00</td>\n",
              "    </tr>\n",
              "  </tbody>\n",
              "</table>\n",
              "</div>\n",
              "      <button class=\"colab-df-convert\" onclick=\"convertToInteractive('df-dc41733e-bfc1-4f07-85e3-53370cb5bf3c')\"\n",
              "              title=\"Convert this dataframe to an interactive table.\"\n",
              "              style=\"display:none;\">\n",
              "        \n",
              "  <svg xmlns=\"http://www.w3.org/2000/svg\" height=\"24px\"viewBox=\"0 0 24 24\"\n",
              "       width=\"24px\">\n",
              "    <path d=\"M0 0h24v24H0V0z\" fill=\"none\"/>\n",
              "    <path d=\"M18.56 5.44l.94 2.06.94-2.06 2.06-.94-2.06-.94-.94-2.06-.94 2.06-2.06.94zm-11 1L8.5 8.5l.94-2.06 2.06-.94-2.06-.94L8.5 2.5l-.94 2.06-2.06.94zm10 10l.94 2.06.94-2.06 2.06-.94-2.06-.94-.94-2.06-.94 2.06-2.06.94z\"/><path d=\"M17.41 7.96l-1.37-1.37c-.4-.4-.92-.59-1.43-.59-.52 0-1.04.2-1.43.59L10.3 9.45l-7.72 7.72c-.78.78-.78 2.05 0 2.83L4 21.41c.39.39.9.59 1.41.59.51 0 1.02-.2 1.41-.59l7.78-7.78 2.81-2.81c.8-.78.8-2.07 0-2.86zM5.41 20L4 18.59l7.72-7.72 1.47 1.35L5.41 20z\"/>\n",
              "  </svg>\n",
              "      </button>\n",
              "      \n",
              "  <style>\n",
              "    .colab-df-container {\n",
              "      display:flex;\n",
              "      flex-wrap:wrap;\n",
              "      gap: 12px;\n",
              "    }\n",
              "\n",
              "    .colab-df-convert {\n",
              "      background-color: #E8F0FE;\n",
              "      border: none;\n",
              "      border-radius: 50%;\n",
              "      cursor: pointer;\n",
              "      display: none;\n",
              "      fill: #1967D2;\n",
              "      height: 32px;\n",
              "      padding: 0 0 0 0;\n",
              "      width: 32px;\n",
              "    }\n",
              "\n",
              "    .colab-df-convert:hover {\n",
              "      background-color: #E2EBFA;\n",
              "      box-shadow: 0px 1px 2px rgba(60, 64, 67, 0.3), 0px 1px 3px 1px rgba(60, 64, 67, 0.15);\n",
              "      fill: #174EA6;\n",
              "    }\n",
              "\n",
              "    [theme=dark] .colab-df-convert {\n",
              "      background-color: #3B4455;\n",
              "      fill: #D2E3FC;\n",
              "    }\n",
              "\n",
              "    [theme=dark] .colab-df-convert:hover {\n",
              "      background-color: #434B5C;\n",
              "      box-shadow: 0px 1px 3px 1px rgba(0, 0, 0, 0.15);\n",
              "      filter: drop-shadow(0px 1px 2px rgba(0, 0, 0, 0.3));\n",
              "      fill: #FFFFFF;\n",
              "    }\n",
              "  </style>\n",
              "\n",
              "      <script>\n",
              "        const buttonEl =\n",
              "          document.querySelector('#df-dc41733e-bfc1-4f07-85e3-53370cb5bf3c button.colab-df-convert');\n",
              "        buttonEl.style.display =\n",
              "          google.colab.kernel.accessAllowed ? 'block' : 'none';\n",
              "\n",
              "        async function convertToInteractive(key) {\n",
              "          const element = document.querySelector('#df-dc41733e-bfc1-4f07-85e3-53370cb5bf3c');\n",
              "          const dataTable =\n",
              "            await google.colab.kernel.invokeFunction('convertToInteractive',\n",
              "                                                     [key], {});\n",
              "          if (!dataTable) return;\n",
              "\n",
              "          const docLinkHtml = 'Like what you see? Visit the ' +\n",
              "            '<a target=\"_blank\" href=https://colab.research.google.com/notebooks/data_table.ipynb>data table notebook</a>'\n",
              "            + ' to learn more about interactive tables.';\n",
              "          element.innerHTML = '';\n",
              "          dataTable['output_type'] = 'display_data';\n",
              "          await google.colab.output.renderOutput(dataTable, element);\n",
              "          const docLink = document.createElement('div');\n",
              "          docLink.innerHTML = docLinkHtml;\n",
              "          element.appendChild(docLink);\n",
              "        }\n",
              "      </script>\n",
              "    </div>\n",
              "  </div>\n",
              "  "
            ]
          },
          "metadata": {},
          "execution_count": 57
        }
      ]
    },
    {
      "cell_type": "code",
      "source": [
        "df.groupby(['gender_group'])['revenue'].describe()"
      ],
      "metadata": {
        "colab": {
          "base_uri": "https://localhost:8080/",
          "height": 143
        },
        "id": "yugVoGxZLxf2",
        "outputId": "7ed7475f-1feb-4d21-9044-efdb0f0224bf"
      },
      "execution_count": null,
      "outputs": [
        {
          "output_type": "execute_result",
          "data": {
            "text/plain": [
              "                count        mean         std  min   25%   50%    75%      max\n",
              "gender_group                                                                  \n",
              "Female        14196.0  177.983235  329.951849  0.0  73.0  99.0  198.0  12538.0\n",
              "Male           7957.0  127.862467  133.537000  0.0  59.0  96.5  149.0   1972.0"
            ],
            "text/html": [
              "\n",
              "  <div id=\"df-069411b8-8803-42f0-badd-5629d3a61380\">\n",
              "    <div class=\"colab-df-container\">\n",
              "      <div>\n",
              "<style scoped>\n",
              "    .dataframe tbody tr th:only-of-type {\n",
              "        vertical-align: middle;\n",
              "    }\n",
              "\n",
              "    .dataframe tbody tr th {\n",
              "        vertical-align: top;\n",
              "    }\n",
              "\n",
              "    .dataframe thead th {\n",
              "        text-align: right;\n",
              "    }\n",
              "</style>\n",
              "<table border=\"1\" class=\"dataframe\">\n",
              "  <thead>\n",
              "    <tr style=\"text-align: right;\">\n",
              "      <th></th>\n",
              "      <th>count</th>\n",
              "      <th>mean</th>\n",
              "      <th>std</th>\n",
              "      <th>min</th>\n",
              "      <th>25%</th>\n",
              "      <th>50%</th>\n",
              "      <th>75%</th>\n",
              "      <th>max</th>\n",
              "    </tr>\n",
              "    <tr>\n",
              "      <th>gender_group</th>\n",
              "      <th></th>\n",
              "      <th></th>\n",
              "      <th></th>\n",
              "      <th></th>\n",
              "      <th></th>\n",
              "      <th></th>\n",
              "      <th></th>\n",
              "      <th></th>\n",
              "    </tr>\n",
              "  </thead>\n",
              "  <tbody>\n",
              "    <tr>\n",
              "      <th>Female</th>\n",
              "      <td>14196.0</td>\n",
              "      <td>177.983235</td>\n",
              "      <td>329.951849</td>\n",
              "      <td>0.0</td>\n",
              "      <td>73.0</td>\n",
              "      <td>99.0</td>\n",
              "      <td>198.0</td>\n",
              "      <td>12538.0</td>\n",
              "    </tr>\n",
              "    <tr>\n",
              "      <th>Male</th>\n",
              "      <td>7957.0</td>\n",
              "      <td>127.862467</td>\n",
              "      <td>133.537000</td>\n",
              "      <td>0.0</td>\n",
              "      <td>59.0</td>\n",
              "      <td>96.5</td>\n",
              "      <td>149.0</td>\n",
              "      <td>1972.0</td>\n",
              "    </tr>\n",
              "  </tbody>\n",
              "</table>\n",
              "</div>\n",
              "      <button class=\"colab-df-convert\" onclick=\"convertToInteractive('df-069411b8-8803-42f0-badd-5629d3a61380')\"\n",
              "              title=\"Convert this dataframe to an interactive table.\"\n",
              "              style=\"display:none;\">\n",
              "        \n",
              "  <svg xmlns=\"http://www.w3.org/2000/svg\" height=\"24px\"viewBox=\"0 0 24 24\"\n",
              "       width=\"24px\">\n",
              "    <path d=\"M0 0h24v24H0V0z\" fill=\"none\"/>\n",
              "    <path d=\"M18.56 5.44l.94 2.06.94-2.06 2.06-.94-2.06-.94-.94-2.06-.94 2.06-2.06.94zm-11 1L8.5 8.5l.94-2.06 2.06-.94-2.06-.94L8.5 2.5l-.94 2.06-2.06.94zm10 10l.94 2.06.94-2.06 2.06-.94-2.06-.94-.94-2.06-.94 2.06-2.06.94z\"/><path d=\"M17.41 7.96l-1.37-1.37c-.4-.4-.92-.59-1.43-.59-.52 0-1.04.2-1.43.59L10.3 9.45l-7.72 7.72c-.78.78-.78 2.05 0 2.83L4 21.41c.39.39.9.59 1.41.59.51 0 1.02-.2 1.41-.59l7.78-7.78 2.81-2.81c.8-.78.8-2.07 0-2.86zM5.41 20L4 18.59l7.72-7.72 1.47 1.35L5.41 20z\"/>\n",
              "  </svg>\n",
              "      </button>\n",
              "      \n",
              "  <style>\n",
              "    .colab-df-container {\n",
              "      display:flex;\n",
              "      flex-wrap:wrap;\n",
              "      gap: 12px;\n",
              "    }\n",
              "\n",
              "    .colab-df-convert {\n",
              "      background-color: #E8F0FE;\n",
              "      border: none;\n",
              "      border-radius: 50%;\n",
              "      cursor: pointer;\n",
              "      display: none;\n",
              "      fill: #1967D2;\n",
              "      height: 32px;\n",
              "      padding: 0 0 0 0;\n",
              "      width: 32px;\n",
              "    }\n",
              "\n",
              "    .colab-df-convert:hover {\n",
              "      background-color: #E2EBFA;\n",
              "      box-shadow: 0px 1px 2px rgba(60, 64, 67, 0.3), 0px 1px 3px 1px rgba(60, 64, 67, 0.15);\n",
              "      fill: #174EA6;\n",
              "    }\n",
              "\n",
              "    [theme=dark] .colab-df-convert {\n",
              "      background-color: #3B4455;\n",
              "      fill: #D2E3FC;\n",
              "    }\n",
              "\n",
              "    [theme=dark] .colab-df-convert:hover {\n",
              "      background-color: #434B5C;\n",
              "      box-shadow: 0px 1px 3px 1px rgba(0, 0, 0, 0.15);\n",
              "      filter: drop-shadow(0px 1px 2px rgba(0, 0, 0, 0.3));\n",
              "      fill: #FFFFFF;\n",
              "    }\n",
              "  </style>\n",
              "\n",
              "      <script>\n",
              "        const buttonEl =\n",
              "          document.querySelector('#df-069411b8-8803-42f0-badd-5629d3a61380 button.colab-df-convert');\n",
              "        buttonEl.style.display =\n",
              "          google.colab.kernel.accessAllowed ? 'block' : 'none';\n",
              "\n",
              "        async function convertToInteractive(key) {\n",
              "          const element = document.querySelector('#df-069411b8-8803-42f0-badd-5629d3a61380');\n",
              "          const dataTable =\n",
              "            await google.colab.kernel.invokeFunction('convertToInteractive',\n",
              "                                                     [key], {});\n",
              "          if (!dataTable) return;\n",
              "\n",
              "          const docLinkHtml = 'Like what you see? Visit the ' +\n",
              "            '<a target=\"_blank\" href=https://colab.research.google.com/notebooks/data_table.ipynb>data table notebook</a>'\n",
              "            + ' to learn more about interactive tables.';\n",
              "          element.innerHTML = '';\n",
              "          dataTable['output_type'] = 'display_data';\n",
              "          await google.colab.output.renderOutput(dataTable, element);\n",
              "          const docLink = document.createElement('div');\n",
              "          docLink.innerHTML = docLinkHtml;\n",
              "          element.appendChild(docLink);\n",
              "        }\n",
              "      </script>\n",
              "    </div>\n",
              "  </div>\n",
              "  "
            ]
          },
          "metadata": {},
          "execution_count": 58
        }
      ]
    },
    {
      "cell_type": "code",
      "source": [
        "df.groupby(['age_group'])['revenue'].describe()"
      ],
      "metadata": {
        "colab": {
          "base_uri": "https://localhost:8080/",
          "height": 394
        },
        "id": "6vvSKR3ML1Qi",
        "outputId": "fb824cf6-9c08-4f5e-f85f-7ca6e7ec8f4d"
      },
      "execution_count": null,
      "outputs": [
        {
          "output_type": "execute_result",
          "data": {
            "text/plain": [
              "            count        mean         std   min   25%    50%       75%  \\\n",
              "age_group                                                                \n",
              "20-24      3345.0  165.049151  239.990281   0.0  75.0  99.00  198.0000   \n",
              "25-29      4224.0  185.470419  352.358196   0.0  78.0  99.00  198.0000   \n",
              "30-34      4426.0  176.660045  278.626585   0.0  65.0  99.00  198.0000   \n",
              "35-39      3690.0  157.323501  282.521420   0.0  59.0  99.00  174.0075   \n",
              "40-44      1954.0  124.016796  152.839671   0.0  59.0  79.00  149.0000   \n",
              "45-49      1095.0  138.654219  401.381628   0.0  59.0  92.96  149.0000   \n",
              "50-54       672.0  146.992009  307.393782   0.0  59.0  99.00  149.0000   \n",
              "55-59       513.0  137.634308  167.705366  10.0  59.0  79.00  158.0000   \n",
              "<20         660.0  122.922318  105.291419   0.0  79.0  99.00  149.0000   \n",
              ">=60       1574.0  127.982948  133.886539   0.0  59.0  99.00  149.0000   \n",
              "\n",
              "                max  \n",
              "age_group            \n",
              "20-24       5039.59  \n",
              "25-29       8836.00  \n",
              "30-34       6150.00  \n",
              "35-39      10498.28  \n",
              "40-44       2475.00  \n",
              "45-49      12538.00  \n",
              "50-54       6636.00  \n",
              "55-59       2425.00  \n",
              "<20         1023.00  \n",
              ">=60        1972.00  "
            ],
            "text/html": [
              "\n",
              "  <div id=\"df-df2e6f83-21e7-4a04-8cdb-095aec7aa639\">\n",
              "    <div class=\"colab-df-container\">\n",
              "      <div>\n",
              "<style scoped>\n",
              "    .dataframe tbody tr th:only-of-type {\n",
              "        vertical-align: middle;\n",
              "    }\n",
              "\n",
              "    .dataframe tbody tr th {\n",
              "        vertical-align: top;\n",
              "    }\n",
              "\n",
              "    .dataframe thead th {\n",
              "        text-align: right;\n",
              "    }\n",
              "</style>\n",
              "<table border=\"1\" class=\"dataframe\">\n",
              "  <thead>\n",
              "    <tr style=\"text-align: right;\">\n",
              "      <th></th>\n",
              "      <th>count</th>\n",
              "      <th>mean</th>\n",
              "      <th>std</th>\n",
              "      <th>min</th>\n",
              "      <th>25%</th>\n",
              "      <th>50%</th>\n",
              "      <th>75%</th>\n",
              "      <th>max</th>\n",
              "    </tr>\n",
              "    <tr>\n",
              "      <th>age_group</th>\n",
              "      <th></th>\n",
              "      <th></th>\n",
              "      <th></th>\n",
              "      <th></th>\n",
              "      <th></th>\n",
              "      <th></th>\n",
              "      <th></th>\n",
              "      <th></th>\n",
              "    </tr>\n",
              "  </thead>\n",
              "  <tbody>\n",
              "    <tr>\n",
              "      <th>20-24</th>\n",
              "      <td>3345.0</td>\n",
              "      <td>165.049151</td>\n",
              "      <td>239.990281</td>\n",
              "      <td>0.0</td>\n",
              "      <td>75.0</td>\n",
              "      <td>99.00</td>\n",
              "      <td>198.0000</td>\n",
              "      <td>5039.59</td>\n",
              "    </tr>\n",
              "    <tr>\n",
              "      <th>25-29</th>\n",
              "      <td>4224.0</td>\n",
              "      <td>185.470419</td>\n",
              "      <td>352.358196</td>\n",
              "      <td>0.0</td>\n",
              "      <td>78.0</td>\n",
              "      <td>99.00</td>\n",
              "      <td>198.0000</td>\n",
              "      <td>8836.00</td>\n",
              "    </tr>\n",
              "    <tr>\n",
              "      <th>30-34</th>\n",
              "      <td>4426.0</td>\n",
              "      <td>176.660045</td>\n",
              "      <td>278.626585</td>\n",
              "      <td>0.0</td>\n",
              "      <td>65.0</td>\n",
              "      <td>99.00</td>\n",
              "      <td>198.0000</td>\n",
              "      <td>6150.00</td>\n",
              "    </tr>\n",
              "    <tr>\n",
              "      <th>35-39</th>\n",
              "      <td>3690.0</td>\n",
              "      <td>157.323501</td>\n",
              "      <td>282.521420</td>\n",
              "      <td>0.0</td>\n",
              "      <td>59.0</td>\n",
              "      <td>99.00</td>\n",
              "      <td>174.0075</td>\n",
              "      <td>10498.28</td>\n",
              "    </tr>\n",
              "    <tr>\n",
              "      <th>40-44</th>\n",
              "      <td>1954.0</td>\n",
              "      <td>124.016796</td>\n",
              "      <td>152.839671</td>\n",
              "      <td>0.0</td>\n",
              "      <td>59.0</td>\n",
              "      <td>79.00</td>\n",
              "      <td>149.0000</td>\n",
              "      <td>2475.00</td>\n",
              "    </tr>\n",
              "    <tr>\n",
              "      <th>45-49</th>\n",
              "      <td>1095.0</td>\n",
              "      <td>138.654219</td>\n",
              "      <td>401.381628</td>\n",
              "      <td>0.0</td>\n",
              "      <td>59.0</td>\n",
              "      <td>92.96</td>\n",
              "      <td>149.0000</td>\n",
              "      <td>12538.00</td>\n",
              "    </tr>\n",
              "    <tr>\n",
              "      <th>50-54</th>\n",
              "      <td>672.0</td>\n",
              "      <td>146.992009</td>\n",
              "      <td>307.393782</td>\n",
              "      <td>0.0</td>\n",
              "      <td>59.0</td>\n",
              "      <td>99.00</td>\n",
              "      <td>149.0000</td>\n",
              "      <td>6636.00</td>\n",
              "    </tr>\n",
              "    <tr>\n",
              "      <th>55-59</th>\n",
              "      <td>513.0</td>\n",
              "      <td>137.634308</td>\n",
              "      <td>167.705366</td>\n",
              "      <td>10.0</td>\n",
              "      <td>59.0</td>\n",
              "      <td>79.00</td>\n",
              "      <td>158.0000</td>\n",
              "      <td>2425.00</td>\n",
              "    </tr>\n",
              "    <tr>\n",
              "      <th>&lt;20</th>\n",
              "      <td>660.0</td>\n",
              "      <td>122.922318</td>\n",
              "      <td>105.291419</td>\n",
              "      <td>0.0</td>\n",
              "      <td>79.0</td>\n",
              "      <td>99.00</td>\n",
              "      <td>149.0000</td>\n",
              "      <td>1023.00</td>\n",
              "    </tr>\n",
              "    <tr>\n",
              "      <th>&gt;=60</th>\n",
              "      <td>1574.0</td>\n",
              "      <td>127.982948</td>\n",
              "      <td>133.886539</td>\n",
              "      <td>0.0</td>\n",
              "      <td>59.0</td>\n",
              "      <td>99.00</td>\n",
              "      <td>149.0000</td>\n",
              "      <td>1972.00</td>\n",
              "    </tr>\n",
              "  </tbody>\n",
              "</table>\n",
              "</div>\n",
              "      <button class=\"colab-df-convert\" onclick=\"convertToInteractive('df-df2e6f83-21e7-4a04-8cdb-095aec7aa639')\"\n",
              "              title=\"Convert this dataframe to an interactive table.\"\n",
              "              style=\"display:none;\">\n",
              "        \n",
              "  <svg xmlns=\"http://www.w3.org/2000/svg\" height=\"24px\"viewBox=\"0 0 24 24\"\n",
              "       width=\"24px\">\n",
              "    <path d=\"M0 0h24v24H0V0z\" fill=\"none\"/>\n",
              "    <path d=\"M18.56 5.44l.94 2.06.94-2.06 2.06-.94-2.06-.94-.94-2.06-.94 2.06-2.06.94zm-11 1L8.5 8.5l.94-2.06 2.06-.94-2.06-.94L8.5 2.5l-.94 2.06-2.06.94zm10 10l.94 2.06.94-2.06 2.06-.94-2.06-.94-.94-2.06-.94 2.06-2.06.94z\"/><path d=\"M17.41 7.96l-1.37-1.37c-.4-.4-.92-.59-1.43-.59-.52 0-1.04.2-1.43.59L10.3 9.45l-7.72 7.72c-.78.78-.78 2.05 0 2.83L4 21.41c.39.39.9.59 1.41.59.51 0 1.02-.2 1.41-.59l7.78-7.78 2.81-2.81c.8-.78.8-2.07 0-2.86zM5.41 20L4 18.59l7.72-7.72 1.47 1.35L5.41 20z\"/>\n",
              "  </svg>\n",
              "      </button>\n",
              "      \n",
              "  <style>\n",
              "    .colab-df-container {\n",
              "      display:flex;\n",
              "      flex-wrap:wrap;\n",
              "      gap: 12px;\n",
              "    }\n",
              "\n",
              "    .colab-df-convert {\n",
              "      background-color: #E8F0FE;\n",
              "      border: none;\n",
              "      border-radius: 50%;\n",
              "      cursor: pointer;\n",
              "      display: none;\n",
              "      fill: #1967D2;\n",
              "      height: 32px;\n",
              "      padding: 0 0 0 0;\n",
              "      width: 32px;\n",
              "    }\n",
              "\n",
              "    .colab-df-convert:hover {\n",
              "      background-color: #E2EBFA;\n",
              "      box-shadow: 0px 1px 2px rgba(60, 64, 67, 0.3), 0px 1px 3px 1px rgba(60, 64, 67, 0.15);\n",
              "      fill: #174EA6;\n",
              "    }\n",
              "\n",
              "    [theme=dark] .colab-df-convert {\n",
              "      background-color: #3B4455;\n",
              "      fill: #D2E3FC;\n",
              "    }\n",
              "\n",
              "    [theme=dark] .colab-df-convert:hover {\n",
              "      background-color: #434B5C;\n",
              "      box-shadow: 0px 1px 3px 1px rgba(0, 0, 0, 0.15);\n",
              "      filter: drop-shadow(0px 1px 2px rgba(0, 0, 0, 0.3));\n",
              "      fill: #FFFFFF;\n",
              "    }\n",
              "  </style>\n",
              "\n",
              "      <script>\n",
              "        const buttonEl =\n",
              "          document.querySelector('#df-df2e6f83-21e7-4a04-8cdb-095aec7aa639 button.colab-df-convert');\n",
              "        buttonEl.style.display =\n",
              "          google.colab.kernel.accessAllowed ? 'block' : 'none';\n",
              "\n",
              "        async function convertToInteractive(key) {\n",
              "          const element = document.querySelector('#df-df2e6f83-21e7-4a04-8cdb-095aec7aa639');\n",
              "          const dataTable =\n",
              "            await google.colab.kernel.invokeFunction('convertToInteractive',\n",
              "                                                     [key], {});\n",
              "          if (!dataTable) return;\n",
              "\n",
              "          const docLinkHtml = 'Like what you see? Visit the ' +\n",
              "            '<a target=\"_blank\" href=https://colab.research.google.com/notebooks/data_table.ipynb>data table notebook</a>'\n",
              "            + ' to learn more about interactive tables.';\n",
              "          element.innerHTML = '';\n",
              "          dataTable['output_type'] = 'display_data';\n",
              "          await google.colab.output.renderOutput(dataTable, element);\n",
              "          const docLink = document.createElement('div');\n",
              "          docLink.innerHTML = docLinkHtml;\n",
              "          element.appendChild(docLink);\n",
              "        }\n",
              "      </script>\n",
              "    </div>\n",
              "  </div>\n",
              "  "
            ]
          },
          "metadata": {},
          "execution_count": 59
        }
      ]
    },
    {
      "cell_type": "code",
      "source": [
        "df.groupby(['product'])['revenue'].describe()"
      ],
      "metadata": {
        "colab": {
          "base_uri": "https://localhost:8080/",
          "height": 362
        },
        "id": "8mZCVQoyL5K0",
        "outputId": "7a1e9e4e-5c53-4961-a026-77a0d96941bc"
      },
      "execution_count": null,
      "outputs": [
        {
          "output_type": "execute_result",
          "data": {
            "text/plain": [
              "           count        mean         std   min    25%    50%     75%       max\n",
              "product                                                                       \n",
              "T恤       10549.0  145.285902  154.628961   0.0   79.0   99.0  158.00   6636.00\n",
              "当季新品      2531.0  233.071861  598.244888   0.0   76.0  111.0  197.00  12538.00\n",
              "毛衣         805.0  304.637019  291.036335   0.0  149.0  199.0  396.00   4975.00\n",
              "牛仔裤       1396.0  175.404355  239.774504   0.0   59.0   79.0  199.00   2087.00\n",
              "短裤        1681.0   63.631695   55.814157   0.0   37.0   40.0   77.57    676.00\n",
              "袜子        2040.0   62.320275   51.284818   0.0   27.0   52.0   79.00    595.36\n",
              "裙子         629.0  218.287409  172.449212  10.0   99.0  197.0  237.00   1442.00\n",
              "运动         969.0  121.220165  143.116946  18.0   39.0   78.0  149.00   1257.00\n",
              "配件        1553.0  284.974340  400.616860   0.0   99.0  155.0  298.00   4187.00"
            ],
            "text/html": [
              "\n",
              "  <div id=\"df-5a10340c-e9fa-442a-8226-e57f67755f17\">\n",
              "    <div class=\"colab-df-container\">\n",
              "      <div>\n",
              "<style scoped>\n",
              "    .dataframe tbody tr th:only-of-type {\n",
              "        vertical-align: middle;\n",
              "    }\n",
              "\n",
              "    .dataframe tbody tr th {\n",
              "        vertical-align: top;\n",
              "    }\n",
              "\n",
              "    .dataframe thead th {\n",
              "        text-align: right;\n",
              "    }\n",
              "</style>\n",
              "<table border=\"1\" class=\"dataframe\">\n",
              "  <thead>\n",
              "    <tr style=\"text-align: right;\">\n",
              "      <th></th>\n",
              "      <th>count</th>\n",
              "      <th>mean</th>\n",
              "      <th>std</th>\n",
              "      <th>min</th>\n",
              "      <th>25%</th>\n",
              "      <th>50%</th>\n",
              "      <th>75%</th>\n",
              "      <th>max</th>\n",
              "    </tr>\n",
              "    <tr>\n",
              "      <th>product</th>\n",
              "      <th></th>\n",
              "      <th></th>\n",
              "      <th></th>\n",
              "      <th></th>\n",
              "      <th></th>\n",
              "      <th></th>\n",
              "      <th></th>\n",
              "      <th></th>\n",
              "    </tr>\n",
              "  </thead>\n",
              "  <tbody>\n",
              "    <tr>\n",
              "      <th>T恤</th>\n",
              "      <td>10549.0</td>\n",
              "      <td>145.285902</td>\n",
              "      <td>154.628961</td>\n",
              "      <td>0.0</td>\n",
              "      <td>79.0</td>\n",
              "      <td>99.0</td>\n",
              "      <td>158.00</td>\n",
              "      <td>6636.00</td>\n",
              "    </tr>\n",
              "    <tr>\n",
              "      <th>当季新品</th>\n",
              "      <td>2531.0</td>\n",
              "      <td>233.071861</td>\n",
              "      <td>598.244888</td>\n",
              "      <td>0.0</td>\n",
              "      <td>76.0</td>\n",
              "      <td>111.0</td>\n",
              "      <td>197.00</td>\n",
              "      <td>12538.00</td>\n",
              "    </tr>\n",
              "    <tr>\n",
              "      <th>毛衣</th>\n",
              "      <td>805.0</td>\n",
              "      <td>304.637019</td>\n",
              "      <td>291.036335</td>\n",
              "      <td>0.0</td>\n",
              "      <td>149.0</td>\n",
              "      <td>199.0</td>\n",
              "      <td>396.00</td>\n",
              "      <td>4975.00</td>\n",
              "    </tr>\n",
              "    <tr>\n",
              "      <th>牛仔裤</th>\n",
              "      <td>1396.0</td>\n",
              "      <td>175.404355</td>\n",
              "      <td>239.774504</td>\n",
              "      <td>0.0</td>\n",
              "      <td>59.0</td>\n",
              "      <td>79.0</td>\n",
              "      <td>199.00</td>\n",
              "      <td>2087.00</td>\n",
              "    </tr>\n",
              "    <tr>\n",
              "      <th>短裤</th>\n",
              "      <td>1681.0</td>\n",
              "      <td>63.631695</td>\n",
              "      <td>55.814157</td>\n",
              "      <td>0.0</td>\n",
              "      <td>37.0</td>\n",
              "      <td>40.0</td>\n",
              "      <td>77.57</td>\n",
              "      <td>676.00</td>\n",
              "    </tr>\n",
              "    <tr>\n",
              "      <th>袜子</th>\n",
              "      <td>2040.0</td>\n",
              "      <td>62.320275</td>\n",
              "      <td>51.284818</td>\n",
              "      <td>0.0</td>\n",
              "      <td>27.0</td>\n",
              "      <td>52.0</td>\n",
              "      <td>79.00</td>\n",
              "      <td>595.36</td>\n",
              "    </tr>\n",
              "    <tr>\n",
              "      <th>裙子</th>\n",
              "      <td>629.0</td>\n",
              "      <td>218.287409</td>\n",
              "      <td>172.449212</td>\n",
              "      <td>10.0</td>\n",
              "      <td>99.0</td>\n",
              "      <td>197.0</td>\n",
              "      <td>237.00</td>\n",
              "      <td>1442.00</td>\n",
              "    </tr>\n",
              "    <tr>\n",
              "      <th>运动</th>\n",
              "      <td>969.0</td>\n",
              "      <td>121.220165</td>\n",
              "      <td>143.116946</td>\n",
              "      <td>18.0</td>\n",
              "      <td>39.0</td>\n",
              "      <td>78.0</td>\n",
              "      <td>149.00</td>\n",
              "      <td>1257.00</td>\n",
              "    </tr>\n",
              "    <tr>\n",
              "      <th>配件</th>\n",
              "      <td>1553.0</td>\n",
              "      <td>284.974340</td>\n",
              "      <td>400.616860</td>\n",
              "      <td>0.0</td>\n",
              "      <td>99.0</td>\n",
              "      <td>155.0</td>\n",
              "      <td>298.00</td>\n",
              "      <td>4187.00</td>\n",
              "    </tr>\n",
              "  </tbody>\n",
              "</table>\n",
              "</div>\n",
              "      <button class=\"colab-df-convert\" onclick=\"convertToInteractive('df-5a10340c-e9fa-442a-8226-e57f67755f17')\"\n",
              "              title=\"Convert this dataframe to an interactive table.\"\n",
              "              style=\"display:none;\">\n",
              "        \n",
              "  <svg xmlns=\"http://www.w3.org/2000/svg\" height=\"24px\"viewBox=\"0 0 24 24\"\n",
              "       width=\"24px\">\n",
              "    <path d=\"M0 0h24v24H0V0z\" fill=\"none\"/>\n",
              "    <path d=\"M18.56 5.44l.94 2.06.94-2.06 2.06-.94-2.06-.94-.94-2.06-.94 2.06-2.06.94zm-11 1L8.5 8.5l.94-2.06 2.06-.94-2.06-.94L8.5 2.5l-.94 2.06-2.06.94zm10 10l.94 2.06.94-2.06 2.06-.94-2.06-.94-.94-2.06-.94 2.06-2.06.94z\"/><path d=\"M17.41 7.96l-1.37-1.37c-.4-.4-.92-.59-1.43-.59-.52 0-1.04.2-1.43.59L10.3 9.45l-7.72 7.72c-.78.78-.78 2.05 0 2.83L4 21.41c.39.39.9.59 1.41.59.51 0 1.02-.2 1.41-.59l7.78-7.78 2.81-2.81c.8-.78.8-2.07 0-2.86zM5.41 20L4 18.59l7.72-7.72 1.47 1.35L5.41 20z\"/>\n",
              "  </svg>\n",
              "      </button>\n",
              "      \n",
              "  <style>\n",
              "    .colab-df-container {\n",
              "      display:flex;\n",
              "      flex-wrap:wrap;\n",
              "      gap: 12px;\n",
              "    }\n",
              "\n",
              "    .colab-df-convert {\n",
              "      background-color: #E8F0FE;\n",
              "      border: none;\n",
              "      border-radius: 50%;\n",
              "      cursor: pointer;\n",
              "      display: none;\n",
              "      fill: #1967D2;\n",
              "      height: 32px;\n",
              "      padding: 0 0 0 0;\n",
              "      width: 32px;\n",
              "    }\n",
              "\n",
              "    .colab-df-convert:hover {\n",
              "      background-color: #E2EBFA;\n",
              "      box-shadow: 0px 1px 2px rgba(60, 64, 67, 0.3), 0px 1px 3px 1px rgba(60, 64, 67, 0.15);\n",
              "      fill: #174EA6;\n",
              "    }\n",
              "\n",
              "    [theme=dark] .colab-df-convert {\n",
              "      background-color: #3B4455;\n",
              "      fill: #D2E3FC;\n",
              "    }\n",
              "\n",
              "    [theme=dark] .colab-df-convert:hover {\n",
              "      background-color: #434B5C;\n",
              "      box-shadow: 0px 1px 3px 1px rgba(0, 0, 0, 0.15);\n",
              "      filter: drop-shadow(0px 1px 2px rgba(0, 0, 0, 0.3));\n",
              "      fill: #FFFFFF;\n",
              "    }\n",
              "  </style>\n",
              "\n",
              "      <script>\n",
              "        const buttonEl =\n",
              "          document.querySelector('#df-5a10340c-e9fa-442a-8226-e57f67755f17 button.colab-df-convert');\n",
              "        buttonEl.style.display =\n",
              "          google.colab.kernel.accessAllowed ? 'block' : 'none';\n",
              "\n",
              "        async function convertToInteractive(key) {\n",
              "          const element = document.querySelector('#df-5a10340c-e9fa-442a-8226-e57f67755f17');\n",
              "          const dataTable =\n",
              "            await google.colab.kernel.invokeFunction('convertToInteractive',\n",
              "                                                     [key], {});\n",
              "          if (!dataTable) return;\n",
              "\n",
              "          const docLinkHtml = 'Like what you see? Visit the ' +\n",
              "            '<a target=\"_blank\" href=https://colab.research.google.com/notebooks/data_table.ipynb>data table notebook</a>'\n",
              "            + ' to learn more about interactive tables.';\n",
              "          element.innerHTML = '';\n",
              "          dataTable['output_type'] = 'display_data';\n",
              "          await google.colab.output.renderOutput(dataTable, element);\n",
              "          const docLink = document.createElement('div');\n",
              "          docLink.innerHTML = docLinkHtml;\n",
              "          element.appendChild(docLink);\n",
              "        }\n",
              "      </script>\n",
              "    </div>\n",
              "  </div>\n",
              "  "
            ]
          },
          "metadata": {},
          "execution_count": 60
        }
      ]
    },
    {
      "cell_type": "markdown",
      "source": [
        "根据营业收入进行分析，可知：\n",
        "* 南京、北京平均订单收入是最高的两个城市；\n",
        "* 女性消费金额高于男性；\n",
        "* 购买产品的主要群体是20到39岁之间；\n",
        "* 销售量最好的类型是T恤。\n",
        "\n",
        "## 三、数据可视化\n",
        "\n",
        "### 问题1 ： 整体销售情况随着时间的变化是怎样的？"
      ],
      "metadata": {
        "id": "uxY-nSFfL8kn"
      }
    },
    {
      "cell_type": "code",
      "source": [
        "# revenue\n",
        "ax1 = df.groupby(['wkd_ind'])['revenue'].sum().plot(kind='bar')"
      ],
      "metadata": {
        "colab": {
          "base_uri": "https://localhost:8080/",
          "height": 319
        },
        "id": "XnV-QRrRMteh",
        "outputId": "6208ad05-3d64-4df4-da1c-4681d7bc766c"
      },
      "execution_count": null,
      "outputs": [
        {
          "output_type": "display_data",
          "data": {
            "text/plain": [
              "<Figure size 432x288 with 1 Axes>"
            ],
            "image/png": "[encoded data removed]"
          },
          "metadata": {}
        }
      ]
    },
    {
      "cell_type": "code",
      "source": [
        "# customer\n",
        "ax2 = df.groupby(['wkd_ind'])['customer'].sum().plot(kind='bar')"
      ],
      "metadata": {
        "colab": {
          "base_uri": "https://localhost:8080/",
          "height": 308
        },
        "id": "ZM4mJmWiNLhj",
        "outputId": "53ab651a-b611-4e38-efb8-d11eeec59fd0"
      },
      "execution_count": null,
      "outputs": [
        {
          "output_type": "display_data",
          "data": {
            "text/plain": [
              "<Figure size 432x288 with 1 Axes>"
            ],
            "image/png": "[encoded data removed]"
          },
          "metadata": {}
        }
      ]
    },
    {
      "cell_type": "code",
      "source": [
        "# quantity\n",
        "ax3 = df.groupby(['wkd_ind'])['quant'].sum().plot(kind='bar')"
      ],
      "metadata": {
        "colab": {
          "base_uri": "https://localhost:8080/",
          "height": 308
        },
        "id": "SotAVb7oNVqA",
        "outputId": "fbdbd7b6-d8b2-456c-ad10-fe038a410310"
      },
      "execution_count": null,
      "outputs": [
        {
          "output_type": "display_data",
          "data": {
            "text/plain": [
              "<Figure size 432x288 with 1 Axes>"
            ],
            "image/png": "[encoded data removed]"
          },
          "metadata": {}
        }
      ]
    },
    {
      "cell_type": "code",
      "source": [
        "# profit\n",
        "ax4 = df.groupby(['wkd_ind'])['profit'].mean().plot(kind='bar')"
      ],
      "metadata": {
        "colab": {
          "base_uri": "https://localhost:8080/",
          "height": 308
        },
        "id": "EUxd6niANcFs",
        "outputId": "a2afede5-2611-4def-a00c-3336858ead05"
      },
      "execution_count": null,
      "outputs": [
        {
          "output_type": "display_data",
          "data": {
            "text/plain": [
              "<Figure size 432x288 with 1 Axes>"
            ],
            "image/png": "[encoded data removed]"
          },
          "metadata": {}
        }
      ]
    },
    {
      "cell_type": "code",
      "source": [
        "# channel - revenue\n",
        "df1 = df.groupby(['wkd_ind','channel'])['revenue'].sum().reset_index()\n",
        "sns.barplot(x='channel',y='revenue',hue='wkd_ind',data=df1)\n",
        "plt.xticks(fontproperties=zhfont)"
      ],
      "metadata": {
        "colab": {
          "base_uri": "https://localhost:8080/",
          "height": 304
        },
        "id": "etF6RvTiNilz",
        "outputId": "825171d7-94ee-487a-e0aa-568f285bc0cf"
      },
      "execution_count": null,
      "outputs": [
        {
          "output_type": "execute_result",
          "data": {
            "text/plain": [
              "(array([0, 1]), <a list of 2 Text major ticklabel objects>)"
            ]
          },
          "metadata": {},
          "execution_count": 66
        },
        {
          "output_type": "display_data",
          "data": {
            "text/plain": [
              "<Figure size 432x288 with 1 Axes>"
            ],
            "image/png": "[encoded data removed]"
          },
          "metadata": {}
        }
      ]
    },
    {
      "cell_type": "code",
      "source": [
        "# gender - revenue\n",
        "df2 = df.groupby(['wkd_ind','gender_group'])['revenue'].sum().reset_index()\n",
        "sns.barplot(x='gender_group',y='revenue',hue='wkd_ind',data=df2)\n",
        "plt.xticks(fontproperties=zhfont)"
      ],
      "metadata": {
        "colab": {
          "base_uri": "https://localhost:8080/",
          "height": 303
        },
        "id": "5kh8IYkmN_UU",
        "outputId": "ab812b1b-ccce-41ec-c6c6-ca8aaa9158e6"
      },
      "execution_count": null,
      "outputs": [
        {
          "output_type": "execute_result",
          "data": {
            "text/plain": [
              "(array([0, 1]), <a list of 2 Text major ticklabel objects>)"
            ]
          },
          "metadata": {},
          "execution_count": 67
        },
        {
          "output_type": "display_data",
          "data": {
            "text/plain": [
              "<Figure size 432x288 with 1 Axes>"
            ],
            "image/png": "[encoded data removed]"
          },
          "metadata": {}
        }
      ]
    },
    {
      "cell_type": "code",
      "source": [
        "# Age - revenue\n",
        "df3 = df.groupby(['wkd_ind','age_group'])['revenue'].sum().reset_index()\n",
        "sns.barplot(x='age_group',y='revenue',hue='wkd_ind',data=df3,order=age_orders)\n",
        "plt.xticks(fontproperties=zhfont)"
      ],
      "metadata": {
        "colab": {
          "base_uri": "https://localhost:8080/",
          "height": 310
        },
        "id": "PJWBetp1OI5e",
        "outputId": "5aad466b-5458-40cf-bfd3-d8e978b5de3f"
      },
      "execution_count": null,
      "outputs": [
        {
          "output_type": "execute_result",
          "data": {
            "text/plain": [
              "(array([0, 1, 2, 3, 4, 5, 6, 7, 8, 9]),\n",
              " <a list of 10 Text major ticklabel objects>)"
            ]
          },
          "metadata": {},
          "execution_count": 69
        },
        {
          "output_type": "display_data",
          "data": {
            "text/plain": [
              "<Figure size 432x288 with 1 Axes>"
            ],
            "image/png": "[encoded data removed]"
          },
          "metadata": {}
        }
      ]
    },
    {
      "cell_type": "code",
      "source": [
        "# Product - revenue\n",
        "df4 = df.groupby(['wkd_ind','product'])['revenue'].sum().reset_index()\n",
        "sns.barplot(x='product',y='revenue',hue='wkd_ind',data=df4)\n",
        "plt.xticks(fontproperties=zhfont)"
      ],
      "metadata": {
        "colab": {
          "base_uri": "https://localhost:8080/",
          "height": 312
        },
        "id": "_eH1q3ikOZN8",
        "outputId": "c238ee13-f348-42dc-da24-04d12ce6cd64"
      },
      "execution_count": null,
      "outputs": [
        {
          "output_type": "execute_result",
          "data": {
            "text/plain": [
              "(array([0, 1, 2, 3, 4, 5, 6, 7, 8]),\n",
              " <a list of 9 Text major ticklabel objects>)"
            ]
          },
          "metadata": {},
          "execution_count": 78
        },
        {
          "output_type": "display_data",
          "data": {
            "text/plain": [
              "<Figure size 432x288 with 1 Axes>"
            ],
            "image/png": "[encoded data removed]"
          },
          "metadata": {}
        }
      ]
    },
    {
      "cell_type": "markdown",
      "source": [
        "* 就销售额、顾客数量、销售量来看，平时都比周末销售情况好；但是周末的平均利润大于平时；\n",
        "* 无论从线上、线下渠道，男女性别、不同阶段年龄的客户及不同产品来看，平时都比周末销售表现好。\n",
        "\n",
        "### 问题2： 不同产品的销售情况是怎样的？"
      ],
      "metadata": {
        "id": "83zpH32ZO-yp"
      }
    },
    {
      "cell_type": "code",
      "source": [
        "#产品-销售额\n",
        "df_product_revenue=df.groupby('product')['revenue'].sum().reset_index()\n",
        "#排序\n",
        "order_revenue=df.groupby('product').revenue.sum().sort_values(ascending=False).index\n",
        "#可视化\n",
        "sns.barplot(x='product',y='revenue',data=df_product_revenue,order=order_revenue)\n",
        "plt.xticks(fontproperties=zhfont)"
      ],
      "metadata": {
        "colab": {
          "base_uri": "https://localhost:8080/",
          "height": 323
        },
        "id": "KkHilBS4Pgra",
        "outputId": "6ef3eb5b-f2ea-453f-aee0-dc0457d251ec"
      },
      "execution_count": null,
      "outputs": [
        {
          "output_type": "execute_result",
          "data": {
            "text/plain": [
              "(array([0, 1, 2, 3, 4, 5, 6, 7, 8]),\n",
              " <a list of 9 Text major ticklabel objects>)"
            ]
          },
          "metadata": {},
          "execution_count": 80
        },
        {
          "output_type": "display_data",
          "data": {
            "text/plain": [
              "<Figure size 432x288 with 1 Axes>"
            ],
            "image/png": "[encoded data removed]"
          },
          "metadata": {}
        }
      ]
    },
    {
      "cell_type": "code",
      "source": [
        "#产品-利润\n",
        "df_product_profit=df.groupby('product')['profit'].sum().reset_index()\n",
        "#排序\n",
        "order_profit=df.groupby('product').profit.sum().sort_values(ascending=False).index\n",
        "#可视化\n",
        "sns.barplot(x='product',y='profit',data=df_product_profit,order=order_profit)\n",
        "plt.xticks(fontproperties=zhfont)"
      ],
      "metadata": {
        "colab": {
          "base_uri": "https://localhost:8080/",
          "height": 312
        },
        "id": "hhCV42xvRTin",
        "outputId": "7f4ae540-df11-45d4-cd47-3c1a27608124"
      },
      "execution_count": null,
      "outputs": [
        {
          "output_type": "execute_result",
          "data": {
            "text/plain": [
              "(array([0, 1, 2, 3, 4, 5, 6, 7, 8]),\n",
              " <a list of 9 Text major ticklabel objects>)"
            ]
          },
          "metadata": {},
          "execution_count": 86
        },
        {
          "output_type": "display_data",
          "data": {
            "text/plain": [
              "<Figure size 432x288 with 1 Axes>"
            ],
            "image/png": "[encoded data removed]"
          },
          "metadata": {}
        }
      ]
    },
    {
      "cell_type": "code",
      "source": [
        "#产品-客户数\n",
        "df_product_customer=df.groupby('product')['customer'].count().reset_index()\n",
        "#排序\n",
        "order_customer=df.groupby('product').customer.count().sort_values(ascending=False).index\n",
        "#可视化\n",
        "sns.barplot(x='product',y='customer',data=df_product_customer,order=order_customer)\n",
        "plt.xticks(fontproperties=zhfont)"
      ],
      "metadata": {
        "colab": {
          "base_uri": "https://localhost:8080/",
          "height": 312
        },
        "id": "uKSiqOQMQPvz",
        "outputId": "2eaab285-0234-481a-9a4a-6e1d7e704c42"
      },
      "execution_count": null,
      "outputs": [
        {
          "output_type": "execute_result",
          "data": {
            "text/plain": [
              "(array([0, 1, 2, 3, 4, 5, 6, 7, 8]),\n",
              " <a list of 9 Text major ticklabel objects>)"
            ]
          },
          "metadata": {},
          "execution_count": 82
        },
        {
          "output_type": "display_data",
          "data": {
            "text/plain": [
              "<Figure size 432x288 with 1 Axes>"
            ],
            "image/png": "[encoded data removed]"
          },
          "metadata": {}
        }
      ]
    },
    {
      "cell_type": "code",
      "source": [
        "#产品-销量\n",
        "df_product_quant=df.groupby('product')['quant'].sum().reset_index()\n",
        "#排序\n",
        "order_quant=df.groupby('product').quant.sum().sort_values(ascending=False).index\n",
        "#可视化\n",
        "sns.barplot(x='product',y='quant',data=df_product_quant,order=order_quant)\n",
        "plt.xticks(fontproperties=zhfont)"
      ],
      "metadata": {
        "colab": {
          "base_uri": "https://localhost:8080/",
          "height": 312
        },
        "id": "AZISIFdMQZIg",
        "outputId": "d44e7bea-6590-415a-97bc-a075b080e70f"
      },
      "execution_count": null,
      "outputs": [
        {
          "output_type": "execute_result",
          "data": {
            "text/plain": [
              "(array([0, 1, 2, 3, 4, 5, 6, 7, 8]),\n",
              " <a list of 9 Text major ticklabel objects>)"
            ]
          },
          "metadata": {},
          "execution_count": 84
        },
        {
          "output_type": "display_data",
          "data": {
            "text/plain": [
              "<Figure size 432x288 with 1 Axes>"
            ],
            "image/png": "[encoded data removed]"
          },
          "metadata": {}
        }
      ]
    },
    {
      "cell_type": "code",
      "source": [
        "#产品-平均利润\n",
        "df_product_profit_2=df.groupby('product')['profit'].mean().reset_index()\n",
        "#排序\n",
        "order_profit_mean=df.groupby('product').profit.mean().sort_values(ascending=False).index\n",
        "#可视化\n",
        "sns.barplot(x='product',y='profit',data=df_product_profit_2,order=order_profit_mean)\n",
        "plt.xticks(fontproperties=zhfont)"
      ],
      "metadata": {
        "colab": {
          "base_uri": "https://localhost:8080/",
          "height": 312
        },
        "id": "pPvlzZJKQicR",
        "outputId": "3e377eea-71b2-47b5-9037-9a096baf75f5"
      },
      "execution_count": null,
      "outputs": [
        {
          "output_type": "execute_result",
          "data": {
            "text/plain": [
              "(array([0, 1, 2, 3, 4, 5, 6, 7, 8]),\n",
              " <a list of 9 Text major ticklabel objects>)"
            ]
          },
          "metadata": {},
          "execution_count": 85
        },
        {
          "output_type": "display_data",
          "data": {
            "text/plain": [
              "<Figure size 432x288 with 1 Axes>"
            ],
            "image/png": "[encoded data removed]"
          },
          "metadata": {}
        }
      ]
    },
    {
      "cell_type": "markdown",
      "source": [
        "* 无论销售额、销量还是总利润，T恤都是热销第一，并远超其他类别的产品；当季新品和配件居于二、三位，但配件的利润高于当季新品；\n",
        "* 根据平均利润分析图可知，毛衣、裙子、配件接近于80，利润是最高的。\n",
        "\n",
        "### 问题3： 顾客偏爱哪一种购买方式？"
      ],
      "metadata": {
        "id": "JiI5rgwOQqZU"
      }
    },
    {
      "cell_type": "code",
      "source": [
        "plt.figure(figsize=(10,20))\n",
        "plt.subplot(3,1,1)\n",
        "sns.countplot(x='gender_group',hue='channel',data=df,\n",
        "              order=df['gender_group'].value_counts().index)\n",
        "plt.legend(prop=zhfont,loc='upper right')\n",
        "plt.title(\"不同性别人群的购买渠道偏好\",fontproperties=zhfont)\n",
        "\n",
        "plt.subplot(3,1,2)\n",
        "age_orders = ['<20','20-24','25-29',  '30-34','35-39',  '40-44','45-49', '50-54','55-59','>=60']\n",
        "sns.countplot(x='age_group',hue='channel',data=df,\n",
        "              order=age_orders)\n",
        "plt.legend(prop=zhfont,loc='upper right')\n",
        "plt.xticks(fontproperties=zhfont)\n",
        "plt.title(\"不同年龄段人群的购买渠道偏好\",fontproperties=zhfont)\n",
        "\n",
        "plt.subplot(3,1,3)\n",
        "sns.countplot(x='city',hue='channel',data=df,\n",
        "              order=df['city'].value_counts().index)\n",
        "plt.legend(prop=zhfont,loc='upper right')\n",
        "plt.xticks(fontproperties=zhfont)\n",
        "plt.title(\"不同城市人群的购买渠道偏好\",fontproperties=zhfont)"
      ],
      "metadata": {
        "colab": {
          "base_uri": "https://localhost:8080/",
          "height": 1037
        },
        "id": "PG1IvKp2LMug",
        "outputId": "ce32bd26-4359-4ee4-de9e-61de1fa7490b"
      },
      "execution_count": null,
      "outputs": [
        {
          "output_type": "execute_result",
          "data": {
            "text/plain": [
              "Text(0.5, 1.0, '不同城市人群的购买渠道偏好')"
            ]
          },
          "metadata": {},
          "execution_count": 89
        },
        {
          "output_type": "display_data",
          "data": {
            "text/plain": [
              "<Figure size 720x1440 with 3 Axes>"
            ],
            "image/png": "[encoded data removed]"
          },
          "metadata": {}
        }
      ]
    },
    {
      "cell_type": "markdown",
      "source": [
        "* 广州的顾客更偏爱在线上购买，上海、西安和重庆也有一定的线上购买比例，其余城市均为在线下购买；\n",
        "* 无论男女，在购买渠道的选择上都偏爱线下购买；\n",
        "* 就年龄段来看，客户集中于20-39岁中青年团体，且大都选择线下购买\n",
        "\n",
        "### 问题4：销售额和产品成本之间的关系怎么样？"
      ],
      "metadata": {
        "id": "4GK7RHMESK8B"
      }
    },
    {
      "cell_type": "code",
      "source": [
        "df['profit'].plot(kind='hist')"
      ],
      "metadata": {
        "colab": {
          "base_uri": "https://localhost:8080/",
          "height": 280
        },
        "id": "us-46nh5OBIX",
        "outputId": "57a3f94c-e1ce-4a23-d7b8-2e4516f31866"
      },
      "execution_count": null,
      "outputs": [
        {
          "output_type": "execute_result",
          "data": {
            "text/plain": [
              "<matplotlib.axes._subplots.AxesSubplot at 0x7fd9e481e490>"
            ]
          },
          "metadata": {},
          "execution_count": 90
        },
        {
          "output_type": "display_data",
          "data": {
            "text/plain": [
              "<Figure size 432x288 with 1 Axes>"
            ],
            "image/png": "[encoded data removed]"
          },
          "metadata": {}
        }
      ]
    },
    {
      "cell_type": "code",
      "source": [
        "#利润分布较大，进一步探索<100的利润分布\n",
        "df_3=df[df['profit']<100]\n",
        "df_3['profit'].plot(kind='hist')"
      ],
      "metadata": {
        "colab": {
          "base_uri": "https://localhost:8080/",
          "height": 280
        },
        "id": "GVWwYk2zL_8Z",
        "outputId": "c7cc9090-4cb2-4aec-bfb9-1c45d282e48a"
      },
      "execution_count": null,
      "outputs": [
        {
          "output_type": "execute_result",
          "data": {
            "text/plain": [
              "<matplotlib.axes._subplots.AxesSubplot at 0x7fd9e463e610>"
            ]
          },
          "metadata": {},
          "execution_count": 91
        },
        {
          "output_type": "display_data",
          "data": {
            "text/plain": [
              "<Figure size 432x288 with 1 Axes>"
            ],
            "image/png": "[encoded data removed]"
          },
          "metadata": {}
        }
      ]
    },
    {
      "cell_type": "markdown",
      "source": [
        "* 存在亏本销售的产品；\n",
        "* 利润大多集中[0-100]"
      ],
      "metadata": {
        "id": "weCHWa7JSlPZ"
      }
    },
    {
      "cell_type": "code",
      "source": [
        "#查看亏本产品数据\n",
        "df_loss=df[df['profit']<0]\n",
        "df_loss.head()"
      ],
      "metadata": {
        "colab": {
          "base_uri": "https://localhost:8080/",
          "height": 270
        },
        "id": "PYsiugmPUEFS",
        "outputId": "2cd409a6-4090-4a58-ba98-6b24d6aa6c76"
      },
      "execution_count": null,
      "outputs": [
        {
          "output_type": "execute_result",
          "data": {
            "text/plain": [
              "    store_id city channel gender_group age_group  wkd_ind product  customer  \\\n",
              "8        649   杭州      线下       Female     30-34  Weekend     牛仔裤         3   \n",
              "19       658   深圳      线下       Female     35-39  Weekday     牛仔裤         3   \n",
              "20       420   广州      线上         Male      >=60  Weekday      T恤         1   \n",
              "23        19   南京      线下       Female     35-39  Weekend      T恤         4   \n",
              "24       231   广州      线下       Female     35-39  Weekend      T恤         3   \n",
              "\n",
              "    revenue  order  quant  unit_cost revenue_new  unit_order_num  \\\n",
              "8     157.0      3      3         69  [100, 200)             1.0   \n",
              "19    196.0      3      4         69  [100, 200)             1.0   \n",
              "20     39.0      1      1         49    [0, 100)             1.0   \n",
              "23    176.0      4      4         49  [100, 200)             1.0   \n",
              "24    114.0      3      3         49  [100, 200)             1.0   \n",
              "\n",
              "    unit_quant_num  unit_revenue  unit_revenue_of_product  profit  \n",
              "8         1.000000     52.333333                     52.3   -16.7  \n",
              "19        1.333333     65.333333                     49.0   -20.0  \n",
              "20        1.000000     39.000000                     39.0   -10.0  \n",
              "23        1.000000     44.000000                     44.0    -5.0  \n",
              "24        1.000000     38.000000                     38.0   -11.0  "
            ],
            "text/html": [
              "\n",
              "  <div id=\"df-561f5745-7d61-4063-9811-c3955ffa3e42\">\n",
              "    <div class=\"colab-df-container\">\n",
              "      <div>\n",
              "<style scoped>\n",
              "    .dataframe tbody tr th:only-of-type {\n",
              "        vertical-align: middle;\n",
              "    }\n",
              "\n",
              "    .dataframe tbody tr th {\n",
              "        vertical-align: top;\n",
              "    }\n",
              "\n",
              "    .dataframe thead th {\n",
              "        text-align: right;\n",
              "    }\n",
              "</style>\n",
              "<table border=\"1\" class=\"dataframe\">\n",
              "  <thead>\n",
              "    <tr style=\"text-align: right;\">\n",
              "      <th></th>\n",
              "      <th>store_id</th>\n",
              "      <th>city</th>\n",
              "      <th>channel</th>\n",
              "      <th>gender_group</th>\n",
              "      <th>age_group</th>\n",
              "      <th>wkd_ind</th>\n",
              "      <th>product</th>\n",
              "      <th>customer</th>\n",
              "      <th>revenue</th>\n",
              "      <th>order</th>\n",
              "      <th>quant</th>\n",
              "      <th>unit_cost</th>\n",
              "      <th>revenue_new</th>\n",
              "      <th>unit_order_num</th>\n",
              "      <th>unit_quant_num</th>\n",
              "      <th>unit_revenue</th>\n",
              "      <th>unit_revenue_of_product</th>\n",
              "      <th>profit</th>\n",
              "    </tr>\n",
              "  </thead>\n",
              "  <tbody>\n",
              "    <tr>\n",
              "      <th>8</th>\n",
              "      <td>649</td>\n",
              "      <td>杭州</td>\n",
              "      <td>线下</td>\n",
              "      <td>Female</td>\n",
              "      <td>30-34</td>\n",
              "      <td>Weekend</td>\n",
              "      <td>牛仔裤</td>\n",
              "      <td>3</td>\n",
              "      <td>157.0</td>\n",
              "      <td>3</td>\n",
              "      <td>3</td>\n",
              "      <td>69</td>\n",
              "      <td>[100, 200)</td>\n",
              "      <td>1.0</td>\n",
              "      <td>1.000000</td>\n",
              "      <td>52.333333</td>\n",
              "      <td>52.3</td>\n",
              "      <td>-16.7</td>\n",
              "    </tr>\n",
              "    <tr>\n",
              "      <th>19</th>\n",
              "      <td>658</td>\n",
              "      <td>深圳</td>\n",
              "      <td>线下</td>\n",
              "      <td>Female</td>\n",
              "      <td>35-39</td>\n",
              "      <td>Weekday</td>\n",
              "      <td>牛仔裤</td>\n",
              "      <td>3</td>\n",
              "      <td>196.0</td>\n",
              "      <td>3</td>\n",
              "      <td>4</td>\n",
              "      <td>69</td>\n",
              "      <td>[100, 200)</td>\n",
              "      <td>1.0</td>\n",
              "      <td>1.333333</td>\n",
              "      <td>65.333333</td>\n",
              "      <td>49.0</td>\n",
              "      <td>-20.0</td>\n",
              "    </tr>\n",
              "    <tr>\n",
              "      <th>20</th>\n",
              "      <td>420</td>\n",
              "      <td>广州</td>\n",
              "      <td>线上</td>\n",
              "      <td>Male</td>\n",
              "      <td>&gt;=60</td>\n",
              "      <td>Weekday</td>\n",
              "      <td>T恤</td>\n",
              "      <td>1</td>\n",
              "      <td>39.0</td>\n",
              "      <td>1</td>\n",
              "      <td>1</td>\n",
              "      <td>49</td>\n",
              "      <td>[0, 100)</td>\n",
              "      <td>1.0</td>\n",
              "      <td>1.000000</td>\n",
              "      <td>39.000000</td>\n",
              "      <td>39.0</td>\n",
              "      <td>-10.0</td>\n",
              "    </tr>\n",
              "    <tr>\n",
              "      <th>23</th>\n",
              "      <td>19</td>\n",
              "      <td>南京</td>\n",
              "      <td>线下</td>\n",
              "      <td>Female</td>\n",
              "      <td>35-39</td>\n",
              "      <td>Weekend</td>\n",
              "      <td>T恤</td>\n",
              "      <td>4</td>\n",
              "      <td>176.0</td>\n",
              "      <td>4</td>\n",
              "      <td>4</td>\n",
              "      <td>49</td>\n",
              "      <td>[100, 200)</td>\n",
              "      <td>1.0</td>\n",
              "      <td>1.000000</td>\n",
              "      <td>44.000000</td>\n",
              "      <td>44.0</td>\n",
              "      <td>-5.0</td>\n",
              "    </tr>\n",
              "    <tr>\n",
              "      <th>24</th>\n",
              "      <td>231</td>\n",
              "      <td>广州</td>\n",
              "      <td>线下</td>\n",
              "      <td>Female</td>\n",
              "      <td>35-39</td>\n",
              "      <td>Weekend</td>\n",
              "      <td>T恤</td>\n",
              "      <td>3</td>\n",
              "      <td>114.0</td>\n",
              "      <td>3</td>\n",
              "      <td>3</td>\n",
              "      <td>49</td>\n",
              "      <td>[100, 200)</td>\n",
              "      <td>1.0</td>\n",
              "      <td>1.000000</td>\n",
              "      <td>38.000000</td>\n",
              "      <td>38.0</td>\n",
              "      <td>-11.0</td>\n",
              "    </tr>\n",
              "  </tbody>\n",
              "</table>\n",
              "</div>\n",
              "      <button class=\"colab-df-convert\" onclick=\"convertToInteractive('df-561f5745-7d61-4063-9811-c3955ffa3e42')\"\n",
              "              title=\"Convert this dataframe to an interactive table.\"\n",
              "              style=\"display:none;\">\n",
              "        \n",
              "  <svg xmlns=\"http://www.w3.org/2000/svg\" height=\"24px\"viewBox=\"0 0 24 24\"\n",
              "       width=\"24px\">\n",
              "    <path d=\"M0 0h24v24H0V0z\" fill=\"none\"/>\n",
              "    <path d=\"M18.56 5.44l.94 2.06.94-2.06 2.06-.94-2.06-.94-.94-2.06-.94 2.06-2.06.94zm-11 1L8.5 8.5l.94-2.06 2.06-.94-2.06-.94L8.5 2.5l-.94 2.06-2.06.94zm10 10l.94 2.06.94-2.06 2.06-.94-2.06-.94-.94-2.06-.94 2.06-2.06.94z\"/><path d=\"M17.41 7.96l-1.37-1.37c-.4-.4-.92-.59-1.43-.59-.52 0-1.04.2-1.43.59L10.3 9.45l-7.72 7.72c-.78.78-.78 2.05 0 2.83L4 21.41c.39.39.9.59 1.41.59.51 0 1.02-.2 1.41-.59l7.78-7.78 2.81-2.81c.8-.78.8-2.07 0-2.86zM5.41 20L4 18.59l7.72-7.72 1.47 1.35L5.41 20z\"/>\n",
              "  </svg>\n",
              "      </button>\n",
              "      \n",
              "  <style>\n",
              "    .colab-df-container {\n",
              "      display:flex;\n",
              "      flex-wrap:wrap;\n",
              "      gap: 12px;\n",
              "    }\n",
              "\n",
              "    .colab-df-convert {\n",
              "      background-color: #E8F0FE;\n",
              "      border: none;\n",
              "      border-radius: 50%;\n",
              "      cursor: pointer;\n",
              "      display: none;\n",
              "      fill: #1967D2;\n",
              "      height: 32px;\n",
              "      padding: 0 0 0 0;\n",
              "      width: 32px;\n",
              "    }\n",
              "\n",
              "    .colab-df-convert:hover {\n",
              "      background-color: #E2EBFA;\n",
              "      box-shadow: 0px 1px 2px rgba(60, 64, 67, 0.3), 0px 1px 3px 1px rgba(60, 64, 67, 0.15);\n",
              "      fill: #174EA6;\n",
              "    }\n",
              "\n",
              "    [theme=dark] .colab-df-convert {\n",
              "      background-color: #3B4455;\n",
              "      fill: #D2E3FC;\n",
              "    }\n",
              "\n",
              "    [theme=dark] .colab-df-convert:hover {\n",
              "      background-color: #434B5C;\n",
              "      box-shadow: 0px 1px 3px 1px rgba(0, 0, 0, 0.15);\n",
              "      filter: drop-shadow(0px 1px 2px rgba(0, 0, 0, 0.3));\n",
              "      fill: #FFFFFF;\n",
              "    }\n",
              "  </style>\n",
              "\n",
              "      <script>\n",
              "        const buttonEl =\n",
              "          document.querySelector('#df-561f5745-7d61-4063-9811-c3955ffa3e42 button.colab-df-convert');\n",
              "        buttonEl.style.display =\n",
              "          google.colab.kernel.accessAllowed ? 'block' : 'none';\n",
              "\n",
              "        async function convertToInteractive(key) {\n",
              "          const element = document.querySelector('#df-561f5745-7d61-4063-9811-c3955ffa3e42');\n",
              "          const dataTable =\n",
              "            await google.colab.kernel.invokeFunction('convertToInteractive',\n",
              "                                                     [key], {});\n",
              "          if (!dataTable) return;\n",
              "\n",
              "          const docLinkHtml = 'Like what you see? Visit the ' +\n",
              "            '<a target=\"_blank\" href=https://colab.research.google.com/notebooks/data_table.ipynb>data table notebook</a>'\n",
              "            + ' to learn more about interactive tables.';\n",
              "          element.innerHTML = '';\n",
              "          dataTable['output_type'] = 'display_data';\n",
              "          await google.colab.output.renderOutput(dataTable, element);\n",
              "          const docLink = document.createElement('div');\n",
              "          docLink.innerHTML = docLinkHtml;\n",
              "          element.appendChild(docLink);\n",
              "        }\n",
              "      </script>\n",
              "    </div>\n",
              "  </div>\n",
              "  "
            ]
          },
          "metadata": {},
          "execution_count": 93
        }
      ]
    },
    {
      "cell_type": "code",
      "source": [
        "#亏本产品的城市分布\n",
        "loss_count_city=df_loss.city.value_counts().reset_index()\n",
        "#整体的城市的城市分布\n",
        "df_count_city=df.city.value_counts().reset_index()\n",
        "loss_rate = df_loss.city.value_counts()/df.city.value_counts()\n",
        "loss_rate.sort_values()"
      ],
      "metadata": {
        "colab": {
          "base_uri": "https://localhost:8080/"
        },
        "id": "z9TdjHSxUu1n",
        "outputId": "d44a36c9-c044-4f1b-8be7-965e377ae755"
      },
      "execution_count": null,
      "outputs": [
        {
          "output_type": "execute_result",
          "data": {
            "text/plain": [
              "北京    0.079861\n",
              "南京    0.089069\n",
              "武汉    0.112676\n",
              "深圳    0.117756\n",
              "杭州    0.126461\n",
              "上海    0.128910\n",
              "西安    0.139738\n",
              "重庆    0.142052\n",
              "广州    0.143974\n",
              "成都    0.147929\n",
              "Name: city, dtype: float64"
            ]
          },
          "metadata": {},
          "execution_count": 101
        }
      ]
    },
    {
      "cell_type": "markdown",
      "source": [
        "* 有10个城市出现亏本产品的现象，其中成都、广州、重庆和西安都有14%左右的亏本商品。"
      ],
      "metadata": {
        "id": "mb5mzEVnTiqz"
      }
    },
    {
      "cell_type": "code",
      "source": [
        "#亏本产品的渠道分布\n",
        "loss_count_channel=df_loss.channel.value_counts().reset_index()\n",
        "#整体的渠道分布\n",
        "df_count_channel=df.channel.value_counts().reset_index()\n",
        "\n",
        "loss_rate_channel = df_loss.channel.value_counts()/df.channel.value_counts()\n",
        "loss_rate_channel.sort_values()"
      ],
      "metadata": {
        "colab": {
          "base_uri": "https://localhost:8080/"
        },
        "id": "KgVlflyVTAU1",
        "outputId": "4bfdbee1-20e6-4599-dafe-4c8af8c006fa"
      },
      "execution_count": null,
      "outputs": [
        {
          "output_type": "execute_result",
          "data": {
            "text/plain": [
              "线上    0.107023\n",
              "线下    0.130207\n",
              "Name: channel, dtype: float64"
            ]
          },
          "metadata": {},
          "execution_count": 103
        }
      ]
    },
    {
      "cell_type": "markdown",
      "source": [
        "* 线下约有13%亏本商品，线上约有11%亏本商品"
      ],
      "metadata": {
        "id": "xKcoVs4LUCng"
      }
    },
    {
      "cell_type": "code",
      "source": [
        "#亏本产品的下单时间分布\n",
        "loss_count_wkd_ind=df_loss.wkd_ind.value_counts().reset_index()\n",
        "#整体的下单时间分布\n",
        "df_count_wkd_ind=df.wkd_ind.value_counts().reset_index()\n",
        "\n",
        "loss_rate_wkd_ind = df_loss.wkd_ind.value_counts()/df.wkd_ind.value_counts()\n",
        "loss_rate_wkd_ind.sort_values()"
      ],
      "metadata": {
        "colab": {
          "base_uri": "https://localhost:8080/"
        },
        "id": "OwPLhfveUHEe",
        "outputId": "48548f39-5807-49a3-9ce6-5603dd128ec1"
      },
      "execution_count": null,
      "outputs": [
        {
          "output_type": "execute_result",
          "data": {
            "text/plain": [
              "Weekend    0.120242\n",
              "Weekday    0.130846\n",
              "Name: wkd_ind, dtype: float64"
            ]
          },
          "metadata": {},
          "execution_count": 106
        }
      ]
    },
    {
      "cell_type": "markdown",
      "source": [
        "\n",
        "\n",
        "*   平时销售约有13%的商品亏损，周末约有12%亏损\n"
      ],
      "metadata": {
        "id": "cB8WFt-jUF_j"
      }
    },
    {
      "cell_type": "code",
      "source": [
        "#亏本产品分布\n",
        "loss_count_product=df_loss.groupby('product')['quant'].sum().reset_index()\n",
        "#整体的产品分布\n",
        "df_count_product=df.groupby('product')['quant'].sum().reset_index()\n",
        "\n",
        "loss_rate_product = df_loss.groupby('product')['quant'].sum()/df.groupby('product')['quant'].sum()\n",
        "loss_rate_product.sort_values()"
      ],
      "metadata": {
        "colab": {
          "base_uri": "https://localhost:8080/"
        },
        "id": "6Zz2f4TpUXu9",
        "outputId": "3ffe30d5-06dd-43ab-e8c0-9cab143a24bb"
      },
      "execution_count": null,
      "outputs": [
        {
          "output_type": "execute_result",
          "data": {
            "text/plain": [
              "product\n",
              "配件      0.000217\n",
              "袜子      0.001379\n",
              "短裤      0.001426\n",
              "裙子      0.020101\n",
              "毛衣      0.022895\n",
              "T恤      0.090904\n",
              "当季新品    0.199662\n",
              "牛仔裤     0.511801\n",
              "运动      0.623180\n",
              "Name: quant, dtype: float64"
            ]
          },
          "metadata": {},
          "execution_count": 109
        }
      ]
    },
    {
      "cell_type": "markdown",
      "source": [
        "* 运动亏本产品达到62%\n",
        "* 牛仔裤亏本占51%\n",
        "* 当季新品约有20%亏本\n",
        "* T恤亏本为9%\n",
        "* 其余产品无亏本。"
      ],
      "metadata": {
        "id": "FnpUwJNDUuys"
      }
    },
    {
      "cell_type": "code",
      "source": [
        "heat = df[['unit_revenue_of_product','unit_cost','profit']].corr()\n",
        "heat"
      ],
      "metadata": {
        "colab": {
          "base_uri": "https://localhost:8080/",
          "height": 143
        },
        "id": "st-QfzUJU4jx",
        "outputId": "126442a2-24c7-479f-9778-db7978367135"
      },
      "execution_count": null,
      "outputs": [
        {
          "output_type": "execute_result",
          "data": {
            "text/plain": [
              "                         unit_revenue_of_product  unit_cost    profit\n",
              "unit_revenue_of_product                 1.000000   0.503460  0.911762\n",
              "unit_cost                               0.503460   1.000000  0.104167\n",
              "profit                                  0.911762   0.104167  1.000000"
            ],
            "text/html": [
              "\n",
              "  <div id=\"df-c3a85a4a-a6bf-4f29-bae4-6d73d63f06d1\">\n",
              "    <div class=\"colab-df-container\">\n",
              "      <div>\n",
              "<style scoped>\n",
              "    .dataframe tbody tr th:only-of-type {\n",
              "        vertical-align: middle;\n",
              "    }\n",
              "\n",
              "    .dataframe tbody tr th {\n",
              "        vertical-align: top;\n",
              "    }\n",
              "\n",
              "    .dataframe thead th {\n",
              "        text-align: right;\n",
              "    }\n",
              "</style>\n",
              "<table border=\"1\" class=\"dataframe\">\n",
              "  <thead>\n",
              "    <tr style=\"text-align: right;\">\n",
              "      <th></th>\n",
              "      <th>unit_revenue_of_product</th>\n",
              "      <th>unit_cost</th>\n",
              "      <th>profit</th>\n",
              "    </tr>\n",
              "  </thead>\n",
              "  <tbody>\n",
              "    <tr>\n",
              "      <th>unit_revenue_of_product</th>\n",
              "      <td>1.000000</td>\n",
              "      <td>0.503460</td>\n",
              "      <td>0.911762</td>\n",
              "    </tr>\n",
              "    <tr>\n",
              "      <th>unit_cost</th>\n",
              "      <td>0.503460</td>\n",
              "      <td>1.000000</td>\n",
              "      <td>0.104167</td>\n",
              "    </tr>\n",
              "    <tr>\n",
              "      <th>profit</th>\n",
              "      <td>0.911762</td>\n",
              "      <td>0.104167</td>\n",
              "      <td>1.000000</td>\n",
              "    </tr>\n",
              "  </tbody>\n",
              "</table>\n",
              "</div>\n",
              "      <button class=\"colab-df-convert\" onclick=\"convertToInteractive('df-c3a85a4a-a6bf-4f29-bae4-6d73d63f06d1')\"\n",
              "              title=\"Convert this dataframe to an interactive table.\"\n",
              "              style=\"display:none;\">\n",
              "        \n",
              "  <svg xmlns=\"http://www.w3.org/2000/svg\" height=\"24px\"viewBox=\"0 0 24 24\"\n",
              "       width=\"24px\">\n",
              "    <path d=\"M0 0h24v24H0V0z\" fill=\"none\"/>\n",
              "    <path d=\"M18.56 5.44l.94 2.06.94-2.06 2.06-.94-2.06-.94-.94-2.06-.94 2.06-2.06.94zm-11 1L8.5 8.5l.94-2.06 2.06-.94-2.06-.94L8.5 2.5l-.94 2.06-2.06.94zm10 10l.94 2.06.94-2.06 2.06-.94-2.06-.94-.94-2.06-.94 2.06-2.06.94z\"/><path d=\"M17.41 7.96l-1.37-1.37c-.4-.4-.92-.59-1.43-.59-.52 0-1.04.2-1.43.59L10.3 9.45l-7.72 7.72c-.78.78-.78 2.05 0 2.83L4 21.41c.39.39.9.59 1.41.59.51 0 1.02-.2 1.41-.59l7.78-7.78 2.81-2.81c.8-.78.8-2.07 0-2.86zM5.41 20L4 18.59l7.72-7.72 1.47 1.35L5.41 20z\"/>\n",
              "  </svg>\n",
              "      </button>\n",
              "      \n",
              "  <style>\n",
              "    .colab-df-container {\n",
              "      display:flex;\n",
              "      flex-wrap:wrap;\n",
              "      gap: 12px;\n",
              "    }\n",
              "\n",
              "    .colab-df-convert {\n",
              "      background-color: #E8F0FE;\n",
              "      border: none;\n",
              "      border-radius: 50%;\n",
              "      cursor: pointer;\n",
              "      display: none;\n",
              "      fill: #1967D2;\n",
              "      height: 32px;\n",
              "      padding: 0 0 0 0;\n",
              "      width: 32px;\n",
              "    }\n",
              "\n",
              "    .colab-df-convert:hover {\n",
              "      background-color: #E2EBFA;\n",
              "      box-shadow: 0px 1px 2px rgba(60, 64, 67, 0.3), 0px 1px 3px 1px rgba(60, 64, 67, 0.15);\n",
              "      fill: #174EA6;\n",
              "    }\n",
              "\n",
              "    [theme=dark] .colab-df-convert {\n",
              "      background-color: #3B4455;\n",
              "      fill: #D2E3FC;\n",
              "    }\n",
              "\n",
              "    [theme=dark] .colab-df-convert:hover {\n",
              "      background-color: #434B5C;\n",
              "      box-shadow: 0px 1px 3px 1px rgba(0, 0, 0, 0.15);\n",
              "      filter: drop-shadow(0px 1px 2px rgba(0, 0, 0, 0.3));\n",
              "      fill: #FFFFFF;\n",
              "    }\n",
              "  </style>\n",
              "\n",
              "      <script>\n",
              "        const buttonEl =\n",
              "          document.querySelector('#df-c3a85a4a-a6bf-4f29-bae4-6d73d63f06d1 button.colab-df-convert');\n",
              "        buttonEl.style.display =\n",
              "          google.colab.kernel.accessAllowed ? 'block' : 'none';\n",
              "\n",
              "        async function convertToInteractive(key) {\n",
              "          const element = document.querySelector('#df-c3a85a4a-a6bf-4f29-bae4-6d73d63f06d1');\n",
              "          const dataTable =\n",
              "            await google.colab.kernel.invokeFunction('convertToInteractive',\n",
              "                                                     [key], {});\n",
              "          if (!dataTable) return;\n",
              "\n",
              "          const docLinkHtml = 'Like what you see? Visit the ' +\n",
              "            '<a target=\"_blank\" href=https://colab.research.google.com/notebooks/data_table.ipynb>data table notebook</a>'\n",
              "            + ' to learn more about interactive tables.';\n",
              "          element.innerHTML = '';\n",
              "          dataTable['output_type'] = 'display_data';\n",
              "          await google.colab.output.renderOutput(dataTable, element);\n",
              "          const docLink = document.createElement('div');\n",
              "          docLink.innerHTML = docLinkHtml;\n",
              "          element.appendChild(docLink);\n",
              "        }\n",
              "      </script>\n",
              "    </div>\n",
              "  </div>\n",
              "  "
            ]
          },
          "metadata": {},
          "execution_count": 110
        }
      ]
    },
    {
      "cell_type": "code",
      "source": [
        "sns.heatmap(heat)"
      ],
      "metadata": {
        "colab": {
          "base_uri": "https://localhost:8080/",
          "height": 284
        },
        "id": "giyf5M4YVBSz",
        "outputId": "c4107920-a131-4192-938c-0e1dee650ed5"
      },
      "execution_count": null,
      "outputs": [
        {
          "output_type": "execute_result",
          "data": {
            "text/plain": [
              "<matplotlib.axes._subplots.AxesSubplot at 0x7fd9e4535490>"
            ]
          },
          "metadata": {},
          "execution_count": 111
        },
        {
          "output_type": "display_data",
          "data": {
            "text/plain": [
              "<Figure size 432x288 with 2 Axes>"
            ],
            "image/png": "[encoded data removed]"
          },
          "metadata": {}
        }
      ]
    },
    {
      "cell_type": "markdown",
      "source": [
        "* 整体来看，单位商品的销售额与成本之间是成正相关的，相关系数为0.5；\n",
        "* 单位商品的销售额与利润成强正相关，相关系数为0.91；\n",
        "* 但商品的成本与利润的相关性很低，仅为0.1。"
      ],
      "metadata": {
        "id": "AVza_ziFVEgw"
      }
    },
    {
      "cell_type": "markdown",
      "source": [
        "## 四、分析结论\n",
        "\n",
        "### （一）总结\n",
        "\n",
        "**整体销售情况：**\n",
        "\n",
        "* 客户下单集中于深圳、杭州、武汉等一线、新一线城市；\n",
        "* 客户主要于线下下单；\n",
        "* 主要消费群体为女性；\n",
        "* 购买的主要人群为[20-39]岁；\n",
        "* 客户周内比周末购买更高；\n",
        "* T恤销售表现一骑绝尘，当季新品和配件销售表现也比较好。\n",
        "\n",
        "**问题1 ： 整体销售情况随着时间的变化是怎样的？**\n",
        "\n",
        "* 就销售额、顾客数量、销售量来看，平时都比周末销售情况好；但是周末的平均利润大于平时\n",
        "* 无论从线上、线下渠道，男女性别、不同阶段年龄的客户及不同产品来看，平时都比周末销售表现好\n",
        "\n",
        "**销售建议**\n",
        "\n",
        "建议平时多做活动及宣传\n",
        "\n",
        "**问题2：不同产品的销售情况是怎样的？**\n",
        "\n",
        "* 无论就销售额、销量还是利润，T恤都是一骑绝尘；当季新品和配件居于二、三位，且配件的利润高于当季新品\n",
        "* 就平均利润，毛衣、裙子、配件接近于80，利润较高\n",
        "\n",
        "**销售建议**\n",
        "* 多上架T恤、当季新品及配件产品；\n",
        "* 把高利润的毛衣、裙子、配件放在显眼位置；\n",
        "\n",
        "**问题3： 顾客偏爱哪一种购买方式**\n",
        "\n",
        "* 广州的顾客更偏爱在线上购买，上海、西安和重庆也有一定的线上购买比例，其余城市均为在线下购买；\n",
        "* 无论男女，在购买渠道的选择上都偏爱线下购买；\n",
        "* 就年龄段来看，客户集中于20-39岁中青年团体，且大都选择线下购买\n",
        "\n",
        "**销售建议**\n",
        "* 广州多做线上活动宣传，其余城市把营销重点落在门店；\n",
        "* 集中于中青年群体做营销广告活动\n",
        "\n",
        "**问题4 ：销售额和产品成本之间的关系怎么样？**\n",
        "\n",
        "* 成都、广州、重庆和西安都有14%左右的亏本商品;\n",
        "* 线下约有13%亏本商品，线上约有11%亏本商品;\n",
        "* 平时销售约有13%的商品亏损，周末约有12%亏损;\n",
        "* 运动亏本产品达到62%，牛仔裤亏本占51%，当季新品约有20%亏本，T恤亏本为9%，其余产品无亏本；\n",
        "* 单位商品的销售额与成本之间是成正相关的，相关系数为0.5；单位商品的销售额与利润成强正相关，相关系数为0.91；但商品的成本与利润的相关性很低，仅为0.1。\n",
        "\n",
        "**销售建议**\n",
        "* 对亏本严重的运动、牛仔裤等产品进入深入分析，探索价格及营销策略；\n",
        "* 多销售变现不俗的T恤，及时上新新品，多多研发配件产品。"
      ],
      "metadata": {
        "id": "o6hi92H2WSTf"
      }
    }
  ]
}